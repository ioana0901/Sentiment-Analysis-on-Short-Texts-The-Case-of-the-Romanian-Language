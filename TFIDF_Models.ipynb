{
 "cells": [
  {
   "cell_type": "code",
   "execution_count": 1,
   "id": "f481c5b1",
   "metadata": {},
   "outputs": [
    {
     "name": "stdout",
     "output_type": "stream",
     "text": [
      "importing Jupyter notebook from FunctionsList.ipynb\n"
     ]
    }
   ],
   "source": [
    "import import_ipynb\n",
    "from FunctionsList import *\n",
    "\n",
    "import pandas as pd\n",
    "import numpy as np\n",
    "import seaborn as sns\n",
    "import random\n",
    "import gensim\n",
    "import joblib \n",
    "\n",
    "from sklearn.ensemble import RandomForestClassifier\n",
    "from sklearn.metrics import classification_report, confusion_matrix, accuracy_score, roc_curve, roc_auc_score\n",
    "from sklearn.model_selection import GridSearchCV\n",
    "from sklearn import svm, preprocessing\n",
    "from sklearn.svm import SVC\n",
    "from sklearn.feature_extraction.text import TfidfVectorizer\n",
    "from sklearn.model_selection import train_test_split\n",
    "\n",
    "\n",
    "from keras import regularizers, callbacks\n",
    "from tensorflow.keras.utils import to_categorical\n",
    "from keras.preprocessing.text import Tokenizer\n",
    "from keras.models import Sequential\n",
    "from keras.layers import Dense"
   ]
  },
  {
   "cell_type": "code",
   "execution_count": 2,
   "id": "fc16745c",
   "metadata": {},
   "outputs": [
    {
     "data": {
      "text/html": [
       "<div>\n",
       "<style scoped>\n",
       "    .dataframe tbody tr th:only-of-type {\n",
       "        vertical-align: middle;\n",
       "    }\n",
       "\n",
       "    .dataframe tbody tr th {\n",
       "        vertical-align: top;\n",
       "    }\n",
       "\n",
       "    .dataframe thead th {\n",
       "        text-align: right;\n",
       "    }\n",
       "</style>\n",
       "<table border=\"1\" class=\"dataframe\">\n",
       "  <thead>\n",
       "    <tr style=\"text-align: right;\">\n",
       "      <th></th>\n",
       "      <th>Unnamed: 0</th>\n",
       "      <th>label</th>\n",
       "      <th>review_content</th>\n",
       "    </tr>\n",
       "  </thead>\n",
       "  <tbody>\n",
       "    <tr>\n",
       "      <th>0</th>\n",
       "      <td>0</td>\n",
       "      <td>2</td>\n",
       "      <td>telefon solid complex telefon trebui user medi...</td>\n",
       "    </tr>\n",
       "    <tr>\n",
       "      <th>1</th>\n",
       "      <td>1</td>\n",
       "      <td>0</td>\n",
       "      <td>samsung sfe aproxim zil trecut diferent sist a...</td>\n",
       "    </tr>\n",
       "    <tr>\n",
       "      <th>2</th>\n",
       "      <td>2</td>\n",
       "      <td>2</td>\n",
       "      <td>livr inceat zil vizav telefon multum greu foli...</td>\n",
       "    </tr>\n",
       "    <tr>\n",
       "      <th>3</th>\n",
       "      <td>3</td>\n",
       "      <td>0</td>\n",
       "      <td>pacat display sparg mic ating inlocu cost apro...</td>\n",
       "    </tr>\n",
       "    <tr>\n",
       "      <th>4</th>\n",
       "      <td>4</td>\n",
       "      <td>1</td>\n",
       "      <td>misc bin ok costat stel deoarec nu instal prog...</td>\n",
       "    </tr>\n",
       "  </tbody>\n",
       "</table>\n",
       "</div>"
      ],
      "text/plain": [
       "   Unnamed: 0  label                                     review_content\n",
       "0           0      2  telefon solid complex telefon trebui user medi...\n",
       "1           1      0  samsung sfe aproxim zil trecut diferent sist a...\n",
       "2           2      2  livr inceat zil vizav telefon multum greu foli...\n",
       "3           3      0  pacat display sparg mic ating inlocu cost apro...\n",
       "4           4      1  misc bin ok costat stel deoarec nu instal prog..."
      ]
     },
     "execution_count": 2,
     "metadata": {},
     "output_type": "execute_result"
    }
   ],
   "source": [
    "#import data:\n",
    "data = pd.read_csv('Data/CleanDataset.csv')\n",
    "data.head()"
   ]
  },
  {
   "cell_type": "code",
   "execution_count": 3,
   "id": "1483a871",
   "metadata": {},
   "outputs": [
    {
     "data": {
      "text/plain": [
       "[False, False, False]"
      ]
     },
     "execution_count": 3,
     "metadata": {},
     "output_type": "execute_result"
    }
   ],
   "source": [
    "data.isna().any().tolist()"
   ]
  },
  {
   "cell_type": "markdown",
   "id": "e14a565a",
   "metadata": {},
   "source": [
    "### Impartirea setului de date"
   ]
  },
  {
   "cell_type": "code",
   "execution_count": 4,
   "id": "d17b97c9",
   "metadata": {},
   "outputs": [],
   "source": [
    "# imparte setul de date: 80% - 20% \n",
    "contents = data['review_content']\n",
    "labels = data['label']\n",
    "x_train, x_test, y_train, y_test = train_test_split(contents, labels, train_size=0.8, random_state=42)"
   ]
  },
  {
   "cell_type": "code",
   "execution_count": 5,
   "id": "11c26cd2",
   "metadata": {},
   "outputs": [
    {
     "data": {
      "text/plain": [
       "15669    misc ok mid rang poz bin facut singur problem ...\n",
       "6778     achizition telefon magazin acum lun pret excel...\n",
       "8638     ajuns reped cred telefon mar ae frumos poz nu ...\n",
       "13834    raspund reped display bun aud bin bater tin su...\n",
       "12126                bater praf nu sta intr duc mar defect\n",
       "Name: review_content, dtype: object"
      ]
     },
     "execution_count": 5,
     "metadata": {},
     "output_type": "execute_result"
    }
   ],
   "source": [
    "x_train.head()"
   ]
  },
  {
   "cell_type": "code",
   "execution_count": 6,
   "id": "01e9aec5",
   "metadata": {},
   "outputs": [
    {
     "data": {
      "text/plain": [
       "15669    1\n",
       "6778     2\n",
       "8638     1\n",
       "13834    0\n",
       "12126    0\n",
       "        ..\n",
       "13418    2\n",
       "5390     2\n",
       "860      0\n",
       "15795    1\n",
       "7270     1\n",
       "Name: label, Length: 12900, dtype: int64"
      ]
     },
     "execution_count": 6,
     "metadata": {},
     "output_type": "execute_result"
    }
   ],
   "source": [
    "y_train"
   ]
  },
  {
   "cell_type": "markdown",
   "id": "6c40e1d3",
   "metadata": {},
   "source": [
    "### Vectorizare TF-IDF "
   ]
  },
  {
   "cell_type": "code",
   "execution_count": 7,
   "id": "29b19fe7",
   "metadata": {},
   "outputs": [],
   "source": [
    "#tfidf lucreaza cu secventele intregi - pt a nu mai detokeniza si tokeniza inca o data\n",
    "#am definit functia mytokenizer care va fi inclusa ca parametru in tfidfvectorizer\n",
    "\n",
    "vectorizer = TfidfVectorizer(min_df=2, lowercase=False)\n",
    "\n",
    "x_train = vectorizer.fit_transform(x_train).toarray()\n",
    "x_test = vectorizer.transform(x_test).toarray()"
   ]
  },
  {
   "cell_type": "code",
   "execution_count": 8,
   "id": "b5e8ca04",
   "metadata": {},
   "outputs": [
    {
     "name": "stdout",
     "output_type": "stream",
     "text": [
      "x_train.shape: (12900, 8142)\n",
      "x_test.shape : (3225, 8142)\n"
     ]
    }
   ],
   "source": [
    "print(\"x_train.shape:\", x_train.shape)# 12900 samples 8120 features\n",
    "print(\"x_test.shape :\", x_test.shape)"
   ]
  },
  {
   "cell_type": "code",
   "execution_count": 9,
   "id": "1af856bb",
   "metadata": {},
   "outputs": [
    {
     "name": "stdout",
     "output_type": "stream",
     "text": [
      "y_train.shape: (12900,)\n",
      "y_test.shape : (3225,)\n"
     ]
    }
   ],
   "source": [
    "print(\"y_train.shape:\", y_train.shape)\n",
    "print(\"y_test.shape :\", y_test.shape)"
   ]
  },
  {
   "cell_type": "code",
   "execution_count": 10,
   "id": "368b43dd",
   "metadata": {},
   "outputs": [
    {
     "data": {
      "text/plain": [
       "4291     2\n",
       "1358     2\n",
       "11513    2\n",
       "5981     0\n",
       "5323     2\n",
       "        ..\n",
       "2525     2\n",
       "11402    2\n",
       "14342    2\n",
       "14065    1\n",
       "15975    1\n",
       "Name: label, Length: 3225, dtype: int64"
      ]
     },
     "execution_count": 10,
     "metadata": {},
     "output_type": "execute_result"
    }
   ],
   "source": [
    "y_test"
   ]
  },
  {
   "cell_type": "code",
   "execution_count": 11,
   "id": "7f176908",
   "metadata": {},
   "outputs": [
    {
     "name": "stdout",
     "output_type": "stream",
     "text": [
      "{'misc': 4526, 'ok': 5042, 'mid': 4468, 'rang': 5920, 'poz': 5582, 'bin': 814, 'facut': 2611, 'singur': 6694, 'problem': 5726, 'intaln': 3740, 'pan': 5195, 'acum': 96, 'cablu': 1014, 'type': 7569, 'mearg': 4375, 'conect': 1497, 'telefon': 7276, 'android': 359, 'auto': 622, 'cabl': 1012, 'original': 5134, 'nu': 4948, 'function': 2946, 'achizition': 59, 'magazin': 4256, 'lun': 4235, 'pret': 5658, 'excelent': 2503, 'ofer': 5028, 'preciz': 5611, 'detin': 2000, 'iphon': 3878, 'bat': 735, 'bun': 979, 'mod': 4555, 'portret': 5555, 'blureaz': 874, 'pro': 5717, 'super': 7101, 'noapt': 4897, 'video': 7860, 'acept': 41, 'filmeaz': 2726, 'blocheaz': 856, 'crush': 1685, 'aplicat': 442, 'putut': 5871, 'instal': 3720, 'aplic': 440, 'rapid': 5922, 'inclus': 3523, 'servic': 6577, 'banking': 717, 'neobt': 4795, 'brd': 922, 'vazut': 7791, 'loc': 4160, 'gmail': 3102, 'vin': 7875, 'mail': 4265, 'preinstal': 5631, 'putet': 5867, 'log': 4174, 'bater': 744, 'incarc': 3481, 'reped': 6124, 'ora': 5110, 'zil': 8128, 'ajuns': 214, 'cred': 1657, 'mar': 4306, 'ae': 153, 'frumos': 2922, 'perfect': 5315, 'obisn': 4983, 'rest': 6164, 'sonor': 6805, 'spatiu': 6836, 'raspund': 5938, 'display': 2130, 'aud': 607, 'tin': 7374, 'sunet': 7095, 'cast': 1145, 'bt': 947, 'normal': 4915, 'camer': 1060, 'dezastru': 2026, 'erau': 2433, 'cla': 1328, 'zgomot': 8120, 'incred': 3542, 'ies': 3351, 'granul': 3143, 'spunet': 6894, 'stiu': 6973, 'pozez': 5588, 'celelalt': 1197, 'telefoan': 7275, 'ieseau': 3353, 'impec': 3406, 'inchid': 3510, 'restarteaz': 6167, 'pur': 5851, 'simplu': 6676, 'astept': 565, 'seri': 6564, 'setar': 6589, 'luminoz': 4234, 'ecran': 2345, 'stiam': 6953, 'sun': 7090, 'zic': 8123, 'burn': 985, 'rand': 5916, 'asa': 518, 'asasin': 522, 'utiliz': 7726, 'gre': 3151, 'scos': 6461, 'unt': 7664, 'slab': 6717, 'incep': 3491, 'fac': 2590, 'econom': 2334, 'material': 4356, 'munc': 4645, 'galaxy': 2985, 'cedat': 1186, 'folos': 2833, 'noki': 4907, 'durabil': 2291, 'praf': 5594, 'sta': 6899, 'intr': 3814, 'duc': 2274, 'defect': 1842, 'pretent': 5661, 'merg': 4420, 'acord': 76, 'stel': 6940, 'put': 5860, 'fol': 2828, 'macar': 4248, 'plastic': 5452, 'sparg': 6828, 'per': 5309, 'ansamblu': 383, 'functioneaz': 2951, 'raport': 5925, 'calitat': 1050, 'luat': 4212, 'oper': 5074, 'fiul': 2769, 'folo': 2832, 'band': 712, 'td': 7248, 'spun': 6891, 'incant': 3472, 'decent': 1816, 'lumin': 4230, 'senzor': 6557, 'amprent': 340, 'precis': 5610, 'semnal': 6535, 'folosest': 2837, 'singl': 6692, 'sim': 6660, 'wi': 8021, 'arat': 483, 'aces': 42, 'recomand': 6016, 'salut': 6360, 'punct': 5837, 'veder': 7806, 'produs': 5747, 'lei': 4076, 'putin': 5869, 'birou': 828, 'raspuns': 5940, 'mesaj': 4431, 'verific': 7822, 'dc': 1791, 'min': 4489, 'supr': 7122, 'raceasc': 5890, 'bagat': 691, 'frigider': 2914, 'apa': 411, 'rec': 5998, 'racir': 5894, 'inteleg': 3754, 'ieftin': 3346, 'aflat': 174, 'ghinion': 3071, 'proxim': 5812, 'raman': 5909, 'aprins': 456, 'urech': 7689, 'vorbest': 7939, 'visez': 7894, 'pb': 5277, 'recunoast': 6032, 'facial': 2600, 'optiun': 5108, 'doubl': 2217, 'tap': 7220, 'col': 1384, 'dat': 1782, 'concluz': 1482, 'samsung': 6372, 'retur': 6200, 'compar': 1434, 'clas': 1342, 'pacat': 5174, 'ceart': 1181, 'gogl': 3110, 'huawe': 3307, 'treab': 7491, 'impreun': 3434, 'specific': 6845, 'fat': 2652, 'sear': 6502, 'telefonu': 7279, 'sincer': 6687, 'cedeaz': 1187, 'cat': 1150, 'surprind': 7163, 'neplac': 4800, 'frumoas': 2921, 'cartel': 1127, 'dig': 2072, 'auz': 638, 'convers': 1582, 'gajait': 2981, 'difuzor': 2070, 'zis': 8132, 'hai': 3207, 'descarc': 1938, 'rosu': 6292, 'lam': 4013, 'pus': 5857, 'orang': 5112, 'abonament': 7, 'cod': 1377, 'pin': 5412, 'cer': 1213, 'ziu': 8133, 'cart': 1126, 'vorb': 7936, 'caut': 1163, 'acoper': 75, 'stau': 6932, 'oras': 5114, 'tatal': 7238, 'vechiu': 7799, 'ani': 371, 'folosint': 2839, 'acu': 94, 'return': 6201, 'timp': 7370, 'pierdut': 5402, 'acet': 53, 'chear': 1244, 'general': 3043, 'minusur': 4510, 'plusur': 5495, 'specif': 6844, 'beneficiar': 784, 'nicio': 4868, 'descrier': 1950, 'emag': 2390, 'celorlalt': 1198, 'pot': 5572, 'simultan': 6683, 'vre': 7950, 'pui': 5828, 'card': 1114, 'memor': 4401, 'extins': 2570, 'locas': 4163, 'uri': 7692, 'pun': 5833, 'micro': 4452, 'sd': 6496, 'lucru': 4224, 'constitui': 1540, 'neajuns': 4711, 'consider': 1528, 'ascuns': 528, 'gandit': 3005, 'model': 4557, 'dual': 2260, 'integr': 3747, 'slabit': 6719, 'max': 4363, 'incalzest': 3470, 'tar': 7222, 'jocur': 3949, 'groaznic': 3179, 'testat': 7329, 'mob': 4549, 'sacad': 6341, 'relu': 6101, 'comenz': 1417, 'prei': 5630, 'sec': 6504, 'intarzier': 3745, 'merit': 4423, 'ban': 708, 'dator': 1783, 'acumul': 97, 'perform': 5322, 'masur': 4349, 'schimb': 6445, 'deoarec': 1893, 'doream': 2204, 'atras': 601, 'capac': 1083, 'stoc': 6976, 'gb': 3028, 'plus': 5493, 'urmat': 7700, 'updat': 7669, 'imed': 3390, 'irepros': 3894, 'lag': 4011, 'simt': 6680, 'man': 4281, 'decat': 1812, 'dimin': 2083, 'aceleas': 34, 'whatsap': 8009, 'facebok': 2595, 'mesenger': 4433, 'youtub': 8084, 'browser': 939, 'foto': 2877, 'nivel': 4893, 'conteaz': 1552, 'detaliu': 1989, 'suntet': 7098, 'clar': 1337, 'neapar': 4715, 'putern': 5866, 'stabil': 6900, 'dest': 1978, 'muf': 4623, 'jack': 3927, 'diferent': 2060, 'personal': 5350, 'incurc': 3549, 'aspect': 553, 'culor': 1695, 'placut': 5435, 'pachet': 5175, 'contin': 1557, 'hus': 3312, 'silicon': 6658, 'transparent': 7475, 'fan': 2629, 'sigur': 6655, 'surprins': 7164, 'par': 5213, 'util': 7724, 'uz': 7736, 'zilnic': 8130, 'retel': 6185, 'socializ': 6775, 'comunic': 1469, 'permanent': 5336, 'internet': 3789, 'iul': 3918, 'plac': 5432, 'fapt': 2637, 'proceseaz': 5739, 'greu': 3164, 'suficient': 7070, 'intradevar': 3816, 'digital': 2076, 'inconvenient': 3538, 'perfom': 5319, 'cadou': 1022, 'persoan': 5347, 'avantaj': 650, 'incredib': 3543, 'part': 5234, 'pozit': 5589, 'consum': 1546, 'reincarcar': 6083, 'reven': 6214, 'impres': 3431, 'mic': 4451, 'usor': 7717, 'dec': 1810, 'dimensiun': 2081, 'optim': 5097, 'manevr': 4291, 'autonom': 632, 'dezavantaj': 2027, 'incompatib': 3533, 'versiun': 7830, 'bluetoth': 870, 'plantronics': 5445, 'an': 346, 'activ': 85, 'defectu': 1845, 'sens': 6547, 'pierd': 5399, 'aleat': 243, 'restart': 6165, 'revin': 6221, 'slot': 6728, 'neant': 4714, 'deconecteaz': 1827, 'intrerup': 3829, 'trebuit': 7499, 'sony': 6807, 'avand': 647, 'inacept': 3448, 'contr': 1561, 'execr': 2518, 'lang': 4022, 'zbarnai': 8097, 'sot': 6814, 'ios': 3872, 'bucur': 959, 'trec': 7501, 'mom': 4573, 'saptaman': 6389, 'obijnuiest': 4980, 'smartphon': 6740, 'grel': 3154, 'genial': 3047, 'maric': 4317, 'cumpar': 1701, 'nevast': 4849, 'bineinteles': 817, 'inta': 3737, 'vad': 7745, 'niciod': 4869, 'ved': 7802, 'total': 7427, 'exceptional': 2507, 'sper': 6857, 'ore': 5118, 'scad': 6420, 'autofocus': 626, 'foar': 2817, 'navigheaz': 4702, 'net': 4837, 'convorbir': 1591, 'suport': 7119, 'pat': 5258, 'scaun': 6434, 'doar': 2173, 'operat': 5075, 'rinich': 6259, 'dezamag': 2020, 'reus': 6206, 'casc': 1138, 'vorbit': 7940, 'spus': 6895, 'lit': 4147, 'ram': 5907, 'singapor': 6691, 'ue': 7579, 'asigur': 544, 'garant': 3008, 'dr': 2231, 'huwe': 3314, 'primit': 5690, 'ier': 3349, 'easybox': 2316, 'aveam': 653, 'nevoi': 4853, 'limit': 4115, 'descurc': 1955, 'asear': 532, 'buton': 996, 'azi': 677, 'aproap': 458, 'jumat': 3966, 'condit': 1493, 'xiaom': 8061, 'atent': 584, 'las': 4036, 'astaz': 559, 'doamn': 2171, 'ron': 6288, 'protej': 5803, 'caracas': 1102, 'spart': 6830, 'repar': 6120, 'scap': 6428, 'asemen': 537, 'zgar': 8110, 'goril': 3124, 'glas': 3087, 'glum': 3101, 'trebui': 7497, 'umpli': 7637, 'carc': 1111, 'minus': 4507, 'piat': 5381, 'asiat': 542, 'reparat': 6121, 'european': 2474, 'costat': 1623, 'maps': 4305, 'obisnu': 4984, 'lips': 4138, 'shortcut': 6634, 'scapat': 6430, 'protect': 5799, 'arunc': 516, 'lentile': 4087, 'leic': 4077, 'edge': 2351, 'gasesc': 3019, 'cut': 1752, 'ales': 252, 'princip': 5694, 'flagship': 2779, 'resigil': 6152, 'trecut': 7505, 'anterior': 386, 'se': 6498, 'hib': 3263, 'iros': 3898, 'deciz': 1821, 'sanat': 6379, 'aleg': 246, 'import': 3421, 'ajut': 219, 'jucat': 3961, 'joc': 3947, 'juc': 3956, 'concep': 1478, 'segment': 6521, 'termin': 7322, 'okish': 5046, 'refresh': 6060, 'hz': 3319, 'nic': 4864, 'to': 7405, 'hav': 3238, 'negru': 4762, 'maro': 4330, 'distorsion': 2145, 'coltur': 1401, 'deranjeaz': 1927, 'observ': 5000, 'not': 4919, 'audio': 608, 'om': 5054, 'ascult': 524, 'nist': 4888, 'radio': 5900, 'serv': 6573, 'dus': 2298, 'apreciez': 451, 'volum': 7931, 'claritat': 1341, 'incet': 3498, 'inalt': 3457, 'med': 4379, 'desavars': 1937, 'senzat': 6554, 'fotograf': 2878, 'post': 5565, 'social': 6774, 'nostalg': 4918, 'instantaneu': 3728, 'parut': 5245, 'op': 5072, 'macro': 4252, 'fain': 2619, 'exager': 2495, 'efort': 2364, 'procesor': 5741, 'tipl': 7392, 'agat': 182, 'incalzeasc': 3469, 'rau': 5958, 'meh': 4393, 'oxygen': 5165, 'os': 5137, 'bloatw': 849, 'sterg': 6945, 'dezact': 2017, 'set': 6587, 'banal': 709, 'pictogram': 5389, 'posibil': 5563, 'gasit': 3023, 'vibrat': 7853, 'regul': 6076, 'dezactiv': 2018, 'prim': 5683, 'notificar': 4932, 'ceas': 1182, 'haptic': 3225, 'fedback': 2668, 'reusit': 6208, 'find': 2740, 'special': 6841, 'perioad': 5330, 'grat': 3145, 'multum': 4640, 'achizit': 58, 'corect': 1605, 'euro': 2471, 'progres': 5764, 'tehnolog': 7265, 'justif': 3972, 'salar': 6356, 'minim': 4496, 'ruleaz': 6324, 'ridic': 6248, 'inaltim': 3458, 'proast': 5719, 'subred': 7053, 'dorest': 2207, 'emot': 2400, 'supraf': 7125, 'star': 6920, 'sensibil': 6549, 'grozav': 3186, 'ultim': 7605, 'privint': 5713, 'urma': 7695, 'urme': 7701, 'zon': 8136, 'midrang': 4471, 'tiner': 7381, 'ex': 2493, 'motorol': 4605, 'one': 5061, 'vision': 7895, 'prezint': 5674, 'xs': 8069, 'portrait': 5554, 'calibr': 1044, 'incat': 3487, 'seam': 6499, 'oled': 5049, 'vedet': 7807, 'ochi': 5013, 'vostr': 7941, 'planget': 5442, 'rezolut': 6238, 'grosim': 3182, 'margin': 4315, 'inferior': 3613, 'displac': 2128, 'xr': 8068, 'atas': 577, 'intampl': 3743, 'august': 612, 'stie': 6961, 'jalnic': 3932, 'reporn': 6129, 'des': 1935, 'vreau': 7951, 'maricel': 4318, 'primest': 5688, 'capabil': 1082, 'rul': 6318, 'mp': 4610, 'mah': 4263, 'fast': 2647, 'charging': 1239, 'experient': 2542, 'aproxim': 466, 'asist': 547, 'fluiditat': 2810, 'day': 1787, 'gaming': 3000, 'headphon': 3245, 'exact': 2494, 'promis': 5770, 'scump': 6483, 'minun': 4505, 'promit': 5772, 'focus': 2825, 'random': 5917, 'subiect': 7047, 'ilumin': 3363, 'ecranu': 2346, 'direct': 2102, 'soarel': 6768, 'design': 1965, 'construct': 1542, 'con': 1474, 'multitasking': 4636, 'exynos': 2580, 'qualcom': 5881, 'snapdragon': 6756, 'roman': 6284, 'plat': 5453, 'amer': 312, 'puter': 5865, 'nfc': 4862, 'citit': 1321, 'hart': 3232, 'iubit': 3916, 'momentan': 4575, 'apelur': 428, 'always': 288, 'on': 5060, 'ajung': 211, 'gat': 3024, 'lateral': 4045, 'respons': 6163, 'interf': 3774, 'bugur': 967, 'dorit': 2210, 'butoan': 995, 'control': 1572, 'medi': 4380, 'bar': 721, 'deschiz': 1945, 'apar': 413, 'recent': 6001, 'aps': 467, 'review': 6217, 'existent': 2531, 'rabd': 5888, 'scurt': 6487, 'corning': 1614, 'redm': 6048, 'rezon': 6242, 'asti': 568, 'feric': 2693, 'sar': 6393, 'limiteaz': 4118, 'propr': 5790, 'colosal': 1398, 'play': 5463, 'avet': 662, 'grij': 3170, 'lua': 4206, 'romeo': 6287, 'adio': 127, 'marc': 4308, 'ramanet': 5911, 'dezamagest': 2022, 'asus': 572, 'oar': 4970, 'impresion': 3432, 'fb': 2657, 'instagr': 3719, 'etc': 2466, 'drum': 2252, 'dou': 2216, 'intens': 3761, 'asambl': 520, 'finisaj': 2747, 'carcas': 1112, 'asteptar': 567, 'batran': 751, 'tast': 7231, 'legatur': 4074, 'color': 1394, 'verd': 7817, 'maxim': 4365, 'livreaz': 4155, 'wireles': 8033, 'upgrad': 7677, 'complet': 1450, 'lejer': 4078, 'extraordin': 2574, 'acestor': 51, 'distr': 2148, 'asistent': 548, 'bixby': 832, 'cost': 1622, 'probabil': 5721, 'stric': 7011, 'navig': 4696, 'gramad': 3139, 'gsm': 3190, 'baiat': 693, 'domeniu': 2193, 'chest': 1258, 'stramb': 6997, 'nas': 4683, 'cateod': 1156, 'intunec': 3846, 'ajust': 216, 'manual': 4300, 'spat': 6832, 'sticl': 6959, 'foli': 2831, 'rezistent': 6234, 'dureaz': 2294, 'non': 4908, 'stop': 6983, 'cump': 1700, 'chrom': 1283, 'vrut': 7961, 'blocat': 853, 'posesor': 5560, 'navigh': 4701, 'comand': 1403, 'sarbat': 6398, 'craciun': 1639, 'metal': 4437, 'construit': 1544, 'robust': 6276, 'ating': 590, 'reg': 6062, 'cal': 1030, 'standby': 6915, 'moment': 4574, 'extraordinar': 2575, 'prod': 5744, 'devalorizeaz': 2006, 'efect': 2356, 'tasking': 7229, 'produc': 5745, 'cunosc': 1713, 'invech': 3856, 'olx': 5053, 'tel': 7266, 'compat': 1441, 'concurent': 1490, 'altern': 275, 'beton': 796, 'impos': 3423, 'rezolv': 6240, 'clipur': 1359, 'oribil': 5125, 'cauz': 1167, 'intru': 3841, 'realm': 5988, 'except': 2505, 'softw': 6787, 'pamant': 5194, 'plang': 5439, 'bugs': 965, 'odat': 5024, 'noiembr': 4904, 'actualiz': 90, 'aprec': 448, 'comentariu': 1414, 'includ': 3522, 'catev': 1157, 'features': 2663, 'interes': 3772, 'repros': 6140, 'mam': 4278, 'potriv': 5575, 'varst': 7782, 'dung': 2283, 'roz': 6307, 'scop': 6457, 'atins': 593, 'senior': 6546, 'tinut': 7387, 'ochelar': 5012, 'puner': 5845, 'ajutor': 220, 'scriu': 6476, 'vandut': 7761, 'mag': 4254, 'negat': 4757, 'inaint': 3455, 'voiam': 7924, 'celalalt': 1192, 'phon': 5373, 'clon': 1362, 'mut': 4660, 'inform': 3625, 'neces': 4725, 'vech': 7797, 'cuti': 1753, 'limb': 4113, 'firm': 2757, 'aple': 437, 'generat': 3045, 'doresc': 2206, 'scoat': 6453, 'buzunar': 1007, 'propriu': 5793, 'sum': 7084, 'permit': 5339, 'acesoriu': 47, 'absol': 13, 'indispens': 3569, 'vremur': 7953, 'tra': 7443, 'moft': 4571, 'strict': 7013, 'parer': 5227, 'cusur': 1751, 'buzun': 1006, 'piept': 5398, 'extrem': 2579, 'folosir': 2840, 'cauciuc': 1161, 'mat': 4351, 'findc': 2741, 'lunec': 4237, 'precum': 5617, 'pest': 5359, 'viu': 7901, 'imbunatat': 3383, 'printr': 5702, 'component': 1456, 'economisest': 2337, 'energ': 2406, 'remarc': 6104, 'crest': 1666, 'viteze': 7898, 'exasper': 2498, 'foam': 2816, 'platit': 5461, 'omoar': 5057, 'reclam': 6008, 'smart': 6737, 'prieten': 5681, 'drag': 2233, 'intuit': 3845, 'brandur': 915, 'nedor': 4743, 'permis': 5337, 'rot': 6293, 'deasemen': 1800, 'spion': 6865, 'livr': 4152, 'durat': 2293, 'initial': 3658, 'utilizar': 7728, 'indelung': 3554, 'famil': 2625, 'opo': 5079, 'stit': 6972, 'motiv': 4598, 'achiz': 56, 'apertur': 429, 'scazut': 6437, 'lipsest': 4140, 'led': 4069, 'notific': 4931, 'widgetur': 8025, 'apel': 426, 'principal': 5695, 'center': 1204, 'grosier': 3181, 'reduc': 6049, 'puncr': 5836, 'lucrur': 4225, 'pregat': 5628, 'servis': 6580, 'meg': 4391, 'bazez': 763, 'greoai': 3157, 'telf': 7290, 'deoseb': 1898, 'forc': 2850, 'touch': 7434, 'prezent': 5671, 'difuzoar': 2069, 'frontal': 2917, 'mufe': 4624, 'handsfr': 3220, 'lightning': 4109, 'deocamd': 1895, 'precomand': 5614, 'schimbat': 6448, 'intuner': 3847, 'noul': 4937, 'culoar': 1694, 'sier': 6649, 'blu': 867, 'afar': 159, 'black': 836, 'friday': 2910, 'rezist': 6233, 'necrez': 4735, 'ger': 3055, 'februar': 2666, 'grad': 3134, 'venit': 7814, 'prins': 5699, 'ofert': 5029, 'adevar': 123, 'incing': 3517, 'solicit': 6793, 'sist': 6700, 'mhz': 4447, 'jum': 3965, 'power': 5579, 'saver': 6417, 'finut': 2749, 'fluent': 2808, 'vitor': 7900, 'red': 6038, 'achiziton': 63, 'dai': 1771, 'variant': 7775, 'oarecum': 4973, 'functional': 2947, 'na': 4670, 'prob': 5720, 'minut': 4511, 'hom': 3283, 'bloc': 850, 'debloc': 1805, 'restartur': 6168, 'treb': 7494, 'vizual': 7912, 'incheg': 3506, 'mph': 4611, 'invat': 3854, 'imens': 3392, 'bratar': 919, 'fitnes': 2766, 'neajunsur': 4712, 'fit': 2764, 'tot': 7426, 'ful': 2935, 'hd': 3241, 'strang': 7000, 'iau': 3329, 'fix': 2770, 'volt': 7929, 'laudat': 4052, 'degeab': 1856, 'oneplus': 5063, 'surclaseaz': 7151, 'capitol': 1090, 'continu': 1558, 'calc': 1035, 'uimit': 7591, 'acas': 25, 'rezerv': 6232, 'trag': 7455, 'zgarietur': 8116, 'mention': 4411, 'depart': 1903, 'estet': 2453, 'hardw': 3229, 'exist': 2529, 'ste': 6933, 'contact': 1549, 'factory': 2606, 'reset': 6149, 'scris': 6474, 'firmw': 2759, 'muncit': 4646, 'copil': 1600, 'sut': 7175, 'sap': 6386, 'bucat': 956, 'ret': 6181, 'muzic': 4664, 'slabut': 6720, 'pixel': 5428, 'modul': 4569, 'secund': 6511, 'ref': 6052, 'refer': 6054, 'film': 2723, 'filmar': 2724, 'multumest': 4642, 'eroar': 2439, 'jos': 3952, 'realiz': 5986, 'edit': 2352, 'nefolos': 4752, 'soft': 6783, 'her': 3255, 'the': 7342, 'bag': 688, 'cumper': 1708, 'god': 3109, 'pester': 5360, 'straluc': 6995, 'nebun': 4721, 'rat': 5945, 'scrol': 6477, 'also': 265, 'bomb': 892, 'tru': 7539, 'ton': 7417, 'funct': 2944, 'atmosfer': 598, 'fin': 2734, 'what': 8004, 'iubesc': 3914, 'anum': 404, 'miscar': 4528, 'repet': 6127, 'lov': 4194, 'premium': 5643, 'fels': 2676, 'and': 354, 'al': 223, 'intereseaz': 3773, 'go': 3105, 'get': 3062, 'it': 3907, 'so': 6765, 'ugly': 7582, 'fost': 2874, 'pisic': 5421, 'forget': 2852, 'about': 10, 'them': 7344, 'fa': 2586, 'screnshot': 6464, 'scrie': 6470, 'jurnal': 3970, 'they': 7349, 'wil': 8028, 'be': 765, 'gon': 3122, 'transfer': 7468, 'esti': 2454, 'cic': 1286, 'metod': 4440, 'difer': 2059, 'driv': 2247, 'vs': 7962, 'icloud': 3331, 'bla': 835, 'frat': 2896, 'lucr': 4219, 'cas': 1136, 'inteles': 3756, 'mi': 4448, 'strig': 7015, 'um': 7614, 'no': 4896, 'priz': 5716, 'extern': 2568, 'but': 993, 'gets': 3063, 'boring': 899, 'sometimes': 6801, 'jur': 3968, 'femei': 2680, 'cantar': 1078, 'investit': 3863, 'feling': 2675, 'imprieten': 3435, 'soner': 6803, 'form': 2855, 'wel': 8001, 'microusb': 4463, 'chang': 1234, 'varfur': 7772, 'clem': 1352, 'pen': 5294, 'charg': 1236, 'product': 5746, 'libert': 4095, 'comp': 1430, 'satisfac': 6409, 'dex': 2016, 'self': 6525, 'pas': 5246, 'iei': 3347, 'stil': 6962, 'beast': 767, 'precizar': 5612, 'devic': 2010, 'lipsur': 4142, 'notabil': 4920, 'ip': 3874, 'barometr': 728, 'actual': 89, 'pastreaz': 5256, 'trend': 7511, 'rezol': 6237, 'preset': 5648, 'numar': 4958, 'fram': 2888, 'fimar': 2733, 'fulhd': 2938, 'zile': 8129, 'parametr': 5217, 'expun': 2560, 'obtin': 5006, 'mart': 4333, 'major': 4270, 'numer': 4961, 'bug': 963, 'imbunatatir': 3386, 'rating': 5955, 'prost': 5797, 'trimit': 7525, 'soti': 6815, 'acest': 49, 'aseman': 535, 'inim': 3656, 'precedent': 5609, 'greseal': 3160, 'stiut': 6974, 'nemultum': 4785, 'mananc': 4285, 'pain': 5184, 'procent': 5735, 'gandur': 3006, 'viat': 7848, 'petrec': 5365, 'natur': 4692, 'pescuit': 5358, 'acolo': 71, 'salveaz': 6363, 'vez': 7843, 'scurg': 6486, 'resur': 6180, 'limitat': 4117, 'serviciu': 6579, 'vitez': 7897, 'proces': 5737, 'contat': 1551, 'deloc': 1874, 'petal': 5362, 'search': 6503, 'apk': 434, 'ap': 410, 'galery': 2991, 'banc': 710, 'mybrd': 4666, 'suces': 7063, 'vanced': 7759, 'public': 5822, 'egal': 2367, 'aprop': 460, 'profesional': 5751, 'acomod': 72, 'setat': 6591, 'pubg': 5821, 'curat': 1728, 'fluid': 2809, 'inseamn': 3695, 'foloseasc': 2834, 'lantern': 4028, 'moart': 4548, 'ster': 6943, 'alb': 228, 'vivid': 7902, 'imagin': 3368, 'bolnav': 889, 'fort': 2864, 'zom': 8135, 'pierz': 5403, 'uit': 7592, 'variaz': 7778, 'ciudat': 1324, 'scene': 6440, 'variat': 7777, 'urat': 7681, 'clarif': 1339, 'nen': 4788, 'trezest': 7518, 'focaliz': 2823, 'autom': 627, 'penibil': 5296, 'candv': 1074, 'vie': 7867, 'filmat': 2725, 'caz': 1170, 'dispoz': 2136, 'imperech': 3409, 'indulgent': 3591, 'indeplinest': 3561, 'inutil': 3849, 'iris': 3895, 'recunosc': 6034, 'bunic': 980, 'dreapt': 2241, 'men': 4403, 'enerv': 2409, 'declanseaz': 1823, 'obinuiest': 4981, 'ingust': 3654, 'box': 910, 'akg': 222, 'multipl': 4634, 'supliment': 7114, 'gratis': 3146, 'instant': 3726, 'gust': 3199, 'font': 2845, 'vis': 7891, 'outlok': 5153, 'mailur': 4266, 'windows': 8031, 'pc': 5278, 'incerc': 3494, 'wif': 8026, 'casut': 1149, 'fundal': 2955, 'music': 4658, 'lunar': 4236, 'dezvolt': 2042, 'creat': 1653, 'melod': 4396, 'artist': 515, 'prefer': 5625, 'wear': 7993, 'by': 1009, 'apstor': 468, 'fric': 2909, 'gand': 3002, 'vand': 7760, 'superb': 7103, 'apropo': 463, 'mult': 4628, 'email': 2391, 'photos': 5377, 'backup': 683, 'ofic': 5031, 'formul': 2861, 'citesc': 1314, 'cont': 1548, 'job': 3944, 'scren': 6463, 'miroring': 4522, 'tv': 7560, 'sentiment': 6552, 'unic': 7652, 'microfon': 4454, 'intreruper': 3830, 'caldur': 1039, 'lamur': 4016, 'sunat': 7093, 'sit': 6702, 'amabil': 291, 'depanero': 1902, 'trimis': 7524, 'curier': 1738, 'preluat': 5634, 'meniu': 4405, 'haotic': 3224, 'dificil': 2066, 'gener': 3042, 'deranj': 1925, 'putea': 5862, 'introdus': 3840, 'sters': 6949, 'introd': 3837, 'adaug': 115, 'remed': 6105, 'buget': 964, 'spik': 6864, 'incint': 3519, 'intreag': 3821, 'personaliz': 5351, 'fel': 2670, 'modur': 4570, 'detecteaz': 1993, 'videour': 7866, 'sportiv': 6882, 'cronometr': 1680, 'intampin': 3742, 'regret': 6075, 'ultra': 7607, 'nevoit': 4854, 'brand': 913, 'reproduc': 6138, 'liv': 4151, 'onor': 5069, 'netflix': 4840, 'hdr': 3243, 'compatib': 1442, 'dolby': 2190, 'atmos': 597, 'fps': 2882, 'telecomand': 7268, 'exemplu': 2524, 'indiferent': 3567, 'lte': 4203, 'mbit': 4370, 'acelerometru': 36, 'barometru': 729, 'giroscop': 3084, 'puls': 5830, 'rgb': 6246, 'light': 4107, 'presiun': 5651, 'scan': 6422, 'ac': 24, 'adp': 138, 'aptx': 470, 'usb': 7707, 'oxigen': 5164, 'sang': 6381, 'spo': 6875, 'diafragm': 2045, 'reglabil': 6069, 'fizic': 2776, 'adaptoar': 113, 'hibrid': 3264, 'nano': 4678, 'microsd': 4460, 'quick': 5883, 'asi': 541, 'picat': 5384, 'vroi': 7960, 'debloch': 1808, 'nemaiputand': 4781, 'astefel': 562, 'whatsup': 8011, 'tonur': 7418, 'orib': 5124, 'stricat': 7012, 'pros': 5796, 'vi': 7845, 'routines': 6304, 'automatiz': 628, 'proc': 5732, 'leg': 4071, 'cons': 1522, 'tim': 7368, 'shuter': 6642, 'detal': 1987, 'oamen': 4969, 'mediocru': 4388, 'rateur': 5953, 'sapt': 6388, 'hotar': 3293, 'inlocui': 3668, 'corespund': 1611, 'conform': 1515, 'scot': 6462, 'ca': 1011, 'grav': 3148, 'focalizeaz': 2824, 'blurat': 873, 'palm': 5191, 'cm': 1367, 'obiect': 4978, 'camere': 1063, 'neferic': 4747, 'aib': 199, 'ps': 5816, 'porn': 5540, 'afecteaz': 161, 'realitat': 5985, 'hr': 3300, 'samd': 6367, 'ptr': 5820, 'postat': 5567, 'senzational': 6555, 'medium': 4390, 'best': 790, 'buy': 1003, 'misto': 4533, 'exterior': 2567, 'ideal': 3337, 'acesor': 46, 'entry': 2418, 'level': 4091, 'inteligent': 3757, 'artificial': 514, 'aiur': 209, 'pastr': 5254, 'fak': 2620, 'realist': 5984, 'spu': 6889, 'vrem': 7952, 'wiz': 8037, 'nexus': 4861, 'nativ': 4691, 'overal': 5156, 'build': 970, 'quality': 5882, 'neglij': 4758, 'declar': 1824, 'ips': 3886, 'quad': 5879, 'cor': 1603, 'mpx': 4614, 'subtirel': 7060, 'comparat': 1438, 'gestion': 3058, 'fd': 2660, 'iaras': 3324, 'rar': 5928, 'latent': 4043, 'toler': 7415, 'punctaj': 5838, 'diver': 2159, 'test': 7327, 'insesiz': 3704, 'sustin': 7174, 'imbunatateasc': 3384, 'semn': 6534, 'incetin': 3499, 'sacadeaz': 6343, 'cit': 1311, 'comun': 1468, 'tinet': 7383, 'poze': 5586, 'calit': 1049, 'timpu': 7372, 'securiz': 6515, 'celar': 1193, 'ingreuneaz': 3649, 'piard': 5380, 'satur': 6411, 'asphalt': 555, 'real': 5982, 'racing': 5893, 'concluzionand': 1484, 'yp': 8086, 'absent': 12, 'superioar': 7108, 'tastatur': 7234, 'delay': 1865, 'select': 6522, 'distinct': 2143, 'gen': 3041, 'telegr': 7282, 'lenovo': 4082, 'rachet': 5892, 'mediu': 4389, 'vazusem': 7790, 'splus': 6874, 'lasat': 4039, 'top': 7419, 'preferint': 5627, 'chinuit': 1272, 'unicred': 7654, 'coment': 1412, 'depind': 1910, 'comentar': 1413, 'legat': 4073, 'habar': 3204, 'document': 2183, 'intreb': 3822, 'presupun': 5655, 'comenteaz': 1415, 'necunostint': 4738, 'filtru': 2732, 'neditat': 4742, 'domn': 2197, 'greo': 3156, 'rost': 6291, 'piper': 5418, 'oprit': 5088, 'englez': 2412, 'gros': 3180, 'ocup': 5023, 'balant': 703, 'dezechilibr': 2029, 'lent': 4085, 'mediocr': 4387, 'similar': 6667, 'trlefon': 7533, 'ramas': 5912, 'cadr': 1024, 'aluminiu': 282, 'deschid': 1942, 'degrad': 1860, 'bf': 801, 'viner': 7878, 'sambat': 6366, 'performante': 5325, 'benchmark': 780, 'care': 1118, 'high': 3268, 'perfomanc': 5320, 'wqhd': 8051, 'totus': 7433, 'flamand': 2784, 'optimiz': 5099, 'peac': 5286, 'mint': 4503, 'restrict': 6175, 'sincronizeaz': 6690, 'itunes': 3912, 'laptop': 4032, 'mutat': 4662, 'instructiun': 3732, 'configur': 1509, 'iun': 3920, 'sti': 6951, 'incalz': 3468, 'bloch': 855, 'gps': 3128, 'alte': 271, 'pornit': 5544, 'vizion': 7908, 'confection': 1505, 'proiector': 5767, 'unghi': 7649, 'regleaz': 6072, 'indreapt': 3586, 'ventil': 7815, 'incorpor': 3540, 'dub': 2265, 'facet': 2598, 'celebr': 1195, 'vax': 7788, 'cop': 1592, 'inclin': 3520, 'tehnic': 7263, 'competit': 1448, 'solid': 6796, 'magnet': 4259, 'reusest': 6207, 'subdimension': 7045, 'cpu': 1638, 'tint': 7385, 'albastru': 231, 'evident': 2485, 'prompt': 5779, 'taz': 7246, 'aprox': 465, 'puteam': 5863, 'oflin': 5033, 'frez': 2906, 'joculet': 3948, 'subway': 7062, 'surfers': 7154, 'minecraft': 4494, 'charger': 1238, 'hm': 3276, 'web': 7995, 'surfing': 7155, 'ing': 3635, 'homebank': 3284, 'fanboy': 2631, 'demont': 1884, 'mit': 4534, 'hater': 3236, 'construi': 1543, 'platform': 5457, 'blan': 841, 'serial': 6565, 'rup': 6327, 'totu': 7432, 'nui': 4955, 'fragil': 2886, 'mil': 4480, 'waz': 7990, 'hbo': 3240, 'tip': 7388, 'strateg': 7003, 'gasest': 3020, 'vind': 7876, 'impart': 3403, 'cealalt': 1179, 'varf': 7771, 'indes': 3562, 'repornest': 6131, 'transport': 7477, 'zero': 8108, 'sin': 6685, 'renunt': 6117, 'plimb': 5481, 'tigai': 7363, 'default': 1840, 'point': 5513, 'shot': 6636, 'curbat': 1731, 'factor': 2605, 'decis': 1820, 'adaptor': 114, 'that': 7341, 'was': 7978, 'first': 2760, 'superl': 7110, 'amoled': 324, 'with': 8035, 'depth': 1921, 'nefind': 4748, 'filter': 2729, 'dif': 2058, 'recenz': 6003, 'relev': 6098, 'electron': 2376, 'fiecarui': 2714, 'deplin': 1915, 'gas': 3014, 'alta': 266, 'confort': 1516, 'obligatoriu': 4992, 'plasat': 5450, 'joi': 3950, 'decembr': 1814, 'pacif': 5176, 'optat': 5093, 'ramburs': 5913, 'disper': 2126, 'inghesu': 3641, 'precomenz': 5615, 'grab': 3131, 'nerabd': 4816, 'serioz': 6569, 'posed': 5557, 'minor': 4502, 'neatent': 4717, 'albastr': 230, 'incomodeaz': 3530, 'utilizand': 7727, 'lat': 4042, 'greutat': 3166, 'gram': 3138, 'urias': 7693, 'indemn': 3556, 'calcul': 1037, 'inut': 3848, 'scor': 6459, 'antutu': 399, 'ambe': 304, 'soar': 6767, 'regl': 6068, 'global': 3096, 'tem': 7296, 'download': 2224, 'ungar': 7648, 'bestbuy': 791, 'nov': 4940, 'niciun': 4870, 'graphit': 3144, 'silver': 6659, 'adu': 144, 'gold': 3114, 'reprosur': 6141, 'tablet': 7192, 'pct': 5279, 'efectu': 2358, 'inchei': 3507, 'subit': 7048, 'voi': 7923, 'interlocutor': 3781, 'evit': 2486, 'senin': 6545, 'inexplic': 3609, 'comport': 1457, 'inclu': 3521, 'leu': 4089, 'subt': 7056, 'fantast': 2635, 'dinafar': 2090, 'inauntru': 3460, 'lux': 4243, 'lum': 4228, 'exceleaz': 2502, 'amper': 330, 'extind': 2569, 'sdcard': 6497, 'compenseaz': 1445, 'punctual': 5840, 'optic': 5096, 'detect': 1992, 'fete': 2698, 'great': 3152, 'speaker': 6838, 'htc': 3304, 'aparent': 416, 'declans': 1822, 'impotr': 3426, 'apasar': 423, 'neintention': 4769, 'moral': 4591, 'acop': 73, 'afla': 171, 'crash': 1644, 'sughit': 7079, 'inceap': 3488, 'lockscren': 4168, 'patit': 5268, 'flanco': 2785, 'vb': 7792, 'lg': 4093, 'inait': 3456, 'lucreaz': 4223, 'citir': 1319, 'intrat': 3819, 'comod': 1428, 'lcd': 4058, 'nevo': 4852, 'us': 7704, 'chin': 1264, 'sfarsit': 6606, 'victus': 7859, 'ide': 3336, 'barb': 725, 'groas': 3177, 'latur': 4048, 'secur': 6513, 'ident': 3339, 'atat': 580, 'taier': 7204, 'costur': 1627, 'pretur': 5665, 'wow': 8047, 'indoit': 3579, 'curbeaz': 1732, 'priblem': 5675, 'ori': 5123, 'plit': 5487, 'contrast': 1568, 'trepied': 7513, 'principiu': 5696, 'intoarc': 3808, 'copiat': 1596, 'palet': 5189, 'main': 4267, 'for': 2847, 'money': 4578, 'magnif': 4260, 'microscop': 4459, 'creion': 1663, 'click': 1353, 'gestur': 3060, 'bluetoh': 869, 'vibro': 7855, 'motor': 4602, 'subtil': 7058, 'vibreaz': 7854, 'uns': 7663, 'gcam': 3030, 'stereo': 6944, 'galag': 2983, 'flexib': 2794, 'opin': 5077, 'bazat': 761, 'lung': 4238, 'convorb': 1590, 'greut': 3165, 'usoar': 7716, 'dea': 1793, 'umble': 7621, 'sms': 6752, 'logic': 4179, 'complic': 1455, 'dedic': 1836, 'list': 4144, 'pricep': 5678, 'ezit': 2583, 'reviewur': 6220, 'dificult': 2067, 'gresit': 3163, 'baz': 758, 'mos': 4595, 'nicola': 4872, 'trecand': 7502, 'supraincarc': 7132, 'game': 2994, 'pre': 5601, 'foart': 2819, 'fotografier': 2880, 'watch': 7981, 'deal': 1797, 'sportur': 6883, 'pentu': 5303, 'micut': 4467, 'simplut': 6677, 'versatil': 7828, 'resping': 6161, 'logo': 4180, 'miu': 4536, 'inbunatat': 3462, 'ici': 3330, 'colo': 1393, 'baiet': 694, 'grafic': 3137, 'of': 5027, 'duty': 2302, 'maximum': 4367, 'vret': 7955, 'num': 4957, 'auzit': 643, 'briz': 932, 'brizur': 933, 'incer': 3493, 'telen': 7284, 'anunt': 406, 'lans': 4023, 'nord': 4913, 'marim': 4319, 'curand': 1727, 'configurat': 1511, 'fet': 2697, 'explic': 2548, 'destul': 1984, 'supriz': 7147, 'temperatur': 7301, 'stat': 6925, 'bord': 898, 'masin': 4343, 'felefon': 2671, 'silent': 6657, 'rasuc': 5944, 'multitudin': 4637, 'felur': 2678, 'absot': 15, 'infinity': 3619, 'nemaipomen': 4780, 'videoclipur': 7863, 'rezolutin': 6239, 'milioan': 4485, 'imprast': 3428, 'inch': 3504, 'afis': 166, 'modif': 4564, 'aleget': 249, 'pagin': 5181, 'feulu': 2701, 'liter': 4148, 'procentaj': 5736, 'cercur': 1219, 'simblo': 6662, 'progr': 5762, 'ati': 589, 'faz': 2656, 'alway': 287, 'stins': 6969, 'spotify': 6885, 'player': 5464, 'comn': 1427, 'scaner': 6427, 'amplas': 333, 'aplas': 436, 'relat': 6095, 'lipit': 4137, 'deget': 1857, 'acestui': 52, 'incomod': 3529, 'perspect': 5353, 'bezn': 800, 'iluminand': 3364, 'isi': 3901, 'dinam': 2092, 'interschimb': 3792, 'back': 679, 'informat': 3626, 'forb': 2849, 'news': 4857, 'fed': 2667, 'propus': 5795, 'intrebuint': 3825, 'dragut': 2235, 'capot': 1093, 'confer': 1506, 'tranzit': 7481, 'rular': 6321, 'profesionist': 5753, 'randur': 5918, 'gam': 2993, 'end': 2404, 'delux': 1876, 'inifinity': 3655, 'desch': 1941, 'background': 680, 'mesengers': 4434, 'neagr': 4710, 'scri': 6467, 'sul': 7082, 'aduc': 145, 'revolutionar': 6227, 'priv': 5709, 'mers': 4425, 'sergiu': 6563, 'oprest': 5085, 'citest': 1315, 'depas': 1906, 'fabric': 2587, 'cunoast': 1712, 'aceat': 29, 'april': 453, 'cerint': 1221, 'blitz': 847, 'convins': 1589, 'scuzat': 6495, 'smartphonur': 6743, 'contraz': 1569, 'uni': 7651, 'achizitioneaz': 62, 'circumst': 1309, 'mijloac': 4477, 'nustiu': 4968, 'viseaz': 7893, 'conduc': 1495, 'sacrif': 6346, 'client': 1355, 'bateau': 741, 'ven': 7810, 'cunostint': 1715, 'roaman': 6271, 'dor': 2203, 'banui': 718, 'conven': 1580, 'wat': 7979, 'up': 7666, 'ziar': 8122, 'fond': 2844, 'inchis': 3512, 'you': 8081, 'tub': 7546, 'nasp': 4687, 'daily': 1772, 'driver': 2248, 'unghiur': 7650, 'vizualiz': 7913, 'arhisuficient': 494, 'vei': 7808, 'drept': 2242, 'gigant': 3079, 'economis': 2335, 'saving': 6418, 'plas': 5448, 'acestei': 50, 'bravo': 920, 'fiabil': 2704, 'stabiliz': 6902, 'cazut': 1174, 'apuc': 471, 'ever': 2482, 'tef': 7260, 'nerv': 4823, 'bunicel': 981, 'perech': 5313, 'pozition': 5590, 'omor': 5059, 'puteau': 5864, 'consol': 1533, 'brio': 931, 'necesar': 4726, 'zgaraietur': 8112, 'gabar': 2974, 'punet': 5846, 'configurar': 1510, 'personalizar': 5352, 'profund': 5760, 'plic': 5476, 'bul': 971, 'carton': 1133, 'neastept': 4716, 'noil': 4905, 'duo': 2285, 'fe': 2661, 'moftur': 4572, 'secol': 6506, 'pdaf': 5283, 'laser': 4040, 'af': 156, 'ois': 5041, 'dad': 1766, 'lect': 4067, 'dslr': 2257, 'chinezeasc': 1268, 'marketing': 4328, 'sapun': 6392, 'scroling': 6478, 'walpaper': 7971, 'justific': 3973, 'dispon': 2134, 'actualizar': 91, 'grabit': 3133, 'cerut': 1228, 'notch': 4922, 'interior': 3780, 'pie': 5393, 'punand': 5834, 'cap': 1081, 'enorm': 2416, 'simtit': 6681, 'neplacer': 4801, 'mijloc': 4478, 'palar': 5188, 'superior': 7109, 'amp': 328, 'telekom': 7283, 'trezit': 7519, 'serivc': 6570, 'esd': 2445, 'urmeaz': 7702, 'sufer': 7068, 'celu': 1200, 'ocaz': 5009, 'iphin': 3877, 'argintiu': 491, 'tent': 7309, 'perpendicular': 5343, 'gri': 3168, 'uitam': 7593, 'colt': 1400, 'solic': 6792, 'zgariat': 8115, 'agend': 184, 'trez': 7516, 'apas': 421, 'mir': 4513, 'destept': 1980, 'lin': 4121, 'eleg': 2381, 'voucher': 7944, 'emg': 2394, 'introduc': 3838, 'socur': 6779, 'gratuit': 3147, 'pic': 5383, 'esec': 2446, 'procesoar': 5740, 'operatiun': 5076, 'simpl': 6671, 'mesager': 4428, 'extra': 2571, 'inutiliz': 3850, 'ver': 7816, 'format': 2856, 'acust': 100, 'rival': 6267, 'batai': 737, 'risc': 6260, 'platest': 5456, 'dar': 1778, 'auriu': 615, 'manc': 4287, 'user': 7713, 'fug': 2933, 'sarac': 6394, 'baft': 687, 'amat': 299, 'gres': 3158, 'butucan': 1002, 'fm': 2814, 'semnific': 6540, 'cerer': 1220, 'sacait': 6345, 'permisiun': 5338, 'ah': 196, 'spalac': 6823, 'curioz': 1741, 'impresioneaz': 3433, 'conversat': 1583, 'tau': 7239, 'invitat': 3867, 'discut': 2115, 'grup': 3187, 'afli': 175, 'metrou': 4442, 'autobuz': 623, 'intervin': 3797, 'dubleaz': 2272, 'intim': 3802, 'inlocu': 3667, 'reies': 6080, 'cautat': 1166, 'solut': 6798, 'decurs': 1835, 'sem': 6530, 'umed': 7626, 'tendint': 7306, 'predomin': 5624, 'ias': 3327, 'iesit': 3356, 'sprijin': 6887, 'nepotriv': 4805, 'ador': 136, 'banut': 720, 'rel': 6094, 'insir': 3707, 'link': 4128, 'low': 4199, 'dispun': 2139, 'nepretent': 4808, 'contur': 1578, 'second': 6507, 'spac': 6821, 'creaz': 1656, 'emul': 2402, 'swap': 7177, 'balanced': 701, 'performanc': 5324, 'rulat': 6322, 'raw': 5961, 'long': 4185, 'exposur': 2556, 'night': 4874, 'api': 433, 'pasion': 5248, 'ocazional': 5010, 'irelev': 3892, 'ir': 3890, 'localiz': 4162, 'customiz': 1749, 'potent': 5573, 'pay': 5275, 'transilvan': 7471, 'diversific': 2161, 'uti': 7723, 'inregistr': 3683, 'saptamanal': 6390, 'particul': 5240, 'intra': 3815, 'emit': 2398, 'anten': 384, 'hotspot': 3297, 'extender': 2564, 'distant': 2141, 'sound': 6817, 'centru': 1210, 'cinem': 1295, 'colors': 1397, 'esential': 2448, 'oprir': 5087, 'dnd': 2168, 'atinger': 592, 'memory': 4402, 'bost': 903, 'enhancement': 2413, 'restriction': 6176, 'management': 4283, 'eficient': 2363, 'porcar': 5539, 'paralel': 5216, 'ecosist': 2341, 'cloud': 1365, 'inregistrar': 3684, 'notit': 4935, 'fiecare': 2713, 'adecv': 119, 'respect': 6159, 'alarm': 225, 'moder': 4559, 'mbps': 4371, 'system': 7187, 'divers': 2160, 'unitat': 7658, 'laud': 4050, 'alocur': 262, 'tradus': 7453, 'prind': 5697, 'surubur': 7169, 'cazatur': 1171, 'covor': 1636, 'fisur': 2763, 'locur': 4173, 'pierzand': 5404, 'caracterist': 1106, 'heavy': 3250, 'moar': 4547, 'nasol': 4686, 'demult': 1885, 'dubiu': 2269, 'usa': 7705, 'simpat': 6670, 'vazand': 7789, 'ferar': 2686, 'straz': 7005, 'functiun': 2953, 'maic': 4264, 'detinand': 2001, 'descopar': 1947, 'cert': 1223, 'faceam': 2593, 'fice': 2708, 'scul': 6481, 'necl': 4729, 'ghic': 3065, 'gradin': 3136, 'origin': 5133, 'soul': 6816, 'wild': 8029, 'vanez': 7762, 'linist': 4125, 'intern': 3786, 'kirin': 3990, 'baut': 756, 'nemaiavand': 4778, 'su': 7042, 'popup': 5537, 'mha': 4445, 'forj': 2853, 'tinand': 7375, 'defectiun': 1844, 'flash': 2787, 'strad': 6988, 'protectoar': 5801, 'modal': 4556, 'stand': 6912, 'incompat': 3532, 'ergonom': 2436, 'anul': 402, 'explicat': 2549, 'finis': 2746, 'pantalon': 5206, 'stof': 6981, 'ti': 7359, 'alunec': 284, 'cad': 1019, 'categor': 1154, 'separ': 6559, 'masiv': 4344, 'lovit': 4197, 'crap': 1641, 'stupoar': 7036, 'instantan': 3727, 'mizer': 4540, 'adun': 149, 'vizibil': 7907, 'gol': 3113, 'stang': 6917, 'pauz': 5274, 'zec': 8101, 'veneau': 7812, 'metru': 4443, 'socant': 6772, 'blit': 846, 'teoret': 7313, 'practic': 5593, 'stelut': 6942, 'supraincalzest': 7130, 'galer': 2990, 'neglijent': 4759, 'privest': 5712, 'eveniment': 2479, 'tragic': 7459, 'nesemnific': 4828, 'spalat': 6824, 'rotat': 6294, 'indrept': 3587, 'brut': 946, 'barbat': 726, 'uscat': 7709, 'calorifer': 1053, 'intact': 3738, 'desigur': 1969, 'picior': 5387, 'urmar': 7697, 'tanc': 7216, 'inloc': 3666, 'zboar': 8098, 'emu': 2401, 'tichet': 7360, 'sur': 7150, 'nesigur': 4832, 'sant': 6384, 'inrest': 3686, 'comprim': 1461, 'cuvant': 1756, 'fabul': 2589, 'familiar': 2626, 'exper': 2540, 'plin': 5484, 'salv': 6361, 'privat': 5711, 'dts': 2259, 'pozar': 5584, 'reteau': 6184, 'gig': 3077, 'const': 1534, 'fancourier': 2632, 'livrat': 4154, 'reprezent': 6135, 'motoriz': 4604, 'mediatek': 4383, 'treac': 7492, 'terminal': 7323, 'funy': 2960, 'larg': 4035, 'body': 882, 'ratio': 5956, 'lansat': 4025, 'discount': 2112, 'utilizeaz': 7729, 'dislpay': 2118, 'cadru': 1025, 'decurand': 1834, 'restor': 6172, 'musa': 4654, 'trebuiasc': 7498, 'gamer': 2997, 'curent': 1735, 'constat': 1536, 'renum': 6116, 'deschis': 1944, 'chinezar': 1267, 'autent': 618, 'neimpresion': 4765, 'final': 2735, 'devin': 2013, 'magic': 4258, 'ciud': 1323, 'expu': 2559, 'anterioar': 385, 'spectacul': 6849, 'nehotar': 4763, 'sfatui': 6608, 'valoar': 7752, 'joac': 3942, 'explodeaz': 2552, 'imbin': 3376, 'incap': 3473, 'galben': 2987, 'problen': 5730, 'retras': 6195, 'gap': 3007, 'curbur': 1733, 'compan': 1432, 'sameday': 6369, 'supar': 7100, 'pornest': 5542, 'touchid': 7436, 'faceid': 2596, 'negr': 4760, 'piel': 5397, 'ros': 6289, 'naib': 4673, 'cac': 1016, 'hexacor': 3260, 'pap': 5209, 'urcat': 7686, 'neavand': 4719, 'uzual': 7741, 'atract': 599, 'alatur': 227, 'detas': 1991, 'start': 6922, 'obisnui': 4985, 'colabor': 1385, 'disconfort': 2110, 'disparit': 2124, 'slid': 6724, 'neregul': 4819, 'termic': 7321, 'smarphon': 6736, 'limitar': 4116, 'filmulet': 2727, 'program': 5763, 'atrag': 600, 'alcatel': 237, 'reactioneaz': 5974, 'rog': 6280, 'carut': 1135, 'dezinform': 2033, 'honor': 3288, 'huawei': 3308, 'blockeaz': 860, 'septembr': 6561, 'ihunt': 3360, 'titan': 7395, 'incolo': 3526, 'rugamint': 6315, 'purtat': 5856, 'scuz': 6494, 'capodoper': 1092, 'vet': 7842, 'detinet': 2002, 'credet': 1658, 'inche': 3505, 'reseteaz': 6151, 'displays': 2132, 'telefonil': 7277, 'interactiun': 3769, 'ambalaj': 303, 'preaplic': 5604, 'maruntisur': 4336, 'suflet': 7073, 'descoper': 1948, 'dincolo': 2094, 'imbrac': 3378, 'nis': 4886, 'adres': 141, 'tipar': 7389, 'onest': 5064, 'distrag': 2150, 'bal': 697, 'picioar': 5386, 'say': 6419, 'vreodat': 7954, 'zambest': 8092, 'aceias': 30, 'satisfact': 6410, 'fir': 2750, 'suprasatur': 7136, 'gustur': 3200, 'ciclu': 1288, 'incarcar': 3484, 'showrom': 6639, 'totod': 7431, 'proport': 5787, 'achiztion': 64, 'culcat': 1692, 'singular': 6693, 'altor': 279, 'aviz': 667, 'urgent': 7691, 'incalzir': 3471, 'bric': 926, 'atu': 604, 'crapat': 1642, 'nimer': 4879, 'arab': 476, 'saudit': 6415, 'intrec': 3826, 'cuvint': 1758, 'bas': 730, 'contrar': 1567, 'ser': 6562, 'opri': 5086, 'deven': 2008, 'nr': 4944, 'mondial': 4576, 'indic': 3565, 'calator': 1033, 'regas': 6063, 'doau': 2177, 'portocal': 5550, 'depasest': 1908, 'furat': 2962, 'inspir': 3714, 'youtuber': 8085, 'exemplar': 2522, 'temporar': 7303, 'market': 4327, 'documentar': 2184, 'traget': 7458, 'pripit': 5705, 'ingheat': 3640, 'touchscren': 7438, 'aprecier': 450, 'nejustific': 4772, 'intors': 3812, 'tutorial': 7559, 'facand': 2591, 'taximetr': 7245, 'bazeaz': 762, 'cumparar': 1704, 'navigat': 4699, 'adre': 139, 'imbatran': 3372, 'cautar': 1165, 'potrivest': 5577, 'intarz': 3744, 'jucar': 3960, 'rulez': 6325, 'modern': 4561, 'temer': 7299, 'influent': 3621, 'prism': 5706, 'serios': 6568, 'sesiz': 6584, 'clasic': 1346, 'profil': 5756, 'sfert': 6612, 'sonoriz': 6806, 'necunosc': 4736, 'arhi': 493, 'dezlip': 2036, 'niman': 4878, 'insemn': 3698, 'razn': 5966, 'ciocan': 1301, 'reticient': 6189, 'incins': 3518, 'contract': 1563, 'insta': 3717, 'cativ': 1159, 'mas': 4338, 'aferent': 162, 'bic': 804, 'astronom': 569, 'vacant': 7744, 'duba': 2266, 'harman': 3230, 'kardon': 3975, 'ui': 7585, 'invet': 3864, 'cheit': 1248, 'europe': 2473, 'blur': 872, 'spatel': 6833, 'umblat': 7620, 'insa': 3688, 'incident': 3515, 'descriu': 1952, 'hand': 3216, 'xcover': 8056, 'pokemon': 5514, 'constant': 1535, 'batery': 745, 'dreptat': 2244, 'inchi': 3509, 'domin': 2196, 'multim': 4632, 'noutat': 4939, 'cumparand': 1702, 'antishock': 395, 'aceas': 27, 'invers': 3859, 'obisnuiest': 4987, 'asez': 538, 'reflex': 6057, 'octa': 5020, 'frecvent': 2903, 'mer': 4416, 'lentil': 4086, 'firesc': 2755, 'dubl': 2270, 'infin': 3618, 'indoai': 3573, 'sensib': 6548, 'sas': 6404, 'wikiped': 8027, 'complex': 1453, 'organiz': 5122, 'calendar': 1042, 'vopseau': 7934, 'taicamiu': 7203, 'buds': 962, 'gear': 3037, 'wid': 8022, 'suplin': 7116, 'panoram': 5204, 'elimin': 2386, 'react': 5972, 'safar': 6350, 'id': 3335, 'pronunt': 5783, 'ude': 7578, 'dumin': 2280, 'poat': 5502, 'solution': 6799, 'okay': 5043, 'alview': 286, 'ie': 3345, 'varz': 7784, 'fierbint': 2717, 'imcarc': 3387, 'probelem': 5723, 'im': 3366, 'descris': 1951, 'situat': 6706, 'refuz': 6061, 'mad': 4253, 'compet': 1446, 'oscil': 5138, 'lucrat': 4222, 'ish': 3900, 'critic': 1674, 'imbucur': 3380, 'water': 7982, 'prof': 5749, 'murit': 4653, 'gandest': 3004, 'dustprof': 2301, 'waterprof': 7983, 'gorilaglas': 3125, 'idiot': 3343, 'partener': 5236, 'intermed': 3782, 'smartswitch': 6744, 'preview': 5669, 'aprin': 454, 'biometr': 822, 'inregistreaz': 3685, 'lagur': 4012, 'router': 6303, 'patesc': 5264, 'peret': 5314, 'consacr': 1523, 'wirles': 8034, 'imbunat': 3381, 'substantial': 7055, 'sfatur': 6610, 'castig': 1146, 'clear': 1351, 'cover': 1634, 'regiun': 6067, 'depoz': 1917, 'plateasc': 5455, 'cheltuial': 1251, 'reviz': 6223, 'imprim': 3436, 'eur': 2470, 'chinez': 1266, 'punctat': 5839, 'fus': 2968, 'blocaj': 851, 'aprinz': 457, 'tarziu': 7226, 'funtioneaz': 2959, 'cheltuit': 1254, 'benefic': 783, 'brick': 928, 'camil': 1064, 'hard': 3227, 'inferioar': 3612, 'vant': 7764, 'compromis': 1463, 'reorient': 6119, 'gs': 3189, 'stagnat': 6908, 'element': 2382, 'trasat': 7483, 'lini': 4123, 'granit': 3142, 'plaj': 5436, 'termen': 7320, 'interfet': 3777, 'benef': 782, 'adus': 150, 'situ': 6705, 'scopur': 6458, 'combinat': 1408, 'fhd': 2703, 'dpi': 2228, 'bineven': 819, 'aceluias': 38, 'eficiency': 2362, 'reprezint': 6136, 'surpr': 7161, 'rezult': 6243, 'simil': 6666, 'gopro': 3123, 'telefoto': 7281, 'cele': 1194, 'situeaz': 6707, 'landscap': 4021, 'exceland': 2501, 'sasiu': 6405, 'glastic': 3088, 'polis': 5521, 'numest': 4963, 'rabat': 5887, 'infrastructur': 3630, 'europ': 2472, 'oricare': 5129, 'oneu': 5065, 'echilibr': 2324, 'view': 7871, 'natural': 4693, 'indragostest': 3583, 'intri': 3834, 'bestial': 792, 'eunu': 2469, 'asadar': 519, 'lumineaz': 4231, 'corespunz': 1612, 'seler': 6524, 'mentiun': 4414, 'port': 5545, 'infrarosu': 3629, 'promot': 5774, 'comparandu': 1436, 'predict': 5622, 'fail': 2614, 'edition': 2355, 'insist': 3708, 'lamureasc': 4017, 'ecuat': 2348, 'stock': 6979, 'chinezest': 1269, 'coboar': 1374, 'indrum': 3588, 'ulterior': 7603, 'crescut': 1665, 'privacy': 5710, 'xda': 8058, 'asteptand': 566, 'aptoid': 469, 'sacadar': 6342, 'incontinu': 3537, 'pling': 5485, 'frumusel': 2923, 'slim': 6726, 'mandru': 4290, 'sory': 6810, 'beter': 794, 'mh': 4444, 'inteleag': 3751, 'forjat': 2854, 'yotub': 8080, 'facil': 2601, 'vocal': 7920, 'implin': 3420, 'walpapers': 7972, 'ingrij': 3650, 'fortnit': 2867, 'services': 6578, 'mort': 4593, 'sal': 6355, 'sam': 6364, 'eventual': 2481, 'pi': 5379, 'density': 1890, 'bokeh': 887, 'modific': 4565, 'circ': 1304, 'bumper': 978, 'marest': 4312, 'conexiun': 1504, 'redus': 6051, 'ingalben': 3636, 'nicaier': 4865, 'dispar': 2122, 'entuziasm': 2419, 'invent': 3858, 'fund': 2954, 'opre': 5081, 'fereastr': 2689, 'desen': 1958, 'prestabil': 5652, 'actiun': 84, 'aprind': 455, 'activeaz': 87, 'consecut': 1525, 'locat': 4165, 'dadeam': 1768, 'splendid': 6870, 'cazur': 1173, 'repozition': 6134, 'nimereasc': 4880, 'det': 1986, 'deterior': 1996, 'amanunt': 296, 'turcoaz': 7555, 'cunost': 1714, 'megapixel': 4392, 'incluzand': 3524, 'german': 3056, 'ferestr': 2692, 'zi': 8121, 'minuscul': 4509, 'cercet': 1216, 'mediaplayer': 4382, 'medianav': 4381, 'pasat': 5247, 'postur': 5571, 'forumur': 2869, 'intrebar': 3824, 'mutum': 4663, 'detection': 1994, 'voint': 7926, 'criter': 1672, 'atrib': 602, 'ordin': 5116, 'fisier': 2762, 'duplic': 2289, 'sperant': 6859, 'andorid': 356, 'tik': 7365, 'tok': 7412, 'xper': 8066, 'supraincalz': 7128, 'exclus': 2511, 'impatim': 3405, 'mobil': 4550, 'televizoar': 7288, 'onlin': 5066, 'budget': 961, 'pacal': 5170, 'bad': 685, 'launcher': 4054, 'bazait': 760, 'usag': 7706, 'garnitur': 3013, 'sigil': 6651, 'fasait': 2643, 'remediaz': 6106, 'lot': 4189, 'stor': 6984, 'numeasc': 4959, 'nocturn': 4900, 'judec': 3962, 'lab': 4002, 'muc': 4621, 'anyway': 408, 'vw': 7965, 'bmw': 877, 'exempl': 2521, 'locui': 4170, 'fidel': 2710, 'luandu': 4209, 'etalon': 2462, 'mental': 4408, 'vorbeasc': 7938, 'primeasc': 5687, 'pm': 5498, 'dark': 1780, 'setup': 6597, 'videos': 7865, 'tips': 7393, 'tricks': 7521, 'developer': 2007, 'parcurs': 5223, 'teams': 7250, 'concomitent': 1485, 'intreg': 3827, 'analiz': 347, 'aer': 154, 'alba': 229, 'capacel': 1084, 'gadget': 2975, 'uitat': 7596, 'dropur': 2251, 'marvel': 4337, 'futur': 2971, 'fight': 2719, 'batl': 750, 'bucurest': 960, 'whit': 8017, 'push': 5859, 'uber': 7573, 'authent': 621, 'obice': 4975, 'enumer': 2422, 'slow': 6730, 'motion': 4597, 'aceler': 35, 'lok': 4181, 'distrug': 2153, 'iremed': 3893, 'inestet': 3606, 'impact': 3402, 'indoi': 3574, 'interval': 3794, 'teledon': 7271, 'impiedic': 3414, 'fot': 2876, 'crashur': 1647, 'luninoz': 4240, 'chat': 1240, 'yt': 8087, 'binisor': 821, 'setez': 6593, 'recunoasc': 6031, 'punea': 5842, 'capet': 1089, 'aifonu': 202, 'dubios': 2268, 'smoth': 6750, 'artif': 513, 'eror': 2442, 'resimt': 6153, 'zone': 8138, 'economisir': 2338, 'verif': 7821, 'ghost': 3074, 'dpdv': 2227, 'voc': 7919, 'exp': 2534, 'cumul': 1710, 'determin': 1998, 'valabil': 7751, 'dinaint': 2091, 'anem': 365, 'dotar': 2213, 'mist': 4531, 'browsing': 940, 'modest': 4562, 'mono': 4582, 'socat': 6773, 'mb': 4369, 'uhd': 7584, 'turbo': 7553, 'conecteaz': 1499, 'explor': 2553, 'rasar': 5933, 'apus': 472, 'altitudin': 277, 'dur': 2290, 'destin': 1981, 'deseor': 1960, 'intel': 3750, 'sunt': 7097, 'acidental': 69, 'pricipal': 5680, 'sos': 6811, 'lansar': 4024, 'decid': 1818, 'intregim': 3828, 'centimetru': 1206, 'patrat': 5269, 'desktop': 1972, 'experienc': 2541, 'energet': 2407, 'meniur': 4406, 'aeris': 155, 'dezinstal': 2034, 'ufs': 7581, 'irit': 3896, 'profesionalist': 5752, 'tratat': 7487, 'interaction': 3768, 'ciclur': 1289, 'exces': 2508, 'hot': 3292, 'spot': 6884, 'masc': 4339, 'lovitur': 4198, 'vodafon': 7922, 'esim': 2449, 'simur': 6684, 'case': 1142, 'abe': 1, 'geam': 3033, 'balcon': 706, 'surs': 7167, 'reflect': 6056, 'povest': 5578, 'automatizar': 629, 'storag': 6985, 'parking': 5232, 'teamviewer': 7251, 'crezut': 1669, 'puric': 5853, 'vanz': 7765, 'sperat': 6860, 'autentif': 619, 'parol': 5233, 'bifeaz': 809, 'figur': 2720, 'tranzact': 7480, 'buyback': 1004, 'rewiew': 6229, 'portocaliu': 5551, 'venind': 7813, 'octombr': 5022, 'gt': 3193, 'emailur': 2392, 'print': 5700, 'legends': 4075, 'triplu': 7530, 'tratament': 7486, 'planur': 5447, 'conces': 1481, 'intotdeaun': 3813, 'invar': 3851, 'aren': 489, 'ultrawid': 7612, 'deformeaz': 1854, 'redar': 6039, 'urmarest': 7698, 'flim': 2799, 'redau': 6041, 'scurtatur': 6488, 'urasc': 7680, 'aglomer': 189, 'grabest': 3132, 'apes': 430, 'recognition': 6011, 'excluzand': 2513, 'nout': 4938, 'pietr': 5408, 'deab': 1794, 'negal': 4755, 'nunt': 4966, 'marit': 4324, 'promotion': 5775, 'prinz': 5703, 'exceptand': 2506, 'stylus': 7041, 'dynamic': 2309, 'incercar': 3496, 'variet': 7779, 'nesimt': 4833, 'codit': 1381, 'twiter': 7566, 'ericson': 2438, 'recovery': 6027, 'fortat': 2865, 'indrag': 3581, 'chel': 1249, 'standard': 6913, 'usurint': 7722, 'opresc': 5084, 'next': 4860, 'song': 6804, 'oblig': 4990, 'nedetas': 4741, 'gestioneaz': 3059, 'sting': 6968, 'leut': 4090, 'seaman': 6500, 'umpic': 7634, 'scufund': 6479, 'ploai': 5490, 'picatur': 5385, 'avertiz': 660, 'ud': 7575, 'aprent': 452, 'daun': 1785, 'gresest': 3162, 'text': 7333, 'implic': 3419, 'cald': 1038, 'prelu': 5633, 'agende': 185, 'salvat': 6362, 'vanzat': 7767, 'jenant': 3938, 'afect': 160, 'ade': 118, 'fixat': 2772, 'incepand': 3492, 'vro': 7959, 'formateaz': 2857, 'help': 3254, 'temut': 7304, 'speriat': 6861, 'racest': 5891, 'pac': 5169, 'brusc': 945, 'chinui': 1270, 'is': 3899, 'boy': 911, 'moto': 4601, 'indragost': 3582, 'nav': 4695, 'spatial': 6834, 'xd': 8057, 'deviceur': 2012, 'plictis': 5478, 'pert': 5354, 'aliment': 258, 'rotunj': 6300, 'recept': 6004, 'vloger': 7915, 'gasisem': 3022, 'slabutz': 6721, 'ritm': 6266, 'cardiac': 1115, 'luam': 4207, 'distorsiun': 2147, 'temper': 7300, 'streaming': 7006, 'cals': 1054, 'notification': 4933, 'airdrop': 205, 'location': 4166, 'inafar': 3453, 'network': 4842, 'discovery': 2113, 'bump': 977, 'dublu': 2273, 'promptitudin': 5780, 'dovad': 2218, 'initializ': 3659, 'starting': 6923, 'resofteaz': 6156, 'istor': 3903, 'centr': 1207, 'simplific': 6673, 'dorint': 2209, 'notes': 4927, 'vanat': 7758, 'denot': 1888, 'nopt': 4911, 'reinstal': 6088, 'parint': 5229, 'redat': 6040, 'foc': 2821, 'usureaz': 7720, 'intretin': 3833, 'nuant': 4949, 'ocean': 5011, 'orient': 5130, 'knox': 3996, 'vechim': 7798, 'animat': 374, 'breton': 925, 'uau': 7572, 'nenumar': 4790, 'noroc': 4917, 'corp': 1615, 'frig': 2913, 'grosolan': 3183, 'fotografiez': 2881, 'patriot': 5271, 'caract': 1103, 'lizib': 4156, 'emis': 2396, 'rds': 5969, 'ilfov': 3361, 'buc': 955, 'vod': 7921, 'capat': 1086, 'amandou': 294, 'disting': 2144, 'intruc': 3842, 'fabricat': 2588, 'cotidian': 1630, 'lovest': 4196, 'intial': 3800, 'lucios': 4216, 'grip': 3174, 'textur': 7335, 'aderent': 121, 'spedtest': 6853, 'optimisation': 5098, 'dorm': 2211, 'treptat': 7515, 'incearc': 3489, 'sceptic': 6441, 'tensiun': 7308, 'bineanteles': 815, 'merget': 4422, 'intrerupt': 3831, 'impuls': 3441, 'micsoreaz': 4466, 'aleag': 241, 'lasand': 4038, 'deopart': 1897, 'prag': 5595, 'acelas': 32, 'lea': 4060, 'gur': 3198, 'car': 1101, 'percuteaz': 5312, 'mascat': 4340, 'sifon': 6650, 'obti': 5005, 'podcasts': 5510, 'insereaz': 3701, 'sertar': 6571, 'homescren': 3285, 'imbat': 3371, 'ping': 5413, 'this': 7354, 'intrar': 3818, 'poses': 5558, 'telfon': 7292, 'varstnic': 7783, 'serioas': 6567, 'known': 3995, 'isu': 3905, 'inchiz': 3513, 'murd': 4649, 'snapy': 6760, 'potential': 5574, 'urmand': 7696, 'rudimentar': 6313, 'qhd': 5875, 'ltpo': 4204, 'calum': 1056, 'zdruncin': 8100, 'bazai': 759, 'dram': 2237, 'widget': 8024, 'custom': 1747, 'afirm': 164, 'bagam': 689, 'gimick': 3081, 'modificar': 4566, 'oric': 5126, 'uram': 7679, 'work': 8039, 'plec': 5469, 'desatur': 1936, 'ciment': 1291, 'sfarsest': 6605, 'vulner': 7963, 'estim': 2455, 'cheltuiest': 1253, 'acentu': 40, 'particular': 5241, 'chip': 1274, 'bionic': 823, 'lucioas': 4215, 'concediu': 1476, 'miscor': 4530, 'ceram': 1214, 'shield': 6626, 'planui': 5446, 'show': 6638, 'rom': 6283, 'crangas': 1640, 'tentat': 7310, 'sincroniz': 6689, 'yaho': 8072, 'flagshipur': 2781, 'cuplat': 1719, 'monit': 4579, 'sosit': 6813, 'bonus': 896, 'ben': 779, 'anumt': 405, 'disponib': 2135, 'health': 3248, 'insel': 3696, 'compens': 1444, 'semintuner': 6533, 'ata': 574, 'lumi': 4229, 'soacr': 6766, 'citeasc': 1313, 'icoan': 3332, 'sugest': 7078, 'confirm': 1513, 'whats': 8008, 'depun': 1922, 'scam': 6421, 'citind': 1318, 'luand': 4208, 'scapar': 6429, 'policarbon': 5519, 'lichid': 4099, 'twilight': 7564, 'tind': 7377, 'team': 7249, 'surpriz': 7166, 'genius': 3048, 'factur': 2607, 'iat': 3328, 'menaj': 4404, 'pranz': 5599, 'traduc': 7451, 'amint': 320, 'degrab': 1859, 'coincident': 1383, 'recuper': 6036, 'matur': 4359, 'inteleget': 3755, 'inovat': 3675, 'echilibru': 2325, 'percep': 5310, 'umbli': 7622, 'comutand': 1473, 'incovenient': 3541, 'extrareduc': 2576, 'membr': 4399, 'pol': 5515, 'opus': 5109, 'oportun': 5080, 'conving': 1587, 'enumar': 2421, 'adapt': 109, 'implement': 3417, 'sud': 7066, 'coren': 1609, 'completar': 1451, 'mentin': 4409, 'prevaz': 5667, 'stabilizeaz': 6904, 'sfat': 6607, 'nelimit': 4775, 'depr': 1919, 'disp': 2120, 'receptor': 6006, 'debif': 1801, 'bifat': 808, 'curios': 1740, 'cuprin': 1721, 'mamai': 4279, 'city': 1322, 'mal': 4276, 'papuc': 5211, 'never': 4851, 'vapor': 7769, 'parc': 5221, 'tremur': 7508, 'aleger': 248, 'ft': 2930, 'grile': 3173, 'zenfon': 8105, 'costum': 1625, 'mainstr': 4268, 'quickmob': 5885, 'privit': 5715, 'ingrijor': 3651, 'ane': 364, 'lx': 4245, 'ebay': 2319, 'boking': 888, 'smecher': 6749, 'skype': 6715, 'expected': 2536, 'chilipir': 1263, 'rcs': 5967, 'inact': 3449, 'auzeam': 639, 'servit': 6581, 'negres': 4761, 'sintet': 6697, 'fulscren': 2939, 'vast': 7786, 'contruit': 1577, 'integral': 3748, 'incheietur': 3508, 'topit': 7422, 'profunzim': 5761, 'colet': 1391, 'saptamin': 6391, 'stresat': 7009, 'nemultumest': 4786, 'fuctioneaz': 2932, 'rateu': 5952, 'ratar': 5947, 'poco': 5506, 'kiler': 3985, 'electrowekend': 2378, 'codat': 1378, 'deceniu': 1815, 'mecanist': 4378, 'mecan': 4377, 'atarn': 576, 'tras': 7482, 'atip': 594, 'dongl': 2201, 'imprecis': 3430, 'snap': 6754, 'noi': 4903, 'tavit': 7242, 'lacas': 4006, 'biciclet': 805, 'manus': 4302, 'patest': 5265, 'echipe': 2328, 'instabil': 3718, 'desing': 1970, 'contracost': 1562, 'echivalent': 2331, 'qatar': 5873, 'simplitat': 6675, 'ezitat': 2585, 'lenes': 4081, 'cartof': 1132, 'yelow': 8077, 'demential': 1878, 'stabilizar': 6903, 'captur': 1099, 'deform': 1852, 'fer': 2685, 'markbek': 4326, 'busines': 989, 'remedier': 6107, 'punctulet': 5841, 'fulger': 2937, 'nush': 4967, 'achizitionar': 61, 'nimik': 4883, 'xaom': 8055, 'tiktok': 7366, 'optin': 5104, 'distorsioneaz': 2146, 'avion': 666, 'stres': 7007, 'casant': 1137, 'posib': 5562, 'impediment': 3407, 'acent': 39, 'blotw': 865, 'tampit': 7213, 'liber': 4094, 'decupaj': 1831, 'ziceam': 8125, 'ms': 4615, 'indor': 3580, 'proiect': 5765, 'hdmi': 3242, 'semnaliz': 6536, 'felicitar': 2674, 'vowif': 7945, 'influenteaz': 3622, 'shar': 6618, 'ned': 4739, 'sped': 6852, 'specialist': 6842, 'tactil': 7200, 'cauzeaz': 1169, 'chei': 1246, 'botloader': 907, 'autentific': 620, 'codur': 1382, 'filtrat': 2731, 'ard': 485, 'nefac': 4745, 'che': 1241, 'aprob': 459, 'trant': 7478, 'domen': 2192, 'hw': 3315, 'enerveaz': 2410, 'we': 7992, 'dont': 2202, 'ship': 6628, 'jobs': 3945, 'caramiz': 1108, 'iphonex': 3881, 'deodat': 1896, 'pasioneaz': 5249, 'postproces': 5570, 'stir': 6971, 'hotarast': 3295, 'tie': 7362, 'pastrat': 5255, 'revanz': 6211, 'inadmis': 3452, 'reincarc': 6082, 'rington': 6257, 'kingston': 3989, 'platinum': 5460, 'flawles': 2791, 'av': 644, 'mutar': 4661, 'nikon': 4876, 'compact': 1431, 'profit': 5758, 'ascund': 527, 'alerg': 250, 'ferm': 2695, 'scriet': 6472, 'recunost': 6035, 'amar': 297, 'ianuar': 3322, 'farmec': 2640, 'inov': 3674, 'rist': 6265, 'suprinz': 7146, 'ari': 497, 'acesib': 45, 'talk': 7210, 'arder': 487, 'actualizeaz': 92, 'vizionand': 7909, 'vai': 7747, 'facilit': 2602, 'chef': 1245, 'rezum': 6245, 'ghz': 3076, 'secundar': 6512, 'gan': 3001, 'covid': 1635, 'optional': 5106, 'insuficient': 3734, 'achizion': 57, 'neconcep': 4732, 'tre': 7490, 'deblocheaz': 1809, 'glis': 3089, 'monstru': 4586, 'neoptimiz': 4797, 'anticip': 392, 'prem': 5639, 'reglaj': 6070, 'dsrl': 2258, 'central': 1208, 'lift': 4105, 'dbi': 1790, 'judecand': 3963, 'vinov': 7879, 'ramin': 5915, 'cartier': 1131, 'hotarasc': 3294, 'suportand': 7120, 'featur': 2662, 'third': 7353, 'party': 5244, 'printat': 5701, 'record': 6024, 'instaleaz': 3724, 'previn': 5670, 'verificar': 7823, 'server': 6574, 'goglefier': 3111, 'gms': 3104, 'raspundet': 5939, 'bombat': 893, 'aod': 409, 'munt': 4647, 'aveau': 655, 'considerent': 1531, 'bec': 771, 'desprins': 1977, 'auzeau': 640, 'citez': 1317, 'personaj': 5349, 'brasov': 917, 'plimbat': 5483, 'skil': 6710, 'arta': 510, 'raifeisen': 5905, 'invest': 3860, 'lip': 4131, 'polit': 5523, 'rigid': 6252, 'sudur': 7067, 'sofw': 6788, 'mont': 4587, 'sh': 6616, 'functionar': 2949, 'furtun': 2967, 'iso': 3902, 'fictiv': 2709, 'exprim': 2558, 'pagub': 5182, 'scaz': 6435, 'incompar': 3531, 'ograd': 5036, 'as': 517, 'moco': 4554, 'nat': 4689, 'softur': 6786, 'jen': 3937, 'nm': 4895, 'exorbit': 2533, 'ear': 2311, 'fic': 2707, 'inca': 3463, 'hey': 3261, 'investest': 3862, 'asum': 571, 'dispus': 2140, 'culm': 1693, 'editat': 2354, 'superamoled': 7102, 'skin': 6711, 'switch': 7183, 'schimbar': 6447, 'rev': 6209, 'smartwatch': 6746, 'intention': 3763, 'nai': 4672, 'obisnuint': 4988, 'interstelar': 3793, 'grey': 3167, 'frumuset': 2924, 'gren': 3155, 'pasiun': 5250, 'kit': 3991, 'suplimentar': 7115, 'inci': 3514, 'roaming': 6272, 'history': 3272, 'copiez': 1599, 'rusin': 6334, 'old': 5047, 'caf': 1026, 'licent': 4098, 'precizeaz': 5613, 'sarcin': 6399, 'vestit': 7841, 'popular': 5536, 'caror': 1124, 'bip': 824, 'inseal': 3694, 'dezlipest': 2038, 'inlocuiest': 3670, 'adept': 120, 'ascunz': 529, 'autoriz': 633, 'snapchat': 6755, 'studio': 7029, 'canal': 1069, 'inbunat': 3461, 'romanest': 6286, 'duos': 2287, 'breaker': 923, 'vinzat': 7881, 'explod': 2551, 'trebur': 7500, 'feream': 2687, 'camas': 1058, 'nanos': 4680, 'procedur': 5734, 'birocrat': 827, 'micros': 4458, 'incalc': 3466, 'chit': 1278, 'rafin': 5902, 'nuantat': 4950, 'dand': 1775, 'aflu': 176, 'suprasolicit': 7139, 'josnic': 3953, 'imprumut': 3440, 'dependent': 1909, 'esuat': 2460, 'conserv': 1526, 'prudent': 5815, 'cobor': 1375, 'diagonal': 2048, 'stocur': 6980, 'chichit': 1261, 'corecteaz': 1606, 'insign': 3706, 'returur': 6204, 'imperfectiun': 3411, 'experiment': 2545, 'aseaz': 533, 'norm': 4914, 'platan': 5454, 'frost': 2920, 'trasnfer': 7485, 'pixels': 5430, 'nit': 4889, 'matepro': 4354, 'supercharg': 7104, 'unlock': 7661, 'kfps': 3980, 'portabil': 5546, 'mou': 4607, 'export': 2555, 'televizor': 7289, 'apkpur': 435, 'amazon': 301, 'virgul': 7887, 'revol': 6224, 'slowmotion': 6732, 'matebok': 4353, 'sharing': 6619, 'abord': 8, 'regasest': 6065, 'incolor': 3527, 'cinstit': 1298, 'discord': 2111, 'prelucr': 5635, 'sans': 6382, 'consid': 1527, 'salt': 6358, 'numit': 4964, 'inspirat': 3715, 'com': 1402, 'nefunctional': 4753, 'pf': 5368, 'blackbery': 837, 'scoal': 6451, 'descarcand': 1939, 'brichet': 927, 'mor': 4590, 'apgalery': 432, 'oficial': 5032, 'ingreun': 3648, 'ocolisur': 5018, 'compas': 1440, 'goal': 3108, 'amplif': 335, 'bubui': 953, 'dezactiveaz': 2019, 'niv': 4892, 'displ': 2127, 'mov': 4608, 'ansambl': 382, 'dotat': 2214, 'antireflex': 394, 'ordinar': 5117, 'defocaliz': 1851, 'defecteaz': 1843, 'voltaj': 7930, 'rail': 5906, 'desprind': 1976, 'reglat': 6071, 'decalibr': 1811, 'moch': 4553, 'brum': 944, 'bumber': 976, 'bajbai': 696, 'eroic': 2440, 'chix': 1280, 'cascat': 1140, 'timpur': 7373, 'indi': 3564, 'robustet': 6277, 'inadecv': 3451, 'agreat': 192, 'spulber': 6890, 'deplor': 1916, 'curs': 1742, 'obos': 4993, 'insot': 3711, 'umplut': 7639, 'blameaz': 840, 'marketplac': 4329, 'rezolvar': 6241, 'zadar': 8090, 'proced': 5733, 'inegrest': 3602, 'ceat': 1184, 'telfoan': 7291, 'versus': 7832, 'security': 6514, 'sfe': 6611, 'pozitionar': 5591, 'gaur': 3025, 'presimt': 5650, 'rezistente': 6235, 'overheating': 5160, 'cauzat': 1168, 'screntim': 6466, 'difuzoru': 2071, 'acorz': 77, 'involuntar': 3869, 'chinuial': 1271, 'problemat': 5727, 'campan': 1066, 'ateriz': 587, 'crapatur': 1643, 'strun': 7024, 'androidur': 361, 'hapy': 3226, 'drumur': 2253, 'portofel': 5552, 'patisem': 5267, 'ajun': 210, 'targ': 7224, 'comerc': 1418, 'pos': 5556, 'spirt': 6867, 'pung': 5847, 'gem': 3040, 'scoas': 6452, 'cursiv': 1743, 'uzur': 7742, 'mesanger': 4432, 'sacrific': 6347, 'cv': 1759, 'umflat': 7630, 'teap': 7253, 'overated': 5157, 'copi': 1595, 'folder': 2830, 'cre': 1649, 'cuiv': 1690, 'intram': 3817, 'gasir': 3021, 'bai': 692, 'boal': 879, 'tripl': 7528, 'umbland': 7619, 'bunisor': 982, 'ingroz': 3653, 'aragaz': 479, 'nepract': 4806, 'caramid': 1107, 'neam': 4713, 'grot': 3185, 'pariu': 5230, 'distract': 2149, 'bata': 736, 'local': 4161, 'stradui': 6990, 'bruiaj': 941, 'promoveaz': 5778, 'qr': 5877, 'promov': 5777, 'option': 5105, 'purt': 5855, 'retro': 6197, 'dolphin': 2191, 'playstor': 5466, 'mec': 4376, 'round': 6301, 'controler': 1574, 'flam': 2783, 'ditam': 2156, 'forz': 2871, 'ringk': 6256, 'antic': 390, 'upload': 7678, 'vitoar': 7899, 'dimpotr': 2088, 'block': 859, 'bixb': 831, 'ignor': 3358, 'puct': 5823, 'incetinest': 3501, 'magsaf': 4261, 'confund': 1518, 'izol': 3926, 'provenient': 5807, 'dubioas': 2267, 'hype': 3317, 'lacrim': 4008, 'arde': 486, 'strain': 6993, 'scrind': 6473, 'indat': 3550, 'suger': 7076, 'santier': 6385, 'padur': 5179, 'doc': 2179, 'citisem': 1320, 'majuscul': 4272, 'despart': 1974, 'gentut': 3051, 'redirection': 6046, 'sedint': 6518, 'cumparatur': 1706, 'dezamagir': 2023, 'canc': 1071, 'frebuds': 2900, 'zangan': 8094, 'scutur': 6493, 'pies': 5405, 'sup': 7099, 'amprente': 341, 'baietel': 695, 'tach': 7196, 'marisor': 4323, 'peroan': 5342, 'neobisnu': 4793, 'ulefon': 7600, 'research': 6146, 'setasem': 6590, 'micsor': 4465, 'comut': 1472, 'optez': 5095, 'slider': 6725, 'migr': 4475, 'snur': 6764, 'migrat': 4476, 'parfum': 5228, 'chemat': 1255, 'tax': 7243, 'cant': 1077, 'clip': 1356, 'sync': 7186, 'logar': 4176, 'ko': 3997, 'pop': 5533, 'exchang': 2509, 'certat': 1224, 'ambal': 302, 'strivit': 7017, 'divais': 2158, 'locuit': 4172, 'ultiliz': 7604, 'celal': 1191, 'cosmar': 1621, 'abstract': 17, 'faptu': 2638, 'tracking': 7445, 'tracker': 7444, 'aflam': 172, 'incadreaz': 3465, 'plimbar': 5482, 'cluj': 1366, 'napoc': 4681, 'insistent': 3709, 'avans': 649, 'xi': 8059, 'bijuter': 812, 'costis': 1624, 'echipeaz': 2329, 'rezultand': 6244, 'urca': 7685, 'sky': 6714, 'avi': 663, 'iph': 3876, 'dvs': 2306, 'palpai': 5193, 'intermitent': 3785, 'lipsit': 4141, 'sughitur': 7080, 'pa': 5168, 'putand': 5861, 'pregatest': 5629, 'airpod': 207, 'sua': 7043, 'glovo': 3099, 'fod': 2827, 'pand': 5198, 'evolu': 2489, 'pierder': 5400, 'sesizar': 6585, 'retun': 6199, 'alteor': 272, 'repaus': 6122, 'echip': 2326, 'imbunatar': 3382, 'downgrad': 2223, 'wap': 7974, 'bulin': 973, 'subacvat': 7044, 'oreo': 5119, 'taskur': 7230, 'aseaman': 531, 'verit': 7825, 'selfiur': 6527, 'zambet': 8093, 'inebun': 3595, 'htps': 3306, 'po': 5500, 'co': 1369, 'tb': 7247, 'stoch': 6978, 'spal': 6822, 'ochiur': 5015, 'gul': 3195, 'later': 4044, 'privir': 5714, 'cercetar': 1217, 'avut': 669, 'concur': 1488, 'sricl': 6896, 'indeman': 3555, 'dac': 1763, 'icon': 3333, 'reactiv': 5975, 'montat': 4588, 'fetit': 2699, 'oarb': 4971, 'majoritar': 4271, 'expir': 2547, 'dumnezeu': 2282, 'tiuit': 7400, 'seteaz': 6592, 'mes': 4426, 'considerand': 1529, 'luas': 4211, 'readus': 5980, 'apr': 447, 'phantom': 5371, 'expedier': 2538, 'polon': 5525, 'etans': 2463, 'clapet': 1335, 'pentr': 5301, 'imers': 3393, 'circulat': 1307, 'international': 3788, 'rus': 6332, 'schem': 6443, 'cd': 1175, 'kaios': 3974, 'etichet': 2468, 'nul': 4956, 'clipboard': 1357, 'replic': 6128, 'past': 5251, 'doved': 2219, 'cinemat': 1296, 'optimizeaz': 5101, 'economiseasc': 2336, 'peoblem': 5307, 'ux': 7735, 'demod': 1881, 'tineret': 7382, 'smarthphon': 6739, 'gmaps': 3103, 'evalu': 2477, 'promo': 5773, 'plecat': 5471, 'ulterioar': 7602, 'rentabil': 6114, 'demo': 1880, 'asimetr': 546, 'centrat': 1209, 'rectificar': 6029, 'specificat': 6846, 'balans': 702, 'exec': 2516, 'permitet': 5341, 'ipad': 3875, 'signal': 6654, 'ramanand': 5910, 'regres': 6074, 'familiariz': 2627, 'netu': 4841, 'recomad': 6013, 'mereg': 4419, 'retin': 6190, 'comportament': 1458, 'pozat': 5585, 'retrag': 6194, 'imbunatatest': 3385, 'friendly': 2912, 'brawl': 921, 'stars': 6921, 'clash': 1345, 'royal': 6305, 'nedescris': 4740, 'focuseaz': 2826, 'incetos': 3503, 'cest': 1229, 'floating': 2802, 'butons': 1000, 'situr': 6708, 'delayur': 1866, 'rotir': 6297, 'orizontal': 5136, 'rotest': 6296, 'zen': 8104, 'intorc': 3811, 'umar': 7616, 'recording': 6026, 'dial': 2049, 'dialer': 2050, 'alo': 260, 'raritat': 5931, 'ambiental': 308, 'var': 7770, 'imx': 3445, 'inghesui': 3642, 'sfint': 6614, 'furnizor': 2966, 'caru': 1134, 'tastat': 7233, 'voic': 7925, 'fascin': 2644, 'rama': 5908, 'nemisc': 4784, 'miscat': 4529, 'umbra': 7624, 'pred': 5618, 'pitch': 5423, 'celel': 1196, 'vital': 7896, 'achizitionand': 60, 'ferest': 2691, 'calm': 1051, 'barat': 724, 'iel': 3348, 'pet': 5361, 'dreptungh': 2245, 'brightnes': 929, 'outdor': 5152, 'static': 6926, 'layout': 4056, 'dreptunghiular': 2246, 'intervent': 3796, 'persist': 5346, 'lighting': 4108, 'out': 5150, 'busit': 990, 'scarpin': 6432, 'clock': 1361, 'creasc': 1652, 'trezeasc': 7517, 'vecin': 7801, 'blocur': 861, 'cread': 1650, 'asit': 549, 'som': 6800, 'turn': 7557, 'balar': 704, 'lock': 4167, 'saf': 6349, 'preajm': 5602, 'raz': 5962, 'metr': 4441, 'insuport': 3735, 'midl': 4469, 'oftic': 5034, 'stufos': 7033, 'variante': 7776, 'detaliz': 1990, 'antivirus': 397, 'palme': 5192, 'intrun': 3843, 'furniz': 2964, 'ian': 3321, 'variabil': 7773, 'hrz': 3302, 'iesind': 3354, 'subtir': 7059, 'amplasar': 334, 'atingand': 591, 'cincizec': 1294, 'rol': 6281, 'auzindu': 641, 'pricin': 5679, 'panel': 5200, 'vibrant': 7852, 'smartphoneur': 6742, 'monocrom': 4584, 'netez': 4839, 'imen': 3391, 'deoarc': 1892, 'agrez': 195, 'titlur': 7398, 'perlat': 5335, 'stint': 6970, 'virtual': 7889, 'win': 8030, 'reved': 6212, 'incapataneaz': 3476, 'aparit': 417, 'fenomenal': 2683, 'frustrat': 2929, 'reinvent': 6093, 'reception': 6005, 'ratat': 5948, 'trim': 7523, 'scriam': 6468, 'argument': 492, 'provocar': 5811, 'eh': 2370, 'favoar': 2654, 'ined': 3598, 'sistem': 6701, 'sansung': 6383, 'excel': 2500, 'asfalt': 539, 'repriz': 6137, 'word': 8038, 'grosut': 3184, 'regaseasc': 6064, 'umplet': 7636, 'ghinionist': 3072, 'indepart': 3557, 'expandabl': 2535, 'warp': 7977, 'crop': 1682, 'filtr': 2730, 'photo': 5375, 'cromat': 1679, 'cand': 1073, 'protejeaz': 5805, 'transmis': 7473, 'taiat': 7202, 'cumparandu': 1703, 'intent': 3762, 'somn': 6802, 'conferint': 1507, 'consecint': 1524, 'frustrant': 2927, 'era': 2431, 'lol': 4183, 'cheap': 1243, 'leather': 4064, 'siteur': 6704, 'optimizar': 5100, 'wired': 8032, 'alien': 257, 'surfac': 7153, 'golf': 3117, 'vec': 7796, 'sedg': 6517, 'suround': 7157, 'relief': 6100, 'tipur': 7394, 'calific': 1047, 'confrunt': 1517, 'infatis': 3610, 'ebod': 2320, 'wtp': 8052, 'bos': 901, 'eva': 2476, 'dsfa': 2255, 'abtinet': 21, 'straduint': 6991, 'igo': 3359, 'satel': 6407, 'pna': 5499, 'mio': 4512, 'ecou': 2343, 'stiat': 6954, 'vrand': 7949, 'uitandu': 7594, 'specs': 6847, 'glitch': 3093, 'just': 3971, 'scanat': 6424, 'fiecar': 2712, 'insor': 3710, 'pretios': 5663, 'felicit': 2673, 'debitat': 1803, 'uman': 7615, 'updateur': 7673, 'stev': 6950, 'down': 2222, 'combo': 1410, 'dualism': 2261, 'giumbuslucur': 3085, 'clasrom': 1347, 'met': 4436, 'auror': 616, 'sporad': 6878, 'inserted': 3703, 'defapt': 1839, 'deconect': 1826, 'provider': 5808, 'telecomunic': 7270, 'prelung': 5637, 'impac': 3400, 'domest': 2194, 'scar': 6431, 'sarit': 6400, 'pliaz': 5475, 'culc': 1691, 'stick': 6957, 'gsmaren': 3191, 'criz': 1675, 'cipur': 1303, 'franar': 2891, 'elev': 2384, 'ajungand': 212, 'flor': 2804, 'san': 6378, 'functionand': 2948, 'comparand': 1435, 'trecet': 7504, 'nonstop': 4909, 'bitdefender': 830, 'fre': 2899, 'cursor': 1744, 'horizon': 3290, 'sport': 6880, 'costumiz': 1626, 'oricand': 5127, 'capacity': 1085, 'xz': 8071, 'tlf': 7403, 'injur': 3663, 'golesc': 3115, 'carn': 1123, 'inspre': 3716, 'sensor': 6550, 'adeseor': 122, 'flashgip': 2788, 'detriment': 2003, 'trus': 7543, 'carkit': 1121, 'volan': 7928, 'geant': 3036, 'intep': 3764, 'energy': 2408, 'raspunz': 5942, 'intreab': 3820, 'betl': 795, 'unicorn': 7653, 'restrans': 6174, 'usbc': 7708, 'uk': 7598, 'domiciliu': 2195, 'telu': 7294, 'sept': 6560, 'faiant': 2613, 'cur': 1725, 'observat': 5002, 'patch': 5260, 'submers': 7052, 'doarec': 2174, 'atention': 585, 'cec': 1185, 'fur': 2961, 'valor': 7754, 'intelectual': 3753, 'pakistan': 5186, 'neconform': 4734, 'uzin': 7740, 'burning': 986, 'nor': 4912, 'distrus': 2154, 'supraexpun': 7124, 'feme': 2679, 'tefon': 7262, 'vertu': 7834, 'neserioz': 4830, 'achit': 54, 'fraz': 2898, 'status': 6930, 'vrajeal': 7947, 'apropier': 462, 'enhancer': 2414, 'jurat': 3969, 'livrar': 4153, 'crezand': 1668, 'transmit': 7474, 'identific': 3341, 'aplec': 438, 'animal': 373, 'algoritm': 256, 'analizeaz': 349, 'horor': 3291, 'minusc': 4508, 'pedeps': 5289, 'afisaj': 167, 'calibru': 1045, 'londr': 4184, 'ras': 5932, 'stimat': 6966, 'internal': 3787, 'deficient': 1847, 'apartin': 420, 'manager': 4284, 'partaj': 5235, 'cifr': 1290, 'extens': 2565, 'destinatar': 1983, 'identif': 3340, 'nest': 4836, 'scrier': 6471, 'chestiun': 1259, 'nast': 4688, 'aniversar': 377, 'anivers': 376, 'atuc': 605, 'nascut': 4684, 'devrem': 2015, 'plut': 5496, 'instaland': 3721, 'tert': 7325, 'resoft': 6155, 'loud': 4192, 'rea': 5971, 'trafic': 7454, 'in': 3446, 'trebu': 7496, 'dezamageasc': 2021, 'inexistent': 3608, 'purpl': 5854, 'aur': 614, 'promotional': 5776, 'scum': 6482, 'intermin': 3784, 'rautac': 5959, 'ozn': 5166, 'reluat': 6102, 'watsup': 7986, 'instalar': 3722, 'rivalizeaz': 6268, 'pano': 5203, 'slomo': 6727, 'batier': 747, 'nasoal': 4685, 'alambic': 224, 'hisuit': 3273, 'transf': 7467, 'copier': 1598, 'miercur': 4473, 'interferent': 3776, 'avandu': 648, 'conjuctur': 1520, 'sapataman': 6387, 'orchid': 5115, 'gray': 3150, 'bogat': 884, 'latim': 4046, 'lauz': 4055, 'curb': 1730, 'lipseasc': 4139, 'caliat': 1043, 'mototol': 4606, 'ter': 7315, 'dim': 2078, 'oglind': 5035, 'scut': 6490, 'evolut': 2491, 'pctel': 5281, 'nougat': 4936, 'iarb': 3325, 'fals': 2624, 'fenomen': 2682, 'patet': 5266, 'oe': 5026, 'pers': 5345, 'functionaz': 2950, 'deshis': 1963, 'metaliz': 4438, 'balb': 705, 'afirmat': 165, 'sesiun': 6583, 'leag': 4061, 'aspectu': 554, 'controver': 1575, 'aranjament': 482, 'naturalet': 4694, 'infrumuseteaz': 3633, 'infrumuset': 3632, 'telephoto': 7286, 'honest': 3286, 'obsed': 4999, 'inlocuiasc': 3669, 'walkman': 7969, 'initier': 3660, 'dinspr': 2096, 'decup': 1830, 'treim': 7506, 'wek': 7999, 'osmand': 5140, 'emoj': 2399, 'catel': 1155, 'spigen': 6863, 'pong': 5532, 'laptopur': 4033, 'uzat': 7738, 'societ': 6776, 'depinzand': 1911, 'fun': 2942, 'fornit': 2863, 'individual': 3571, 'moreaps': 4592, 'instint': 3731, 'bibelou': 803, 'refac': 6053, 'imposib': 3424, 'stability': 6901, 'stupid': 7035, 'apn': 446, 'portat': 5547, 'pocophon': 5508, 'razgand': 5964, 'coleg': 1389, 'condition': 1494, 'octacor': 5021, 'flip': 2800, 'apropa': 461, 'chiuvet': 1279, 'functionez': 2952, 'conced': 1475, 'togl': 7411, 'series': 6566, 'sectiun': 6509, 'raspunsur': 5941, 'wearabl': 7994, 'del': 1864, 'request': 6143, 'doarm': 2175, 'oarec': 4972, 'taietur': 7205, 'rutin': 6338, 'curenteaz': 1736, 'acuratet': 99, 'fingerprint': 2745, 'tradit': 7449, 'aqu': 474, 'pastil': 5253, 'master': 4348, 'nelamur': 4774, 'visat': 7892, 'phablet': 5370, 'air': 203, 'drop': 2249, 'agres': 194, 'bland': 842, 'trad': 7446, 'mark': 4325, 'aloc': 261, 'speker': 6854, 'modelu': 4558, 'glisat': 3091, 'reno': 6112, 'negas': 4756, 'ambi': 305, 'bk': 834, 'electronics': 2377, 'angaj': 367, 'neag': 4709, 'strans': 7001, 'vizit': 7911, 'lif': 4104, 'unboxing': 7644, 'inscript': 3691, 'setl': 6596, 'manevreaz': 4292, 'kg': 3981, 'eron': 2441, 'surprin': 7162, 'axat': 674, 'apart': 418, 'wher': 8015, 'things': 7350, 'insan': 3689, 'prec': 5605, 'industr': 3593, 'gpu': 3129, 'adreno': 140, 'lik': 4111, 'sacai': 6344, 'style': 7039, 'adolescent': 134, 'infect': 3611, 'omis': 5055, 'coad': 1370, 'dimension': 2079, 'alert': 251, 'conturur': 1579, 'meteo': 4439, 'supraevalu': 7123, 'dep': 1901, 'cf': 1231, 'telur': 7295, 'pitic': 5424, 'suprasolic': 7138, 'incarcandu': 3483, 'existand': 2530, 'indoieln': 3577, 'sic': 6646, 'pink': 5414, 'mods': 4568, 'mpix': 4612, 'jbl': 3934, 'suberb': 7046, 'circl': 1305, 'intret': 3832, 'expert': 2546, 'audit': 611, 'efectueaz': 2360, 'infund': 3634, 'saracu': 6396, 'flat': 2790, 'tur': 7552, 'rud': 6312, 'fold': 2829, 'partial': 5238, 'afiseaz': 170, 'superfast': 7105, 'microfoan': 4453, 'bab': 678, 'botom': 909, 'astui': 570, 'hold': 3282, 'tai': 7201, 'analizand': 348, 'inten': 3760, 'saturated': 6413, 'fitos': 2767, 'umil': 7633, 'inrait': 3681, 'suspect': 7172, 'sediu': 6519, 'drac': 2232, 'infim': 3617, 'ruland': 6320, 'rift': 6250, 'grid': 3169, 'autosport': 634, 'prietene': 5682, 've': 7795, 'botlop': 908, 'persoane': 5348, 'miniatur': 4495, 'deraneaz': 1924, 'sat': 6406, 'aplepay': 439, 'becur': 774, 'incadr': 3464, 'moned': 4577, 'descifr': 1946, 'adik': 126, 'oleac': 5048, 'spre': 6886, 'ledur': 4070, 'faim': 2616, 'iron': 3897, 'mask': 4345, 'inspaimant': 3712, 'stind': 6967, 'stiau': 6955, 'ace': 26, 'alon': 263, 'crat': 1648, 'estimeaz': 2457, 'vanil': 7763, 'nervos': 4824, 'minimum': 4500, 'king': 3988, 'angli': 369, 'umblu': 7623, 'monitoriz': 4580, 'andur': 363, 'performan': 5323, 'lasam': 4037, 'abuz': 23, 'desir': 1971, 'afac': 157, 'petard': 5364, 'amuz': 344, 'furnizeaz': 2965, 'amperaj': 331, 'load': 4158, 'ciudaten': 1326, 'multicolor': 4630, 'grand': 3141, 'reducer': 6050, 'predecesor': 5620, 'incuraj': 3548, 'credit': 1661, 'vindet': 7877, 'urmas': 7699, 'piete': 5407, 'muleaz': 4627, 'faimoas': 2617, 'menu': 4415, 'masoar': 4346, 'vanzar': 7766, 'felic': 2672, 'thank': 7339, 'blaster': 843, 'inzestr': 3870, 'necaz': 4723, 'ciob': 1299, 'amiaz': 317, 'umplu': 7638, 'dxomark': 2308, 'vio': 7882, 'rupt': 6330, 'vr': 7946, 'oke': 5044, 'oukitel': 5149, 'combin': 1407, 'evolveo': 2492, 'treapt': 7493, 'simplist': 6674, 'dadeau': 1769, 'imprec': 3429, 'firav': 2751, 'manipul': 4297, 'comfort': 1426, 'clean': 1349, 'glosy': 3098, 'sharp': 6620, 'execut': 2519, 'liquid': 4143, 'indoial': 3575, 'loter': 4190, 'tol': 7414, 'plan': 5437, 'nightmod': 4875, 'deviat': 2009, 'brow': 936, 'peisaj': 5292, 'buburuz': 954, 'obisnuiasc': 4986, 'panic': 5202, 'dramat': 2238, 'prioritat': 5704, 'rational': 5957, 'pantof': 5207, 'roch': 6278, 'simbol': 6663, 'certific': 1225, 'nereus': 4820, 'deplasar': 1914, 'atribu': 603, 'vait': 7748, 'referint': 6055, 'nesesiz': 4831, 'inteleapt': 3752, 'vopsit': 7935, 'updatur': 7674, 'hal': 3210, 'comercial': 1419, 'poart': 5501, 'catastrof': 1151, 'stam': 6910, 'basic': 733, 'fashion': 2645, 'days': 1789, 'formid': 2860, 'economizor': 2339, 'oh': 5038, 'voastr': 7918, 'cloneaz': 1364, 'modic': 4563, 'use': 7710, 'breathing': 924, 'crystal': 1686, 'inain': 3454, 'suit': 7081, 'etern': 2467, 'iti': 3910, 'dp': 2226, 'incaper': 3477, 'diginet': 2075, 'pom': 5528, 'cumparatil': 1705, 'murdar': 4650, 'backround': 682, 'autodesk': 625, 'wot': 8045, 'mo': 4545, 'multiplayer': 4635, 'map': 4304, 'hybrid': 3316, 'bagar': 690, 'curcubeu': 1734, 'ipocr': 3883, 'plasm': 5451, 'do': 2169, 'incind': 3516, 'amarn': 298, 'tineam': 7379, 'vizib': 7906, 'provoc': 5810, 'flickering': 2798, 'diming': 2085, 'content': 1553, 'context': 1555, 'inrol': 3687, 'ro': 6270, 'fumur': 2941, 'compliant': 1454, 'curioas': 1739, 'fil': 2721, 'ads': 143, 'cantarest': 1079, 'cinc': 1292, 'jaf': 3928, 'inec': 3597, 'minimalist': 4498, 'oferte': 5030, 'rapiz': 5924, 'solicitar': 6795, 'art': 509, 'particip': 5239, 'politic': 5524, 'rols': 6282, 'royc': 6306, 'watsap': 7985, 'opt': 5090, 'vou': 7943, 'swich': 7179, 'beats': 768, 'demonstr': 1882, 'stralucest': 6996, 'ape': 425, 'aceseaz': 44, 'certificar': 1226, 'agas': 181, 'ieseam': 3352, 'tandar': 7217, 'aftermarket': 179, 'invart': 3853, 'albe': 232, 'uie': 7586, 'cort': 1617, 'acident': 68, 'mater': 4355, 'oricar': 5128, 'absurd': 18, 'schim': 6444, 'agreg': 193, 'strop': 7020, 'dotdisplay': 2215, 'densitat': 1889, 'bit': 829, 'adaptivesync': 112, 'carcotas': 1113, 'praj': 5597, 'mintit': 4504, 'defin': 1850, 'indeplin': 3559, 'snak': 6753, 'impartas': 3404, 'pinterest': 5415, 'rd': 5968, 'rei': 6078, 'troncan': 7535, 'anormal': 379, 'obtiun': 5008, 'marir': 4322, 'stramt': 6999, 'oua': 5148, 'genshin': 3049, 'gameplay': 2996, 'puses': 5858, 'manifest': 4295, 'realizeaz': 5987, 'altminter': 278, 'introducet': 3839, 'probat': 5722, 'consult': 1545, 'sint': 6696, 'reticent': 6188, 'telecomenz': 7269, 'renault': 6110, 'iuliu': 3919, 'maniu': 4298, 'sumar': 7085, 'improvement': 3439, 'if': 3357, 'had': 3206, 'saturat': 6412, 'stears': 6937, 'last': 4041, 'earth': 2313, 'calofduty': 1052, 'version': 7829, 'hertz': 3258, 'beneficiez': 786, 'mixt': 4539, 'patern': 5263, 'inser': 3700, 'samsungur': 6375, 'volumin': 7932, 'cantitat': 1080, 'indeajuns': 3551, 'blocar': 852, 'neclar': 4730, 'licar': 4097, 'acesoriz': 48, 'deterioreaz': 1997, 'repejor': 6125, 'nepot': 4804, 'concureaz': 1489, 'superficial': 7106, 'intreband': 3823, 'spontan': 6876, 'bunut': 983, 'apartament': 419, 'comunist': 1470, 'chibritur': 1260, 'fontur': 2846, 'moal': 4546, 'plier': 5480, 'pliul': 5488, 'pliabil': 5473, 'neschimb': 4827, 'reintroduc': 6092, 'universal': 7660, 'socoteal': 6777, 'gr': 3130, 'permitand': 5340, 'suprapret': 7133, 'umblam': 7618, 'impun': 3442, 'sobru': 6770, 'pofid': 5511, 'radic': 5899, 'aminteasc': 321, 'incetinir': 3502, 'desfac': 1961, 'achition': 55, 'cos': 1619, 'interfete': 3778, 'eficac': 2361, 'partit': 5243, 'miez': 4474, 'fal': 2621, 'sesizeaz': 6586, 'electr': 2375, 'valoareaz': 7753, 'comaparat': 1405, 'aman': 292, 'deced': 1813, 'spet': 6862, 'reamintest': 5991, 'roblox': 6273, 'blototh': 864, 'shockur': 6631, 'finaliz': 2736, 'reporneasc': 6130, 'scobit': 6455, 'garen': 3011, 'clans': 1333, 'cheltuiasc': 1252, 'aver': 657, 'cumpat': 1707, 'prime': 5686, 'xiom': 8063, 'prisosint': 5708, 'aflandu': 173, 'discharging': 2107, 'conecting': 1501, 'disconecting': 2109, 'rapidly': 5923, 'updad': 7668, 'cuprind': 1722, 'utiz': 7731, 'anim': 372, 'flexibil': 2795, 'handed': 3217, 'at': 573, 'conected': 1500, 'hyperlap': 3318, 'opta': 5091, 'cardinal': 1116, 'bot': 905, 'lop': 4187, 'softu': 6785, 'umple': 7635, 'adanc': 103, 'report': 6133, 'gp': 3126, 'pod': 5509, 'diferentiez': 2064, 'medic': 4385, 'naked': 4676, 'parchet': 5222, 'ochiu': 5014, 'carl': 1122, 'zeis': 8103, 'rigoar': 6253, 'fixeaz': 2773, 'blackfriday': 838, 'otel': 5143, 'dam': 1774, 'propun': 5794, 'specializ': 6843, 'induc': 3589, 'stapan': 6919, 'ale': 240, 'racit': 5895, 'mix': 4537, 'nodur': 4902, 'concentr': 1477, 'lig': 4106, 'hack': 3205, 'national': 4690, 'nok': 4906, 'stim': 6965, 'sigl': 6653, 'zgir': 8118, 'vietn': 7869, 'usurel': 7721, 'lau': 4049, 'puneau': 5844, 'facusem': 2610, 'plans': 5444, 'inconfort': 3535, 'crez': 1667, 'reclame': 6010, 'tat': 7237, 'gresel': 3161, 'matuit': 4358, 'curaj': 1726, 'ocolest': 5017, 'riscat': 6262, 'dezmint': 2040, 'pes': 5357, 'stilat': 6963, 'catifel': 1158, 'pretu': 5664, 'derul': 1932, 'butonu': 1001, 'primu': 5692, 'choic': 1281, 'otg': 5145, 'info': 3623, 'tradat': 7447, 'swift': 7180, 'key': 3978, 'apx': 473, 'tabar': 7189, 'deblocar': 1807, 'cear': 1180, 'fis': 2761, 'redeschid': 6042, 'mentionand': 4412, 'neser': 4829, 'captat': 1096, 'fosnet': 2872, 'iliz': 3362, 'rind': 6255, 'symbian': 7185, 'debloat': 1804, 'airplan': 206, 'masculin': 4342, 'contribui': 1571, 'vedeam': 7804, 'hardcor': 3228, 'worth': 8044, 'duals': 2262, 'retele': 6186, 'desigil': 1964, 'liniar': 4124, 'copert': 1594, 'huse': 3313, 'fant': 2634, 'acele': 33, 'penultim': 5306, 'protection': 5800, 'concord': 1486, 'recuperar': 6037, 'cedez': 1188, 'obosest': 4996, 'capt': 1095, 'aleatoriu': 245, 'cinst': 1297, 'multimed': 4633, 'extraodinar': 2573, 'raportandu': 5926, 'sumeden': 7087, 'pres': 5647, 'performeaz': 5326, 'hain': 3209, 'socru': 6778, 'rubric': 6310, 'exagerar': 2496, 'fundalur': 2956, 'percept': 5311, 'decidet': 1819, 'celuilalt': 1201, 'austr': 617, 'gdpr': 3031, 'transform': 7470, 'beauty': 770, 'profitat': 5759, 'pierdet': 5401, 'aka': 221, 'vertic': 7833, 'rarisim': 5930, 'iesir': 3355, 'cheam': 1242, 'tampl': 7214, 'cordon': 1604, 'semen': 6532, 'steady': 6934, 'stangac': 6918, 'clo': 1360, 'bok': 886, 'armour': 503, 'necalit': 4722, 'odihn': 5025, 'andoid': 355, 'aza': 676, 'computer': 1467, 'conection': 1502, 'dusman': 2299, 'brows': 938, 'reliabl': 6099, 'necazur': 4724, 'open': 5073, 'minded': 4493, 'pardon': 5224, 'poset': 5561, 'gent': 3050, 'vesnic': 7839, 'haleasc': 3211, 'eye': 2582, 'bloger': 863, 'rastoarn': 5943, 'exterioar': 2566, 'rn': 6269, 'wats': 7984, 'topic': 7421, 'shift': 6627, 'aventur': 656, 'angle': 368, 'soundcloud': 6819, 'clariat': 1338, 're': 5970, 'pacaleasc': 5172, 'amintest': 322, 'tldr': 7402, 'linisteasc': 4126, 'flag': 2778, 'ingen': 3638, 'benz': 788, 'bands': 713, 'nsa': 4945, 'licitat': 4100, 'admir': 131, 'hands': 3219, 'inerent': 3604, 'expus': 2562, 'dict': 2052, 'asteapt': 561, 'cea': 1177, 'incar': 3479, 'ax': 673, 'infricos': 3631, 'golest': 3116, 'curaten': 1729, 'adb': 116, 'fastbot': 2648, 'diminu': 2086, 'drain': 2236, 'speakers': 6839, 'hol': 3280, 'pcte': 5280, 'mem': 4397, 'pretabil': 5659, 'postar': 5566, 'supermultum': 7111, 'wak': 7966, 'slep': 6723, 'deriv': 1929, 'nespus': 4835, 'poft': 5512, 'abov': 11, 'beyond': 797, 'delim': 1871, 'hi': 3262, 'aifon': 201, 'technolog': 7258, 'locuiest': 4171, 'bronz': 934, 'retinet': 6193, 'improspat': 3437, 'btw': 949, 'painting': 5185, 'atasament': 578, 'interfac': 3775, 'marturis': 4334, 'split': 6872, 'sid': 6647, 'gta': 3194, 'andreas': 358, 'medicament': 4386, 'rebut': 5997, 'configureaz': 1512, 'balamau': 699, 'milimetr': 4483, 'suprafet': 7127, 'neted': 4838, 'uluit': 7613, 'murdarest': 4651, 'convinget': 1588, 'titl': 7396, 'lipeasc': 4132, 'lr': 4201, 'bleding': 844, 'bn': 878, 'mn': 4542, 'acm': 70, 'adapteaz': 110, 'overkil': 5161, 'exit': 2532, 'textil': 7334, 'carbon': 1110, 'fasnet': 2646, 'funtional': 2958, 'updates': 7672, 'flicker': 2797, 'studiat': 7027, 'disabl': 2105, 'bloat': 848, 'sen': 6542, 'adult': 148, 'avioan': 665, 'utilz': 7730, 'inghet': 3643, 'intocm': 3809, 'aspra': 557, 'valur': 7757, 'remot': 6109, 'portofol': 5553, 'mergand': 4421, 'minitablet': 4501, 'insemnand': 3699, 'lucrand': 4220, 'know': 3994, 'semnat': 6538, 'bubl': 952, 'lamenteaz': 4014, 'promt': 5781, 'teapan': 7254, 'experiente': 2543, 'uimest': 7589, 'mentioneaz': 4413, 'umplutur': 7640, 'fact': 2604, 'kaufland': 3977, 'tasteaz': 7236, 'umbla': 7617, 'firc': 2752, 'strigat': 7016, 'franc': 2892, 'diviz': 2162, 'armon': 501, 'surprinz': 7165, 'microprocesor': 4457, 'procur': 5743, 'elast': 2374, 'taste': 7235, 'miau': 4450, 'alcantar': 236, 'sav': 6416, 'stachet': 6905, 'studiez': 7028, 'lafel': 4010, 'dioptr': 2099, 'pensionar': 5298, 'pental': 5299, 'egaliz': 2368, 'batet': 746, 'ma': 4246, 'calatorest': 1034, 'calat': 1032, 'rutier': 6337, 'war': 7975, 'robots': 6275, 'telef': 7272, 'mia': 4449, 'infoc': 3624, 'frunt': 2925, 'multor': 4638, 'concept': 1479, 'citeam': 1312, 'navigar': 4698, 'gekbench': 3038, 'inegal': 3600, 'diferentiaz': 2062, 'pel': 5293, 'balt': 707, 'noro': 4916, 'denatur': 1886, 'acesand': 43, 'ascultand': 525, 'probleme': 5728, 'facus': 2609, 'ime': 3388, 'adreseaz': 142, 'firme': 2758, 'remediez': 6108, 'ota': 5142, 'groaz': 3178, 'trateaz': 7488, 'adancim': 104, 'hanorac': 3222, 'ther': 7346, 'delic': 1869, 'idle': 3344, 'swet': 7178, 'multumir': 4643, 'sump': 7089, 'term': 7319, 'casual': 1148, 'using': 7715, 'task': 7227, 'copiaz': 1597, 'bub': 951, 'pension': 5297, 'amolet': 326, 'helo': 3253, 'ars': 505, 'batal': 738, 'lider': 4102, 'timisoar': 7369, 'notez': 4929, 'formeaz': 2859, 'cerc': 1215, 'crunt': 1684, 'designu': 1968, 'amprement': 338, 'customizar': 1750, 'dezastr': 2025, 'suprafar': 7126, 'whatap': 8005, 'during': 2297, 'sounds': 6820, 'utliliz': 7732, 'inor': 3672, 'forward': 2870, 'liniut': 4127, 'taxat': 7244, 'ina': 3447, 'acubatery': 95, 'raporteaz': 5927, 'bv': 1008, 'inter': 3766, 'recorder': 6025, 'soc': 6771, 'constient': 1538, 'mpixel': 4613, 'exclud': 2510, 'preconcept': 5616, 'away': 670, 'from': 2915, 'galbui': 2988, 'ghid': 3068, 'prajit': 5598, 'difuz': 2068, 'rosiat': 6290, 'bruiaz': 943, 'excurs': 2515, 'alegand': 247, 'testeaz': 7330, 'reaction': 5973, 'luativ': 4214, 'way': 7989, 'revad': 6210, 'retrim': 6196, 'lungim': 4239, 'comert': 1422, 'aleas': 242, 'neutiliz': 4845, 'spor': 6877, 'enjoy': 2415, 'prestant': 5653, 'payment': 5276, 'folosec': 2835, 'orif': 5132, 'luar': 4210, 'rever': 6215, 'fastcharg': 2649, 'delivery': 1873, 'tempered': 7302, 'lipesc': 4133, 'strat': 7002, 'oleofob': 5051, 'toamn': 7407, 'bucatar': 957, 'beneficiaz': 785, 'onoreaz': 5070, 'omolog': 5058, 'demn': 1879, 'lanseaz': 4026, 'haidet': 3208, 'spunand': 6892, 'carplay': 1125, 'spen': 6856, 'teren': 7317, 'concert': 1480, 'frecat': 2902, 'sf': 6602, 'pdvd': 5285, 'cerculet': 1218, 'incoac': 3525, 'iertat': 3350, 'flaws': 2792, 'solar': 6791, 'doap': 2172, 'catastrofal': 1152, 'compromisur': 1464, 'shoping': 6632, 'generaliz': 3044, 'dunt': 2284, 'slotur': 6729, 'cardur': 1117, 'udat': 7577, 'adversar': 152, 'cotat': 1629, 'necompar': 4731, 'camar': 1057, 'alun': 283, 'lecuit': 4068, 'durez': 2296, 'derut': 1934, 'duolingo': 2286, 'ridicol': 6249, 'sufl': 7071, 'profesor': 5755, 'dadusem': 1770, 'conflict': 1514, 'batut': 755, 'forum': 2868, 'ranger': 5921, 'descuraj': 1954, 'temein': 7298, 'reviewr': 6218, 'straduit': 6992, 'sm': 6734, 'durer': 2295, 'restaur': 6169, 'entuziast': 2420, 'viber': 7849, 'ivit': 3923, 'ciobit': 1300, 'abur': 22, 'smothnes': 6751, 'capteaz': 1097, 'displai': 2129, 'cristal': 1671, 'patat': 5259, 'pandem': 5199, 'resist': 6154, 'ami': 316, 'epuiz': 2430, 'mizez': 4541, 'chipur': 1276, 'front': 2916, 'franeaz': 2894, 'indiscut': 3568, 'pragmat': 5596, 'retine': 6191, 'nicicum': 4866, 'sus': 7171, 'concret': 1487, 'delefon': 1867, 'touchwiz': 7440, 'snobism': 6763, 'altu': 280, 'ampren': 339, 'redit': 6047, 'gag': 2978, 'imbracamint': 3379, 'okey': 5045, 'kw': 4000, 'servest': 6575, 'indur': 3592, 'gspac': 3192, 'restit': 6170, 'guno': 3196, 'nenatural': 4789, 'financiar': 2737, 'apropr': 464, 'preponderent': 5646, 'detron': 2004, 'prindet': 5698, 'masut': 4350, 'feresc': 2690, 'fosrt': 2873, 'whatsp': 8010, 'pley': 5472, 'portit': 5548, 'cher': 1257, 'usuc': 7718, 'frustrar': 2928, 'trecer': 7503, 'bogdan': 885, 'idioat': 3342, 'lupt': 4242, 'psmart': 5817, 'cg': 1232, 'eliminand': 2387, 'doreau': 2205, 'prte': 5814, 'impur': 3443, 'departament': 1905, 'customer': 1748, 'fct': 2659, 'verso': 7831, 'istyle': 3904, 'sfatuit': 6609, 'senzoru': 6558, 'lucrar': 4221, 'ruged': 6316, 'titulescu': 7399, 'matus': 4361, 'tenis': 7307, 'bel': 776, 'depozit': 1918, 'gprs': 3127, 'piatr': 5382, 'crashuiest': 1646, 'reason': 5994, 'tipic': 7391, 'inspect': 3713, 'imbecil': 3375, 'asign': 543, 'apeleaz': 427, 'fustrant': 2970, 'strainat': 6994, 'pleac': 5467, 'blochez': 857, 'ruter': 6336, 'experiet': 2544, 'tavaleal': 7240, 'cablur': 1015, 'ham': 3215, 'latitudin': 4047, 'luminiz': 4233, 'eran': 2432, 'again': 180, 'am': 290, 'proportion': 5788, 'backlight': 681, 'saracac': 6395, 'vibr': 7851, 'swiftkey': 7181, 'setings': 6595, 'options': 5107, 'caling': 1048, 'radiour': 5901, 'traiasc': 7461, 'tl': 7401, 'yi': 8079, 'viet': 7868, 'via': 7846, 'ema': 2389, 'ect': 2347, 'ducet': 2277, 'fantom': 2636, 'probl': 5725, 'radiat': 5898, 'presupus': 5656, 'buto': 994, 'precar': 5607, 'porneasc': 5541, 'departaj': 1904, 'dispay': 2125, 'rame': 5914, 'supus': 7149, 'gajai': 2980, 'varsnic': 7781, 'prostit': 5798, 'sir': 6698, 'ninsoar': 4885, 'fulg': 2936, 'nea': 4703, 'orez': 5120, 'ajunget': 213, 'rectific': 6028, 'neprelu': 4807, 'teleofon': 7285, 'primir': 5689, 'plecand': 5470, 'apex': 431, 'vga': 7844, 'indecis': 3553, 'funcioneaz': 2943, 'imec': 3389, 'acel': 31, 'avea': 652, 'sinc': 6686, 'griul': 3175, 'decor': 1828, 'disabled': 2106, 'btpay': 948, 'sigiliu': 6652, 'violet': 7883, 'traducer': 7452, 'ipv': 3888, 'stufoas': 7032, 'verfic': 7819, 'surpiz': 7159, 'noch': 4899, 'readapt': 5977, 'cenzur': 1212, 'marunt': 4335, 'adob': 133, 'lightrom': 4110, 'swip': 7182, 'ireal': 3891, 'planger': 5441, 'induct': 3590, 'dezinfect': 2032, 'aramid': 480, 'ghicest': 3066, 'span': 6826, 'amortiz': 327, 'considerandu': 1530, 'over': 5155, 'priced': 5677, 'posesoar': 5559, 'astepar': 564, 'instens': 3730, 'bacter': 684, 'dublat': 2271, 'triplat': 7529, 'liste': 4146, 'compun': 1465, 'deliciu': 1870, 'iluz': 3365, 'trist': 7532, 'invarst': 3852, 'inep': 3603, 'perifer': 5329, 'ling': 4122, 'standof': 6916, 'fif': 2718, 'mortal': 4594, 'kombat': 3998, 'intodeaun': 3810, 'obijnu': 4979, 'musch': 4657, 'chipset': 1275, 'badaran': 686, 'achzition': 66, 'recomamd': 6014, 'macbok': 4249, 'exploat': 2550, 'refrash': 6058, 'miravision': 4518, 'echit': 2330, 'perfectiun': 5317, 'uag': 7571, 'marbl': 4307, 'neutru': 4847, 'caracterisit': 1105, 'ascut': 530, 'much': 4622, 'gest': 3057, 'comanz': 1404, 'wekend': 8000, 'rug': 6314, 'nfs': 4863, 'limits': 4120, 'seting': 6594, 'branz': 916, 'elef': 2379, 'delimit': 1872, 'fitbit': 2765, 'tigar': 7364, 'wc': 7991, 'scol': 6456, 'alarme': 226, 'very': 7835, 'transpir': 7476, 'utliz': 7733, 'halo': 3213, 'artefact': 511, 'pozam': 5583, 'scufundar': 6480, 'groap': 3176, 'marian': 4316, 'comercializeaz': 1421, 'nucl': 4953, 'caciul': 1018, 'hei': 3251, 'jucandu': 3959, 'sharpening': 6622, 'garmin': 3012, 'sed': 6516, 'scumpit': 6485, 'sfant': 6603, 'discret': 2114, 'pr': 5592, 'civiliz': 1327, 'obiceiur': 4977, 'usur': 7719, 'members': 4398, 'whatever': 8007, 'comunity': 1471, 'pag': 5180, 'semnalu': 6537, 'phones': 5374, 'samsunt': 6376, 'structur': 7021, 'ultrason': 7610, 'tampen': 7212, 'philips': 5372, 'descr': 1949, 'altad': 267, 'miracol': 4514, 'atehn': 582, 'ecan': 2322, 'contraintu': 1566, 'autonim': 631, 'aunt': 613, 'webm': 7997, 'vlc': 7914, 'nemultumir': 4787, 'taioas': 7206, 'tesl': 7326, 'faceau': 2594, 'penib': 5295, 'alcol': 239, 'teras': 7316, 'maresc': 4311, 'totdeaun': 7429, 'alter': 273, 'portiun': 5549, 'mtk': 4619, 'neobserv': 4794, 'disturb': 2155, 'sporit': 6879, 'cupr': 1720, 'studiu': 7030, 'riscant': 6261, 'ascensiun': 523, 'epic': 2426, 'revers': 6216, 'strident': 7014, 'tab': 7188, 'clad': 1330, 'afi': 163, 'sfertur': 6613, 'cresc': 1664, 'ghosting': 3075, 'scutest': 6491, 'pastel': 5252, 'jak': 3930, 'galeat': 2989, 'cubot': 1687, 'ducand': 2275, 'fpsur': 2883, 'match': 4352, 'cader': 1020, 'nesans': 4825, 'umid': 7632, 'sucks': 7065, 'abandon': 0, 'mu': 4620, 'apasand': 422, 'cealal': 1178, 'output': 5154, 'rebot': 5996, 'mesinger': 4435, 'ajusteaz': 218, 'motivat': 4600, 'sezor': 6601, 'fractiun': 2884, 'creier': 1662, 'glow': 3100, 'blug': 871, 'borset': 900, 'termometru': 7324, 'purec': 5852, 'autocorect': 624, 'indraznet': 3585, 'polonez': 5526, 'translat': 7472, 'membru': 4400, 'androiz': 362, 'soi': 6789, 'bezels': 799, 'abil': 5, 'bringo': 930, 'mac': 4247, 'transferur': 7469, 'stuf': 7031, 'reconecteaz': 6022, 'selecteaz': 6523, 'plins': 5486, 'pdf': 5284, 'urez': 7690, 'luciu': 4217, 'deroseb': 1931, 'buhnic': 969, 'incetineasc': 3500, 'finger': 2744, 'prelungest': 5638, 'st': 6898, 'creativ': 1654, 'imbatraneasc': 3373, 'mur': 4648, 'sterget': 6946, 'convin': 1586, 'zedg': 8102, 'constatar': 1537, 'nevrand': 4855, 'consistent': 1532, 'motoras': 4603, 'trantit': 7479, 'supravietu': 7142, 'piedic': 5395, 'zenu': 8107, 'compres': 1460, 'only': 5067, 'adapter': 111, 'analog': 350, 'scaneaz': 6426, 'dific': 2065, 'spel': 6855, 'rareor': 5929, 'ion': 3871, 'cursur': 1745, 'joas': 3943, 'ajus': 215, 'zical': 8124, 'albi': 233, 'plictisest': 5479, 'riscur': 6263, 'facult': 2608, 'disproportion': 2138, 'labor': 4004, 'dispozit': 2137, 'hidoas': 3266, 'unealt': 7647, 'inginer': 3645, 'finet': 2743, 'lipest': 4134, 'deplas': 1913, 'daci': 1765, 'mercedes': 4418, 'imbinar': 3377, 'protector': 5802, 'crear': 1651, 'confidential': 1508, 'procesar': 5738, 'deosebest': 1899, 'exclusivist': 2512, 'sucesor': 7064, 'satin': 6408, 'arctic': 484, 'speak': 6837, 'mame': 4280, 'tabur': 7194, 'codec': 1379, 'julitur': 3964, 'tragand': 7456, 'cnv': 1368, 'videoclip': 7862, 'sg': 6615, 'dak': 1773, 'wup': 8053, 'fbk': 2658, 'don': 2200, 'maxcom': 4364, 'sageat': 6351, 'ital': 3908, 'cronometru': 1681, 'meritat': 4424, 'stud': 7025, 'tft': 7337, 'amuzament': 345, 'din': 2089, 'hmin': 3278, 'relax': 6096, 'dlsr': 2166, 'recondition': 6020, 'ri': 6247, 'tren': 7510, 'spargandu': 6829, 'zte': 8139, 'axon': 675, 'abon': 6, 'zicet': 8127, 'constrans': 1541, 'profes': 5750, 'frag': 2885, 'resetar': 6150, 'surplus': 7160, 'convert': 1584, 'interpret': 3791, 'adicted': 125, 'bg': 802, 'diplay': 2100, 'verz': 7836, 'spam': 6825, 'la': 4001, 'anti': 388, 'dumneavoastr': 2281, 'reimprospat': 6081, 'pleas': 5468, 'egalizor': 2369, 'nefir': 4750, 'ecosit': 2342, 'statut': 6931, 'etaj': 2461, 'toch': 7409, 'lup': 4241, 'edenred': 2350, 'asamblu': 521, 'galax': 2984, 'despachet': 1973, 'singuru': 6695, 'poman': 5529, 'comprom': 1462, 'milion': 4486, 'bank': 716, 'dintotdeaun': 2098, 'iphonur': 3882, 'tramv': 7465, 'eri': 2437, 'claseaz': 1344, 'mitur': 4535, 'uitiliz': 7597, 'saget': 6352, 'intepenest': 3765, 'lens': 4083, 'minciun': 4491, 'credibil': 1659, 'tpu': 7442, 'pulb': 5829, 'adapost': 108, 'mno': 4544, 'lesn': 4088, 'economy': 2340, 'bang': 715, 'olufsen': 5052, 'stylish': 7040, 'splashprof': 6869, 'nimerest': 4881, 'aia': 198, 'infierb': 3615, 'iubite': 3917, 'scoatet': 6454, 'overdr': 5158, 'recom': 6012, 'plicat': 5477, 'catv': 1160, 'plusat': 5494, 'steroiz': 6948, 'di': 2043, 'overpriced': 5163, 'paral': 5215, 'cach': 1017, 'chine': 1265, 'teor': 7312, 'xiamom': 8060, 'smartfon': 6738, 'rural': 6331, 'butonandu': 998, 'sunand': 7092, 'curt': 1746, 'faimos': 2618, 'dolar': 2189, 'exerc': 2525, 'concluzion': 1483, 'indo': 3572, 'noastr': 4898, 'my': 4665, 'opinion': 5078, 'cladir': 1331, 'primar': 5684, 'trucur': 7540, 'antich': 391, 'deh': 1862, 'mister': 4532, 'auzisem': 642, 'mesag': 4427, 'favor': 2655, 'vivo': 7903, 'romaneasc': 6285, 'periscop': 5334, 'far': 2639, 'bom': 891, 'initiez': 3661, 'nefavor': 4746, 'dormit': 2212, 'deduc': 1838, 'exemplific': 2523, 'bruiat': 942, 'jet': 3939, 'most': 4596, 'trosnest': 7537, 'pocnest': 5504, 'cazu': 1172, 'credint': 1660, 'furc': 2963, 'mobistor': 4552, 'europen': 2475, 'neincrez': 4766, 'degradeaz': 1861, 'cps': 1637, 'umfla': 7629, 'restartar': 6166, 'quadhd': 5880, 'tinandu': 7376, 'ecram': 2344, 'contest': 1554, 'rad': 5896, 'crucial': 1683, 'eo': 2425, 'ozo': 5167, 'luminioz': 4232, 'amindou': 319, 'splitscren': 6873, 'intal': 3739, 'colaborar': 1386, 'abtin': 20, 'tanar': 7215, 'photoshop': 5378, 'obicei': 4976, 'powersh': 5581, 'fent': 2684, 'mirorles': 4523, 'trump': 7542, 'redevin': 6045, 'chair': 1233, 'inevit': 3607, 'chenar': 1256, 'dezlipeasc': 2037, 'frontur': 2919, 'would': 8046, 'domnisoar': 2198, 'piscin': 5420, 'suficent': 7069, 'neplat': 4802, 'aleator': 244, 'aid': 200, 'clasament': 1343, 'atelier': 583, 'numesc': 4962, 'umbre': 7625, 'pertotal': 5356, 'oberv': 4974, 'sharpnes': 6623, 'simplif': 6672, 'orar': 5113, 'intind': 3805, 'degaj': 1855, 'elementar': 2383, 'init': 3657, 'haters': 3237, 'hat': 3235, 'planet': 5438, 'temeam': 7297, 'piet': 5406, 'new': 4856, 'courier': 1633, 'verzui': 7837, 'headphones': 3246, 'wh': 8003, 'biro': 826, 'smasung': 6747, 'sexy': 6599, 'cuprins': 1723, 'chiorast': 1273, 'versat': 7827, 'etap': 2464, 'incercand': 3495, 'verid': 7820, 'suprapun': 7134, 'corel': 1608, 'petalsearch': 5363, 'dualspac': 2263, 'retailer': 6182, 'pfps': 5369, 'armor': 502, 'fugit': 2934, 'optand': 5092, 'glob': 3095, 'punch': 5835, 'must': 4659, 'panour': 5205, 'planific': 5443, 'ezitar': 2584, 'polar': 5516, 'spatios': 6835, 'excelur': 2504, 'ancet': 352, 'myphon': 4668, 'predispus': 5623, 'adit': 128, 'conector': 1503, 'trait': 7463, 'buz': 1005, 'dadea': 1767, 'amoledur': 325, 'secat': 6505, 'cumnat': 1699, 'conluz': 1521, 'editar': 2353, 'telefonl': 7278, 'echipament': 2327, 'bluethot': 868, 'smartwach': 6745, 'cui': 1689, 'pateasc': 5262, 'avertizeaz': 661, 'returnar': 6202, 'flir': 2801, 'midnight': 4470, 'eclips': 2332, 'inactiv': 3450, 'cetaten': 1230, 'fotografiaz': 2879, 'caiet': 1028, 'eliber': 2385, 'glonas': 3097, 'contribu': 1570, 'notat': 4921, 'lil': 4112, 'afacer': 158, 'saltur': 6359, 'album': 235, 'strugur': 7023, 'spar': 6827, 'websit': 7998, 'joa': 3941, 'reader': 5978, 'vizionar': 7910, 'convertor': 1585, 'baseus': 732, 'pd': 5282, 'surubeln': 7168, 'surpinz': 7158, 'quickcharg': 5884, 'bucl': 958, 'lamurir': 4019, 'cado': 1021, 'bil': 813, 'ascun': 526, 'doart': 2176, 'imitat': 3396, 'dxo': 2307, 'sector': 6510, 'arhitectur': 495, 'industrial': 3594, 'futurist': 2972, 'dezmembr': 2039, 'ducandu': 2276, 'ogramad': 5037, 'tunat': 7550, 'jal': 3931, 'proaspat': 5718, 'bep': 789, 'tehnicien': 7264, 'digimobil': 2074, 'bezel': 798, 'gyro': 3202, 'izbit': 3925, 'parbriz': 5220, 'pocofon': 5507, 'altex': 276, 'altcumv': 269, 'cadour': 1023, 'stearg': 6936, 'batjocur': 749, 'nerecomand': 4817, 'diafragme': 2046, 'marshmalow': 4332, 'microsoft': 4462, 'site': 6703, 'capsul': 1094, 'trimitet': 7526, 'airdroid': 204, 'dizain': 2163, 'reconect': 6021, 'documentat': 2185, 'minimal': 4497, 'toalet': 7406, 'presus': 5657, 'detest': 1999, 'necunoscand': 4737, 'magaz': 4255, 'gel': 3039, 'fixed': 2774, 'mul': 4626, 'jobur': 3946, 'shortcutur': 6635, 'prezerv': 5673, 'muscat': 4656, 'melc': 4395, 'sumer': 7088, 'promisiun': 5771, 'cicl': 1287, 'taptic': 7221, 'regener': 6066, 'pariur': 5231, 'obses': 5003, 'nepoat': 4803, 'patratel': 5270, 'aranj': 481, 'plasar': 5449, 'proeminent': 5748, 'monteaz': 4589, 'imping': 3415, 'changing': 1235, 'km': 3992, 'criteriu': 1673, 'gandeasc': 3003, 'butonar': 999, 'dn': 2167, 'alung': 285, 'hop': 3289, 'minimiz': 4499, 'nisip': 4887, 'cincil': 1293, 'crashes': 1645, 'ratez': 5954, 'neaceptand': 4705, 'eftin': 2366, 'zgarai': 8111, 'toto': 7430, 'vaucher': 7787, 'maghiar': 4257, 'subl': 7049, 'zgirietur': 8119, 'gafai': 2977, 'tavan': 7241, 'anomal': 378, 'qi': 5876, 'stretview': 7010, 'logh': 4178, 'uzeaz': 7739, 'ingros': 3652, 'corectitudin': 1607, 'pornir': 5543, 'repornir': 6132, 'aparatur': 415, 'aber': 2, 'intro': 3836, 'neinspir': 4768, 'independent': 3558, 'sarat': 6397, 'big': 811, 'dirac': 2101, 'after': 178, 'moding': 4567, 'basicaly': 734, 'tech': 7257, 'despit': 1975, 'doesn': 2187, 'tranport': 7466, 'proprietar': 5792, 'zonait': 8137, 'xpro': 8067, 'reseler': 6147, 'failur': 2615, 'cupertino': 1717, 'sticle': 6960, 'injust': 3664, 'neintuit': 4771, 'hiper': 3271, 'androidu': 360, 'primavar': 5685, 'screnshotur': 6465, 'secret': 6508, 'platic': 5458, 'nevaz': 4850, 'can': 1068, 'ds': 2254, 'deformar': 1853, 'rusesc': 6333, 'displayu': 2133, 'incarac': 3480, 'nar': 4682, 'dealer': 1798, 'potriveasc': 5576, 'endur': 2405, 'snob': 6762, 'trb': 7489, 'stocat': 6977, 'res': 6144, 'reinoir': 6085, 'marcat': 4309, 'amic': 318, 'teav': 7256, 'competent': 1447, 'lovesc': 4195, 'bugy': 968, 'maniac': 4293, 'pix': 5427, 'cutit': 1754, 'pumn': 5832, 'invatatur': 3855, 'ytb': 8088, 'glacier': 3086, 'xl': 8064, 'calcai': 1036, 'ahi': 197, 'concurente': 1491, 'controvers': 1576, 'efects': 2357, 'francez': 2893, 'revolution': 6226, 'turbopower': 7554, 'alumin': 281, 'celular': 1203, 'lidar': 4101, 'alin': 259, 'ampla': 332, 'jeans': 3936, 'geac': 3032, 'zgarcit': 8114, 'chir': 1277, 'sil': 6656, 'penteu': 5300, 'canceling': 1072, 'oterbox': 5144, 'sidef': 6648, 'bulgar': 972, 'apreciaz': 449, 'neacoper': 4706, 'realment': 5989, 'bining': 820, 'pilot': 5410, 'supu': 7148, 'garanteaz': 3009, 'prestat': 5654, 'funt': 2957, 'frezur': 2907, 'lucuru': 4227, 'tor': 7423, 'decolor': 1825, 'articol': 512, 'oboseal': 4994, 'typ': 7568, 'ameteal': 315, 'intermediar': 3783, 'flagships': 2780, 'gasea': 3015, 'revist': 6222, 'pad': 5178, 'zip': 8131, 'head': 3244, 'period': 5332, 'cablat': 1013, 'le': 4059, 'risip': 6264, 'rewiu': 6230, 'jucam': 3957, 'prety': 5666, 'lic': 4096, 'mijlociu': 4479, 'tanks': 7219, 'urla': 7694, 'foaret': 2818, 'ziceau': 8126, 'lucur': 4226, 'prezentar': 5672, 'pt': 5819, 'stoarc': 6975, 'leav': 4065, 'mixer': 4538, 'infrared': 3628, 'proiectoar': 5766, 'users': 7714, 'mentinet': 4410, 'designed': 1966, 'simbioz': 6661, 'dacat': 1764, 'manac': 4282, 'gaseasc': 3017, 'solitair': 6797, 'coler': 1390, 'elocvent': 2388, 'urmez': 7703, 'regular': 6077, 'amazing': 300, 'promtitudin': 5782, 'propagand': 5785, 'why': 8020, 'taran': 7223, 'obstesc': 5004, 'altcuiv': 268, 'reper': 6126, 'tact': 7197, 'twelefon': 7563, 'nicu': 4873, 'iconur': 3334, 'ferit': 2694, 'forever': 2851, 'avan': 646, 'rasnit': 5935, 'mincin': 4490, 'mirorsh': 4524, 'valu': 7756, 'alcev': 238, 'exin': 2528, 'exigent': 2527, 'realism': 5983, 'acuz': 101, 'zvonur': 8141, 'mystic': 4669, 'gliseaz': 3092, 'tutor': 7558, 'imatur': 3370, 'recomandar': 6017, 'inlocuir': 3671, 'neperform': 4798, 'interz': 3798, 'acelor': 37, 'filosof': 2728, 'inlatur': 3665, 'actioneaz': 83, 'abtibildur': 19, 'scen': 6438, 'cain': 1029, 'beculet': 773, 'clipocest': 1358, 'gbram': 3029, 'surioar': 7156, 'provizoriu': 5809, 'neprevaz': 4810, 'pomp': 5531, 'dint': 2097, 'gimbal': 3080, 'protocoal': 5806, 'cautand': 1164, 'navigation': 4700, 'prepaid': 5644, 'simnt': 6669, 'jucand': 3958, 'desemn': 1957, 'gigab': 3078, 'uiest': 7587, 'ecarn': 2323, 'thanks': 7340, 'reading': 5979, 'italian': 3909, 'tak': 7207, 'rewieur': 6228, 'dispaly': 2121, 'cireas': 1310, 'khz': 3982, 'esantion': 2444, 'reintors': 6091, 'totat': 7428, 'plou': 5491, 'bod': 881, 'lipic': 4135, 'balam': 698, 'fideliz': 2711, 'sol': 6790, 'sort': 6809, 'respins': 6162, 'teribil': 7318, 'mhm': 4446, 'fuziun': 2973, 'sor': 6808, 'gard': 3010, 'nerefuz': 4818, 'si': 6643, 'airpods': 208, 'obraz': 4997, 'deschider': 1943, 'clacheaz': 1329, 'action': 81, 'mis': 4525, 'defavoar': 1841, 'marind': 4320, 'videocal': 7861, 'predat': 5619, 'neo': 4791, 'sygic': 7184, 'wps': 8050, 'firefox': 2754, 'hik': 3269, 'viewer': 7872, 'dicut': 2054, 'imaginat': 3369, 'nam': 4677, 'pufulet': 5826, 'mna': 4543, 'depist': 1912, 'depus': 1923, 'scumpicel': 6484, 'virar': 7886, 'telecom': 7267, 'ad': 102, 'imbatranest': 3374, 'nerezolv': 4821, 'tac': 7195, 'crocodil': 1677, 'amanet': 295, 'dealtfel': 1799, 'pateam': 5261, 'nah': 4671, 'sperand': 6858, 'evol': 2488, 'vreun': 7957, 'gaseam': 3016, 'micsoar': 4464, 'uim': 7588, 'denatureaz': 1887, 'golur': 3121, 'ghicit': 3067, 'interven': 3795, 'amelioreaz': 310, 'nesper': 4834, 'fiasco': 2705, 'urc': 7684, 'dji': 2165, 'pocket': 5503, 'sultr': 7083, 'cip': 1302, 'perfor': 5321, 'incremental': 3544, 'mirat': 4517, 'cartele': 1128, 'antireclam': 393, 'drastic': 2239, 'hearthston': 3249, 'zob': 8134, 'seling': 6529, 'traseu': 7484, 'ghideaz': 3070, 'univers': 7659, 'stresant': 7008, 'impied': 3413, 'mda': 4372, 'onoar': 5068, 'premiu': 5642, 'neds': 4744, 'xm': 8065, 'befor': 775, 'beautif': 769, 'years': 8076, 'easier': 2314, 'used': 7711, 'than': 7338, 'notches': 4923, 'easy': 2315, 'dedicated': 1837, 'makes': 4274, 'other': 5146, 'mayb': 4368, 'their': 7343, 'cameras': 1062, 'has': 3234, 'think': 7351, 'does': 2186, 'daylight': 1788, 'even': 2478, 'though': 7355, 'availabl': 645, 'its': 3911, 'results': 6178, 'making': 4275, 'should': 6637, 'improv': 3438, 'smal': 6735, 'vechiut': 7800, 'pugb': 5827, 'indoiel': 3576, 'grec': 3153, 'cupar': 1716, 'pasu': 5257, 'subliniez': 7051, 'deghiz': 1858, 'alow': 264, 'bet': 793, 'restitu': 6171, 'sw': 7176, 'baneas': 714, 'asoc': 550, 'piec': 5394, 'loudspeaker': 4193, 'me': 4373, 'becaus': 772, 'without': 8036, 'realy': 5990, 'pric': 5676, 'absolutely': 14, 'expens': 2539, 'musc': 4655, 'steam': 6935, 'arm': 499, 'cx': 1760, 'seamles': 6501, 'len': 4080, 'maximal': 4366, 'eis': 2372, 'touchsren': 7439, 'spec': 6840, 'neacept': 4704, 'manuit': 4301, 'caldut': 1040, 'nucleu': 4954, 'armat': 500, 'amplific': 336, 'spectr': 6850, 'aditional': 129, 'oct': 5019, 'continuand': 1559, 'gfx': 3064, 'loading': 4159, 'midranger': 4472, 'pertinent': 5355, 'snapdragontm': 6757, 'captiv': 1098, 'adopt': 135, 'dynamicswitch': 2310, 'elefon': 2380, 'amplitudin': 337, 'caleidoscop': 1041, 'vibes': 7850, 'cyberpunk': 1761, 'skyscaping': 6716, 'peaking': 5288, 'mt': 4618, 'conventional': 1581, 'circul': 1306, 'distribui': 2152, 'traditional': 7450, 'ultrafast': 7608, 'pegogl': 5291, 'ipsldc': 3887, 'alex': 253, 'astapt': 558, 'mancat': 4288, 'mesaging': 4430, 'handy': 3221, 'animation': 375, 'inchidet': 3511, 'eco': 2333, 'frustr': 2926, 'perpetu': 5344, 'criminal': 1670, 'cumplit': 1709, 'diminet': 2084, 'retiner': 6192, 'american': 313, 'ipod': 3884, 'dezer': 2030, 'recoman': 6015, 'inpresion': 3678, 'pilul': 5411, 'ultrasunet': 7611, 'centimetr': 1205, 'asigurar': 545, 'casco': 1141, 'mascheaz': 4341, 'afisar': 169, 'acid': 67, 'waw': 7988, 'vop': 7933, 'powerbank': 5580, 'qc': 5874, 'useles': 7712, 'environment': 2424, 'reconfigur': 6023, 'photography': 5376, 'hou': 3298, 'dash': 1781, 'huawey': 3309, 'stilo': 6964, 'interact': 3767, 'suprem': 7143, 'razboi': 5963, 'samsumg': 6371, 'denum': 1891, 'belsug': 778, 'efectuar': 2359, 'uliliz': 7601, 'pentru': 5302, 'unpic': 7662, 'resolution': 6158, 'wp': 8049, 'dinou': 2095, 'mao': 4303, 'scorur': 6460, 'invit': 3866, 'iarn': 3326, 'injumatat': 3662, 'chromcast': 1284, 'luxos': 4244, 'posteaz': 5568, 'parai': 5214, 'suflat': 7072, 'geaman': 3034, 'tricou': 7522, 'cheil': 1247, 'lant': 4027, 'dvd': 2305, 'uitasem': 7595, 'parter': 5237, 'sevic': 6598, 'incapsul': 3478, 'prop': 5784, 'lizibil': 4157, 'adez': 124, 'neindemanat': 4767, 'protejand': 5804, 'mandr': 4289, 'intiln': 3801, 'mea': 4374, 'malw': 4277, 'opreasc': 5082, 'posterioar': 5569, 'adug': 147, 'fas': 2642, 'samsungs': 6374, 'retrospect': 6198, 'finish': 2748, 'celsius': 1199, 'sef': 6520, 'anevoi': 366, 'nexperiment': 4859, 'panason': 5197, 'dorind': 2208, 'preferand': 5626, 'sunam': 7091, 'vizbil': 7905, 'vigafon': 7873, 'barai': 722, 'feminin': 2681, 'disip': 2117, 'fav': 2653, 'pacaleal': 5171, 'etat': 2465, 'astep': 563, 'cauciucur': 1162, 'tocit': 7410, 'flet': 2793, 'datoreaz': 1784, 'microfonu': 4455, 'casting': 1147, 'chromecast': 1285, 'run': 6326, 'earpiec': 2312, 'viper': 7885, 'plangandu': 5440, 'pentur': 5304, 'sarp': 6403, 'oil': 5040, 'agent': 186, 'maron': 4331, 'fibr': 2706, 'nod': 4901, 'papur': 5212, 'vag': 7746, 'fratel': 2897, 'adaos': 106, 'intins': 3806, 'zapac': 8095, 'comentur': 1416, 'dernajeaz': 1930, 'upat': 7667, 'mui': 4625, 'stativ': 6929, 'biet': 806, 'batrane': 752, 'nergonom': 4822, 'px': 5872, 'cortex': 1618, 'monochrom': 4583, 'variabl': 7774, 'tripod': 7531, 'stelar': 6941, 'arabest': 477, 'diang': 2051, 'world': 8043, 'try': 7544, 'year': 8075, 'could': 1631, 'both': 906, 'into': 3807, 'peopl': 5308, 'devices': 2011, 'instead': 3729, 'bulky': 974, 'pictures': 5391, 'lenses': 4084, 'your': 8082, 'luatil': 4213, 'boe': 883, 'blamat': 839, 'manu': 4299, 'aducand': 146, 'miliamper': 4481, 'trompet': 7534, 'prast': 5600, 'angry': 370, 'birds': 825, 'turm': 7556, 'oi': 5039, 'busol': 991, 'bosch': 902, 'suplu': 7118, 'steau': 6938, 'hmd': 3277, 'dragost': 2234, 'iubest': 3915, 'suprind': 7144, 'incult': 3546, 'onedr': 5062, 'neatins': 4718, 'vedeau': 7805, 'deficit': 1848, 'scartai': 6433, 'slabiciun': 6718, 'va': 7743, 'galb': 2986, 'sa': 6340, 'aceast': 28, 'glitchur': 3094, 'uniform': 7655, 'polariz': 5517, 'videoconferint': 7864, 'watap': 7980, 'observand': 5001, 'tastar': 7232, 'probelm': 5724, 'myedenred': 4667, 'ajustar': 217, 'reiau': 6079, 'consumand': 1547, 'partid': 5242, 'deobice': 1894, 'defic': 1846, 'dezordon': 2041, 'desenand': 1959, 'rotund': 6299, 'delt': 1875, 'atenu': 586, 'neaviz': 4720, 'folosito': 2841, 'superpret': 7113, 'utilit': 7725, 'extraterestr': 2578, 'intalnest': 3741, 'miscandu': 4527, 'pareau': 5226, 'daram': 1779, 'urci': 7688, 'carat': 1109, 'ghiozdan': 3073, 'anuntur': 407, 'petrecet': 5366, 'comparar': 1437, 'contrafac': 1565, 'inoxid': 3676, 'multicel': 4629, 'foloses': 2836, 'amando': 293, 'indrazn': 3584, 'tenteaz': 7311, 'multumeasc': 4641, 'smartphones': 6741, 'revolut': 6225, 'schimband': 6446, 'condus': 1496, 'tun': 7549, 'nelip': 4777, 'hit': 3274, 'pozeaz': 5587, 'ercan': 2434, 'de': 1792, 'mirar': 4516, 'sibiu': 6645, 'sume': 7086, 'patrund': 5273, 'burt': 987, 'fizionom': 2777, 'actionar': 82, 'neutr': 4846, 'curet': 1737, 'softat': 6784, 'nefocaliz': 4751, 'boster': 904, 'fluctueaz': 2807, 'arie': 498, 'sandston': 6380, 'viciu': 7857, 'traged': 7457, 'jav': 3933, 'games': 2999, 'longev': 4186, 'doctor': 2182, 'schol': 6449, 'recomend': 6019, 'impachet': 3401, 'scenar': 6439, 'bloceaz': 854, 'laudabil': 4051, 'fier': 2715, 'giro': 3083, 'vinz': 7880, 'redeschis': 6043, 'drawer': 2240, 'rated': 5951, 'agil': 188, 'presetar': 5649, 'vreu': 7956, 'overnight': 5162, 'verisor': 7824, 'distat': 2142, 'trotuar': 7538, 'emisiun': 2397, 'semnatur': 6539, 'acte': 80, 'selfy': 6528, 'shadow': 6617, 'mario': 4321, 'imag': 3367, 'supraviet': 7141, 'prisos': 5707, 'anpc': 380, 'evitat': 2487, 'candy': 1075, 'anuleaz': 403, 'reintoarc': 6089, 'bolt': 890, 'balanc': 700, 'administr': 130, 'stecher': 6939, 'uv': 7734, 'sublin': 7050, 'sincop': 6688, 'reclamat': 6009, 'benchmarkur': 781, 'rupeau': 6328, 'deficitar': 1849, 'fancy': 2633, 'hicar': 3265, 'cartic': 1129, 'quik': 5886, 'banuit': 719, 'abordar': 9, 'puneam': 5843, 'reincerc': 6084, 'joyrom': 3954, 'rulau': 6323, 'es': 2443, 'ment': 4407, 'exagereaz': 2497, 'creator': 1655, 'reu': 6205, 'taking': 7208, 'chelt': 1250, 'thinq': 7352, 'setand': 6588, 'georg': 3054, 'advanced': 151, 'esent': 2447, 'vulp': 7964, 'acri': 79, 'ate': 581, 'pretind': 5662, 'iq': 3889, 'playlist': 5465, 'gramaj': 3140, 'centur': 1211, 'atur': 606, 'proximity': 5813, 'combined': 1409, 'now': 4943, 'working': 8041, 'when': 8014, 'sems': 6541, 'isues': 3906, 'lar': 4034, 'expres': 2557, 'fetite': 2700, 'batist': 748, 'loks': 4182, 'simply': 6678, 'steroids': 6947, 'country': 1632, 'iphones': 3880, 'few': 2702, 'awesom': 672, 'did': 2055, 'integreaz': 3749, 'parar': 5219, 'urban': 7683, 'nesatisfac': 4826, 'kids': 3984, 'learning': 4063, 'onyx': 5071, 'blury': 875, 'incorect': 3539, 'iwatch': 3924, 'basc': 731, 'anapod': 351, 'unit': 7657, 'vizav': 7904, 'golg': 3118, 'precaut': 5608, 'acopar': 74, 'incomplet': 3534, 'nspe': 4946, 'neoan': 4792, 'suprins': 7145, 'valoreaz': 7755, 'coaj': 1371, 'hawe': 3239, 'sezon': 6600, 'enabled': 2403, 'specul': 6851, 'jn': 3940, 'estomp': 2458, 'send': 6543, 'emerald': 2393, 'depsr': 1920, 'rounded': 6302, 'traiest': 7462, 'neprieten': 4812, 'diger': 2073, 'confuz': 1519, 'docking': 2181, 'station': 6927, 'organ': 5121, 'enough': 2417, 'estimar': 2456, 'fum': 2940, 'ocol': 5016, 'spectacol': 6848, 'xa': 8054, 'reviews': 6219, 'tort': 7425, 'scanar': 6423, 'displaym': 2131, 'tf': 7336, 'instalat': 3723, 'scurtcircu': 6489, 'spunandu': 6893, 'rateaz': 5950, 'bateir': 743, 'inconsistent': 3536, 'expuner': 2561, 'ryb': 6339, 'sampl': 6370, 'yay': 8074, 'genu': 3052, 'nemaif': 4779, 'subscriu': 7054, 'antevorb': 387, 'ops': 5089, 'caltat': 1055, 'descarcar': 1940, 'novat': 4941, 'propriet': 5791, 'distribu': 2151, 'peacock': 5287, 'recomanz': 6018, 'dezinteres': 2035, 'panz': 5208, 'puf': 5825, 'neadevar': 4708, 'vajait': 7749, 'antisoc': 396, 'youtu': 8083, 'impins': 3416, 'tefefon': 7261, 'sosir': 6812, 'ultrarapid': 7609, 'clonat': 1363, 'rewiur': 6231, 'indoir': 3578, 'jailbreak': 3929, 'lamurest': 4018, 'ingalbenest': 3637, 'hue': 3310, 'folosing': 2838, 'plouat': 5492, 'invel': 3857, 'inegr': 3601, 'deranjaz': 1926, 'linux': 4130, 'facandu': 2592, 'contacts': 1550, 'reinregistr': 6087, 'cleanup': 1350, 'keyboard': 3979, 'releas': 6097, 'nits': 4891, 'cutout': 1755, 'hrd': 3301, 'imperm': 3412, 'forme': 2858, 'fireasc': 2753, 'brat': 918, 'skip': 6712, 'showromur': 6640, 'maturiz': 4360, 'nop': 4910, 'laolalt': 4030, 'awb': 671, 'emigr': 2395, 'indestruct': 3563, 'leviteaz': 4092, 'teleporteaz': 7287, 'platou': 5462, 'recicl': 6007, 'premier': 5641, 'deszap': 1985, 'disign': 2116, 'pulsoximetr': 5831, 'beneficiu': 787, 'tineau': 7380, 'exelent': 2520, 'compus': 1466, 'constitu': 1539, 'resun': 6179, 'nemanifest': 4783, 'nimic': 4882, 'updated': 7671, 'milimetru': 4484, 'strav': 7004, 'logat': 4177, 'microg': 4456, 'notif': 4930, 'halou': 3214, 'umer': 7627, 'sarman': 6402, 'goagl': 3107, 'comoz': 1429, 'flyme': 2813, 'nilkin': 4877, 'html': 3305, 'cerneal': 1222, 'plutit': 5497, 'antren': 398, 'who': 8018, 'lu': 4205, 'domnul': 2199, 'incumet': 3547, 'anual': 401, 'cai': 1027, 'foat': 2820, 'lopat': 4188, 'logan': 4175, 'iam': 3320, 'returneaz': 6203, 'incomfort': 3528, 'touches': 7435, 'batar': 739, 'glisand': 3090, 'nicidecum': 4867, 'doil': 2188, 'descur': 1953, 'floi': 2803, 'preven': 5668, 'spartur': 6831, 'fest': 2696, 'plo': 5489, 'interpol': 3790, 'pericol': 5327, 'sia': 6644, 'aste': 560, 'senz': 6553, 'eaz': 2318, 'stad': 6906, 'arhiv': 496, 'lacun': 4009, 'avantajeaz': 651, 'tam': 7211, 'matrit': 4357, 'devor': 2014, 'freman': 2905, 'strix': 7018, 'ambient': 307, 'athmos': 588, 'comprat': 1459, 'sarlatan': 6401, 'lidl': 4103, 'neactualiz': 4707, 'watzup': 7987, 'finder': 2742, 'camp': 1065, 'recalibr': 5999, 'subtier': 7057, 'linkedin': 4129, 'uda': 7576, 'contradictor': 1564, 'naiv': 4674, 'averag': 658, 'bmk': 876, 'pild': 5409, 'diferente': 2061, 'selfieur': 6526, 'barier': 727, 'facetim': 2599, 'episod': 2428, 'cash': 1143, 'duh': 2278, 'neprezent': 4811, 'stoicism': 6982, 'retard': 6183, 'jpeg': 3955, 'efortur': 2365, 'apdatar': 424, 'inapoi': 3459, 'orizont': 5135, 'virst': 7888, 'acount': 78, 'fastcharging': 2650, 'target': 7225, 'suprasaturat': 7137, 'adblock': 117, 'simetr': 6665, 'statist': 6928, 'stutering': 7038, 'dsiplay': 2256, 'inteligente': 3758, 'tintit': 7386, 'gaurit': 3026, 'moderat': 4560, 'neintrerupt': 4770, 'palid': 5190, 'whatup': 8012, 'colac': 1387, 'pupaz': 5850, 'reintorc': 6090, 'batei': 742, 'crize': 1676, 'prepay': 5645, 'val': 7750, 'gadgetur': 2976, 'zvon': 8140, 'invid': 3865, 'multicor': 4631, 'obisinu': 4982, 'predefin': 5621, 'hong': 3287, 'kong': 3999, 'siz': 6709, 'trept': 7514, 'rescris': 6145, 'wal': 7967, 'token': 7413, 'genereaz': 3046, 'polimer': 5520, 'conectar': 1498, 'receiver': 6000, 'popul': 5535, 'welcom': 8002, 'family': 2628, 'pack': 5177, 'nepermis': 4799, 'neon': 4796, 'obs': 4998, 'opteaz': 5094, 'ambigu': 309, 'spioneaz': 6866, 'monopol': 4585, 'fanat': 2630, 'focal': 2822, 'pliat': 5474, 'destinat': 1982, 'supraincalzeasc': 7129, 'pitak': 5422, 'reglementar': 6073, 'sofistic': 6782, 'popescu': 5534, 'sertaras': 6572, 'vars': 7780, 'walpap': 7970, 'refres': 6059, 'fierb': 2716, 'cunoasc': 1711, 'forteaz': 2866, 'mures': 4652, 'tencent': 7305, 'belg': 777, 'stupef': 7034, 'anu': 400, 'gunoai': 3197, 'reapel': 5993, 'drops': 2250, 'viabil': 7847, 'vrajit': 7948, 'revelion': 6213, 'evolueaz': 2490, 'uper': 7676, 'lb': 4057, 'flux': 2812, 'updateaz': 7670, 'adaosur': 107, 'campion': 1067, 'inseman': 3697, 'argint': 490, 'prejos': 5632, 'zapad': 8096, 'nins': 4884, 'tzeap': 7570, 'neg': 4754, 'ule': 7599, 'rabdat': 5889, 'opreau': 5083, 'farur': 2641, 'suprarealist': 7135, 'intimpl': 3804, 'input': 3679, 'tweak': 7562, 'bay': 757, 'repd': 6123, 'firicel': 2756, 'citev': 1316, 'gogleplay': 3112, 'incarcand': 3482, 'rulam': 6319, 'sesis': 6582, 'incaltamint': 3467, 'nemaivaz': 4782, 'pocnit': 5505, 'arse': 506, 'velvet': 7809, 'coast': 1372, 'diferentier': 2063, 'avertisment': 659, 'forat': 2848, 'inot': 3673, 'lanterne': 4029, 'rasp': 5936, 'dimesiun': 2082, 'agreabil': 190, 'adancitur': 105, 'implementeaz': 3418, 'leam': 4062, 'coloreaz': 1395, 'depaseasc': 1907, 'optimus': 5103, 'pungut': 5848, 'scandal': 6425, 'direction': 2103, 'preteaz': 5660, 'helio': 3252, 'mau': 4362, 'suplineasc': 7117, 'tva': 7561, 'dei': 1863, 'indispon': 3570, 'avind': 664, 'andoroid': 357, 'pomen': 5530, 'notifications': 4934, 'psp': 5818, 'verdict': 7818, 'dock': 2180, 'touchscr': 7437, 'infernal': 3614, 'handicap': 3218, 'inrautatest': 3682, 'imho': 3394, 'friend': 2911, 'vesel': 7838, 'decupeaz': 1832, 'read': 5976, 'scutit': 6492, 'frontier': 2918, 'vdf': 7794, 'rasfoi': 5934, 'putintel': 5870, 'yahomail': 8073, 'foai': 2815, 'intimpin': 3803, 'binenteles': 818, 'directional': 2104, 'fereasc': 2688, 'ostent': 5141, 'blindat': 845, 'luck': 4218, 'panaram': 5196, 'enunt': 2423, 'vic': 7856, 'vreune': 7958, 'radet': 5897, 'downsid': 2225, 'rezitent': 6236, 'miracul': 4515, 'arog': 504, 'inebunest': 3596, 'vers': 7826, 'infierbant': 3616, 'webex': 7996, 'decept': 1817, 'trambit': 7464, 'ranfors': 5919, 'thoughts': 7356, 'absoult': 16, 'miror': 4521, 'neprotej': 4814, 'ready': 5981, 'novic': 4942, 'die': 2057, 'meizu': 4394, 'blochiaz': 858, 'frec': 2901, 'hotel': 3296, 'cameleon': 1059, 'anchid': 353, 'iar': 3323, 'superok': 7112, 'functioaneaz': 2945, 'cochet': 1376, 'tuch': 7547, 'xsmax': 8070, 'thx': 7358, 'fastest': 2651, 'shiping': 6629, 'qsd': 5878, 'ruper': 6329, 'capodop': 1091, 'notebokcheck': 4925, 'widevin': 8023, 'posibilt': 5564, 'mumtum': 4644, 'resemn': 6148, 'masor': 4347, 'under': 7646, 'est': 2450, 'simit': 6668, 'servetel': 6576, 'prom': 5768, 'deajuns': 1796, 'penult': 5305, 'placat': 5433, 'barait': 723, 'pixeleaz': 5429, 'topest': 7420, 'kia': 3983, 'sportag': 6881, 'promax': 5769, 'rate': 5949, 'vil': 7874, 'interioar': 3779, 'slowmo': 6731, 'maj': 4269, 'litl': 4150, 'perioade': 5331, 'ipon': 3885, 'virus': 7890, 'epoc': 2429, 'fusion': 2969, 'engin': 2411, 'kas': 3976, 'whatzup': 8013, 'codecur': 1380, 'excran': 2514, 'hsdpa': 3303, 'gradat': 3135, 'duar': 2264, 'cot': 1628, 'gresal': 3159, 'nivelur': 4894, 'ceasur': 1183, 'rent': 6113, 'golir': 3119, 'hilar': 3270, 'overh': 5159, 'recunoaster': 6033, 'nev': 4848, 'prelucreaz': 5636, 'senzit': 6556, 'nanometr': 4679, 'indeaproap': 3552, 'simbolur': 6664, 'motivand': 4599, 'storc': 6986, 'ril': 6254, 'aplications': 443, 'tremuratur': 7509, 'perfection': 5316, 'deranjez': 1928, 'supraincalzir': 7131, 'demagnetiz': 1877, 'taber': 7190, 'imortaliz': 3398, 'dreptac': 2243, 'buric': 984, 'indien': 3566, 'knock': 3993, 'albic': 234, 'hert': 3257, 'folost': 2842, 'uimir': 7590, 'reapar': 5992, 'detector': 1995, 'tank': 7218, 'bobin': 880, 'xioam': 8062, 'networking': 4843, 'colect': 1388, 'demonstrat': 1883, 'samday': 6368, 'aux': 636, 'surf': 7152, 'yutub': 8089, 'inpec': 3677, 'frant': 2895, 'extragarant': 2572, 'descurcandu': 1956, 'mirif': 4519, 'decum': 1829, 'hulk': 3311, 'arad': 478, 'orad': 5111, 'sclav': 6450, 'satureaz': 6414, 'deosebir': 1900, 'cometar': 1424, 'aveat': 654, 'antiacvat': 389, 'treizec': 7507, 'durand': 2292, 'iub': 3913, 'facelift': 2597, 'oboseasc': 4995, 'lap': 4031, 'splash': 6868, 'siroco': 6699, 'peform': 5290, 'aplus': 445, 'desteapt': 1979, 'zgarcen': 8113, 'pacan': 5173, 'minunat': 4506, 'rai': 5904, 'listat': 4145, 'biziday': 833, 'vcf': 7793, 'tester': 7331, 'pahar': 5183, 'imperfect': 3410, 'dans': 1777, 'compartiment': 1439, 'recumpar': 6030, 'interzis': 3799, 'titlu': 7397, 'throtling': 7357, 'piu': 5426, 'petru': 5367, 'republ': 6142, 'slav': 6722, 'falback': 2622, 'hevc': 3259, 'trebl': 7495, 'diagnost': 2047, 'platin': 5459, 'dpmdv': 2229, 'dezamg': 2024, 'student': 7026, 'picut': 5392, 'sug': 7075, 'clandestin': 1332, 'amintir': 323, 'robot': 6274, 'dictionar': 2053, 'walet': 7968, 'goagal': 3106, 'whatasp': 8006, 'manifestar': 4296, 'company': 1433, 'prematur': 5640, 'snd': 6761, 'polished': 5522, 'sah': 6353, 'ruin': 6317, 'lpdr': 4200, 'diu': 2157, 'rock': 6279, 'unir': 7656, 'lamin': 4015, 'tactat': 7198, 'sunlight': 7096, 'trepideaz': 7512, 'cuvin': 1757, 'inscriu': 3693, 'prin': 5693, 'clap': 1334, 'flashlight': 2789, 'heroes': 3256, 'until': 7665, 'piz': 5431, 'paper': 5210, 'litiu': 4149, 'comercializ': 1420, 'intemper': 3759, 'bif': 807, 'amenint': 311, 'trai': 7460, 'fixar': 2771, 'desfasur': 1962, 'are': 488, 'nuc': 4952, 'bcr': 764, 'stamin': 6911, 'mediatiz': 4384, 'parantez': 5218, 'interconect': 3770, 'binecunosc': 816, 'ager': 187, 'yes': 8078, 'wanted': 7973, 'every': 2483, 'idem': 3338, 'iot': 3873, 'por': 5538, 'aspir': 556, 'fraier': 2887, 'msg': 4616, 'tinind': 7384, 'noteaz': 4924, 'sufoc': 7074, 'auxiliar': 637, 'tn': 7404, 'til': 7367, 'insus': 3736, 'fuction': 2931, 'dup': 2288, 'zdravan': 8099, 'necit': 4728, 'nejustificandu': 4773, 'exped': 2537, 'neimport': 4764, 'soart': 6769, 'avu': 668, 'gion': 3082, 'gril': 3172, 'tethering': 7332, 'cupl': 1718, 'celul': 1202, 'incastr': 3486, 'sticker': 6958, 'brosur': 935, 'srl': 6897, 'elabor': 2373, 'dev': 2005, 'nun': 4965, 'sugereaz': 7077, 'galact': 2982, 'respective': 6160, 'vest': 7840, 'tropic': 7536, 'agream': 191, 'altereaz': 274, 'carev': 1120, 'reat': 5995, 'everyday': 2484, 'calar': 1031, 'nitel': 4890, 'senheiser': 6544, 'newsfed': 4858, 'sodexo': 6780, 'carefour': 1119, 'gameing': 2995, 'brown': 937, 'triad': 7520, 'vot': 7942, 'folsoesc': 2843, 'incapatan': 3475, 'casier': 1144, 'rut': 6335, 'inflarosu': 3620, 'bifez': 810, 'splendoar': 6871, 'completeaz': 1452, 'oblic': 4989, 'nelinist': 4776, 'story': 6987, 'short': 6633, 'mareasc': 4310, 'cumer': 1697, 'twitch': 7565, 'clapete': 1336, 'lanc': 4020, 'capcitat': 1088, 'vol': 7927, 'cond': 1492, 'blog': 862, 'amestec': 314, 'rendering': 6111, 'fluidizeaz': 2811, 'episoad': 2427, 'umezeal': 7628, 'asocier': 551, 'fixist': 2775, 'combust': 1411, 'pare': 5225, 'orienteaz': 5131, 'inceat': 3490, 'contextual': 1556, 'afisand': 168, 'amr': 342, 'nepretu': 4809, 'strong': 7019, 'shock': 6630, 'rautat': 5960, 'punt': 5849, 'insid': 3705, 'duzin': 2303, 'sent': 6551, 'oscileaz': 5139, 'tep': 7314, 'harw': 3233, 'panelur': 5201, 'tols': 7416, 'imposibil': 3425, 'genunch': 3053, 'activities': 88, 'limited': 4119, 'workaround': 8040, 'machin': 4251, 'unabl': 7642, 'pitigai': 5425, 'audiofil': 610, 'autoturist': 635, 'sunau': 7094, 'alfabet': 254, 'zenphon': 8106, 'estompeaz': 2459, 'investeasc': 3861, 'ou': 5147, 'simptom': 6679, 'jdem': 3935, 'merc': 4417, 'framer': 2889, 'technology': 7259, 'neprofesionist': 4813, 'incertitudin': 3497, 'proportional': 5789, 'apac': 412, 'ciudatel': 1325, 'mobilisimo': 4551, 'vo': 7917, 'finc': 2739, 'cel': 1190, 'unbox': 7643, 'therapy': 7347, 'uf': 7580, 'tactic': 7199, 'dv': 2304, 'cameraman': 1061, 'reinprospat': 6086, 'flar': 2786, 'snapsed': 6758, 'victor': 7858, 'incapac': 3474, 'tradeaz': 7448, 'imit': 3395, 'automobil': 630, 'event': 2480, 'coating': 1373, 'profesoar': 5754, 'instaled': 3725, 'snaptub': 6759, 'fref': 2904, 'extras': 2577, 'sacrificiu': 6348, 'cumar': 1696, 'marf': 4313, 'numel': 4960, 'insert': 3702, 'two': 7567, 'samasung': 6365, 'telefo': 7274, 'pal': 5187, 'lt': 4202, 'stia': 6952, 'talefon': 7209, 'debifand': 1802, 'samy': 6377, 'chil': 1262, 'milisecund': 4487, 'ei': 2371, 'batch': 740, 'deziluz': 2031, 'informeaz': 3627, 'veneam': 7811, 'combat': 1406, 'admis': 132, 'complect': 1449, 'harmony': 3231, 'ringtones': 6258, 'toc': 7408, 'scrisor': 6475, 'chop': 1282, 'iut': 3921, 'featuring': 2664, 'flagshit': 2782, 'necesitand': 4727, 'ineficient': 3599, 'tinea': 7378, 'imp': 3399, 'fran': 2890, 'dimensity': 2080, 'ghidat': 3069, 'testar': 7328, 'arsi': 507, 'bus': 988, 'holb': 3281, 'scazand': 6436, 'kindl': 3987, 'surven': 7170, 'fostu': 2875, 'procesoru': 5742, 'abi': 4, 'colour': 1399, 'agatar': 183, 'ce': 1176, 'ar': 475, 'inscrier': 3690, 'dinauntru': 2093, 'clatit': 1348, 'golit': 3120, 'shut': 6641, 'inginereasc': 3646, 'tictok': 7361, 'dabrowser': 1762, 'cuprinz': 1724, 'pis': 5419, 'este': 2452, 'lotur': 4191, 'sprinten': 6888, 'launch': 4053, 'resolut': 6157, 'esta': 2451, 'atitudin': 596, 'gestures': 3061, 'daunat': 1786, 'obligator': 4991, 'oledur': 5050, 'primordial': 5691, 'whp': 8019, 'cei': 1189, 'polem': 5518, 'jongl': 3951, 'alfel': 255, 'formular': 2862, 'vip': 7884, 'urce': 7687, 'standart': 6914, 'legal': 4072, 'updgrad': 7675, 'which': 8016, 'however': 3299, 'didn': 2056, 'therefor': 7348, 'vietnamez': 7870, 'copac': 1593, 'microsdxc': 4461, 'cartiel': 1130, 'crom': 1678, 'solicitand': 6794, 'renteaz': 6115, 'ansa': 381, 'zgaiest': 8109, 'optimizer': 5102, 'lac': 4005, 'restrang': 6173, 'grupur': 3188, 'vorbar': 7937, 'ts': 7545, 'raspic': 5937, 'grijuliu': 3171, 'aplicar': 441, 'vanzatoare': 7768, 'faciliteaz': 2603, 'nefinis': 4749, 'flos': 2805, 'diacrit': 2044, 'mind': 4492, 'pioner': 5416, 'corespondent': 1610, 'subtitr': 7061, 'batranet': 753, 'cateaod': 1153, 'seman': 6531, 'batrin': 754, 'razgandest': 5965, 'telofon': 7293, 'bondar': 895, 'retet': 6187, 'lemn': 4079, 'hif': 3267, 'gyroscop': 3203, 'uza': 7737, 'adorm': 137, 'aparand': 414, 'actualment': 93, 'precad': 5606, 'dovedest': 2220, 'inernet': 3605, 'instrument': 3733, 'dandu': 1776, 'diminueaz': 2087, 'tablou': 7193, 'arsur': 508, 'decupleaz': 1833, 'gravitational': 3149, 'vas': 7785, 'execelent': 2517, 'dezbat': 2028, 'intrig': 3835, 'compenent': 1443, 'circumspect': 1308, 'skulcandy': 6713, 'flexiglas': 2796, 'tabl': 7191, 'mak': 4273, 'stadiu': 6907, 'propiu': 5786, 'haos': 3223, 'scepticist': 6442, 'stic': 6956, 'peripet': 5333, 'beach': 766, 'altcv': 270, 'teanc': 7252, 'charged': 1237, 'pericul': 5328, 'delet': 1868, 'scriau': 6469, 'telefin': 7273, 'workstation': 8042, 'renut': 6118, 'gagetur': 2979, 'bancar': 711, 'un': 7641, 'puteu': 5868, 'detaliez': 1988, 'buguit': 966, 'machiaj': 4250, 'sharpen': 6621, 'omit': 5056, 'doa': 2170, 'placer': 5434, 'controleaz': 1573, 'uraten': 7682, 'piedut': 5396, 'finant': 2738, 'sfarai': 6604, 'suposed': 7121, 'exercitiu': 2526, 'deac': 1795, 'fluctuat': 2806, 'extaz': 2563, 'impercept': 3408, 'profilur': 5757, 'neputint': 4815, 'exponential': 2554, 'noteultr': 4928, 'zgaritur': 8117, 'asorteaz': 552, 'half': 3212, 'samsungdex': 6373, 'comez': 1425, 'ratac': 5946, 'calic': 1046, 'amurg': 343, 'tp': 7441, 'reprogram': 6139, 'achzit': 65, 'invizib': 3868, 'strambat': 6998, 'superfluid': 7107, 'disparand': 2123, 'impus': 3444, 'manier': 4294, 'inputs': 3680, 'deblocand': 1806, 'importante': 3422, 'copy': 1602, 'aploc': 444, 'bomboan': 894, 'ampent': 329, 'waranty': 7976, 'msi': 4617, 'dizpoz': 2164, 'smatphon': 6748, 'inte': 3746, 'canon': 1076, 'iveal': 3922, 'corpor': 1616, 'right': 6251, 'bulshit': 975, 'pipait': 5417, 'gazon': 3027, 'pictat': 5388, 'limbaj': 4114, 'timpan': 7371, 'indeplineasc': 3560, 'labirint': 4003, 'dovez': 2221, 'certitudin': 1227, 'junior': 3967, 'butonand': 997, 'vmos': 7916, 'navigand': 4697, 'taskbar': 7228, 'noteplus': 4926, 'cascad': 1139, 'supratact': 7140, 'clarific': 1340, 'tear': 7255, 'branduit': 914, 'audiof': 609, 'miliard': 4482, 'iphonepro': 3879, 'intruz': 3844, 'naivitat': 4675, 'simul': 6682, 'cumint': 1698, 'caracter': 1104, 'tipat': 7390, 'ugrad': 7583, 'heads': 3247, 'obtinand': 5007, 'ere': 2435, 'discomfort': 2108, 'suspic': 7173, 'ed': 2349, 'trueton': 7541, 'imobiliar': 3397, 'multr': 4639, 'sakur': 6354, 'patrul': 5272, 'dust': 2300, 'polymer': 5527, 'mimo': 4488, 'slsi': 6733, 'dpv': 2230, 'gaseau': 3018, 'doband': 2178, 'busters': 992, 'capcan': 1087, 'ucid': 7574, 'recents': 6002, 'soundbar': 6818, 'pueril': 5824, 'dumb': 2279, 'mirobol': 4520, 'perfet': 5318, 'neconcord': 4733, 'fedbackur': 2669, 'pictur': 5390, 'acur': 98, 'monkey': 4581, 'impractic': 3427, 'blowing': 866, 'gamers': 2998, 'ambiant': 306, 'colorist': 1396, 'files': 2722, 'tuchscren': 7548, 'niciund': 4871, 'marg': 4314, 'asfel': 540, 'tund': 7551, 'copilas': 1601, 'rp': 6308, 'hje': 3275, 'fitz': 2768, 'activand': 86, 'canap': 1070, 'problm': 5731, 'hoby': 3279, 'cucer': 1688, 'atac': 575, 'rucsac': 6311, 'lipir': 4136, 'asem': 534, 'eat': 2317, 'galileo': 2992, 'rotit': 6298, 'mesages': 4429, 'exynous': 2581, 'leco': 4066, 'stalp': 6909, 'stradal': 6989, 'comes': 1423, 'neural': 4844, 'remap': 6103, 'ebok': 2321, 'captureaz': 1100, 'geamur': 3035, 'torsion': 7424, 'rt': 6309, 'rahat': 5903, 'ultime': 7606, 'coreur': 1613, 'umfle': 7631, 'feb': 2665, 'lacom': 4007, 'wowif': 8048, 'exce': 2499, 'trio': 7527, 'sofer': 6781, 'atit': 595, 'alwayson': 289, 'telefonul': 7280, 'interdict': 3771, 'bye': 1010, 'nubi': 4951, 'frf': 2908, 'magzin': 4262, 'ingenuncheaz': 3639, 'prealabil': 5603, 'faliment': 2623, 'restur': 6177, 'felu': 2677, 'roter': 6295, 'clicking': 1354, 'redeschiz': 6044, 'inscris': 3692, 'bu': 950, 'locu': 4169, 'zagriat': 8091, 'inculs': 3545, 'shel': 6625, 'fad': 2612, 'shaz': 6624, 'nteles': 4947, 'guvern': 3201, 'atasar': 579, 'brad': 912, 'cosider': 1620, 'inglob': 3647, 'problems': 5729, 'asemanar': 536, 'manar': 4286, 'stuter': 7037, 'vedea': 7803, 'themes': 7345, 'dismis': 2119, 'locasur': 4164, 'outdated': 5151, 'contondent': 1560, 'startup': 6924, 'inghit': 3644, 'aberat': 3, 'movit': 4609, 'bonusur': 897, 'coling': 1392, 'designer': 1967, 'structural': 7022, 'dilem': 2077, 'kind': 3986, 'incas': 3485, 'deruleaz': 1933, 'salariu': 6357, 'afric': 177, 'unchi': 7645}\n"
     ]
    }
   ],
   "source": [
    "print(vectorizer.vocabulary_)"
   ]
  },
  {
   "cell_type": "code",
   "execution_count": 12,
   "id": "7a0064b6",
   "metadata": {},
   "outputs": [
    {
     "data": {
      "text/plain": [
       "8142"
      ]
     },
     "execution_count": 12,
     "metadata": {},
     "output_type": "execute_result"
    }
   ],
   "source": [
    "max_features = len(vectorizer.vocabulary_)\n",
    "max_features"
   ]
  },
  {
   "cell_type": "markdown",
   "id": "484e2197",
   "metadata": {},
   "source": [
    "## Crearea si antrenarea de modele de clasificare"
   ]
  },
  {
   "cell_type": "markdown",
   "id": "8c6871d0",
   "metadata": {},
   "source": [
    "### Random forest"
   ]
  },
  {
   "cell_type": "code",
   "execution_count": 13,
   "id": "efe52458",
   "metadata": {},
   "outputs": [],
   "source": [
    "# definirea modelului\n",
    "rf = RandomForestClassifier() \n",
    "rf_model = rf.fit(x_train, y_train)"
   ]
  },
  {
   "cell_type": "code",
   "execution_count": 14,
   "id": "cf4e4542",
   "metadata": {},
   "outputs": [],
   "source": [
    "pred = rf_model.predict(x_test)"
   ]
  },
  {
   "cell_type": "code",
   "execution_count": 15,
   "id": "a115f41c",
   "metadata": {},
   "outputs": [
    {
     "data": {
      "text/plain": [
       "array([[763, 133, 193],\n",
       "       [209, 592, 280],\n",
       "       [ 81,  51, 923]], dtype=int64)"
      ]
     },
     "execution_count": 15,
     "metadata": {},
     "output_type": "execute_result"
    }
   ],
   "source": [
    "confusion_matrix(y_test, pred)"
   ]
  },
  {
   "cell_type": "code",
   "execution_count": 16,
   "id": "0cfafbf1",
   "metadata": {},
   "outputs": [
    {
     "data": {
      "text/plain": [
       "0.7063565891472868"
      ]
     },
     "execution_count": 16,
     "metadata": {},
     "output_type": "execute_result"
    }
   ],
   "source": [
    "accuracy_score(y_test, pred)"
   ]
  },
  {
   "cell_type": "code",
   "execution_count": 21,
   "id": "cedb4ede",
   "metadata": {},
   "outputs": [
    {
     "name": "stdout",
     "output_type": "stream",
     "text": [
      "Fitting 3 folds for each of 200 candidates, totalling 600 fits\n"
     ]
    }
   ],
   "source": [
    "#grid search pentru parametrii cei mai buni\n",
    "param_grid = { \n",
    "    'n_estimators': [100, 300, 500, 700, 800],\n",
    "    'max_features': ['auto', 'sqrt'],\n",
    "    'max_depth' : [10, 20, 30, 40, 50],\n",
    "    'criterion' :['gini', 'entropy'],\n",
    "    'bootstrap' :[True, False]\n",
    "}\n",
    "\n",
    "cv = GridSearchCV(rf, param_grid = param_grid, cv=3, n_jobs=-1, verbose=1) #n_jobs=> foloseste toate core-urile pentru rapiditate\n",
    "\n",
    "search_results = cv.fit(x_train, y_train)"
   ]
  },
  {
   "cell_type": "code",
   "execution_count": 22,
   "id": "0a810493",
   "metadata": {},
   "outputs": [
    {
     "data": {
      "text/html": [
       "<div>\n",
       "<style scoped>\n",
       "    .dataframe tbody tr th:only-of-type {\n",
       "        vertical-align: middle;\n",
       "    }\n",
       "\n",
       "    .dataframe tbody tr th {\n",
       "        vertical-align: top;\n",
       "    }\n",
       "\n",
       "    .dataframe thead th {\n",
       "        text-align: right;\n",
       "    }\n",
       "</style>\n",
       "<table border=\"1\" class=\"dataframe\">\n",
       "  <thead>\n",
       "    <tr style=\"text-align: right;\">\n",
       "      <th></th>\n",
       "      <th>bootstrap</th>\n",
       "      <th>criterion</th>\n",
       "      <th>max_depth</th>\n",
       "      <th>max_features</th>\n",
       "      <th>n_estimators</th>\n",
       "      <th>Accuracy</th>\n",
       "    </tr>\n",
       "  </thead>\n",
       "  <tbody>\n",
       "    <tr>\n",
       "      <th>149</th>\n",
       "      <td>False</td>\n",
       "      <td>gini</td>\n",
       "      <td>50</td>\n",
       "      <td>sqrt</td>\n",
       "      <td>800</td>\n",
       "      <td>0.715581</td>\n",
       "    </tr>\n",
       "    <tr>\n",
       "      <th>146</th>\n",
       "      <td>False</td>\n",
       "      <td>gini</td>\n",
       "      <td>50</td>\n",
       "      <td>sqrt</td>\n",
       "      <td>300</td>\n",
       "      <td>0.715349</td>\n",
       "    </tr>\n",
       "    <tr>\n",
       "      <th>144</th>\n",
       "      <td>False</td>\n",
       "      <td>gini</td>\n",
       "      <td>50</td>\n",
       "      <td>auto</td>\n",
       "      <td>800</td>\n",
       "      <td>0.715116</td>\n",
       "    </tr>\n",
       "    <tr>\n",
       "      <th>139</th>\n",
       "      <td>False</td>\n",
       "      <td>gini</td>\n",
       "      <td>40</td>\n",
       "      <td>sqrt</td>\n",
       "      <td>800</td>\n",
       "      <td>0.714884</td>\n",
       "    </tr>\n",
       "    <tr>\n",
       "      <th>148</th>\n",
       "      <td>False</td>\n",
       "      <td>gini</td>\n",
       "      <td>50</td>\n",
       "      <td>sqrt</td>\n",
       "      <td>700</td>\n",
       "      <td>0.714806</td>\n",
       "    </tr>\n",
       "  </tbody>\n",
       "</table>\n",
       "</div>"
      ],
      "text/plain": [
       "     bootstrap criterion  max_depth max_features  n_estimators  Accuracy\n",
       "149      False      gini         50         sqrt           800  0.715581\n",
       "146      False      gini         50         sqrt           300  0.715349\n",
       "144      False      gini         50         auto           800  0.715116\n",
       "139      False      gini         40         sqrt           800  0.714884\n",
       "148      False      gini         50         sqrt           700  0.714806"
      ]
     },
     "execution_count": 22,
     "metadata": {},
     "output_type": "execute_result"
    }
   ],
   "source": [
    "#adauga toate rezultatele intr-un dataframe\n",
    "# afiseaza primele 5 rezultate dupa acuratete\n",
    "\n",
    "res = pd.concat([pd.DataFrame(search_results.cv_results_[\"params\"]),\n",
    "                 pd.DataFrame(search_results.cv_results_[\"mean_test_score\"], columns=[\"Accuracy\"])],axis=1)\n",
    "res.sort_values(by=['Accuracy'], ascending=False).head(5)"
   ]
  },
  {
   "cell_type": "code",
   "execution_count": 23,
   "id": "2a638ef7",
   "metadata": {},
   "outputs": [
    {
     "data": {
      "text/plain": [
       "{'bootstrap': False,\n",
       " 'criterion': 'gini',\n",
       " 'max_depth': 50,\n",
       " 'max_features': 'sqrt',\n",
       " 'n_estimators': 800}"
      ]
     },
     "execution_count": 23,
     "metadata": {},
     "output_type": "execute_result"
    }
   ],
   "source": [
    "search_results.best_params_"
   ]
  },
  {
   "cell_type": "code",
   "execution_count": 17,
   "id": "e26da02c",
   "metadata": {},
   "outputs": [],
   "source": [
    "# definirea modelului\n",
    "bestRF = RandomForestClassifier(n_estimators=800, \n",
    "                                criterion='gini', \n",
    "                                max_depth=50, \n",
    "                                max_features='sqrt',\n",
    "                                bootstrap=False)\n",
    "                                   \n",
    "bestRF_model = bestRF.fit(x_train, y_train)"
   ]
  },
  {
   "cell_type": "code",
   "execution_count": 18,
   "id": "2f3aa2c5",
   "metadata": {},
   "outputs": [],
   "source": [
    "pred = bestRF_model.predict(x_test)"
   ]
  },
  {
   "cell_type": "code",
   "execution_count": 19,
   "id": "c37fa002",
   "metadata": {},
   "outputs": [
    {
     "data": {
      "text/plain": [
       "0.7172093023255814"
      ]
     },
     "execution_count": 19,
     "metadata": {},
     "output_type": "execute_result"
    }
   ],
   "source": [
    "accuracy_score(y_test, pred)"
   ]
  },
  {
   "cell_type": "code",
   "execution_count": 20,
   "id": "cee576ed",
   "metadata": {},
   "outputs": [
    {
     "name": "stdout",
     "output_type": "stream",
     "text": [
      "              precision    recall  f1-score   support\n",
      "\n",
      "         neg       0.70      0.75      0.72      1013\n",
      "           n       0.56      0.79      0.65       761\n",
      "         pos       0.91      0.66      0.76      1451\n",
      "\n",
      "    accuracy                           0.72      3225\n",
      "   macro avg       0.72      0.73      0.71      3225\n",
      "weighted avg       0.76      0.72      0.72      3225\n",
      "\n"
     ]
    }
   ],
   "source": [
    "print(classification_report(pred, y_test, target_names=['neg', 'n', 'pos']))"
   ]
  },
  {
   "cell_type": "code",
   "execution_count": 21,
   "id": "edbbd375",
   "metadata": {},
   "outputs": [
    {
     "data": {
      "text/plain": [
       "Text(0.5, 1.0, 'Confusion Matrix')"
      ]
     },
     "execution_count": 21,
     "metadata": {},
     "output_type": "execute_result"
    },
    {
     "data": {
      "image/png": "[encoded data removed]",
      "text/plain": [
       "<Figure size 576x576 with 2 Axes>"
      ]
     },
     "metadata": {
      "needs_background": "light"
     },
     "output_type": "display_data"
    }
   ],
   "source": [
    "confusion_mat = confusion_matrix(y_test, pred)\n",
    "fig, ax = plt.subplots(figsize=(8,8))\n",
    "sns.heatmap(confusion_mat, annot=True, cmap=\"Blues\", fmt='d',\n",
    "            xticklabels=[1,2,3], \n",
    "            yticklabels=[1,2,3])\n",
    "plt.ylabel('Actual')\n",
    "plt.xlabel('Predicted')\n",
    "plt.title(\"Confusion Matrix\", size=8)"
   ]
  },
  {
   "cell_type": "code",
   "execution_count": 22,
   "id": "67f94477",
   "metadata": {},
   "outputs": [
    {
     "data": {
      "text/plain": [
       "['Models/tfidf_rf_model.joblib']"
      ]
     },
     "execution_count": 22,
     "metadata": {},
     "output_type": "execute_result"
    }
   ],
   "source": [
    "joblib.dump(bestRF_model, \"Models/tfidf_rf_model.joblib\")"
   ]
  },
  {
   "cell_type": "markdown",
   "id": "9dc4a047",
   "metadata": {},
   "source": [
    "### SVM"
   ]
  },
  {
   "cell_type": "code",
   "execution_count": 13,
   "id": "06491ba4",
   "metadata": {},
   "outputs": [],
   "source": [
    "# definirea modelului\n",
    "clf = SVC()\n",
    "svm_model = clf.fit(x_train, y_train)"
   ]
  },
  {
   "cell_type": "code",
   "execution_count": 14,
   "id": "20fbb901",
   "metadata": {},
   "outputs": [
    {
     "data": {
      "text/plain": [
       "0.7311627906976744"
      ]
     },
     "execution_count": 14,
     "metadata": {},
     "output_type": "execute_result"
    }
   ],
   "source": [
    "pred = clf.predict(x_test)\n",
    "accuracy_score(pred, y_test)"
   ]
  },
  {
   "cell_type": "code",
   "execution_count": 20,
   "id": "2c7ef790",
   "metadata": {},
   "outputs": [
    {
     "data": {
      "text/plain": [
       "['Models/tfidf_svm_model.joblib']"
      ]
     },
     "execution_count": 20,
     "metadata": {},
     "output_type": "execute_result"
    }
   ],
   "source": [
    "svm_model.get_params()\n",
    "joblib.dump(svm_model, \"Models/tfidf_svm_model.joblib\")"
   ]
  },
  {
   "cell_type": "code",
   "execution_count": 21,
   "id": "c4c85230",
   "metadata": {},
   "outputs": [
    {
     "data": {
      "image/png": "[encoded data removed]",
      "text/plain": [
       "<Figure size 576x576 with 2 Axes>"
      ]
     },
     "metadata": {
      "needs_background": "light"
     },
     "output_type": "display_data"
    }
   ],
   "source": [
    "confusion_mat = confusion_matrix(y_test, pred)\n",
    "fig, ax = plt.subplots(figsize=(8,8))\n",
    "sns.heatmap(confusion_mat, annot=True, cmap=\"Blues\", fmt='d',\n",
    "            xticklabels=[0,1,2], \n",
    "            yticklabels=[0,1,2])\n",
    "plt.ylabel('Actual')\n",
    "plt.xlabel('Predicted')\n",
    "plt.title(\"Confusion Matrix\", size=8);"
   ]
  },
  {
   "cell_type": "code",
   "execution_count": 22,
   "id": "a500cb2a",
   "metadata": {},
   "outputs": [
    {
     "name": "stdout",
     "output_type": "stream",
     "text": [
      "              precision    recall  f1-score   support\n",
      "\n",
      "         neg       0.76      0.77      0.77      1075\n",
      "           n       0.62      0.69      0.65       961\n",
      "         pos       0.82      0.73      0.77      1189\n",
      "\n",
      "    accuracy                           0.73      3225\n",
      "   macro avg       0.73      0.73      0.73      3225\n",
      "weighted avg       0.74      0.73      0.73      3225\n",
      "\n"
     ]
    }
   ],
   "source": [
    "print(classification_report(pred, y_test, target_names=['neg', 'n', 'pos']))"
   ]
  },
  {
   "cell_type": "code",
   "execution_count": 31,
   "id": "62e4aa76",
   "metadata": {},
   "outputs": [
    {
     "name": "stdout",
     "output_type": "stream",
     "text": [
      "Fitting 3 folds for each of 18 candidates, totalling 54 fits\n"
     ]
    }
   ],
   "source": [
    "#grid search parametrii cei mai buni\n",
    "param_grid = {'C': [1, 10, 100], #penalizare\n",
    "              'gamma': [0.1, 0.01, 0.001], #kernel coef - in ce masura influenteaza calculul liniei plauzibile de separare\n",
    "              'kernel': ['rbf', 'poly']}\n",
    "\n",
    "grid = GridSearchCV(clf, param_grid, cv=3, n_jobs=-1, verbose=2)\n",
    "svm_search_results = grid.fit(x_train, y_train)"
   ]
  },
  {
   "cell_type": "code",
   "execution_count": 32,
   "id": "3149b8eb",
   "metadata": {},
   "outputs": [
    {
     "data": {
      "text/html": [
       "<div>\n",
       "<style scoped>\n",
       "    .dataframe tbody tr th:only-of-type {\n",
       "        vertical-align: middle;\n",
       "    }\n",
       "\n",
       "    .dataframe tbody tr th {\n",
       "        vertical-align: top;\n",
       "    }\n",
       "\n",
       "    .dataframe thead th {\n",
       "        text-align: right;\n",
       "    }\n",
       "</style>\n",
       "<table border=\"1\" class=\"dataframe\">\n",
       "  <thead>\n",
       "    <tr style=\"text-align: right;\">\n",
       "      <th></th>\n",
       "      <th>C</th>\n",
       "      <th>gamma</th>\n",
       "      <th>kernel</th>\n",
       "      <th>Accuracy</th>\n",
       "    </tr>\n",
       "  </thead>\n",
       "  <tbody>\n",
       "    <tr>\n",
       "      <th>8</th>\n",
       "      <td>10</td>\n",
       "      <td>0.010</td>\n",
       "      <td>rbf</td>\n",
       "      <td>0.712713</td>\n",
       "    </tr>\n",
       "    <tr>\n",
       "      <th>16</th>\n",
       "      <td>100</td>\n",
       "      <td>0.001</td>\n",
       "      <td>rbf</td>\n",
       "      <td>0.712558</td>\n",
       "    </tr>\n",
       "    <tr>\n",
       "      <th>0</th>\n",
       "      <td>1</td>\n",
       "      <td>0.100</td>\n",
       "      <td>rbf</td>\n",
       "      <td>0.711550</td>\n",
       "    </tr>\n",
       "    <tr>\n",
       "      <th>6</th>\n",
       "      <td>10</td>\n",
       "      <td>0.100</td>\n",
       "      <td>rbf</td>\n",
       "      <td>0.702171</td>\n",
       "    </tr>\n",
       "    <tr>\n",
       "      <th>14</th>\n",
       "      <td>100</td>\n",
       "      <td>0.010</td>\n",
       "      <td>rbf</td>\n",
       "      <td>0.693101</td>\n",
       "    </tr>\n",
       "  </tbody>\n",
       "</table>\n",
       "</div>"
      ],
      "text/plain": [
       "      C  gamma kernel  Accuracy\n",
       "8    10  0.010    rbf  0.712713\n",
       "16  100  0.001    rbf  0.712558\n",
       "0     1  0.100    rbf  0.711550\n",
       "6    10  0.100    rbf  0.702171\n",
       "14  100  0.010    rbf  0.693101"
      ]
     },
     "execution_count": 32,
     "metadata": {},
     "output_type": "execute_result"
    }
   ],
   "source": [
    "#adauga toate rezultatele intr-un dataframe\n",
    "# afiseaza primele 5 rezultate dupa acuratete\n",
    "\n",
    "svm_res = pd.concat([pd.DataFrame(svm_search_results.cv_results_[\"params\"]),\n",
    "                 pd.DataFrame(svm_search_results.cv_results_[\"mean_test_score\"], columns=[\"Accuracy\"])],axis=1)\n",
    "svm_res.sort_values(by=['Accuracy'], ascending=False).head(5)"
   ]
  },
  {
   "cell_type": "code",
   "execution_count": 33,
   "id": "e4737d2f",
   "metadata": {},
   "outputs": [
    {
     "data": {
      "text/plain": [
       "{'C': 10, 'gamma': 0.01, 'kernel': 'rbf'}"
      ]
     },
     "execution_count": 33,
     "metadata": {},
     "output_type": "execute_result"
    }
   ],
   "source": [
    "svm_search_results.best_params_"
   ]
  },
  {
   "cell_type": "code",
   "execution_count": 26,
   "id": "120882a0",
   "metadata": {},
   "outputs": [],
   "source": [
    "# definirea modelului cel mai bun\n",
    "clf = SVC(C=10, \n",
    "          gamma= 0.01, \n",
    "          kernel='rbf', \n",
    "          probability=True)\n",
    "svm_model = clf.fit(x_train, y_train)"
   ]
  },
  {
   "cell_type": "code",
   "execution_count": 27,
   "id": "8b967a4d",
   "metadata": {},
   "outputs": [
    {
     "data": {
      "text/plain": [
       "0.7190697674418605"
      ]
     },
     "execution_count": 27,
     "metadata": {},
     "output_type": "execute_result"
    }
   ],
   "source": [
    "pred = svm_model.predict(x_test)\n",
    "accuracy_score(pred, y_test)"
   ]
  },
  {
   "cell_type": "code",
   "execution_count": 29,
   "id": "8757079c",
   "metadata": {},
   "outputs": [
    {
     "data": {
      "text/plain": [
       "Text(0.5, 1.0, 'Confusion Matrix')"
      ]
     },
     "execution_count": 29,
     "metadata": {},
     "output_type": "execute_result"
    },
    {
     "data": {
      "image/png": "[encoded data removed]",
      "text/plain": [
       "<Figure size 576x576 with 2 Axes>"
      ]
     },
     "metadata": {
      "needs_background": "light"
     },
     "output_type": "display_data"
    }
   ],
   "source": [
    "confusion_mat = confusion_matrix(y_test, pred)\n",
    "fig, ax = plt.subplots(figsize=(8,8))\n",
    "sns.heatmap(confusion_mat, annot=True, cmap=\"Blues\", fmt='d',\n",
    "            xticklabels=[0,1,2], \n",
    "            yticklabels=[0,1,2])\n",
    "plt.ylabel('Actual')\n",
    "plt.xlabel('Predicted')\n",
    "plt.title(\"Confusion Matrix\", size=8)"
   ]
  },
  {
   "cell_type": "code",
   "execution_count": 31,
   "id": "ef6c8a25",
   "metadata": {},
   "outputs": [
    {
     "name": "stdout",
     "output_type": "stream",
     "text": [
      "              precision    recall  f1-score   support\n",
      "\n",
      "         neg       0.75      0.76      0.75      1077\n",
      "           n       0.60      0.68      0.64       951\n",
      "         pos       0.81      0.71      0.76      1197\n",
      "\n",
      "    accuracy                           0.72      3225\n",
      "   macro avg       0.72      0.72      0.72      3225\n",
      "weighted avg       0.73      0.72      0.72      3225\n",
      "\n"
     ]
    }
   ],
   "source": [
    "print(classification_report(pred, y_test, target_names=['neg', 'n', 'pos']))"
   ]
  },
  {
   "cell_type": "markdown",
   "id": "8c20eab3",
   "metadata": {},
   "source": [
    "### Bernouli NB"
   ]
  },
  {
   "cell_type": "code",
   "execution_count": 13,
   "id": "59763925",
   "metadata": {},
   "outputs": [],
   "source": [
    "from sklearn.naive_bayes import BernoulliNB"
   ]
  },
  {
   "cell_type": "code",
   "execution_count": 30,
   "id": "86189cad",
   "metadata": {},
   "outputs": [],
   "source": [
    "clf = BernoulliNB()\n",
    "bnb_model = clf.fit(x_train, y_train)"
   ]
  },
  {
   "cell_type": "code",
   "execution_count": 31,
   "id": "1b8c8b33",
   "metadata": {},
   "outputs": [
    {
     "data": {
      "text/plain": [
       "0.6142635658914729"
      ]
     },
     "execution_count": 31,
     "metadata": {},
     "output_type": "execute_result"
    }
   ],
   "source": [
    "pred = clf.predict(x_test)\n",
    "accuracy_score(pred, y_test)"
   ]
  },
  {
   "cell_type": "code",
   "execution_count": 32,
   "id": "f501b8cf",
   "metadata": {},
   "outputs": [
    {
     "data": {
      "text/plain": [
       "Text(0.5, 1.0, 'Confusion Matrix')"
      ]
     },
     "execution_count": 32,
     "metadata": {},
     "output_type": "execute_result"
    },
    {
     "data": {
      "image/png": "[encoded data removed]",
      "text/plain": [
       "<Figure size 576x576 with 2 Axes>"
      ]
     },
     "metadata": {
      "needs_background": "light"
     },
     "output_type": "display_data"
    }
   ],
   "source": [
    "confusion_mat = confusion_matrix(y_test, pred)\n",
    "fig, ax = plt.subplots(figsize=(8,8))\n",
    "sns.heatmap(confusion_mat, annot=True, cmap=\"Blues\", fmt='d',\n",
    "            xticklabels=[0,1,2], \n",
    "            yticklabels=[0,1,2])\n",
    "plt.ylabel('Actual')\n",
    "plt.xlabel('Predicted')\n",
    "plt.title(\"Confusion Matrix\", size=8)"
   ]
  },
  {
   "cell_type": "code",
   "execution_count": 33,
   "id": "3568ccc3",
   "metadata": {},
   "outputs": [
    {
     "name": "stdout",
     "output_type": "stream",
     "text": [
      "              precision    recall  f1-score   support\n",
      "\n",
      "         neg       0.54      0.76      0.63       772\n",
      "           n       0.73      0.53      0.62      1481\n",
      "         pos       0.58      0.63      0.60       972\n",
      "\n",
      "    accuracy                           0.61      3225\n",
      "   macro avg       0.61      0.64      0.61      3225\n",
      "weighted avg       0.64      0.61      0.61      3225\n",
      "\n"
     ]
    }
   ],
   "source": [
    "print(classification_report(pred, y_test, target_names=['neg', 'n', 'pos']))"
   ]
  },
  {
   "cell_type": "code",
   "execution_count": 22,
   "id": "50cde208",
   "metadata": {},
   "outputs": [
    {
     "name": "stdout",
     "output_type": "stream",
     "text": [
      "Fitting 3 folds for each of 5 candidates, totalling 15 fits\n"
     ]
    }
   ],
   "source": [
    "param_grid = {'alpha': [0.01, 0.1, 0.5, 1.0, 10.0]}\n",
    "\n",
    "grid = GridSearchCV(clf, param_grid, cv=3, n_jobs=-1, verbose=2)\n",
    "bnb_search_results = grid.fit(x_train, y_train)"
   ]
  },
  {
   "cell_type": "code",
   "execution_count": 36,
   "id": "57bd348a",
   "metadata": {},
   "outputs": [
    {
     "name": "stdout",
     "output_type": "stream",
     "text": [
      "Fitting 3 folds for each of 30 candidates, totalling 90 fits\n"
     ]
    }
   ],
   "source": [
    "clf = BernoulliNB()\n",
    "\n",
    "param_grid = {'alpha': [0.01, 0.1, 0.5, 1.0, 10.0],\n",
    "              'binarize': [0.0, 0.1, 0.2, 0.5, 0.7, 1.0]}\n",
    "\n",
    "grid = GridSearchCV(clf, param_grid, cv=3, n_jobs=-1, verbose=1)\n",
    "bnb_search_results = grid.fit(x_train, y_train)"
   ]
  },
  {
   "cell_type": "code",
   "execution_count": 37,
   "id": "58b5f8a8",
   "metadata": {},
   "outputs": [
    {
     "data": {
      "text/html": [
       "<div>\n",
       "<style scoped>\n",
       "    .dataframe tbody tr th:only-of-type {\n",
       "        vertical-align: middle;\n",
       "    }\n",
       "\n",
       "    .dataframe tbody tr th {\n",
       "        vertical-align: top;\n",
       "    }\n",
       "\n",
       "    .dataframe thead th {\n",
       "        text-align: right;\n",
       "    }\n",
       "</style>\n",
       "<table border=\"1\" class=\"dataframe\">\n",
       "  <thead>\n",
       "    <tr style=\"text-align: right;\">\n",
       "      <th></th>\n",
       "      <th>alpha</th>\n",
       "      <th>binarize</th>\n",
       "      <th>Accuracy</th>\n",
       "    </tr>\n",
       "  </thead>\n",
       "  <tbody>\n",
       "    <tr>\n",
       "      <th>13</th>\n",
       "      <td>0.50</td>\n",
       "      <td>0.1</td>\n",
       "      <td>0.673411</td>\n",
       "    </tr>\n",
       "    <tr>\n",
       "      <th>7</th>\n",
       "      <td>0.10</td>\n",
       "      <td>0.1</td>\n",
       "      <td>0.672171</td>\n",
       "    </tr>\n",
       "    <tr>\n",
       "      <th>19</th>\n",
       "      <td>1.00</td>\n",
       "      <td>0.1</td>\n",
       "      <td>0.670465</td>\n",
       "    </tr>\n",
       "    <tr>\n",
       "      <th>1</th>\n",
       "      <td>0.01</td>\n",
       "      <td>0.1</td>\n",
       "      <td>0.662791</td>\n",
       "    </tr>\n",
       "    <tr>\n",
       "      <th>20</th>\n",
       "      <td>1.00</td>\n",
       "      <td>0.2</td>\n",
       "      <td>0.616279</td>\n",
       "    </tr>\n",
       "  </tbody>\n",
       "</table>\n",
       "</div>"
      ],
      "text/plain": [
       "    alpha  binarize  Accuracy\n",
       "13   0.50       0.1  0.673411\n",
       "7    0.10       0.1  0.672171\n",
       "19   1.00       0.1  0.670465\n",
       "1    0.01       0.1  0.662791\n",
       "20   1.00       0.2  0.616279"
      ]
     },
     "execution_count": 37,
     "metadata": {},
     "output_type": "execute_result"
    }
   ],
   "source": [
    "#adauga toate rezultatele intr-un dataframe\n",
    "# afiseaza primele 5 rezultate dupa acuratete\n",
    "\n",
    "bnb_res = pd.concat([pd.DataFrame(bnb_search_results.cv_results_[\"params\"]),\n",
    "                 pd.DataFrame(bnb_search_results.cv_results_[\"mean_test_score\"], columns=[\"Accuracy\"])],axis=1)\n",
    "bnb_res.sort_values(by=['Accuracy'], ascending=False).head(5)"
   ]
  },
  {
   "cell_type": "code",
   "execution_count": 38,
   "id": "0a77f399",
   "metadata": {},
   "outputs": [],
   "source": [
    "clf = BernoulliNB(binarize=0.1,alpha=0.5)\n",
    "bnb_best_model = clf.fit(x_train,y_train)"
   ]
  },
  {
   "cell_type": "code",
   "execution_count": 39,
   "id": "cca656e0",
   "metadata": {},
   "outputs": [
    {
     "data": {
      "text/plain": [
       "0.684031007751938"
      ]
     },
     "execution_count": 39,
     "metadata": {},
     "output_type": "execute_result"
    }
   ],
   "source": [
    "pred = clf.predict(x_test)\n",
    "accuracy_score(pred, y_test)"
   ]
  },
  {
   "cell_type": "code",
   "execution_count": 40,
   "id": "9c56312c",
   "metadata": {},
   "outputs": [
    {
     "data": {
      "text/plain": [
       "Text(0.5, 1.0, 'Confusion Matrix')"
      ]
     },
     "execution_count": 40,
     "metadata": {},
     "output_type": "execute_result"
    },
    {
     "data": {
      "image/png": "[encoded data removed]",
      "text/plain": [
       "<Figure size 576x576 with 2 Axes>"
      ]
     },
     "metadata": {
      "needs_background": "light"
     },
     "output_type": "display_data"
    }
   ],
   "source": [
    "confusion_mat = confusion_matrix(y_test, pred)\n",
    "fig, ax = plt.subplots(figsize=(8,8))\n",
    "sns.heatmap(confusion_mat, annot=True, cmap=\"Blues\", fmt='d',\n",
    "            xticklabels=[0,1,2], \n",
    "            yticklabels=[0,1,2])\n",
    "plt.ylabel('Actual')\n",
    "plt.xlabel('Predicted')\n",
    "plt.title(\"Confusion Matrix\", size=8)"
   ]
  },
  {
   "cell_type": "code",
   "execution_count": 41,
   "id": "44a96c51",
   "metadata": {},
   "outputs": [
    {
     "name": "stdout",
     "output_type": "stream",
     "text": [
      "              precision    recall  f1-score   support\n",
      "\n",
      "         neg       0.57      0.74      0.64       834\n",
      "           n       0.67      0.63      0.65      1147\n",
      "         pos       0.82      0.69      0.75      1244\n",
      "\n",
      "    accuracy                           0.68      3225\n",
      "   macro avg       0.69      0.69      0.68      3225\n",
      "weighted avg       0.70      0.68      0.69      3225\n",
      "\n"
     ]
    }
   ],
   "source": [
    "print(classification_report(pred, y_test, target_names=['neg', 'n', 'pos']))"
   ]
  },
  {
   "cell_type": "code",
   "execution_count": 42,
   "id": "cab8a3e7",
   "metadata": {},
   "outputs": [
    {
     "data": {
      "text/plain": [
       "['Models/tfidf_bnb_model.joblib']"
      ]
     },
     "execution_count": 42,
     "metadata": {},
     "output_type": "execute_result"
    }
   ],
   "source": [
    "joblib.dump(bnb_best_model, \"Models/tfidf_bnb_model.joblib\")"
   ]
  },
  {
   "cell_type": "markdown",
   "id": "c4753868",
   "metadata": {},
   "source": [
    "### Densely Connected Model"
   ]
  },
  {
   "cell_type": "code",
   "execution_count": 13,
   "id": "0290ee62",
   "metadata": {
    "scrolled": true
   },
   "outputs": [
    {
     "name": "stdout",
     "output_type": "stream",
     "text": [
      "y_train.shape: (12900, 3)\n",
      "y_test.shape : (3225, 3)\n"
     ]
    }
   ],
   "source": [
    "#one-hot encode labels\n",
    "y_train = to_categorical(y_train, num_classes=3)\n",
    "y_test = to_categorical(y_test, num_classes=3)\n",
    "print(\"y_train.shape:\", y_train.shape)\n",
    "print(\"y_test.shape :\", y_test.shape)"
   ]
  },
  {
   "cell_type": "code",
   "execution_count": 14,
   "id": "61f52a07",
   "metadata": {},
   "outputs": [
    {
     "data": {
      "text/plain": [
       "array([[0., 0., 1.],\n",
       "       [0., 0., 1.],\n",
       "       [0., 0., 1.],\n",
       "       ...,\n",
       "       [0., 0., 1.],\n",
       "       [0., 1., 0.],\n",
       "       [0., 1., 0.]], dtype=float32)"
      ]
     },
     "execution_count": 14,
     "metadata": {},
     "output_type": "execute_result"
    }
   ],
   "source": [
    "y_test"
   ]
  },
  {
   "cell_type": "code",
   "execution_count": null,
   "id": "488ae5c5",
   "metadata": {},
   "outputs": [],
   "source": [
    "============================= Folosind un singur strat + output ================="
   ]
  },
  {
   "cell_type": "code",
   "execution_count": 15,
   "id": "056c2548",
   "metadata": {},
   "outputs": [
    {
     "name": "stdout",
     "output_type": "stream",
     "text": [
      "Epoch 1/10\n",
      "343/343 [==============================] - 13s 37ms/step - loss: 0.7323 - acc: 0.6992 - val_loss: 0.6511 - val_acc: 0.7230\n",
      "Epoch 2/10\n",
      "343/343 [==============================] - 13s 37ms/step - loss: 0.5139 - acc: 0.7896 - val_loss: 0.6655 - val_acc: 0.7090\n",
      "Epoch 3/10\n",
      "343/343 [==============================] - 13s 37ms/step - loss: 0.4274 - acc: 0.8303 - val_loss: 0.6975 - val_acc: 0.7142\n",
      "Epoch 4/10\n",
      "343/343 [==============================] - 13s 38ms/step - loss: 0.3604 - acc: 0.8626 - val_loss: 0.7459 - val_acc: 0.7049\n",
      "Epoch 5/10\n",
      "343/343 [==============================] - 13s 37ms/step - loss: 0.3076 - acc: 0.8837 - val_loss: 0.8063 - val_acc: 0.6972\n",
      "Epoch 6/10\n",
      "343/343 [==============================] - 13s 38ms/step - loss: 0.2625 - acc: 0.9050 - val_loss: 0.8796 - val_acc: 0.6956\n",
      "Epoch 7/10\n",
      "343/343 [==============================] - 13s 38ms/step - loss: 0.2220 - acc: 0.9216 - val_loss: 0.9645 - val_acc: 0.6920\n",
      "Epoch 8/10\n",
      "343/343 [==============================] - 13s 37ms/step - loss: 0.1885 - acc: 0.9328 - val_loss: 1.0219 - val_acc: 0.6920\n",
      "Epoch 9/10\n",
      "343/343 [==============================] - 13s 37ms/step - loss: 0.1593 - acc: 0.9466 - val_loss: 1.1132 - val_acc: 0.6884\n",
      "Epoch 10/10\n",
      "343/343 [==============================] - 13s 37ms/step - loss: 0.1342 - acc: 0.9543 - val_loss: 1.2004 - val_acc: 0.6848\n"
     ]
    }
   ],
   "source": [
    "# creaza modelul-----------512---------------\n",
    "base_model = Sequential()\n",
    "base_model.add(Dense(512, input_shape =(max_features,) , activation = 'relu'))\n",
    "base_model.add(Dense(3, activation = 'softmax'))\n",
    "\n",
    "# compile and fit\n",
    "base_model.compile(optimizer='rmsprop',\n",
    "                   loss='categorical_crossentropy',\n",
    "                   metrics=['acc'])\n",
    "history = base_model.fit(x_train,y_train,\n",
    "                         epochs=10,\n",
    "                         batch_size=32,\n",
    "                         validation_split=0.15)"
   ]
  },
  {
   "cell_type": "code",
   "execution_count": 26,
   "id": "6a0132aa",
   "metadata": {},
   "outputs": [
    {
     "data": {
      "text/plain": [
       "{'name': 'RMSprop',\n",
       " 'learning_rate': 0.001,\n",
       " 'decay': 0.0,\n",
       " 'rho': 0.9,\n",
       " 'momentum': 0.0,\n",
       " 'epsilon': 1e-07,\n",
       " 'centered': False}"
      ]
     },
     "execution_count": 26,
     "metadata": {},
     "output_type": "execute_result"
    }
   ],
   "source": [
    "base_model.optimizer.get_config()"
   ]
  },
  {
   "cell_type": "code",
   "execution_count": 16,
   "id": "fd5b362d",
   "metadata": {},
   "outputs": [
    {
     "data": {
      "image/png": "[encoded data removed]",
      "text/plain": [
       "<Figure size 432x288 with 1 Axes>"
      ]
     },
     "metadata": {
      "needs_background": "light"
     },
     "output_type": "display_data"
    },
    {
     "data": {
      "image/png": "[encoded data removed]",
      "text/plain": [
       "<Figure size 432x288 with 1 Axes>"
      ]
     },
     "metadata": {
      "needs_background": "light"
     },
     "output_type": "display_data"
    }
   ],
   "source": [
    "plot_graphs(history)"
   ]
  },
  {
   "cell_type": "code",
   "execution_count": 18,
   "id": "7829a9ee",
   "metadata": {},
   "outputs": [
    {
     "name": "stdout",
     "output_type": "stream",
     "text": [
      "101/101 [==============================] - 1s 4ms/step - loss: 1.1645 - acc: 0.6909\n"
     ]
    },
    {
     "data": {
      "text/plain": [
       "[1.1644909381866455, 0.690852701663971]"
      ]
     },
     "execution_count": 18,
     "metadata": {},
     "output_type": "execute_result"
    }
   ],
   "source": [
    "base_model.evaluate(x_test,y_test)"
   ]
  },
  {
   "cell_type": "code",
   "execution_count": 19,
   "id": "36ab53f7",
   "metadata": {},
   "outputs": [
    {
     "name": "stdout",
     "output_type": "stream",
     "text": [
      "              precision    recall  f1-score   support\n",
      "\n",
      "         neg       0.73      0.71      0.72      1122\n",
      "           n       0.59      0.63      0.61      1000\n",
      "         pos       0.75      0.72      0.74      1103\n",
      "\n",
      "    accuracy                           0.69      3225\n",
      "   macro avg       0.69      0.69      0.69      3225\n",
      "weighted avg       0.69      0.69      0.69      3225\n",
      "\n"
     ]
    }
   ],
   "source": [
    "pred=base_model.predict(x_test)\n",
    "pred=np.argmax(pred, axis=1)\n",
    "ytest=np.argmax(y_test, axis=1)\n",
    "# reduce to 1d array\n",
    "print(classification_report(pred, ytest, target_names=['neg', 'n', 'pos']))"
   ]
  },
  {
   "cell_type": "code",
   "execution_count": 30,
   "id": "52204334",
   "metadata": {},
   "outputs": [
    {
     "name": "stdout",
     "output_type": "stream",
     "text": [
      "Epoch 1/10\n",
      "343/343 [==============================] - 7s 18ms/step - loss: 0.7578 - acc: 0.6852 - val_loss: 0.6570 - val_acc: 0.7245\n",
      "Epoch 2/10\n",
      "343/343 [==============================] - 6s 17ms/step - loss: 0.5352 - acc: 0.7818 - val_loss: 0.6548 - val_acc: 0.7189\n",
      "Epoch 3/10\n",
      "343/343 [==============================] - 6s 18ms/step - loss: 0.4541 - acc: 0.8182 - val_loss: 0.6861 - val_acc: 0.7121\n",
      "Epoch 4/10\n",
      "343/343 [==============================] - 6s 17ms/step - loss: 0.3995 - acc: 0.8444 - val_loss: 0.7186 - val_acc: 0.7075\n",
      "Epoch 5/10\n",
      "343/343 [==============================] - 6s 17ms/step - loss: 0.3527 - acc: 0.8632 - val_loss: 0.7737 - val_acc: 0.6961\n",
      "Epoch 6/10\n",
      "343/343 [==============================] - 6s 18ms/step - loss: 0.3142 - acc: 0.8820 - val_loss: 0.8082 - val_acc: 0.7003\n",
      "Epoch 7/10\n",
      "343/343 [==============================] - 6s 18ms/step - loss: 0.2816 - acc: 0.8947 - val_loss: 0.8539 - val_acc: 0.6992\n",
      "Epoch 8/10\n",
      "343/343 [==============================] - 6s 17ms/step - loss: 0.2495 - acc: 0.9095 - val_loss: 0.9063 - val_acc: 0.6956\n",
      "Epoch 9/10\n",
      "343/343 [==============================] - 6s 18ms/step - loss: 0.2238 - acc: 0.9169 - val_loss: 0.9672 - val_acc: 0.6910\n",
      "Epoch 10/10\n",
      "343/343 [==============================] - 6s 18ms/step - loss: 0.1993 - acc: 0.9290 - val_loss: 1.0233 - val_acc: 0.6873\n"
     ]
    }
   ],
   "source": [
    "# creaza modelul---------------256--------------\n",
    "base_model = Sequential()\n",
    "base_model.add(Dense(256, input_shape =(max_features,) , activation = 'relu'))\n",
    "base_model.add(Dense(3, activation = 'softmax'))\n",
    "\n",
    "# compile and fit\n",
    "base_model.compile(optimizer='rmsprop',\n",
    "                   loss='categorical_crossentropy',\n",
    "                   metrics=['acc'])\n",
    "history = base_model.fit(x_train,y_train,\n",
    "                         epochs=10,\n",
    "                         batch_size=32,\n",
    "                         validation_split=0.15)"
   ]
  },
  {
   "cell_type": "code",
   "execution_count": 31,
   "id": "9b7d4bc5",
   "metadata": {},
   "outputs": [
    {
     "data": {
      "image/png": "[encoded data removed]",
      "text/plain": [
       "<Figure size 432x288 with 1 Axes>"
      ]
     },
     "metadata": {
      "needs_background": "light"
     },
     "output_type": "display_data"
    },
    {
     "data": {
      "image/png": "[encoded data removed]",
      "text/plain": [
       "<Figure size 432x288 with 1 Axes>"
      ]
     },
     "metadata": {
      "needs_background": "light"
     },
     "output_type": "display_data"
    }
   ],
   "source": [
    "plot_graphs(history)"
   ]
  },
  {
   "cell_type": "code",
   "execution_count": 32,
   "id": "1271d061",
   "metadata": {},
   "outputs": [
    {
     "name": "stdout",
     "output_type": "stream",
     "text": [
      "101/101 [==============================] - 0s 2ms/step - loss: 0.9842 - acc: 0.6998\n"
     ]
    },
    {
     "data": {
      "text/plain": [
       "[0.9842157959938049, 0.6998449563980103]"
      ]
     },
     "execution_count": 32,
     "metadata": {},
     "output_type": "execute_result"
    }
   ],
   "source": [
    "base_model.evaluate(x_test,y_test)"
   ]
  },
  {
   "cell_type": "code",
   "execution_count": 33,
   "id": "1c8eeaa4",
   "metadata": {},
   "outputs": [
    {
     "name": "stdout",
     "output_type": "stream",
     "text": [
      "              precision    recall  f1-score   support\n",
      "\n",
      "         neg       0.70      0.74      0.72      1029\n",
      "           n       0.61      0.64      0.62      1030\n",
      "         pos       0.79      0.72      0.75      1166\n",
      "\n",
      "    accuracy                           0.70      3225\n",
      "   macro avg       0.70      0.70      0.70      3225\n",
      "weighted avg       0.70      0.70      0.70      3225\n",
      "\n"
     ]
    }
   ],
   "source": [
    "pred=base_model.predict(x_test)\n",
    "pred=np.argmax(pred, axis=1)\n",
    "ytest=np.argmax(y_test, axis=1)\n",
    "# reduce to 1d array\n",
    "print(classification_report(pred, ytest, target_names=['neg', 'n', 'pos']))"
   ]
  },
  {
   "cell_type": "code",
   "execution_count": 35,
   "id": "0d91a0b6",
   "metadata": {},
   "outputs": [
    {
     "name": "stdout",
     "output_type": "stream",
     "text": [
      "Epoch 1/10\n",
      "343/343 [==============================] - 4s 11ms/step - loss: 0.8001 - acc: 0.6881 - val_loss: 0.6741 - val_acc: 0.7225\n",
      "Epoch 2/10\n",
      "343/343 [==============================] - 4s 10ms/step - loss: 0.5620 - acc: 0.7715 - val_loss: 0.6555 - val_acc: 0.7127\n",
      "Epoch 3/10\n",
      "343/343 [==============================] - 3s 10ms/step - loss: 0.4850 - acc: 0.8076 - val_loss: 0.6685 - val_acc: 0.7178\n",
      "Epoch 4/10\n",
      "343/343 [==============================] - 3s 10ms/step - loss: 0.4325 - acc: 0.8274 - val_loss: 0.7132 - val_acc: 0.7116\n",
      "Epoch 5/10\n",
      "343/343 [==============================] - 3s 10ms/step - loss: 0.3934 - acc: 0.8452 - val_loss: 0.7173 - val_acc: 0.7101\n",
      "Epoch 6/10\n",
      "343/343 [==============================] - 3s 9ms/step - loss: 0.3594 - acc: 0.8631 - val_loss: 0.7459 - val_acc: 0.7018\n",
      "Epoch 7/10\n",
      "343/343 [==============================] - 3s 9ms/step - loss: 0.3302 - acc: 0.8753 - val_loss: 0.7793 - val_acc: 0.6992\n",
      "Epoch 8/10\n",
      "343/343 [==============================] - 3s 9ms/step - loss: 0.3040 - acc: 0.8865 - val_loss: 0.8159 - val_acc: 0.6997\n",
      "Epoch 9/10\n",
      "343/343 [==============================] - 3s 9ms/step - loss: 0.2787 - acc: 0.8976 - val_loss: 0.8553 - val_acc: 0.6956\n",
      "Epoch 10/10\n",
      "343/343 [==============================] - 3s 9ms/step - loss: 0.2572 - acc: 0.9042 - val_loss: 0.9003 - val_acc: 0.6951\n"
     ]
    }
   ],
   "source": [
    "# creaza modelul---------------128---------------\n",
    "base_model = Sequential()\n",
    "base_model.add(Dense(128, input_shape =(max_features,) , activation = 'relu'))\n",
    "base_model.add(Dense(3, activation = 'softmax'))\n",
    "\n",
    "# compile and fit\n",
    "base_model.compile(optimizer='rmsprop',\n",
    "                   loss='categorical_crossentropy',\n",
    "                   metrics=['acc'])\n",
    "history = base_model.fit(x_train,y_train,\n",
    "                         epochs=10,\n",
    "                         batch_size=32,\n",
    "                         validation_split=0.15)"
   ]
  },
  {
   "cell_type": "code",
   "execution_count": 36,
   "id": "7b6f61c4",
   "metadata": {},
   "outputs": [
    {
     "data": {
      "image/png": "[encoded data removed]",
      "text/plain": [
       "<Figure size 432x288 with 1 Axes>"
      ]
     },
     "metadata": {
      "needs_background": "light"
     },
     "output_type": "display_data"
    },
    {
     "data": {
      "image/png": "[encoded data removed]",
      "text/plain": [
       "<Figure size 432x288 with 1 Axes>"
      ]
     },
     "metadata": {
      "needs_background": "light"
     },
     "output_type": "display_data"
    }
   ],
   "source": [
    "plot_graphs(history)"
   ]
  },
  {
   "cell_type": "code",
   "execution_count": 37,
   "id": "18cee040",
   "metadata": {},
   "outputs": [
    {
     "name": "stdout",
     "output_type": "stream",
     "text": [
      "101/101 [==============================] - 0s 2ms/step - loss: 0.8615 - acc: 0.7095\n"
     ]
    },
    {
     "data": {
      "text/plain": [
       "[0.861508309841156, 0.7094573378562927]"
      ]
     },
     "execution_count": 37,
     "metadata": {},
     "output_type": "execute_result"
    }
   ],
   "source": [
    "base_model.evaluate(x_test,y_test)"
   ]
  },
  {
   "cell_type": "code",
   "execution_count": 38,
   "id": "d0a18cb0",
   "metadata": {},
   "outputs": [
    {
     "name": "stdout",
     "output_type": "stream",
     "text": [
      "              precision    recall  f1-score   support\n",
      "\n",
      "         neg       0.72      0.74      0.73      1060\n",
      "           n       0.61      0.66      0.63      1000\n",
      "         pos       0.80      0.72      0.76      1165\n",
      "\n",
      "    accuracy                           0.71      3225\n",
      "   macro avg       0.71      0.71      0.71      3225\n",
      "weighted avg       0.71      0.71      0.71      3225\n",
      "\n"
     ]
    }
   ],
   "source": [
    "pred=base_model.predict(x_test)\n",
    "pred=np.argmax(pred, axis=1)\n",
    "ytest=np.argmax(y_test, axis=1)\n",
    "# reduce to 1d array\n",
    "print(classification_report(pred, ytest, target_names=['neg', 'n', 'pos']))"
   ]
  },
  {
   "cell_type": "code",
   "execution_count": 39,
   "id": "04caf112",
   "metadata": {},
   "outputs": [
    {
     "name": "stdout",
     "output_type": "stream",
     "text": [
      "Epoch 1/10\n",
      "343/343 [==============================] - 3s 6ms/step - loss: 0.8513 - acc: 0.6681 - val_loss: 0.7056 - val_acc: 0.7152\n",
      "Epoch 2/10\n",
      "343/343 [==============================] - 2s 7ms/step - loss: 0.5964 - acc: 0.7614 - val_loss: 0.6610 - val_acc: 0.7225\n",
      "Epoch 3/10\n",
      "343/343 [==============================] - 2s 7ms/step - loss: 0.5158 - acc: 0.7932 - val_loss: 0.6612 - val_acc: 0.7096\n",
      "Epoch 4/10\n",
      "343/343 [==============================] - 2s 7ms/step - loss: 0.4664 - acc: 0.8144 - val_loss: 0.6728 - val_acc: 0.7127\n",
      "Epoch 5/10\n",
      "343/343 [==============================] - 2s 6ms/step - loss: 0.4288 - acc: 0.8299 - val_loss: 0.6956 - val_acc: 0.7101\n",
      "Epoch 6/10\n",
      "343/343 [==============================] - 2s 6ms/step - loss: 0.3974 - acc: 0.8442 - val_loss: 0.7200 - val_acc: 0.7039\n",
      "Epoch 7/10\n",
      "343/343 [==============================] - 2s 7ms/step - loss: 0.3716 - acc: 0.8605 - val_loss: 0.7433 - val_acc: 0.7028\n",
      "Epoch 8/10\n",
      "343/343 [==============================] - 2s 7ms/step - loss: 0.3480 - acc: 0.8699 - val_loss: 0.7683 - val_acc: 0.6987\n",
      "Epoch 9/10\n",
      "343/343 [==============================] - 2s 6ms/step - loss: 0.3280 - acc: 0.8766 - val_loss: 0.7844 - val_acc: 0.6992\n",
      "Epoch 10/10\n",
      "343/343 [==============================] - 2s 7ms/step - loss: 0.3075 - acc: 0.8861 - val_loss: 0.8091 - val_acc: 0.6951\n"
     ]
    }
   ],
   "source": [
    "# creaza modelul--------------64--------------\n",
    "base_model = Sequential()\n",
    "base_model.add(Dense(64, input_shape =(max_features,) , activation = 'relu'))\n",
    "base_model.add(Dense(3, activation = 'softmax'))\n",
    "\n",
    "# compile and fit\n",
    "base_model.compile(optimizer='rmsprop',\n",
    "                   loss='categorical_crossentropy',\n",
    "                   metrics=['acc'])\n",
    "history = base_model.fit(x_train,y_train,\n",
    "                         epochs=10,\n",
    "                         batch_size=32,\n",
    "                         validation_split=0.15)"
   ]
  },
  {
   "cell_type": "code",
   "execution_count": 40,
   "id": "8d062208",
   "metadata": {},
   "outputs": [
    {
     "data": {
      "image/png": "[encoded data removed]",
      "text/plain": [
       "<Figure size 432x288 with 1 Axes>"
      ]
     },
     "metadata": {
      "needs_background": "light"
     },
     "output_type": "display_data"
    },
    {
     "data": {
      "image/png": "[encoded data removed]",
      "text/plain": [
       "<Figure size 432x288 with 1 Axes>"
      ]
     },
     "metadata": {
      "needs_background": "light"
     },
     "output_type": "display_data"
    }
   ],
   "source": [
    "plot_graphs(history)"
   ]
  },
  {
   "cell_type": "code",
   "execution_count": 41,
   "id": "998e13a9",
   "metadata": {},
   "outputs": [
    {
     "name": "stdout",
     "output_type": "stream",
     "text": [
      "101/101 [==============================] - 0s 1ms/step - loss: 0.7954 - acc: 0.7060\n"
     ]
    },
    {
     "data": {
      "text/plain": [
       "[0.7954440712928772, 0.7060465216636658]"
      ]
     },
     "execution_count": 41,
     "metadata": {},
     "output_type": "execute_result"
    }
   ],
   "source": [
    "base_model.evaluate(x_test,y_test)"
   ]
  },
  {
   "cell_type": "code",
   "execution_count": 42,
   "id": "710b7db5",
   "metadata": {},
   "outputs": [
    {
     "name": "stdout",
     "output_type": "stream",
     "text": [
      "              precision    recall  f1-score   support\n",
      "\n",
      "         neg       0.76      0.72      0.74      1145\n",
      "           n       0.60      0.65      0.63      1002\n",
      "         pos       0.76      0.74      0.75      1078\n",
      "\n",
      "    accuracy                           0.71      3225\n",
      "   macro avg       0.71      0.70      0.70      3225\n",
      "weighted avg       0.71      0.71      0.71      3225\n",
      "\n"
     ]
    }
   ],
   "source": [
    "pred=base_model.predict(x_test)\n",
    "pred=np.argmax(pred, axis=1)\n",
    "ytest=np.argmax(y_test, axis=1)\n",
    "# reduce to 1d array\n",
    "print(classification_report(pred, ytest, target_names=['neg', 'n', 'pos']))"
   ]
  },
  {
   "cell_type": "code",
   "execution_count": 112,
   "id": "9ee8e23a",
   "metadata": {},
   "outputs": [
    {
     "name": "stdout",
     "output_type": "stream",
     "text": [
      "Epoch 1/10\n",
      "343/343 [==============================] - 16s 36ms/step - loss: 0.8929 - acc: 0.6666 - val_loss: 0.7482 - val_acc: 0.7034\n",
      "Epoch 2/10\n",
      "343/343 [==============================] - 12s 34ms/step - loss: 0.6377 - acc: 0.7502 - val_loss: 0.6814 - val_acc: 0.7209\n",
      "Epoch 3/10\n",
      "343/343 [==============================] - 12s 36ms/step - loss: 0.5507 - acc: 0.7791 - val_loss: 0.6612 - val_acc: 0.7116\n",
      "Epoch 4/10\n",
      "343/343 [==============================] - 12s 35ms/step - loss: 0.5010 - acc: 0.8022 - val_loss: 0.6639 - val_acc: 0.7101\n",
      "Epoch 5/10\n",
      "343/343 [==============================] - 11s 32ms/step - loss: 0.4638 - acc: 0.8207 - val_loss: 0.6744 - val_acc: 0.7075\n",
      "Epoch 6/10\n",
      "343/343 [==============================] - 12s 34ms/step - loss: 0.4344 - acc: 0.8309 - val_loss: 0.6892 - val_acc: 0.7080\n",
      "Epoch 7/10\n",
      "343/343 [==============================] - 12s 34ms/step - loss: 0.4093 - acc: 0.8398 - val_loss: 0.7032 - val_acc: 0.7116\n",
      "Epoch 8/10\n",
      "343/343 [==============================] - 12s 35ms/step - loss: 0.3870 - acc: 0.8508 - val_loss: 0.7225 - val_acc: 0.7075\n",
      "Epoch 9/10\n",
      "343/343 [==============================] - 12s 36ms/step - loss: 0.3680 - acc: 0.8607 - val_loss: 0.7384 - val_acc: 0.7028\n",
      "Epoch 10/10\n",
      "343/343 [==============================] - 12s 36ms/step - loss: 0.3511 - acc: 0.8687 - val_loss: 0.7579 - val_acc: 0.7008\n"
     ]
    }
   ],
   "source": [
    "# creaza modelul-------------------32--------------\n",
    "base_model = Sequential()\n",
    "base_model.add(Dense(32, input_shape =(max_features,) , activation = 'relu'))\n",
    "base_model.add(Dense(3, activation = 'softmax'))\n",
    "\n",
    "# compile and fit\n",
    "base_model.compile(optimizer='rmsprop',\n",
    "                   loss='categorical_crossentropy',\n",
    "                   metrics=['acc'])\n",
    "history = base_model.fit(x_train,y_train,\n",
    "                         epochs=10,\n",
    "                         batch_size=32,\n",
    "                         validation_split=0.15)"
   ]
  },
  {
   "cell_type": "code",
   "execution_count": 113,
   "id": "709a79ef",
   "metadata": {},
   "outputs": [
    {
     "data": {
      "image/png": "[encoded data removed]",
      "text/plain": [
       "<Figure size 432x288 with 1 Axes>"
      ]
     },
     "metadata": {
      "needs_background": "light"
     },
     "output_type": "display_data"
    },
    {
     "data": {
      "image/png": "[encoded data removed]",
      "text/plain": [
       "<Figure size 432x288 with 1 Axes>"
      ]
     },
     "metadata": {
      "needs_background": "light"
     },
     "output_type": "display_data"
    }
   ],
   "source": [
    "plot_graphs(history)"
   ]
  },
  {
   "cell_type": "code",
   "execution_count": 114,
   "id": "9593bae7",
   "metadata": {},
   "outputs": [
    {
     "name": "stdout",
     "output_type": "stream",
     "text": [
      "101/101 [==============================] - 12s 1ms/step - loss: 0.7368 - acc: 0.7212\n"
     ]
    },
    {
     "data": {
      "text/plain": [
       "[0.7368239760398865, 0.7212402820587158]"
      ]
     },
     "execution_count": 114,
     "metadata": {},
     "output_type": "execute_result"
    }
   ],
   "source": [
    "base_model.evaluate(x_test,y_test)"
   ]
  },
  {
   "cell_type": "code",
   "execution_count": 115,
   "id": "e8633f39",
   "metadata": {},
   "outputs": [
    {
     "name": "stdout",
     "output_type": "stream",
     "text": [
      "              precision    recall  f1-score   support\n",
      "\n",
      "         neg       0.77      0.74      0.76      1128\n",
      "           n       0.60      0.68      0.64       958\n",
      "         pos       0.79      0.73      0.76      1139\n",
      "\n",
      "    accuracy                           0.72      3225\n",
      "   macro avg       0.72      0.72      0.72      3225\n",
      "weighted avg       0.73      0.72      0.72      3225\n",
      "\n"
     ]
    }
   ],
   "source": [
    "pred=base_model.predict(x_test)\n",
    "pred=np.argmax(pred, axis=1)\n",
    "ytest=np.argmax(y_test, axis=1)\n",
    "# reduce to 1d array\n",
    "print(classification_report(pred, ytest, target_names=['neg', 'n', 'pos']))"
   ]
  },
  {
   "cell_type": "code",
   "execution_count": 108,
   "id": "52535ab2",
   "metadata": {},
   "outputs": [
    {
     "name": "stdout",
     "output_type": "stream",
     "text": [
      "Epoch 1/10\n",
      "343/343 [==============================] - 17s 41ms/step - loss: 0.8380 - acc: 0.6800 - val_loss: 0.6953 - val_acc: 0.7189\n",
      "Epoch 2/10\n",
      "343/343 [==============================] - 14s 40ms/step - loss: 0.5924 - acc: 0.7622 - val_loss: 0.6542 - val_acc: 0.7214\n",
      "Epoch 3/10\n",
      "343/343 [==============================] - 13s 38ms/step - loss: 0.5143 - acc: 0.7945 - val_loss: 0.6618 - val_acc: 0.7163\n",
      "Epoch 4/10\n",
      "343/343 [==============================] - 13s 39ms/step - loss: 0.4648 - acc: 0.8158 - val_loss: 0.6728 - val_acc: 0.7147\n",
      "Epoch 5/10\n",
      "343/343 [==============================] - 14s 39ms/step - loss: 0.4272 - acc: 0.8335 - val_loss: 0.6915 - val_acc: 0.7127\n",
      "Epoch 6/10\n",
      "343/343 [==============================] - 13s 38ms/step - loss: 0.3953 - acc: 0.8485 - val_loss: 0.7096 - val_acc: 0.7116\n",
      "Epoch 7/10\n",
      "343/343 [==============================] - 13s 38ms/step - loss: 0.3682 - acc: 0.8608 - val_loss: 0.7386 - val_acc: 0.7111\n",
      "Epoch 8/10\n",
      "343/343 [==============================] - 13s 38ms/step - loss: 0.3451 - acc: 0.8700 - val_loss: 0.7565 - val_acc: 0.7070\n",
      "Epoch 9/10\n",
      "343/343 [==============================] - 13s 38ms/step - loss: 0.3231 - acc: 0.8807 - val_loss: 0.7832 - val_acc: 0.7018\n",
      "Epoch 10/10\n",
      "343/343 [==============================] - 13s 39ms/step - loss: 0.3041 - acc: 0.8875 - val_loss: 0.8117 - val_acc: 0.6997\n"
     ]
    }
   ],
   "source": [
    "# creaza modelul-------------------16--------------\n",
    "base_model = Sequential()\n",
    "base_model.add(Dense(64, input_shape =(max_features,) , activation = 'relu'))\n",
    "base_model.add(Dense(3, activation = 'softmax'))\n",
    "\n",
    "# compile and fit\n",
    "base_model.compile(optimizer='rmsprop',\n",
    "                   loss='categorical_crossentropy',\n",
    "                   metrics=['acc'])\n",
    "history = base_model.fit(x_train,y_train,\n",
    "                         epochs=10,\n",
    "                         batch_size=32,\n",
    "                         validation_split=0.15)"
   ]
  },
  {
   "cell_type": "code",
   "execution_count": 109,
   "id": "d47975d1",
   "metadata": {},
   "outputs": [
    {
     "data": {
      "image/png": "[encoded data removed]",
      "text/plain": [
       "<Figure size 432x288 with 1 Axes>"
      ]
     },
     "metadata": {
      "needs_background": "light"
     },
     "output_type": "display_data"
    },
    {
     "data": {
      "image/png": "[encoded data removed]",
      "text/plain": [
       "<Figure size 432x288 with 1 Axes>"
      ]
     },
     "metadata": {
      "needs_background": "light"
     },
     "output_type": "display_data"
    }
   ],
   "source": [
    "plot_graphs(history)"
   ]
  },
  {
   "cell_type": "code",
   "execution_count": 110,
   "id": "fc30be7e",
   "metadata": {},
   "outputs": [
    {
     "name": "stdout",
     "output_type": "stream",
     "text": [
      "101/101 [==============================] - 11s 1ms/step - loss: 0.7930 - acc: 0.7098\n"
     ]
    },
    {
     "data": {
      "text/plain": [
       "[0.7930408120155334, 0.7097674608230591]"
      ]
     },
     "execution_count": 110,
     "metadata": {},
     "output_type": "execute_result"
    }
   ],
   "source": [
    "base_model.evaluate(x_test,y_test)"
   ]
  },
  {
   "cell_type": "code",
   "execution_count": 111,
   "id": "d885cc63",
   "metadata": {},
   "outputs": [
    {
     "name": "stdout",
     "output_type": "stream",
     "text": [
      "              precision    recall  f1-score   support\n",
      "\n",
      "         neg       0.72      0.75      0.73      1050\n",
      "           n       0.63      0.65      0.64      1050\n",
      "         pos       0.78      0.73      0.76      1125\n",
      "\n",
      "    accuracy                           0.71      3225\n",
      "   macro avg       0.71      0.71      0.71      3225\n",
      "weighted avg       0.71      0.71      0.71      3225\n",
      "\n"
     ]
    }
   ],
   "source": [
    "pred=base_model.predict(x_test)\n",
    "pred=np.argmax(pred, axis=1)\n",
    "ytest=np.argmax(y_test, axis=1)\n",
    "# reduce to 1d array\n",
    "print(classification_report(pred, ytest, target_names=['neg', 'n', 'pos']))"
   ]
  },
  {
   "cell_type": "code",
   "execution_count": 104,
   "id": "bb39adc4",
   "metadata": {},
   "outputs": [
    {
     "name": "stdout",
     "output_type": "stream",
     "text": [
      "Epoch 1/10\n",
      "343/343 [==============================] - 16s 36ms/step - loss: 0.9916 - acc: 0.5696 - val_loss: 0.8925 - val_acc: 0.6010\n",
      "Epoch 2/10\n",
      "343/343 [==============================] - 12s 36ms/step - loss: 0.8057 - acc: 0.6565 - val_loss: 0.7847 - val_acc: 0.6744\n",
      "Epoch 3/10\n",
      "343/343 [==============================] - 12s 36ms/step - loss: 0.7056 - acc: 0.7202 - val_loss: 0.7312 - val_acc: 0.7023\n",
      "Epoch 4/10\n",
      "343/343 [==============================] - 13s 37ms/step - loss: 0.6414 - acc: 0.7548 - val_loss: 0.7014 - val_acc: 0.7116\n",
      "Epoch 5/10\n",
      "343/343 [==============================] - 13s 39ms/step - loss: 0.5939 - acc: 0.7694 - val_loss: 0.6871 - val_acc: 0.7111\n",
      "Epoch 6/10\n",
      "343/343 [==============================] - 12s 36ms/step - loss: 0.5584 - acc: 0.7823 - val_loss: 0.6814 - val_acc: 0.7090\n",
      "Epoch 7/10\n",
      "343/343 [==============================] - 12s 36ms/step - loss: 0.5307 - acc: 0.7912 - val_loss: 0.6838 - val_acc: 0.7090\n",
      "Epoch 8/10\n",
      "343/343 [==============================] - 12s 36ms/step - loss: 0.5094 - acc: 0.8009 - val_loss: 0.6884 - val_acc: 0.7070\n",
      "Epoch 9/10\n",
      "343/343 [==============================] - 12s 36ms/step - loss: 0.4916 - acc: 0.8081 - val_loss: 0.6946 - val_acc: 0.7039\n",
      "Epoch 10/10\n",
      "343/343 [==============================] - 13s 37ms/step - loss: 0.4758 - acc: 0.8148 - val_loss: 0.7042 - val_acc: 0.6992\n"
     ]
    }
   ],
   "source": [
    "# creaza modelul------------------------8--------------\n",
    "base_model = Sequential()\n",
    "base_model.add(Dense(8, input_shape =(max_features,) , activation = 'relu'))\n",
    "base_model.add(Dense(3, activation = 'softmax'))\n",
    "\n",
    "# compile and fit\n",
    "base_model.compile(optimizer='rmsprop',\n",
    "                   loss='categorical_crossentropy',\n",
    "                   metrics=['acc'])\n",
    "history = base_model.fit(x_train,y_train,\n",
    "                         epochs=10,\n",
    "                         batch_size=32,\n",
    "                         validation_split=0.15)"
   ]
  },
  {
   "cell_type": "code",
   "execution_count": 105,
   "id": "ff1762e6",
   "metadata": {},
   "outputs": [
    {
     "data": {
      "image/png": "[encoded data removed]",
      "text/plain": [
       "<Figure size 432x288 with 1 Axes>"
      ]
     },
     "metadata": {
      "needs_background": "light"
     },
     "output_type": "display_data"
    },
    {
     "data": {
      "image/png": "[encoded data removed]",
      "text/plain": [
       "<Figure size 432x288 with 1 Axes>"
      ]
     },
     "metadata": {
      "needs_background": "light"
     },
     "output_type": "display_data"
    }
   ],
   "source": [
    "plot_graphs(history)"
   ]
  },
  {
   "cell_type": "code",
   "execution_count": 106,
   "id": "b8b556df",
   "metadata": {},
   "outputs": [
    {
     "name": "stdout",
     "output_type": "stream",
     "text": [
      "101/101 [==============================] - 12s 1ms/step - loss: 0.6897 - acc: 0.7172\n"
     ]
    },
    {
     "data": {
      "text/plain": [
       "[0.6897046566009521, 0.7172092795372009]"
      ]
     },
     "execution_count": 106,
     "metadata": {},
     "output_type": "execute_result"
    }
   ],
   "source": [
    "base_model.evaluate(x_test,y_test)"
   ]
  },
  {
   "cell_type": "code",
   "execution_count": 107,
   "id": "323f653b",
   "metadata": {},
   "outputs": [
    {
     "name": "stdout",
     "output_type": "stream",
     "text": [
      "              precision    recall  f1-score   support\n",
      "\n",
      "         neg       0.76      0.76      0.76      1090\n",
      "           n       0.62      0.65      0.63      1020\n",
      "         pos       0.78      0.73      0.75      1115\n",
      "\n",
      "    accuracy                           0.72      3225\n",
      "   macro avg       0.72      0.72      0.72      3225\n",
      "weighted avg       0.72      0.72      0.72      3225\n",
      "\n"
     ]
    }
   ],
   "source": [
    "pred=base_model.predict(x_test)\n",
    "pred=np.argmax(pred, axis=1)\n",
    "ytest=np.argmax(y_test, axis=1)\n",
    "# reduce to 1d array\n",
    "print(classification_report(pred, ytest, target_names=['neg', 'n', 'pos']))"
   ]
  },
  {
   "cell_type": "code",
   "execution_count": null,
   "id": "ba7315ee",
   "metadata": {},
   "outputs": [],
   "source": [
    "==================== experimente cu doua straturi dense + output ======================================================="
   ]
  },
  {
   "cell_type": "code",
   "execution_count": 28,
   "id": "55d9e3f0",
   "metadata": {},
   "outputs": [
    {
     "name": "stdout",
     "output_type": "stream",
     "text": [
      "Epoch 1/10\n",
      "343/343 [==============================] - 1s 2ms/step - loss: 0.8396 - acc: 0.6685 - val_loss: 0.6811 - val_acc: 0.7209\n",
      "Epoch 2/10\n",
      "343/343 [==============================] - 1s 2ms/step - loss: 0.5638 - acc: 0.7707 - val_loss: 0.6998 - val_acc: 0.7137\n",
      "Epoch 3/10\n",
      "343/343 [==============================] - 1s 2ms/step - loss: 0.4793 - acc: 0.8075 - val_loss: 0.6808 - val_acc: 0.7111\n",
      "Epoch 4/10\n",
      "343/343 [==============================] - 1s 2ms/step - loss: 0.4192 - acc: 0.8343 - val_loss: 0.7122 - val_acc: 0.7111\n",
      "Epoch 5/10\n",
      "343/343 [==============================] - 1s 2ms/step - loss: 0.3714 - acc: 0.8605 - val_loss: 0.7540 - val_acc: 0.6992\n",
      "Epoch 6/10\n",
      "343/343 [==============================] - 1s 2ms/step - loss: 0.3298 - acc: 0.8769 - val_loss: 0.8013 - val_acc: 0.6987\n",
      "Epoch 7/10\n",
      "343/343 [==============================] - 1s 2ms/step - loss: 0.2952 - acc: 0.8914 - val_loss: 0.8546 - val_acc: 0.6899\n",
      "Epoch 8/10\n",
      "343/343 [==============================] - 1s 2ms/step - loss: 0.2643 - acc: 0.9024 - val_loss: 0.9208 - val_acc: 0.6853\n",
      "Epoch 9/10\n",
      "343/343 [==============================] - 1s 2ms/step - loss: 0.2363 - acc: 0.9153 - val_loss: 0.9788 - val_acc: 0.6879\n",
      "Epoch 10/10\n",
      "343/343 [==============================] - 1s 2ms/step - loss: 0.2123 - acc: 0.9256 - val_loss: 1.0468 - val_acc: 0.6817\n"
     ]
    }
   ],
   "source": [
    "# creaza modelul--------32---32----\n",
    "model = Sequential()\n",
    "model.add(Dense(32, input_shape =(max_features,) , activation = 'relu'))\n",
    "model.add(Dense(32, activation = 'relu'))\n",
    "model.add(Dense(3, activation = 'softmax'))\n",
    "\n",
    "# compile and fit\n",
    "model.compile(optimizer='rmsprop',\n",
    "                   loss='categorical_crossentropy',\n",
    "                   metrics=['acc'])\n",
    "history = model.fit(x_train,y_train,\n",
    "                         epochs=10,\n",
    "                         batch_size=32,\n",
    "                         validation_split=0.15)"
   ]
  },
  {
   "cell_type": "code",
   "execution_count": 29,
   "id": "8024058a",
   "metadata": {},
   "outputs": [
    {
     "data": {
      "image/png": "[encoded data removed]",
      "text/plain": [
       "<Figure size 432x288 with 1 Axes>"
      ]
     },
     "metadata": {
      "needs_background": "light"
     },
     "output_type": "display_data"
    },
    {
     "data": {
      "image/png": "[encoded data removed]",
      "text/plain": [
       "<Figure size 432x288 with 1 Axes>"
      ]
     },
     "metadata": {
      "needs_background": "light"
     },
     "output_type": "display_data"
    }
   ],
   "source": [
    "plot_graphs(history)"
   ]
  },
  {
   "cell_type": "code",
   "execution_count": 30,
   "id": "0b8db333",
   "metadata": {},
   "outputs": [
    {
     "name": "stdout",
     "output_type": "stream",
     "text": [
      "101/101 [==============================] - 0s 685us/step - loss: 1.0083 - acc: 0.6989\n"
     ]
    },
    {
     "data": {
      "text/plain": [
       "[1.0083087682724, 0.6989147067070007]"
      ]
     },
     "execution_count": 30,
     "metadata": {},
     "output_type": "execute_result"
    }
   ],
   "source": [
    "model.evaluate(x_test,y_test)"
   ]
  },
  {
   "cell_type": "code",
   "execution_count": 31,
   "id": "8ef63536",
   "metadata": {},
   "outputs": [
    {
     "name": "stdout",
     "output_type": "stream",
     "text": [
      "              precision    recall  f1-score   support\n",
      "\n",
      "         neg       0.74      0.72      0.73      1125\n",
      "           n       0.58      0.66      0.61       954\n",
      "         pos       0.78      0.72      0.75      1146\n",
      "\n",
      "    accuracy                           0.70      3225\n",
      "   macro avg       0.70      0.70      0.70      3225\n",
      "weighted avg       0.71      0.70      0.70      3225\n",
      "\n"
     ]
    }
   ],
   "source": [
    "pred=model.predict(x_test)\n",
    "pred=np.argmax(pred, axis=1)\n",
    "ytest=np.argmax(y_test, axis=1)\n",
    "# reduce to 1d array\n",
    "print(classification_report(pred, ytest, target_names=['neg', 'n', 'pos']))"
   ]
  },
  {
   "cell_type": "code",
   "execution_count": 32,
   "id": "a2a5f58f",
   "metadata": {},
   "outputs": [
    {
     "name": "stdout",
     "output_type": "stream",
     "text": [
      "Epoch 1/10\n",
      "343/343 [==============================] - 1s 2ms/step - loss: 0.7994 - acc: 0.6839 - val_loss: 0.6725 - val_acc: 0.7163\n",
      "Epoch 2/10\n",
      "343/343 [==============================] - 1s 2ms/step - loss: 0.5567 - acc: 0.7732 - val_loss: 0.6631 - val_acc: 0.7199\n",
      "Epoch 3/10\n",
      "343/343 [==============================] - 1s 2ms/step - loss: 0.4784 - acc: 0.8094 - val_loss: 0.6845 - val_acc: 0.7132\n",
      "Epoch 4/10\n",
      "343/343 [==============================] - 1s 2ms/step - loss: 0.4221 - acc: 0.8359 - val_loss: 0.7373 - val_acc: 0.7106\n",
      "Epoch 5/10\n",
      "343/343 [==============================] - 1s 2ms/step - loss: 0.3782 - acc: 0.8552 - val_loss: 0.7620 - val_acc: 0.7034\n",
      "Epoch 6/10\n",
      "343/343 [==============================] - 1s 2ms/step - loss: 0.3398 - acc: 0.8722 - val_loss: 0.8056 - val_acc: 0.6977\n",
      "Epoch 7/10\n",
      "343/343 [==============================] - 1s 2ms/step - loss: 0.3058 - acc: 0.8847 - val_loss: 0.8328 - val_acc: 0.6951\n",
      "Epoch 8/10\n",
      "343/343 [==============================] - 1s 2ms/step - loss: 0.2762 - acc: 0.9003 - val_loss: 0.9036 - val_acc: 0.6863\n",
      "Epoch 9/10\n",
      "343/343 [==============================] - 1s 2ms/step - loss: 0.2467 - acc: 0.9106 - val_loss: 0.9745 - val_acc: 0.6889\n",
      "Epoch 10/10\n",
      "343/343 [==============================] - ETA: 0s - loss: 0.2231 - acc: 0.920 - 1s 2ms/step - loss: 0.2215 - acc: 0.9209 - val_loss: 1.0273 - val_acc: 0.6858\n"
     ]
    }
   ],
   "source": [
    "# creaza modelul--------32---8----\n",
    "model = Sequential()\n",
    "model.add(Dense(32, input_shape =(max_features,) , activation = 'relu'))\n",
    "model.add(Dense(32, activation = 'relu'))\n",
    "model.add(Dense(3, activation = 'softmax'))\n",
    "\n",
    "# compile and fit\n",
    "model.compile(optimizer='rmsprop',\n",
    "                   loss='categorical_crossentropy',\n",
    "                   metrics=['acc'])\n",
    "history = model.fit(x_train,y_train,\n",
    "                         epochs=10,\n",
    "                         batch_size=32,\n",
    "                         validation_split=0.15)"
   ]
  },
  {
   "cell_type": "code",
   "execution_count": 33,
   "id": "1640395c",
   "metadata": {},
   "outputs": [
    {
     "data": {
      "image/png": "[encoded data removed]",
      "text/plain": [
       "<Figure size 432x288 with 1 Axes>"
      ]
     },
     "metadata": {
      "needs_background": "light"
     },
     "output_type": "display_data"
    },
    {
     "data": {
      "image/png": "[encoded data removed]",
      "text/plain": [
       "<Figure size 432x288 with 1 Axes>"
      ]
     },
     "metadata": {
      "needs_background": "light"
     },
     "output_type": "display_data"
    }
   ],
   "source": [
    "plot_graphs(history)"
   ]
  },
  {
   "cell_type": "code",
   "execution_count": 34,
   "id": "73f3b534",
   "metadata": {},
   "outputs": [
    {
     "name": "stdout",
     "output_type": "stream",
     "text": [
      "101/101 [==============================] - 0s 709us/step - loss: 0.9863 - acc: 0.6949\n"
     ]
    },
    {
     "data": {
      "text/plain": [
       "[0.9862771034240723, 0.6948837041854858]"
      ]
     },
     "execution_count": 34,
     "metadata": {},
     "output_type": "execute_result"
    }
   ],
   "source": [
    "model.evaluate(x_test, y_test)"
   ]
  },
  {
   "cell_type": "code",
   "execution_count": 35,
   "id": "d4e64758",
   "metadata": {},
   "outputs": [
    {
     "name": "stdout",
     "output_type": "stream",
     "text": [
      "              precision    recall  f1-score   support\n",
      "\n",
      "         neg       0.72      0.72      0.72      1096\n",
      "           n       0.60      0.64      0.62      1013\n",
      "         pos       0.76      0.72      0.74      1116\n",
      "\n",
      "    accuracy                           0.69      3225\n",
      "   macro avg       0.70      0.69      0.69      3225\n",
      "weighted avg       0.70      0.69      0.70      3225\n",
      "\n"
     ]
    }
   ],
   "source": [
    "pred=model.predict(x_test)\n",
    "pred=np.argmax(pred, axis=1)\n",
    "ytest=np.argmax(y_test, axis=1)\n",
    "# reduce to 1d array\n",
    "print(classification_report(pred, ytest, target_names=['neg', 'n', 'pos']))"
   ]
  },
  {
   "cell_type": "code",
   "execution_count": null,
   "id": "a3fc3a22",
   "metadata": {},
   "outputs": [],
   "source": [
    "===================================  ADAM  =========================================="
   ]
  },
  {
   "cell_type": "code",
   "execution_count": 75,
   "id": "7993ad13",
   "metadata": {},
   "outputs": [
    {
     "name": "stdout",
     "output_type": "stream",
     "text": [
      "Epoch 1/10\n",
      "343/343 [==============================] - 20s 49ms/step - loss: 1.0304 - acc: 0.6028 - val_loss: 0.9348 - val_acc: 0.6966\n",
      "Epoch 2/10\n",
      "343/343 [==============================] - 16s 48ms/step - loss: 0.8114 - acc: 0.7363 - val_loss: 0.7705 - val_acc: 0.7147\n",
      "Epoch 3/10\n",
      "343/343 [==============================] - 17s 48ms/step - loss: 0.6566 - acc: 0.7676 - val_loss: 0.7062 - val_acc: 0.7116\n",
      "Epoch 4/10\n",
      "343/343 [==============================] - 17s 49ms/step - loss: 0.5696 - acc: 0.7938 - val_loss: 0.6812 - val_acc: 0.7121\n",
      "Epoch 5/10\n",
      "343/343 [==============================] - 16s 48ms/step - loss: 0.5116 - acc: 0.8182 - val_loss: 0.6746 - val_acc: 0.7075\n",
      "Epoch 6/10\n",
      "343/343 [==============================] - 17s 48ms/step - loss: 0.4661 - acc: 0.8346 - val_loss: 0.6757 - val_acc: 0.7075\n",
      "Epoch 7/10\n",
      "343/343 [==============================] - 16s 47ms/step - loss: 0.4285 - acc: 0.8506 - val_loss: 0.6827 - val_acc: 0.7080\n",
      "Epoch 8/10\n",
      "343/343 [==============================] - 17s 50ms/step - loss: 0.3952 - acc: 0.8644 - val_loss: 0.6935 - val_acc: 0.7054\n",
      "Epoch 9/10\n",
      "343/343 [==============================] - 17s 48ms/step - loss: 0.3659 - acc: 0.8763 - val_loss: 0.7049 - val_acc: 0.7049\n",
      "Epoch 10/10\n",
      "343/343 [==============================] - 18s 53ms/step - loss: 0.3394 - acc: 0.8871 - val_loss: 0.7190 - val_acc: 0.7018\n"
     ]
    }
   ],
   "source": [
    "# creaza modelul----------------512---------------\n",
    "base_model = Sequential()\n",
    "base_model.add(Dense(512, input_shape =(max_features,) , activation = 'relu'))\n",
    "base_model.add(Dense(3, activation = 'softmax'))\n",
    "\n",
    "# compile and fit\n",
    "base_model.compile(optimizer=Adam(learning_rate=0.0001),\n",
    "                   loss='categorical_crossentropy',\n",
    "                   metrics=['acc'])\n",
    "history = base_model.fit(x_train,y_train,\n",
    "                         epochs=10,\n",
    "                         batch_size=32,\n",
    "                         validation_split=0.15)"
   ]
  },
  {
   "cell_type": "code",
   "execution_count": 76,
   "id": "b94d4e9e",
   "metadata": {},
   "outputs": [
    {
     "data": {
      "image/png": "[encoded data removed]",
      "text/plain": [
       "<Figure size 432x288 with 1 Axes>"
      ]
     },
     "metadata": {
      "needs_background": "light"
     },
     "output_type": "display_data"
    },
    {
     "data": {
      "image/png": "[encoded data removed]",
      "text/plain": [
       "<Figure size 432x288 with 1 Axes>"
      ]
     },
     "metadata": {
      "needs_background": "light"
     },
     "output_type": "display_data"
    }
   ],
   "source": [
    "plot_graphs(history)"
   ]
  },
  {
   "cell_type": "code",
   "execution_count": 77,
   "id": "9eb89c8e",
   "metadata": {},
   "outputs": [
    {
     "name": "stdout",
     "output_type": "stream",
     "text": [
      "101/101 [==============================] - 11s 4ms/step - loss: 0.7054 - acc: 0.7060\n"
     ]
    },
    {
     "data": {
      "text/plain": [
       "[0.7053894400596619, 0.7060465216636658]"
      ]
     },
     "execution_count": 77,
     "metadata": {},
     "output_type": "execute_result"
    }
   ],
   "source": [
    "base_model.evaluate(x_test,y_test)"
   ]
  },
  {
   "cell_type": "code",
   "execution_count": 78,
   "id": "752b44b4",
   "metadata": {},
   "outputs": [
    {
     "name": "stdout",
     "output_type": "stream",
     "text": [
      "              precision    recall  f1-score   support\n",
      "\n",
      "         neg       0.76      0.73      0.75      1126\n",
      "           n       0.59      0.65      0.62       985\n",
      "         pos       0.77      0.73      0.75      1114\n",
      "\n",
      "    accuracy                           0.71      3225\n",
      "   macro avg       0.71      0.70      0.70      3225\n",
      "weighted avg       0.71      0.71      0.71      3225\n",
      "\n"
     ]
    }
   ],
   "source": [
    "pred=base_model.predict(x_test)\n",
    "pred=np.argmax(pred, axis=1)\n",
    "ytest=np.argmax(y_test, axis=1)\n",
    "# reduce to 1d array\n",
    "print(classification_report(pred, ytest, target_names=['neg', 'n', 'pos']))"
   ]
  },
  {
   "cell_type": "code",
   "execution_count": 79,
   "id": "cf5bd717",
   "metadata": {},
   "outputs": [
    {
     "name": "stdout",
     "output_type": "stream",
     "text": [
      "Epoch 1/10\n",
      "343/343 [==============================] - 17s 41ms/step - loss: 1.0536 - acc: 0.5003 - val_loss: 0.9888 - val_acc: 0.6806\n",
      "Epoch 2/10\n",
      "343/343 [==============================] - 13s 39ms/step - loss: 0.8923 - acc: 0.7139 - val_loss: 0.8422 - val_acc: 0.7090\n",
      "Epoch 3/10\n",
      "343/343 [==============================] - 13s 38ms/step - loss: 0.7432 - acc: 0.7539 - val_loss: 0.7557 - val_acc: 0.7127\n",
      "Epoch 4/10\n",
      "343/343 [==============================] - 14s 41ms/step - loss: 0.6466 - acc: 0.7771 - val_loss: 0.7138 - val_acc: 0.7121\n",
      "Epoch 5/10\n",
      "343/343 [==============================] - 14s 42ms/step - loss: 0.5826 - acc: 0.7963 - val_loss: 0.6915 - val_acc: 0.7065\n",
      "Epoch 6/10\n",
      "343/343 [==============================] - 14s 41ms/step - loss: 0.5350 - acc: 0.8118 - val_loss: 0.6811 - val_acc: 0.7049\n",
      "Epoch 7/10\n",
      "343/343 [==============================] - 15s 43ms/step - loss: 0.4973 - acc: 0.8272 - val_loss: 0.6782 - val_acc: 0.7039\n",
      "Epoch 8/10\n",
      "343/343 [==============================] - 14s 41ms/step - loss: 0.4653 - acc: 0.8377 - val_loss: 0.6792 - val_acc: 0.7023\n",
      "Epoch 9/10\n",
      "343/343 [==============================] - 14s 42ms/step - loss: 0.4378 - acc: 0.8483 - val_loss: 0.6828 - val_acc: 0.7070\n",
      "Epoch 10/10\n",
      "343/343 [==============================] - 14s 41ms/step - loss: 0.4125 - acc: 0.8573 - val_loss: 0.6900 - val_acc: 0.7028\n"
     ]
    }
   ],
   "source": [
    "# creaza modelul----------------256---------------\n",
    "base_model = Sequential()\n",
    "base_model.add(Dense(256, input_shape =(max_features,) , activation = 'relu'))\n",
    "base_model.add(Dense(3, activation = 'softmax'))\n",
    "\n",
    "# compile and fit\n",
    "base_model.compile(optimizer=Adam(learning_rate=0.0001),\n",
    "                   loss='categorical_crossentropy',\n",
    "                   metrics=['acc'])\n",
    "history = base_model.fit(x_train,y_train,\n",
    "                         epochs=10,\n",
    "                         batch_size=32,\n",
    "                         validation_split=0.15)"
   ]
  },
  {
   "cell_type": "code",
   "execution_count": 81,
   "id": "c2fdfd84",
   "metadata": {},
   "outputs": [
    {
     "data": {
      "image/png": "[encoded data removed]",
      "text/plain": [
       "<Figure size 432x288 with 1 Axes>"
      ]
     },
     "metadata": {
      "needs_background": "light"
     },
     "output_type": "display_data"
    },
    {
     "data": {
      "image/png": "[encoded data removed]",
      "text/plain": [
       "<Figure size 432x288 with 1 Axes>"
      ]
     },
     "metadata": {
      "needs_background": "light"
     },
     "output_type": "display_data"
    }
   ],
   "source": [
    "plot_graphs(history)"
   ]
  },
  {
   "cell_type": "code",
   "execution_count": 82,
   "id": "80893ad1",
   "metadata": {},
   "outputs": [
    {
     "name": "stdout",
     "output_type": "stream",
     "text": [
      "101/101 [==============================] - 12s 2ms/step - loss: 0.6734 - acc: 0.7141\n"
     ]
    },
    {
     "data": {
      "text/plain": [
       "[0.6734118461608887, 0.7141085267066956]"
      ]
     },
     "execution_count": 82,
     "metadata": {},
     "output_type": "execute_result"
    }
   ],
   "source": [
    "base_model.evaluate(x_test,y_test)"
   ]
  },
  {
   "cell_type": "code",
   "execution_count": 83,
   "id": "71d79281",
   "metadata": {},
   "outputs": [
    {
     "name": "stdout",
     "output_type": "stream",
     "text": [
      "              precision    recall  f1-score   support\n",
      "\n",
      "         neg       0.75      0.75      0.75      1085\n",
      "           n       0.63      0.65      0.64      1052\n",
      "         pos       0.76      0.74      0.75      1088\n",
      "\n",
      "    accuracy                           0.71      3225\n",
      "   macro avg       0.71      0.71      0.71      3225\n",
      "weighted avg       0.72      0.71      0.71      3225\n",
      "\n"
     ]
    }
   ],
   "source": [
    "pred=base_model.predict(x_test)\n",
    "pred=np.argmax(pred, axis=1)\n",
    "ytest=np.argmax(y_test, axis=1)\n",
    "# reduce to 1d array\n",
    "print(classification_report(pred, ytest, target_names=['neg', 'n', 'pos']))"
   ]
  },
  {
   "cell_type": "code",
   "execution_count": 84,
   "id": "2fefe057",
   "metadata": {},
   "outputs": [
    {
     "name": "stdout",
     "output_type": "stream",
     "text": [
      "Epoch 1/10\n",
      "343/343 [==============================] - 17s 40ms/step - loss: 1.0664 - acc: 0.5894 - val_loss: 1.0202 - val_acc: 0.6532\n",
      "Epoch 2/10\n",
      "343/343 [==============================] - 12s 36ms/step - loss: 0.9474 - acc: 0.7102 - val_loss: 0.9022 - val_acc: 0.6982\n",
      "Epoch 3/10\n",
      "343/343 [==============================] - 13s 38ms/step - loss: 0.8201 - acc: 0.7442 - val_loss: 0.8127 - val_acc: 0.7070\n",
      "Epoch 4/10\n",
      "343/343 [==============================] - 13s 39ms/step - loss: 0.7233 - acc: 0.7658 - val_loss: 0.7567 - val_acc: 0.7080\n",
      "Epoch 5/10\n",
      "343/343 [==============================] - 13s 37ms/step - loss: 0.6539 - acc: 0.7793 - val_loss: 0.7222 - val_acc: 0.7070\n",
      "Epoch 6/10\n",
      "343/343 [==============================] - 12s 36ms/step - loss: 0.6020 - acc: 0.7936 - val_loss: 0.7008 - val_acc: 0.7080\n",
      "Epoch 7/10\n",
      "343/343 [==============================] - 12s 35ms/step - loss: 0.5616 - acc: 0.8058 - val_loss: 0.6893 - val_acc: 0.7054\n",
      "Epoch 8/10\n",
      "343/343 [==============================] - 14s 40ms/step - loss: 0.5283 - acc: 0.8166 - val_loss: 0.6815 - val_acc: 0.7054\n",
      "Epoch 9/10\n",
      "343/343 [==============================] - 13s 37ms/step - loss: 0.5001 - acc: 0.8265 - val_loss: 0.6782 - val_acc: 0.7049\n",
      "Epoch 10/10\n",
      "343/343 [==============================] - 13s 37ms/step - loss: 0.4754 - acc: 0.8337 - val_loss: 0.6778 - val_acc: 0.7044\n"
     ]
    }
   ],
   "source": [
    "# creaza modelul-------------128---------------\n",
    "base_model = Sequential()\n",
    "base_model.add(Dense(128, input_shape =(max_features,) , activation = 'relu'))\n",
    "base_model.add(Dense(3, activation = 'softmax'))\n",
    "\n",
    "# compile and fit\n",
    "base_model.compile(optimizer=Adam(learning_rate=0.0001),\n",
    "                   loss='categorical_crossentropy',\n",
    "                   metrics=['acc'])\n",
    "history = base_model.fit(x_train,y_train,\n",
    "                         epochs=10,\n",
    "                         batch_size=32,\n",
    "                         validation_split=0.15)"
   ]
  },
  {
   "cell_type": "code",
   "execution_count": 85,
   "id": "a3f83445",
   "metadata": {},
   "outputs": [
    {
     "data": {
      "image/png": "[encoded data removed]",
      "text/plain": [
       "<Figure size 432x288 with 1 Axes>"
      ]
     },
     "metadata": {
      "needs_background": "light"
     },
     "output_type": "display_data"
    },
    {
     "data": {
      "image/png": "[encoded data removed]",
      "text/plain": [
       "<Figure size 432x288 with 1 Axes>"
      ]
     },
     "metadata": {
      "needs_background": "light"
     },
     "output_type": "display_data"
    }
   ],
   "source": [
    "plot_graphs(history)"
   ]
  },
  {
   "cell_type": "code",
   "execution_count": 86,
   "id": "36ad810f",
   "metadata": {},
   "outputs": [
    {
     "name": "stdout",
     "output_type": "stream",
     "text": [
      "101/101 [==============================] - 11s 2ms/step - loss: 0.6613 - acc: 0.7181\n"
     ]
    },
    {
     "data": {
      "text/plain": [
       "[0.6613287925720215, 0.7181395292282104]"
      ]
     },
     "execution_count": 86,
     "metadata": {},
     "output_type": "execute_result"
    }
   ],
   "source": [
    "base_model.evaluate(x_test,y_test)"
   ]
  },
  {
   "cell_type": "code",
   "execution_count": 87,
   "id": "59577a4a",
   "metadata": {},
   "outputs": [
    {
     "name": "stdout",
     "output_type": "stream",
     "text": [
      "              precision    recall  f1-score   support\n",
      "\n",
      "         neg       0.75      0.75      0.75      1090\n",
      "           n       0.61      0.67      0.64       983\n",
      "         pos       0.79      0.73      0.76      1152\n",
      "\n",
      "    accuracy                           0.72      3225\n",
      "   macro avg       0.72      0.72      0.72      3225\n",
      "weighted avg       0.72      0.72      0.72      3225\n",
      "\n"
     ]
    }
   ],
   "source": [
    "pred=base_model.predict(x_test)\n",
    "pred=np.argmax(pred, axis=1)\n",
    "ytest=np.argmax(y_test, axis=1)\n",
    "# reduce to 1d array\n",
    "print(classification_report(pred, ytest, target_names=['neg', 'n', 'pos']))"
   ]
  },
  {
   "cell_type": "code",
   "execution_count": 88,
   "id": "ba7fac60",
   "metadata": {},
   "outputs": [
    {
     "name": "stdout",
     "output_type": "stream",
     "text": [
      "Epoch 1/10\n",
      "343/343 [==============================] - 16s 38ms/step - loss: 1.0755 - acc: 0.4956 - val_loss: 1.0434 - val_acc: 0.6243\n",
      "Epoch 2/10\n",
      "343/343 [==============================] - 12s 36ms/step - loss: 0.9922 - acc: 0.6748 - val_loss: 0.9594 - val_acc: 0.6786\n",
      "Epoch 3/10\n",
      "343/343 [==============================] - 12s 36ms/step - loss: 0.8962 - acc: 0.7288 - val_loss: 0.8827 - val_acc: 0.6961\n",
      "Epoch 4/10\n",
      "343/343 [==============================] - 13s 37ms/step - loss: 0.8104 - acc: 0.7486 - val_loss: 0.8209 - val_acc: 0.7147\n",
      "Epoch 5/10\n",
      "343/343 [==============================] - 12s 36ms/step - loss: 0.7402 - acc: 0.7655 - val_loss: 0.7759 - val_acc: 0.7163\n",
      "Epoch 6/10\n",
      "343/343 [==============================] - 13s 37ms/step - loss: 0.6847 - acc: 0.7747 - val_loss: 0.7439 - val_acc: 0.7142\n",
      "Epoch 7/10\n",
      "343/343 [==============================] - 12s 35ms/step - loss: 0.6406 - acc: 0.7839 - val_loss: 0.7224 - val_acc: 0.7137\n",
      "Epoch 8/10\n",
      "343/343 [==============================] - 12s 34ms/step - loss: 0.6046 - acc: 0.7943 - val_loss: 0.7066 - val_acc: 0.7121\n",
      "Epoch 9/10\n",
      "343/343 [==============================] - 12s 34ms/step - loss: 0.5746 - acc: 0.8033 - val_loss: 0.6958 - val_acc: 0.7090\n",
      "Epoch 10/10\n",
      "343/343 [==============================] - 13s 37ms/step - loss: 0.5487 - acc: 0.8112 - val_loss: 0.6878 - val_acc: 0.7111\n"
     ]
    }
   ],
   "source": [
    "# creaza modelul--------------64---------------\n",
    "base_model = Sequential()\n",
    "base_model.add(Dense(64, input_shape =(max_features,) , activation = 'relu'))\n",
    "base_model.add(Dense(3, activation = 'softmax'))\n",
    "\n",
    "# compile and fit\n",
    "base_model.compile(optimizer=Adam(learning_rate=0.0001),\n",
    "                   loss='categorical_crossentropy',\n",
    "                   metrics=['acc'])\n",
    "history = base_model.fit(x_train,y_train,\n",
    "                         epochs=10,\n",
    "                         batch_size=32,\n",
    "                         validation_split=0.15)"
   ]
  },
  {
   "cell_type": "code",
   "execution_count": 89,
   "id": "e95bdf1e",
   "metadata": {},
   "outputs": [
    {
     "data": {
      "image/png": "[encoded data removed]",
      "text/plain": [
       "<Figure size 432x288 with 1 Axes>"
      ]
     },
     "metadata": {
      "needs_background": "light"
     },
     "output_type": "display_data"
    },
    {
     "data": {
      "image/png": "[encoded data removed]",
      "text/plain": [
       "<Figure size 432x288 with 1 Axes>"
      ]
     },
     "metadata": {
      "needs_background": "light"
     },
     "output_type": "display_data"
    }
   ],
   "source": [
    "plot_graphs(history)"
   ]
  },
  {
   "cell_type": "code",
   "execution_count": 90,
   "id": "44f627d1",
   "metadata": {},
   "outputs": [
    {
     "name": "stdout",
     "output_type": "stream",
     "text": [
      "101/101 [==============================] - 11s 1ms/step - loss: 0.6716 - acc: 0.7178\n"
     ]
    },
    {
     "data": {
      "text/plain": [
       "[0.6715583205223083, 0.7178294658660889]"
      ]
     },
     "execution_count": 90,
     "metadata": {},
     "output_type": "execute_result"
    }
   ],
   "source": [
    "base_model.evaluate(x_test,y_test)"
   ]
  },
  {
   "cell_type": "code",
   "execution_count": 91,
   "id": "3a343902",
   "metadata": {},
   "outputs": [
    {
     "name": "stdout",
     "output_type": "stream",
     "text": [
      "              precision    recall  f1-score   support\n",
      "\n",
      "         neg       0.77      0.74      0.75      1132\n",
      "           n       0.58      0.70      0.63       899\n",
      "         pos       0.81      0.71      0.76      1194\n",
      "\n",
      "    accuracy                           0.72      3225\n",
      "   macro avg       0.72      0.72      0.71      3225\n",
      "weighted avg       0.73      0.72      0.72      3225\n",
      "\n"
     ]
    }
   ],
   "source": [
    "pred=base_model.predict(x_test)\n",
    "pred=np.argmax(pred, axis=1)\n",
    "ytest=np.argmax(y_test, axis=1)\n",
    "# reduce to 1d array\n",
    "print(classification_report(pred, ytest, target_names=['neg', 'n', 'pos']))"
   ]
  },
  {
   "cell_type": "code",
   "execution_count": 92,
   "id": "36f428a6",
   "metadata": {},
   "outputs": [
    {
     "name": "stdout",
     "output_type": "stream",
     "text": [
      "Epoch 1/10\n",
      "343/343 [==============================] - 16s 36ms/step - loss: 1.0806 - acc: 0.4240 - val_loss: 1.0586 - val_acc: 0.5287\n",
      "Epoch 2/10\n",
      "343/343 [==============================] - 12s 35ms/step - loss: 1.0245 - acc: 0.6163 - val_loss: 1.0035 - val_acc: 0.6522\n",
      "Epoch 3/10\n",
      "343/343 [==============================] - 12s 35ms/step - loss: 0.9594 - acc: 0.6900 - val_loss: 0.9478 - val_acc: 0.6961\n",
      "Epoch 4/10\n",
      "343/343 [==============================] - 12s 35ms/step - loss: 0.8950 - acc: 0.7319 - val_loss: 0.8963 - val_acc: 0.7028\n",
      "Epoch 5/10\n",
      "343/343 [==============================] - 12s 34ms/step - loss: 0.8350 - acc: 0.7466 - val_loss: 0.8511 - val_acc: 0.7080\n",
      "Epoch 6/10\n",
      "343/343 [==============================] - 12s 35ms/step - loss: 0.7818 - acc: 0.7589 - val_loss: 0.8139 - val_acc: 0.7142\n",
      "Epoch 7/10\n",
      "343/343 [==============================] - 12s 35ms/step - loss: 0.7358 - acc: 0.7690 - val_loss: 0.7833 - val_acc: 0.7127\n",
      "Epoch 8/10\n",
      "343/343 [==============================] - 12s 35ms/step - loss: 0.6964 - acc: 0.7746 - val_loss: 0.7590 - val_acc: 0.7106\n",
      "Epoch 9/10\n",
      "343/343 [==============================] - 12s 35ms/step - loss: 0.6626 - acc: 0.7808 - val_loss: 0.7396 - val_acc: 0.7132\n",
      "Epoch 10/10\n",
      "343/343 [==============================] - 12s 36ms/step - loss: 0.6334 - acc: 0.7877 - val_loss: 0.7248 - val_acc: 0.7152\n"
     ]
    }
   ],
   "source": [
    "# creaza modelul-------------------32---------------\n",
    "base_model = Sequential()\n",
    "base_model.add(Dense(32, input_shape =(max_features,) , activation = 'relu'))\n",
    "base_model.add(Dense(3, activation = 'softmax'))\n",
    "\n",
    "# compile and fit\n",
    "base_model.compile(optimizer=Adam(learning_rate=0.0001),\n",
    "                   loss='categorical_crossentropy',\n",
    "                   metrics=['acc'])\n",
    "history = base_model.fit(x_train,y_train,\n",
    "                         epochs=10,\n",
    "                         batch_size=32,\n",
    "                         validation_split=0.15)"
   ]
  },
  {
   "cell_type": "code",
   "execution_count": 93,
   "id": "f4b07b1f",
   "metadata": {},
   "outputs": [
    {
     "data": {
      "image/png": "[encoded data removed]",
      "text/plain": [
       "<Figure size 432x288 with 1 Axes>"
      ]
     },
     "metadata": {
      "needs_background": "light"
     },
     "output_type": "display_data"
    },
    {
     "data": {
      "image/png": "[encoded data removed]",
      "text/plain": [
       "<Figure size 432x288 with 1 Axes>"
      ]
     },
     "metadata": {
      "needs_background": "light"
     },
     "output_type": "display_data"
    }
   ],
   "source": [
    "plot_graphs(history)"
   ]
  },
  {
   "cell_type": "code",
   "execution_count": 94,
   "id": "d922cc63",
   "metadata": {},
   "outputs": [
    {
     "name": "stdout",
     "output_type": "stream",
     "text": [
      "101/101 [==============================] - 11s 1ms/step - loss: 0.7104 - acc: 0.7181\n"
     ]
    },
    {
     "data": {
      "text/plain": [
       "[0.7104262113571167, 0.7181395292282104]"
      ]
     },
     "execution_count": 94,
     "metadata": {},
     "output_type": "execute_result"
    }
   ],
   "source": [
    "base_model.evaluate(x_test,y_test)"
   ]
  },
  {
   "cell_type": "code",
   "execution_count": 95,
   "id": "698ccc2b",
   "metadata": {},
   "outputs": [
    {
     "name": "stdout",
     "output_type": "stream",
     "text": [
      "              precision    recall  f1-score   support\n",
      "\n",
      "         neg       0.76      0.74      0.75      1120\n",
      "           n       0.57      0.71      0.63       867\n",
      "         pos       0.83      0.70      0.76      1238\n",
      "\n",
      "    accuracy                           0.72      3225\n",
      "   macro avg       0.72      0.72      0.71      3225\n",
      "weighted avg       0.73      0.72      0.72      3225\n",
      "\n"
     ]
    }
   ],
   "source": [
    "pred=base_model.predict(x_test)\n",
    "pred=np.argmax(pred, axis=1)\n",
    "ytest=np.argmax(y_test, axis=1)\n",
    "# reduce to 1d array\n",
    "print(classification_report(pred, ytest, target_names=['neg', 'n', 'pos']))"
   ]
  },
  {
   "cell_type": "code",
   "execution_count": 96,
   "id": "c00ab52e",
   "metadata": {},
   "outputs": [
    {
     "name": "stdout",
     "output_type": "stream",
     "text": [
      "Epoch 1/10\n",
      "343/343 [==============================] - 16s 37ms/step - loss: 1.0877 - acc: 0.5363 - val_loss: 1.0737 - val_acc: 0.6351\n",
      "Epoch 2/10\n",
      "343/343 [==============================] - 12s 37ms/step - loss: 1.0502 - acc: 0.6865 - val_loss: 1.0338 - val_acc: 0.6724\n",
      "Epoch 3/10\n",
      "343/343 [==============================] - 12s 34ms/step - loss: 1.0033 - acc: 0.7193 - val_loss: 0.9916 - val_acc: 0.6734\n",
      "Epoch 4/10\n",
      "343/343 [==============================] - 12s 34ms/step - loss: 0.9547 - acc: 0.7215 - val_loss: 0.9499 - val_acc: 0.6827\n",
      "Epoch 5/10\n",
      "343/343 [==============================] - 12s 35ms/step - loss: 0.9070 - acc: 0.7304 - val_loss: 0.9106 - val_acc: 0.6879\n",
      "Epoch 6/10\n",
      "343/343 [==============================] - 12s 35ms/step - loss: 0.8621 - acc: 0.7397 - val_loss: 0.8753 - val_acc: 0.6961\n",
      "Epoch 7/10\n",
      "343/343 [==============================] - 12s 35ms/step - loss: 0.8211 - acc: 0.7451 - val_loss: 0.8442 - val_acc: 0.7028\n",
      "Epoch 8/10\n",
      "343/343 [==============================] - 12s 35ms/step - loss: 0.7841 - acc: 0.7545 - val_loss: 0.8171 - val_acc: 0.7065\n",
      "Epoch 9/10\n",
      "343/343 [==============================] - 12s 34ms/step - loss: 0.7509 - acc: 0.7607 - val_loss: 0.7938 - val_acc: 0.7085\n",
      "Epoch 10/10\n",
      "343/343 [==============================] - 12s 34ms/step - loss: 0.7214 - acc: 0.7680 - val_loss: 0.7738 - val_acc: 0.7101\n"
     ]
    }
   ],
   "source": [
    "# creaza modelul----------------16---------------\n",
    "base_model = Sequential()\n",
    "base_model.add(Dense(16, input_shape =(max_features,) , activation = 'relu'))\n",
    "base_model.add(Dense(3, activation = 'softmax'))\n",
    "\n",
    "# compile and fit\n",
    "base_model.compile(optimizer=Adam(learning_rate=0.0001),\n",
    "                   loss='categorical_crossentropy',\n",
    "                   metrics=['acc'])\n",
    "history = base_model.fit(x_train,y_train,\n",
    "                         epochs=10,\n",
    "                         batch_size=32,\n",
    "                         validation_split=0.15)"
   ]
  },
  {
   "cell_type": "code",
   "execution_count": 97,
   "id": "e00fe67e",
   "metadata": {},
   "outputs": [
    {
     "data": {
      "image/png": "[encoded data removed]",
      "text/plain": [
       "<Figure size 432x288 with 1 Axes>"
      ]
     },
     "metadata": {
      "needs_background": "light"
     },
     "output_type": "display_data"
    },
    {
     "data": {
      "image/png": "[encoded data removed]",
      "text/plain": [
       "<Figure size 432x288 with 1 Axes>"
      ]
     },
     "metadata": {
      "needs_background": "light"
     },
     "output_type": "display_data"
    }
   ],
   "source": [
    "plot_graphs(history)"
   ]
  },
  {
   "cell_type": "code",
   "execution_count": 98,
   "id": "30fd026d",
   "metadata": {},
   "outputs": [
    {
     "name": "stdout",
     "output_type": "stream",
     "text": [
      "101/101 [==============================] - 11s 1ms/step - loss: 0.7628 - acc: 0.7135\n"
     ]
    },
    {
     "data": {
      "text/plain": [
       "[0.7628456354141235, 0.7134883999824524]"
      ]
     },
     "execution_count": 98,
     "metadata": {},
     "output_type": "execute_result"
    }
   ],
   "source": [
    "base_model.evaluate(x_test,y_test)"
   ]
  },
  {
   "cell_type": "code",
   "execution_count": 99,
   "id": "b78f9863",
   "metadata": {},
   "outputs": [
    {
     "name": "stdout",
     "output_type": "stream",
     "text": [
      "              precision    recall  f1-score   support\n",
      "\n",
      "         neg       0.79      0.72      0.75      1184\n",
      "           n       0.52      0.73      0.61       777\n",
      "         pos       0.84      0.70      0.76      1264\n",
      "\n",
      "    accuracy                           0.71      3225\n",
      "   macro avg       0.71      0.72      0.71      3225\n",
      "weighted avg       0.74      0.71      0.72      3225\n",
      "\n"
     ]
    }
   ],
   "source": [
    "pred=base_model.predict(x_test)\n",
    "pred=np.argmax(pred, axis=1)\n",
    "ytest=np.argmax(y_test, axis=1)\n",
    "# reduce to 1d array\n",
    "print(classification_report(pred, ytest, target_names=['neg', 'n', 'pos']))"
   ]
  },
  {
   "cell_type": "code",
   "execution_count": 100,
   "id": "a3ef4537",
   "metadata": {},
   "outputs": [
    {
     "name": "stdout",
     "output_type": "stream",
     "text": [
      "Epoch 1/10\n",
      "343/343 [==============================] - 16s 37ms/step - loss: 1.0947 - acc: 0.4645 - val_loss: 1.0890 - val_acc: 0.5457\n",
      "Epoch 2/10\n",
      "343/343 [==============================] - 12s 36ms/step - loss: 1.0781 - acc: 0.6075 - val_loss: 1.0704 - val_acc: 0.6026\n",
      "Epoch 3/10\n",
      "343/343 [==============================] - 12s 34ms/step - loss: 1.0546 - acc: 0.6546 - val_loss: 1.0477 - val_acc: 0.6470\n",
      "Epoch 4/10\n",
      "343/343 [==============================] - 12s 34ms/step - loss: 1.0270 - acc: 0.6807 - val_loss: 1.0222 - val_acc: 0.6574\n",
      "Epoch 5/10\n",
      "343/343 [==============================] - 12s 35ms/step - loss: 0.9966 - acc: 0.6969 - val_loss: 0.9951 - val_acc: 0.6682\n",
      "Epoch 6/10\n",
      "343/343 [==============================] - 12s 36ms/step - loss: 0.9647 - acc: 0.7069 - val_loss: 0.9673 - val_acc: 0.6786\n",
      "Epoch 7/10\n",
      "343/343 [==============================] - 12s 35ms/step - loss: 0.9325 - acc: 0.7196 - val_loss: 0.9401 - val_acc: 0.6822\n",
      "Epoch 8/10\n",
      "343/343 [==============================] - 12s 35ms/step - loss: 0.9008 - acc: 0.7281 - val_loss: 0.9140 - val_acc: 0.6853\n",
      "Epoch 9/10\n",
      "343/343 [==============================] - 12s 36ms/step - loss: 0.8704 - acc: 0.7366 - val_loss: 0.8894 - val_acc: 0.6889\n",
      "Epoch 10/10\n",
      "343/343 [==============================] - 13s 37ms/step - loss: 0.8416 - acc: 0.7429 - val_loss: 0.8664 - val_acc: 0.6956\n"
     ]
    }
   ],
   "source": [
    "# creaza modelul--------------8---------------\n",
    "base_model = Sequential()\n",
    "base_model.add(Dense(8, input_shape =(max_features,) , activation = 'relu'))\n",
    "base_model.add(Dense(3, activation = 'softmax'))\n",
    "\n",
    "# compile and fit\n",
    "base_model.compile(optimizer=Adam(learning_rate=0.0001),\n",
    "                   loss='categorical_crossentropy',\n",
    "                   metrics=['acc'])\n",
    "history = base_model.fit(x_train,y_train,\n",
    "                         epochs=10,\n",
    "                         batch_size=32,\n",
    "                         validation_split=0.15)"
   ]
  },
  {
   "cell_type": "code",
   "execution_count": 101,
   "id": "6323e46a",
   "metadata": {},
   "outputs": [
    {
     "data": {
      "image/png": "[encoded data removed]",
      "text/plain": [
       "<Figure size 432x288 with 1 Axes>"
      ]
     },
     "metadata": {
      "needs_background": "light"
     },
     "output_type": "display_data"
    },
    {
     "data": {
      "image/png": "[encoded data removed]",
      "text/plain": [
       "<Figure size 432x288 with 1 Axes>"
      ]
     },
     "metadata": {
      "needs_background": "light"
     },
     "output_type": "display_data"
    }
   ],
   "source": [
    "plot_graphs(history)"
   ]
  },
  {
   "cell_type": "code",
   "execution_count": 102,
   "id": "99263742",
   "metadata": {},
   "outputs": [
    {
     "name": "stdout",
     "output_type": "stream",
     "text": [
      "101/101 [==============================] - 11s 1ms/step - loss: 0.8602 - acc: 0.6967\n"
     ]
    },
    {
     "data": {
      "text/plain": [
       "[0.8601769208908081, 0.6967442035675049]"
      ]
     },
     "execution_count": 102,
     "metadata": {},
     "output_type": "execute_result"
    }
   ],
   "source": [
    "base_model.evaluate(x_test,y_test)"
   ]
  },
  {
   "cell_type": "code",
   "execution_count": 103,
   "id": "70794496",
   "metadata": {},
   "outputs": [
    {
     "name": "stdout",
     "output_type": "stream",
     "text": [
      "              precision    recall  f1-score   support\n",
      "\n",
      "         neg       0.79      0.70      0.74      1225\n",
      "           n       0.43      0.77      0.55       604\n",
      "         pos       0.87      0.66      0.75      1396\n",
      "\n",
      "    accuracy                           0.70      3225\n",
      "   macro avg       0.70      0.71      0.68      3225\n",
      "weighted avg       0.76      0.70      0.71      3225\n",
      "\n"
     ]
    }
   ],
   "source": [
    "pred=base_model.predict(x_test)\n",
    "pred=np.argmax(pred, axis=1)\n",
    "ytest=np.argmax(y_test, axis=1)\n",
    "# reduce to 1d array\n",
    "print(classification_report(pred, ytest, target_names=['neg', 'n', 'pos']))"
   ]
  },
  {
   "cell_type": "code",
   "execution_count": null,
   "id": "61835963",
   "metadata": {},
   "outputs": [],
   "source": [
    "=========================== experimente cu doua straturi + output ========================================"
   ]
  },
  {
   "cell_type": "code",
   "execution_count": 37,
   "id": "880229f8",
   "metadata": {},
   "outputs": [
    {
     "name": "stdout",
     "output_type": "stream",
     "text": [
      "Epoch 1/10\n",
      "343/343 [==============================] - 1s 2ms/step - loss: 1.0845 - acc: 0.3877 - val_loss: 1.0603 - val_acc: 0.4842\n",
      "Epoch 2/10\n",
      "343/343 [==============================] - 1s 2ms/step - loss: 1.0089 - acc: 0.5892 - val_loss: 0.9687 - val_acc: 0.6537\n",
      "Epoch 3/10\n",
      "343/343 [==============================] - 1s 1ms/step - loss: 0.8894 - acc: 0.7024 - val_loss: 0.8639 - val_acc: 0.6868\n",
      "Epoch 4/10\n",
      "343/343 [==============================] - 1s 2ms/step - loss: 0.7670 - acc: 0.7469 - val_loss: 0.7763 - val_acc: 0.7121\n",
      "Epoch 5/10\n",
      "343/343 [==============================] - 1s 2ms/step - loss: 0.6662 - acc: 0.7753 - val_loss: 0.7241 - val_acc: 0.7199\n",
      "Epoch 6/10\n",
      "343/343 [==============================] - 1s 2ms/step - loss: 0.5953 - acc: 0.7922 - val_loss: 0.6951 - val_acc: 0.7158\n",
      "Epoch 7/10\n",
      "343/343 [==============================] - 1s 2ms/step - loss: 0.5441 - acc: 0.8052 - val_loss: 0.6822 - val_acc: 0.7189\n",
      "Epoch 8/10\n",
      "343/343 [==============================] - 1s 3ms/step - loss: 0.5044 - acc: 0.8195 - val_loss: 0.6798 - val_acc: 0.7111\n",
      "Epoch 9/10\n",
      "343/343 [==============================] - 1s 2ms/step - loss: 0.4714 - acc: 0.8285 - val_loss: 0.6825 - val_acc: 0.7106\n",
      "Epoch 10/10\n",
      "343/343 [==============================] - 1s 3ms/step - loss: 0.4428 - acc: 0.8420 - val_loss: 0.6831 - val_acc: 0.7121\n"
     ]
    }
   ],
   "source": [
    "# creaza modelul--------32---8----\n",
    "model = Sequential()\n",
    "model.add(Dense(32, input_shape =(max_features,) , activation = 'relu'))\n",
    "model.add(Dense(32, activation = 'relu'))\n",
    "model.add(Dense(3, activation = 'softmax'))\n",
    "\n",
    "# compile and fit\n",
    "model.compile(optimizer=Adam(learning_rate=0.0001),\n",
    "                   loss='categorical_crossentropy',\n",
    "                   metrics=['acc'])\n",
    "history = model.fit(x_train,y_train,\n",
    "                         epochs=10,\n",
    "                         batch_size=32,\n",
    "                         validation_split=0.15)"
   ]
  },
  {
   "cell_type": "code",
   "execution_count": 38,
   "id": "9936ee11",
   "metadata": {},
   "outputs": [
    {
     "data": {
      "image/png": "[encoded data removed]",
      "text/plain": [
       "<Figure size 432x288 with 1 Axes>"
      ]
     },
     "metadata": {
      "needs_background": "light"
     },
     "output_type": "display_data"
    },
    {
     "data": {
      "image/png": "[encoded data removed]",
      "text/plain": [
       "<Figure size 432x288 with 1 Axes>"
      ]
     },
     "metadata": {
      "needs_background": "light"
     },
     "output_type": "display_data"
    }
   ],
   "source": [
    "plot_graphs(history)"
   ]
  },
  {
   "cell_type": "code",
   "execution_count": 39,
   "id": "ea02e855",
   "metadata": {},
   "outputs": [
    {
     "name": "stdout",
     "output_type": "stream",
     "text": [
      "101/101 [==============================] - 0s 951us/step - loss: 0.6648 - acc: 0.7157\n"
     ]
    },
    {
     "data": {
      "text/plain": [
       "[0.6648271083831787, 0.7156589031219482]"
      ]
     },
     "execution_count": 39,
     "metadata": {},
     "output_type": "execute_result"
    }
   ],
   "source": [
    "model.evaluate(x_test,y_test)"
   ]
  },
  {
   "cell_type": "code",
   "execution_count": 40,
   "id": "a25c7a00",
   "metadata": {},
   "outputs": [
    {
     "name": "stdout",
     "output_type": "stream",
     "text": [
      "              precision    recall  f1-score   support\n",
      "\n",
      "         neg       0.77      0.74      0.76      1126\n",
      "           n       0.61      0.66      0.63       986\n",
      "         pos       0.77      0.73      0.75      1113\n",
      "\n",
      "    accuracy                           0.72      3225\n",
      "   macro avg       0.72      0.71      0.71      3225\n",
      "weighted avg       0.72      0.72      0.72      3225\n",
      "\n"
     ]
    }
   ],
   "source": [
    "pred=model.predict(x_test)\n",
    "pred=np.argmax(pred, axis=1)\n",
    "ytest=np.argmax(y_test, axis=1)\n",
    "# reduce to 1d array\n",
    "print(classification_report(pred, ytest, target_names=['neg', 'n', 'pos']))"
   ]
  },
  {
   "cell_type": "code",
   "execution_count": null,
   "id": "afdcb1fd",
   "metadata": {},
   "outputs": [],
   "source": []
  }
 ],
 "metadata": {
  "kernelspec": {
   "display_name": "Python 3 (ipykernel)",
   "language": "python",
   "name": "python3"
  },
  "language_info": {
   "codemirror_mode": {
    "name": "ipython",
    "version": 3
   },
   "file_extension": ".py",
   "mimetype": "text/x-python",
   "name": "python",
   "nbconvert_exporter": "python",
   "pygments_lexer": "ipython3",
   "version": "3.9.7"
  }
 },
 "nbformat": 4,
 "nbformat_minor": 5
}
