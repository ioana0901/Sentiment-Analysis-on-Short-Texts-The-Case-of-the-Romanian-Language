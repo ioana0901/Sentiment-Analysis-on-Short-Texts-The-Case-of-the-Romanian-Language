{
 "cells": [
  {
   "cell_type": "markdown",
   "id": "049cc832",
   "metadata": {},
   "source": [
    "## Crearea unui model word2vec antrenat pe intregul set de date"
   ]
  },
  {
   "cell_type": "code",
   "execution_count": 1,
   "id": "b62b8dac",
   "metadata": {},
   "outputs": [
    {
     "name": "stdout",
     "output_type": "stream",
     "text": [
      "importing Jupyter notebook from FunctionsList.ipynb\n"
     ]
    }
   ],
   "source": [
    "import import_ipynb\n",
    "from FunctionsList import *\n",
    "import pandas as pd\n",
    "from gensim.models import Word2Vec\n",
    "from gensim import models"
   ]
  },
  {
   "cell_type": "code",
   "execution_count": 2,
   "id": "b2ab4507",
   "metadata": {},
   "outputs": [],
   "source": [
    "data = pd.read_csv('Data/OriginalDataset.csv')\n",
    "data = data['review_content']"
   ]
  },
  {
   "cell_type": "code",
   "execution_count": 3,
   "id": "9808fcf4",
   "metadata": {},
   "outputs": [
    {
     "data": {
      "text/plain": [
       "0        WOW! Fără cuvinte… pur și simplu excepțional.\n",
       "1    Incep prin a spune ca am precomandat telefonul...\n",
       "2            Sunt extraordinar de mulțumit de telefon.\n",
       "3    Intradevar este un telefon foarte scump, dar c...\n",
       "4    Detin un 13 pro max sierra 1tb din septembrie ...\n",
       "Name: review_content, dtype: object"
      ]
     },
     "execution_count": 3,
     "metadata": {},
     "output_type": "execute_result"
    }
   ],
   "source": [
    "data.head()"
   ]
  },
  {
   "cell_type": "code",
   "execution_count": 4,
   "id": "8b608b21",
   "metadata": {},
   "outputs": [
    {
     "data": {
      "text/plain": [
       "0            WOW! Fără cuvinte… pur și simplu excepțional.\n",
       "1        Incep prin a spune ca am precomandat telefonul...\n",
       "2                Sunt extraordinar de mulțumit de telefon.\n",
       "3        Intradevar este un telefon foarte scump, dar c...\n",
       "4        Detin un 13 pro max sierra 1tb din septembrie ...\n",
       "                               ...                        \n",
       "41923    Un telefon foarte bun, se mișcă foarte bine pe...\n",
       "41924    Păcat, că e un telefon frumos dar se incinge f...\n",
       "41925                                Un telefon foarte bun\n",
       "41926    Elegant, fiabil, frumos, functional si eficien...\n",
       "41927    PRO - ecran luminos, durata bateriei excelentă...\n",
       "Name: review_content, Length: 41927, dtype: object"
      ]
     },
     "execution_count": 4,
     "metadata": {},
     "output_type": "execute_result"
    }
   ],
   "source": [
    "data = data.dropna()\n",
    "data"
   ]
  },
  {
   "cell_type": "code",
   "execution_count": 5,
   "id": "0d65f419",
   "metadata": {},
   "outputs": [
    {
     "data": {
      "text/plain": [
       "0        wow! fără cuvinte… pur și simplu excepțional.\n",
       "1    incep prin a spune ca am precomandat telefonul...\n",
       "2            sunt extraordinar de mulțumit de telefon.\n",
       "3    intradevar este un telefon foarte scump, dar c...\n",
       "4    detin un 13 pro max sierra 1tb din septembrie ...\n",
       "Name: review_content, dtype: object"
      ]
     },
     "execution_count": 5,
     "metadata": {},
     "output_type": "execute_result"
    }
   ],
   "source": [
    "# Curata setul de date \n",
    "#lowercase\n",
    "data = data.apply(lambda x: lowercase_text(x))\n",
    "data.head()"
   ]
  },
  {
   "cell_type": "code",
   "execution_count": 6,
   "id": "00ad75f3",
   "metadata": {},
   "outputs": [
    {
     "name": "stderr",
     "output_type": "stream",
     "text": [
      "C:\\Users\\User\\anaconda3\\envs\\Tensorflow\\lib\\site-packages\\bs4\\__init__.py:337: MarkupResemblesLocatorWarning: \"...........\" looks like a directory name, not markup. You may want to open a file found in this directory and pass the filehandle into Beautiful Soup.\n",
      "  warnings.warn(\n"
     ]
    },
    {
     "data": {
      "text/plain": [
       "0        wow! fără cuvinte… pur și simplu excepțional.\n",
       "1    incep prin a spune ca am precomandat telefonul...\n",
       "2            sunt extraordinar de mulțumit de telefon.\n",
       "3    intradevar este un telefon foarte scump, dar c...\n",
       "4    detin un 13 pro max sierra 1tb din septembrie ...\n",
       "Name: review_content, dtype: object"
      ]
     },
     "execution_count": 6,
     "metadata": {},
     "output_type": "execute_result"
    }
   ],
   "source": [
    "#sterge tag-urile html\n",
    "data = data.apply(lambda x: remove_tags(x))\n",
    "data.head()"
   ]
  },
  {
   "cell_type": "code",
   "execution_count": 7,
   "id": "9801f8a7",
   "metadata": {},
   "outputs": [
    {
     "data": {
      "text/plain": [
       "0          wow fără cuvinte pur și simplu excepțional \n",
       "1    incep prin a spune ca am precomandat telefonul...\n",
       "2            sunt extraordinar de mulțumit de telefon \n",
       "3    intradevar este un telefon foarte scump dar cr...\n",
       "4    detin un 13 pro max sierra 1tb din septembrie ...\n",
       "Name: review_content, dtype: object"
      ]
     },
     "execution_count": 7,
     "metadata": {},
     "output_type": "execute_result"
    }
   ],
   "source": [
    "#sterge punctuatia\n",
    "data = data.apply(lambda x: remove_punctuation(x))\n",
    "data.head()"
   ]
  },
  {
   "cell_type": "code",
   "execution_count": 9,
   "id": "a375407c",
   "metadata": {},
   "outputs": [],
   "source": [
    "#elimina paranteze\n",
    "data = data.apply(lambda x: remove_between_square_brackets(x))"
   ]
  },
  {
   "cell_type": "code",
   "execution_count": 10,
   "id": "08c6c36f",
   "metadata": {},
   "outputs": [
    {
     "data": {
      "text/plain": [
       "0                   wow cuvinte pur simplu excepțional\n",
       "1    incep spune precomandat telefonul data 15 noie...\n",
       "2                        extraordinar mulțumit telefon\n",
       "3           intradevar telefon scump cred merita banii\n",
       "4    detin 13 pro max sierra 1tb septembrie printre...\n",
       "Name: review_content, dtype: object"
      ]
     },
     "execution_count": 10,
     "metadata": {},
     "output_type": "execute_result"
    }
   ],
   "source": [
    "#elimina stopwords\n",
    "data= data.apply(lambda x: remove_stopwords(x))\n",
    "data.head()"
   ]
  },
  {
   "cell_type": "code",
   "execution_count": 11,
   "id": "0c3e71ba",
   "metadata": {},
   "outputs": [
    {
     "data": {
      "text/plain": [
       "0                   wow cuvinte pur simplu excepțional\n",
       "1    incep spune precomandat telefonul data  noiemb...\n",
       "2                        extraordinar mulțumit telefon\n",
       "3           intradevar telefon scump cred merita banii\n",
       "4    detin  pro max sierra tb septembrie printre pr...\n",
       "Name: review_content, dtype: object"
      ]
     },
     "execution_count": 11,
     "metadata": {},
     "output_type": "execute_result"
    }
   ],
   "source": [
    "#elimina numere\n",
    "data = data.apply(lambda x: remove_numbers(x))\n",
    "data.head()"
   ]
  },
  {
   "cell_type": "code",
   "execution_count": 12,
   "id": "dce63895",
   "metadata": {},
   "outputs": [
    {
     "data": {
      "text/plain": [
       "0                   wow cuvinte pur simplu excepțional\n",
       "1    incep spune precomandat telefonul data noiembr...\n",
       "2                        extraordinar mulțumit telefon\n",
       "3           intradevar telefon scump cred merita banii\n",
       "4    detin pro max sierra tb septembrie printre pri...\n",
       "Name: review_content, dtype: object"
      ]
     },
     "execution_count": 12,
     "metadata": {},
     "output_type": "execute_result"
    }
   ],
   "source": [
    "#eleimina literele singure\n",
    "data = data.apply(lambda x: remove_single_letter(x))\n",
    "data.head()"
   ]
  },
  {
   "cell_type": "code",
   "execution_count": 13,
   "id": "5e3432c8",
   "metadata": {},
   "outputs": [
    {
     "data": {
      "text/plain": [
       "0                   wow cuvinte pur simplu exceptional\n",
       "1    incep spune precomandat telefonul data noiembr...\n",
       "2                        extraordinar multumit telefon\n",
       "3           intradevar telefon scump cred merita banii\n",
       "4    detin pro max sierra tb septembrie printre pri...\n",
       "Name: review_content, dtype: object"
      ]
     },
     "execution_count": 13,
     "metadata": {},
     "output_type": "execute_result"
    }
   ],
   "source": [
    "#elimina diacriticele\n",
    "data = data.apply(lambda x: remove_accents(x))\n",
    "data.head()"
   ]
  },
  {
   "cell_type": "code",
   "execution_count": 14,
   "id": "10bccd02",
   "metadata": {},
   "outputs": [],
   "source": [
    "#elimina caracterele speciale\n",
    "data = data.apply(lambda x: remove_special_characters(x))"
   ]
  },
  {
   "cell_type": "code",
   "execution_count": 15,
   "id": "82008bc3",
   "metadata": {},
   "outputs": [
    {
     "data": {
      "text/plain": [
       "0                       wow cuvinte pur simplu exceptional\n",
       "1        incep spune precomandat telefonul data noiembr...\n",
       "2                            extraordinar multumit telefon\n",
       "3               intradevar telefon scump cred merita banii\n",
       "4        detin pro max sierra tb septembrie printre pri...\n",
       "                               ...                        \n",
       "41923    telefon bun misca bine partea gaming fotografi...\n",
       "41924    pacat telefon frumos incinge tare aplicatie in...\n",
       "41925                                          telefon bun\n",
       "41926            elegant fiabil frumos functional eficient\n",
       "41927    pro ecran luminos durata bateriei excelenta su...\n",
       "Name: review_content, Length: 41927, dtype: object"
      ]
     },
     "execution_count": 15,
     "metadata": {},
     "output_type": "execute_result"
    }
   ],
   "source": [
    "data"
   ]
  },
  {
   "cell_type": "markdown",
   "id": "0e6003e6",
   "metadata": {},
   "source": [
    "## Construirea unui model word2vec folosind stemming ca metoda de normalizare a textului, fara diacritice:\n"
   ]
  },
  {
   "cell_type": "markdown",
   "id": "f05dcac0",
   "metadata": {},
   "source": [
    "### 1. Construirea Word2vec model"
   ]
  },
  {
   "cell_type": "code",
   "execution_count": 16,
   "id": "1ea029a7",
   "metadata": {},
   "outputs": [
    {
     "data": {
      "text/plain": [
       "0                  [wow, cuvint, pur, simplu, exceptional]\n",
       "1        [incep, spun, precomand, telefon, dat, noiembr...\n",
       "2                          [extraordinar, multum, telefon]\n",
       "3           [intradevar, telefon, scump, cred, merit, ban]\n",
       "4        [detin, pro, max, sierr, tb, septembr, printr,...\n",
       "                               ...                        \n",
       "41923    [telefon, bun, misc, bin, part, gaming, fotogr...\n",
       "41924    [pacat, telefon, frumos, incing, tar, aplicat,...\n",
       "41925                                       [telefon, bun]\n",
       "41926         [eleg, fiabil, frumos, functional, eficient]\n",
       "41927    [pro, ecran, lumin, durat, bater, excelent, su...\n",
       "Name: review_content, Length: 41927, dtype: object"
      ]
     },
     "execution_count": 16,
     "metadata": {},
     "output_type": "execute_result"
    }
   ],
   "source": [
    "# aplicarea stemming\n",
    "s_data= data.apply(lambda x: nltk.word_tokenize(x))\n",
    "s_data = s_data.apply(lambda x: [stemmer.stem(y) for y in x])\n",
    "s_data"
   ]
  },
  {
   "cell_type": "code",
   "execution_count": 17,
   "id": "744995ee",
   "metadata": {},
   "outputs": [],
   "source": [
    "##### creare model Word2Vec #####\n",
    "\n",
    "vector_size = 300 #numar dimensiuni embedding\n",
    "window = 5 #5 cuvinte inainte si 5 cuvinte dupa fiecare cuvant avut in vedere\n",
    "min_count = 1 #cuvantul trebuie sa apara cel putin o data in propozitie\n",
    "workers = 3 #numarul de partitii pe durata training-ului- cat de multe cpu utilizeaza\n",
    "sg = 0 # algoritmul de antrenare -> 0 pentru cbow, 1 pentru skip gram\n",
    "\n",
    "word2vec_model = Word2Vec(min_count = min_count,\n",
    "                          vector_size= vector_size,\n",
    "                          workers = workers, \n",
    "                          window = window, \n",
    "                          sg = sg)\n",
    "# construirea vocabularului\n",
    "word2vec_model.build_vocab(s_data)"
   ]
  },
  {
   "cell_type": "code",
   "execution_count": 18,
   "id": "329f07ee",
   "metadata": {},
   "outputs": [
    {
     "data": {
      "text/plain": [
       "41927"
      ]
     },
     "execution_count": 18,
     "metadata": {},
     "output_type": "execute_result"
    }
   ],
   "source": [
    "word2vec_model.corpus_count"
   ]
  },
  {
   "cell_type": "markdown",
   "id": "3b46f44a",
   "metadata": {},
   "source": [
    "### 2. Antrenarea modelului"
   ]
  },
  {
   "cell_type": "code",
   "execution_count": 19,
   "id": "1c0475d3",
   "metadata": {},
   "outputs": [
    {
     "data": {
      "text/plain": [
       "(3762187, 4528520)"
      ]
     },
     "execution_count": 19,
     "metadata": {},
     "output_type": "execute_result"
    }
   ],
   "source": [
    "word2vec_model.train(s_data,\n",
    "                      total_examples = word2vec_model.corpus_count, \n",
    "                      epochs = word2vec_model.epochs)"
   ]
  },
  {
   "cell_type": "code",
   "execution_count": 21,
   "id": "d08ed65e",
   "metadata": {},
   "outputs": [],
   "source": [
    "word2vec_model.save('Word2Vec_Trained_Model/w2v_stemmed_model')"
   ]
  },
  {
   "cell_type": "code",
   "execution_count": 23,
   "id": "9e53d8d3",
   "metadata": {},
   "outputs": [
    {
     "data": {
      "text/plain": [
       "[('social', 0.9740762114524841),\n",
       " ('socializ', 0.966336727142334),\n",
       " ('medi', 0.9565662145614624),\n",
       " ('fb', 0.9555067420005798),\n",
       " ('instagr', 0.9343439936637878)]"
      ]
     },
     "execution_count": 23,
     "metadata": {},
     "output_type": "execute_result"
    }
   ],
   "source": [
    "word2vec_model = models.KeyedVectors.load('Word2Vec_Trained_Model/w2v_stemmed_model')\n",
    "word2vec_model.wv.most_similar(positive='browsing', topn=5)"
   ]
  },
  {
   "cell_type": "code",
   "execution_count": 24,
   "id": "f51c2855",
   "metadata": {},
   "outputs": [
    {
     "data": {
      "text/plain": [
       "18983"
      ]
     },
     "execution_count": 24,
     "metadata": {},
     "output_type": "execute_result"
    }
   ],
   "source": [
    "len(word2vec_model.wv.index_to_key)"
   ]
  },
  {
   "cell_type": "code",
   "execution_count": 19,
   "id": "a845e003",
   "metadata": {},
   "outputs": [],
   "source": []
  },
  {
   "cell_type": "code",
   "execution_count": 25,
   "id": "94ef176d",
   "metadata": {},
   "outputs": [],
   "source": [
    "#pentru vizualizare in tensorboard\n",
    "m = models.KeyedVectors.load('Word2Vec_Trained_Model/w2v_stemmed_model')\n",
    "import io\n",
    "weights = m.wv.vectors\n",
    "vocab = m.wv.index_to_key\n",
    "\n",
    "out_v = io.open('Tensorboard Data/vectors.tsv', 'w', encoding='utf-8')\n",
    "out_m = io.open('Tensorboard Data/metadata.tsv', 'w', encoding='utf-8')\n",
    "\n",
    "for index, word in enumerate(vocab):\n",
    "    if index == 0:\n",
    "        continue  # skip 0, it's padding.\n",
    "        vec = weights[index]\n",
    "        out_v.write('\\t'.join([str(x) for x in vec]) + \"\\n\")\n",
    "        out_m.write(word + \"\\n\")\n",
    "out_v.close()\n",
    "out_m.close()"
   ]
  }
 ],
 "metadata": {
  "kernelspec": {
   "display_name": "Python 3 (ipykernel)",
   "language": "python",
   "name": "python3"
  },
  "language_info": {
   "codemirror_mode": {
    "name": "ipython",
    "version": 3
   },
   "file_extension": ".py",
   "mimetype": "text/x-python",
   "name": "python",
   "nbconvert_exporter": "python",
   "pygments_lexer": "ipython3",
   "version": "3.9.7"
  },
  "toc": {
   "base_numbering": 1,
   "nav_menu": {},
   "number_sections": true,
   "sideBar": true,
   "skip_h1_title": false,
   "title_cell": "Table of Contents",
   "title_sidebar": "Contents",
   "toc_cell": true,
   "toc_position": {},
   "toc_section_display": true,
   "toc_window_display": false
  }
 },
 "nbformat": 4,
 "nbformat_minor": 5
}
