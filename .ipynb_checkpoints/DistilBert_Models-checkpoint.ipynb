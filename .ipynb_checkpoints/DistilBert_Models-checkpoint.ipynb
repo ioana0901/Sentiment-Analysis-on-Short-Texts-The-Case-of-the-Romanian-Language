{
 "cells": [
  {
   "cell_type": "code",
   "execution_count": 1,
   "id": "2f3507aa",
   "metadata": {},
   "outputs": [
    {
     "name": "stdout",
     "output_type": "stream",
     "text": [
      "importing Jupyter notebook from FunctionsList.ipynb\n"
     ]
    }
   ],
   "source": [
    "import import_ipynb\n",
    "from FunctionsList import *\n",
    "import pandas as pd\n",
    "import numpy as np\n",
    "import random\n",
    "import gensim\n",
    "import tensorflow as tf\n",
    "from tensorflow.keras.utils import to_categorical\n",
    "\n",
    "from sklearn import metrics\n",
    "from sklearn.metrics import classification_report, confusion_matrix, accuracy_score, roc_curve, roc_auc_score\n",
    "from sklearn.model_selection import train_test_split\n",
    "\n",
    "from keras import Model\n",
    "from keras.preprocessing.text import Tokenizer\n",
    "from keras import regularizers, callbacks\n",
    "from keras.preprocessing.sequence import pad_sequences\n",
    "from keras.models import Sequential\n",
    "from tensorflow.keras.optimizers import RMSprop, Adam\n",
    "from keras.initializers import GlorotNormal\n",
    "from keras.layers import Dense, Dropout, Input\n",
    "\n",
    "from transformers import AutoTokenizer, AutoModel, DistilBertTokenizerFast, TFDistilBertModel, DistilBertConfig,AdamW\n",
    "import torch\n",
    "import torch.nn as nn"
   ]
  },
  {
   "cell_type": "code",
   "execution_count": 2,
   "id": "0e256926",
   "metadata": {},
   "outputs": [
    {
     "data": {
      "text/html": [
       "<div>\n",
       "<style scoped>\n",
       "    .dataframe tbody tr th:only-of-type {\n",
       "        vertical-align: middle;\n",
       "    }\n",
       "\n",
       "    .dataframe tbody tr th {\n",
       "        vertical-align: top;\n",
       "    }\n",
       "\n",
       "    .dataframe thead th {\n",
       "        text-align: right;\n",
       "    }\n",
       "</style>\n",
       "<table border=\"1\" class=\"dataframe\">\n",
       "  <thead>\n",
       "    <tr style=\"text-align: right;\">\n",
       "      <th></th>\n",
       "      <th>label</th>\n",
       "      <th>review_content</th>\n",
       "    </tr>\n",
       "  </thead>\n",
       "  <tbody>\n",
       "    <tr>\n",
       "      <th>0</th>\n",
       "      <td>1</td>\n",
       "      <td>incarcator românia adaptor cutie trebuie mamei...</td>\n",
       "    </tr>\n",
       "    <tr>\n",
       "      <th>1</th>\n",
       "      <td>0</td>\n",
       "      <td>probleme mari semnalul luni achizitionare afis...</td>\n",
       "    </tr>\n",
       "    <tr>\n",
       "      <th>2</th>\n",
       "      <td>1</td>\n",
       "      <td>telefon destul ok având vedere android go lejer</td>\n",
       "    </tr>\n",
       "    <tr>\n",
       "      <th>3</th>\n",
       "      <td>2</td>\n",
       "      <td>utilizator iphone incepand upgrade iphone ok n...</td>\n",
       "    </tr>\n",
       "    <tr>\n",
       "      <th>4</th>\n",
       "      <td>2</td>\n",
       "      <td>cumparat varianta gb gb ram culoare gri nu fol...</td>\n",
       "    </tr>\n",
       "  </tbody>\n",
       "</table>\n",
       "</div>"
      ],
      "text/plain": [
       "   label                                     review_content\n",
       "0      1  incarcator românia adaptor cutie trebuie mamei...\n",
       "1      0  probleme mari semnalul luni achizitionare afis...\n",
       "2      1    telefon destul ok având vedere android go lejer\n",
       "3      2  utilizator iphone incepand upgrade iphone ok n...\n",
       "4      2  cumparat varianta gb gb ram culoare gri nu fol..."
      ]
     },
     "execution_count": 2,
     "metadata": {},
     "output_type": "execute_result"
    }
   ],
   "source": [
    "#import data:\n",
    "data = pd.read_csv('Data/CleanDataset_3Classes_NoStemming_Accents.csv')\n",
    "#sterge prima coloana\n",
    "data = data.iloc[: , 1:]\n",
    "data.head()"
   ]
  },
  {
   "cell_type": "markdown",
   "id": "9912b79e",
   "metadata": {},
   "source": [
    "### Impartirea setului de date"
   ]
  },
  {
   "cell_type": "code",
   "execution_count": 3,
   "id": "1060c363",
   "metadata": {},
   "outputs": [],
   "source": [
    "# imparte setul de date: 80% - 20% \n",
    "contents = data['review_content']\n",
    "labels = data['label']\n",
    "x_train, x_test, y_train, y_test = train_test_split(contents, labels, train_size=0.8, random_state=42)\n",
    "x_train, x_val, y_train, y_val = train_test_split(x_train, y_train, train_size=0.85, random_state=42)"
   ]
  },
  {
   "cell_type": "code",
   "execution_count": 4,
   "id": "d6433b4f",
   "metadata": {},
   "outputs": [
    {
     "name": "stdout",
     "output_type": "stream",
     "text": [
      "y_train.shape: (10965, 3)\n",
      "y_test.shape : (3225, 3)\n",
      "y_val.shape : (1935, 3)\n"
     ]
    }
   ],
   "source": [
    "#one-hot encode labels\n",
    "y_train = to_categorical(y_train, num_classes=3)\n",
    "y_test = to_categorical(y_test, num_classes=3)\n",
    "y_val = to_categorical(y_val, num_classes=3)\n",
    "\n",
    "print(\"y_train.shape:\", y_train.shape)\n",
    "print(\"y_test.shape :\", y_test.shape)\n",
    "print(\"y_val.shape :\", y_val.shape)"
   ]
  },
  {
   "cell_type": "markdown",
   "id": "0134071e",
   "metadata": {},
   "source": [
    "### Tokenizare"
   ]
  },
  {
   "cell_type": "code",
   "execution_count": 5,
   "id": "c73ee383",
   "metadata": {},
   "outputs": [
    {
     "data": {
      "application/vnd.jupyter.widget-view+json": {
       "model_id": "0791c1ddc33b4d21acab156834796e06",
       "version_major": 2,
       "version_minor": 0
      },
      "text/plain": [
       "Downloading:   0%|          | 0.00/341 [00:00<?, ?B/s]"
      ]
     },
     "metadata": {},
     "output_type": "display_data"
    },
    {
     "data": {
      "application/vnd.jupyter.widget-view+json": {
       "model_id": "072cd245c2f34386ab3c40e263a2b8c4",
       "version_major": 2,
       "version_minor": 0
      },
      "text/plain": [
       "Downloading:   0%|          | 0.00/239k [00:00<?, ?B/s]"
      ]
     },
     "metadata": {},
     "output_type": "display_data"
    },
    {
     "data": {
      "application/vnd.jupyter.widget-view+json": {
       "model_id": "50c17035d10b4cf793033e5c46e70992",
       "version_major": 2,
       "version_minor": 0
      },
      "text/plain": [
       "Downloading:   0%|          | 0.00/112 [00:00<?, ?B/s]"
      ]
     },
     "metadata": {},
     "output_type": "display_data"
    },
    {
     "data": {
      "application/vnd.jupyter.widget-view+json": {
       "model_id": "9310b22a38f24902b7395a25a039759a",
       "version_major": 2,
       "version_minor": 0
      },
      "text/plain": [
       "Downloading:   0%|          | 0.00/419 [00:00<?, ?B/s]"
      ]
     },
     "metadata": {},
     "output_type": "display_data"
    }
   ],
   "source": [
    "# incarcarea tokenizer-ului\n",
    "model_name = \"racai/distilbert-base-romanian-uncased\"\n",
    "tokenizer = DistilBertTokenizerFast.from_pretrained(model_name)"
   ]
  },
  {
   "cell_type": "code",
   "execution_count": 6,
   "id": "14ebca76",
   "metadata": {},
   "outputs": [
    {
     "data": {
      "text/plain": [
       "<AxesSubplot:>"
      ]
     },
     "execution_count": 6,
     "metadata": {},
     "output_type": "execute_result"
    },
    {
     "data": {
      "image/png": "[encoded data removed]",
      "text/plain": [
       "<Figure size 432x288 with 1 Axes>"
      ]
     },
     "metadata": {
      "needs_background": "light"
     },
     "output_type": "display_data"
    }
   ],
   "source": [
    "# vezi lungimile textelor\n",
    "seq_len = [len(i.split()) for i in x_train]\n",
    "pd.Series(seq_len).hist(bins = 10)"
   ]
  },
  {
   "cell_type": "code",
   "execution_count": 7,
   "id": "022bb759",
   "metadata": {},
   "outputs": [],
   "source": [
    "#codifica datele in loturi - ia tokenizer, texts, batch_size, maxlen => returneaza input_ids si attention_mask\n",
    "maxlen= 300\n",
    "\n",
    "def batch_encode(tokenizer, texts, batch_size=256, max_length=maxlen):    \n",
    "    input_ids = []\n",
    "    attention_mask = []\n",
    "    for i in range(0, len(texts), batch_size):\n",
    "        batch = texts[i:i+batch_size]\n",
    "        inputs = tokenizer.batch_encode_plus(batch,\n",
    "                                             max_length=maxlen,\n",
    "                                             padding='max_length', \n",
    "                                             truncation=True,\n",
    "                                             return_attention_mask=True,\n",
    "                                             return_token_type_ids=False)\n",
    "        input_ids.extend(inputs['input_ids'])\n",
    "        attention_mask.extend(inputs['attention_mask'])\n",
    "   # return tf.stack(input_ids), tf.stack(attention_mask)\n",
    "    return tf.convert_to_tensor(input_ids), tf.convert_to_tensor(attention_mask)\n",
    "\n",
    "#encode:\n",
    "x_train_ids, x_train_attention = batch_encode(tokenizer, x_train.tolist())\n",
    "x_val_ids, x_val_attention = batch_encode(tokenizer, x_val.tolist())\n",
    "x_test_ids, x_test_attention = batch_encode(tokenizer, x_test.tolist())"
   ]
  },
  {
   "cell_type": "code",
   "execution_count": 8,
   "id": "0e1e689f",
   "metadata": {},
   "outputs": [
    {
     "data": {
      "text/plain": [
       "tensorflow.python.framework.ops.EagerTensor"
      ]
     },
     "execution_count": 8,
     "metadata": {},
     "output_type": "execute_result"
    }
   ],
   "source": [
    "type(x_train_attention)"
   ]
  },
  {
   "cell_type": "markdown",
   "id": "5d89f69e",
   "metadata": {},
   "source": [
    "### Incarcarea  modelului pre-antrenat distilBERT si crearea modelului"
   ]
  },
  {
   "cell_type": "code",
   "execution_count": 9,
   "id": "ac5ffab3",
   "metadata": {},
   "outputs": [
    {
     "data": {
      "application/vnd.jupyter.widget-view+json": {
       "model_id": "2c6b9a96eb404efe9587c7afa807023a",
       "version_major": 2,
       "version_minor": 0
      },
      "text/plain": [
       "Downloading:   0%|          | 0.00/275M [00:00<?, ?B/s]"
      ]
     },
     "metadata": {},
     "output_type": "display_data"
    },
    {
     "name": "stderr",
     "output_type": "stream",
     "text": [
      "All model checkpoint layers were used when initializing TFDistilBertModel.\n",
      "\n",
      "All the layers of TFDistilBertModel were initialized from the model checkpoint at racai/distilbert-base-romanian-uncased.\n",
      "If your task is similar to the task the model of the checkpoint was trained on, you can already use TFDistilBertModel for predictions without further training.\n"
     ]
    }
   ],
   "source": [
    "#defineste modelul\n",
    "from transformers import TFDistilBertModel, DistilBertConfig\n",
    "\n",
    "dropout = 0.2\n",
    "attention_dropout = 0.2\n",
    " \n",
    "# configuratia modelului initiala\n",
    "config = DistilBertConfig(dropout=dropout, \n",
    "                          attention_dropout=attention_dropout,\n",
    "                          output_hidden_states=True)\n",
    "                          \n",
    "# modelul fara cap de clasificare \n",
    "distilBERT = TFDistilBertModel.from_pretrained(model_name,config,output_attentions=True)\n",
    "\n",
    "# seteaza trainable pe False pentru a opri antrenarea - pentru ca ponderile preinstruite ale DistilBERT vor servi ca baza pentru model\n",
    "# dorim sa le conservam si sa impiedicam actualizarea lor in timpul etapelor initiale de instruire\n",
    "for layer in distilBERT.layers:\n",
    "    layer.trainable = False\n",
    "    \n",
    "#mai ramane de adaugat capul de clasificare in timpul procesului de ajustare pentru a ajuta modelul sa faca distinctia intre recenzii.\n"
   ]
  },
  {
   "cell_type": "code",
   "execution_count": 10,
   "id": "6a0909f2",
   "metadata": {},
   "outputs": [],
   "source": [
    "# adauga capul de clasificare\n",
    "dropout = 0.2\n",
    "random_state = 42\n",
    " \n",
    "def build_model(transformer, lr, max_length=maxlen): #ia transformatorul initializa (modelul distilbert) si maxlen(max tokens encoded) \n",
    "                                                    # => returneaza modelul cu stratul de clasificare    \n",
    "    #pentru reproductibilitate\n",
    "    weight_initializer = GlorotNormal(seed=random_state) \n",
    "\n",
    "    #straturile de intrare\n",
    "    input_ids_layer = Input(shape=(max_length,),\n",
    "                            name='input_ids',\n",
    "                            dtype='int32')\n",
    "    input_attention_layer = Input(shape=(max_length,),\n",
    "                                  name='input_attention',\n",
    "                                  dtype='int32')\n",
    "    \n",
    "    # DistilBERT produce o tupla in care primul element de la indicele 0 - reprezintă starea ascunsa (hidden state) la iesirea din ultimul strat al modelului.\n",
    "    # Este un tensor de forma (batch_size, sequence_length, hidden_size=768).\n",
    "    last_hidden_state = transformer([input_ids_layer, input_attention_layer])[0]\n",
    "    \n",
    "    # ne intereseaza doar rezultatul DistilBERT pentru simbolul [CLS], \n",
    "    # care se afla la indexul 0 al fiecarei secvente codificate.  \n",
    "    cls_token = last_hidden_state[:, 0, :]\n",
    "    \n",
    "    output = Dense(3,activation='softmax',\n",
    "                   kernel_initializer=weight_initializer,\n",
    "                   bias_initializer='zeros')(cls_token)\n",
    "\n",
    "    # definirea modelului\n",
    "    model = Model([input_ids_layer, input_attention_layer], output)\n",
    "    # compilare\n",
    "    model.compile(Adam(learning_rate=lr), #distilbert-ro-used values\n",
    "                  loss='categorical_crossentropy',\n",
    "                  metrics=['acc'])\n",
    "    \n",
    "    return model"
   ]
  },
  {
   "cell_type": "code",
   "execution_count": 11,
   "id": "b63c3fd5",
   "metadata": {},
   "outputs": [
    {
     "data": {
      "text/plain": [
       "TensorShape([10965, 300])"
      ]
     },
     "execution_count": 11,
     "metadata": {},
     "output_type": "execute_result"
    }
   ],
   "source": [
    "x_train_ids.shape"
   ]
  },
  {
   "cell_type": "code",
   "execution_count": 16,
   "id": "cbea3a2e",
   "metadata": {},
   "outputs": [
    {
     "name": "stdout",
     "output_type": "stream",
     "text": [
      "Epoch 1/5\n",
      "342/342 [==============================] - 732s 2s/step - loss: 1.3917 - acc: 0.3307 - val_loss: 1.1171 - val_acc: 0.3685\n",
      "Epoch 2/5\n",
      "342/342 [==============================] - 722s 2s/step - loss: 1.0743 - acc: 0.4256 - val_loss: 1.0470 - val_acc: 0.4651\n",
      "Epoch 3/5\n",
      "342/342 [==============================] - 723s 2s/step - loss: 1.0291 - acc: 0.4925 - val_loss: 1.0152 - val_acc: 0.5235\n",
      "Epoch 4/5\n",
      "342/342 [==============================] - 724s 2s/step - loss: 1.0000 - acc: 0.5377 - val_loss: 0.9886 - val_acc: 0.5421\n",
      "Epoch 5/5\n",
      "342/342 [==============================] - 722s 2s/step - loss: 0.9736 - acc: 0.5562 - val_loss: 0.9673 - val_acc: 0.5607\n"
     ]
    }
   ],
   "source": [
    "# antreneaza primul modele folosind urmatorii param:\n",
    "lr = 3e-5 \n",
    "epochs = 5\n",
    "batch_size = 32\n",
    "steps = len(x_train.index) // batch_size\n",
    "\n",
    "bmodel = build_model(distilBERT, lr)\n",
    "\n",
    "# antreneaza\n",
    "history = bmodel.fit(x=[x_train_ids, x_train_attention], \n",
    "                     y= y_train,\n",
    "                     epochs = epochs,\n",
    "                     batch_size = batch_size,\n",
    "                     steps_per_epoch = steps,\n",
    "                     validation_data = ([x_val_ids, x_val_attention], y_val))"
   ]
  },
  {
   "cell_type": "code",
   "execution_count": 17,
   "id": "de76d9d3",
   "metadata": {},
   "outputs": [
    {
     "data": {
      "image/png": "[encoded data removed]",
      "text/plain": [
       "<Figure size 432x288 with 1 Axes>"
      ]
     },
     "metadata": {
      "needs_background": "light"
     },
     "output_type": "display_data"
    },
    {
     "data": {
      "image/png": "[encoded data removed]",
      "text/plain": [
       "<Figure size 432x288 with 1 Axes>"
      ]
     },
     "metadata": {
      "needs_background": "light"
     },
     "output_type": "display_data"
    }
   ],
   "source": [
    "plot_graphs(history) ##--underfit"
   ]
  },
  {
   "cell_type": "code",
   "execution_count": 19,
   "id": "30ff8236",
   "metadata": {},
   "outputs": [
    {
     "name": "stdout",
     "output_type": "stream",
     "text": [
      "Epoch 1/10\n",
      "342/342 [==============================] - 744s 2s/step - loss: 1.0895 - acc: 0.4529 - val_loss: 1.0276 - val_acc: 0.5359\n",
      "Epoch 2/10\n",
      "342/342 [==============================] - 785s 2s/step - loss: 0.9979 - acc: 0.5574 - val_loss: 0.9784 - val_acc: 0.5798\n",
      "Epoch 3/10\n",
      "342/342 [==============================] - 815s 2s/step - loss: 0.9555 - acc: 0.5923 - val_loss: 0.9443 - val_acc: 0.5984\n",
      "Epoch 4/10\n",
      "342/342 [==============================] - 784s 2s/step - loss: 0.9261 - acc: 0.6056 - val_loss: 0.9208 - val_acc: 0.5938\n",
      "Epoch 5/10\n",
      "342/342 [==============================] - 786s 2s/step - loss: 0.9043 - acc: 0.6150 - val_loss: 0.9033 - val_acc: 0.6202\n",
      "Epoch 6/10\n",
      "342/342 [==============================] - 779s 2s/step - loss: 0.8886 - acc: 0.6226 - val_loss: 0.8873 - val_acc: 0.6171\n",
      "Epoch 7/10\n",
      "342/342 [==============================] - 790s 2s/step - loss: 0.8727 - acc: 0.6298 - val_loss: 0.8752 - val_acc: 0.6176\n",
      "Epoch 8/10\n",
      "342/342 [==============================] - 789s 2s/step - loss: 0.8616 - acc: 0.6293 - val_loss: 0.8640 - val_acc: 0.6336\n",
      "Epoch 9/10\n",
      "342/342 [==============================] - 787s 2s/step - loss: 0.8517 - acc: 0.6375 - val_loss: 0.8546 - val_acc: 0.6382\n",
      "Epoch 10/10\n",
      "342/342 [==============================] - 761s 2s/step - loss: 0.8420 - acc: 0.6391 - val_loss: 0.8465 - val_acc: 0.6475\n"
     ]
    }
   ],
   "source": [
    "# incearc alt lr și creste numarul de epoci\n",
    "lr=5e-5\n",
    "epochs = 10\n",
    "\n",
    "bmodel_1 = build_model(distilBERT, lr)\n",
    "# Train the model\n",
    "history = bmodel_1.fit(x=[x_train_ids, x_train_attention], \n",
    "                     y= y_train,\n",
    "                     epochs = epochs,\n",
    "                     batch_size = batch_size,\n",
    "                     steps_per_epoch = steps,\n",
    "                     validation_data = ([x_val_ids, x_val_attention], y_val))"
   ]
  },
  {
   "cell_type": "code",
   "execution_count": 20,
   "id": "ce770d2b",
   "metadata": {},
   "outputs": [
    {
     "data": {
      "image/png": "[encoded data removed]",
      "text/plain": [
       "<Figure size 432x288 with 1 Axes>"
      ]
     },
     "metadata": {
      "needs_background": "light"
     },
     "output_type": "display_data"
    },
    {
     "data": {
      "image/png": "[encoded data removed]",
      "text/plain": [
       "<Figure size 432x288 with 1 Axes>"
      ]
     },
     "metadata": {
      "needs_background": "light"
     },
     "output_type": "display_data"
    }
   ],
   "source": [
    "plot_graphs(history) #--underfit"
   ]
  },
  {
   "cell_type": "code",
   "execution_count": 13,
   "id": "8eef73d4",
   "metadata": {
    "collapsed": true
   },
   "outputs": [],
   "source": [
    "# un lr mai mic ar putea crește posibilitatea de a ajunge la overfitting\n",
    "lr=1e-4\n",
    "epochs = 23\n",
    "batch_size = 32\n",
    "steps = len(x_train.index) // batch_size\n",
    "\n",
    "bmodel_1 = build_model(distilBERT, lr)\n",
    "# Train the model\n",
    "history = bmodel_1.fit(x=[x_train_ids, x_train_attention], \n",
    "                     y= y_train,\n",
    "                     epochs = epochs,\n",
    "                     batch_size = batch_size,\n",
    "                     steps_per_epoch = steps,\n",
    "                     validation_data = ([x_val_ids, x_val_attention], y_val))"
   ]
  },
  {
   "cell_type": "code",
   "execution_count": 14,
   "id": "2d8a5537",
   "metadata": {},
   "outputs": [
    {
     "data": {
      "image/png": "[encoded data removed]",
      "text/plain": [
       "<Figure size 432x288 with 1 Axes>"
      ]
     },
     "metadata": {
      "needs_background": "light"
     },
     "output_type": "display_data"
    },
    {
     "data": {
      "image/png": "[encoded data removed]",
      "text/plain": [
       "<Figure size 432x288 with 1 Axes>"
      ]
     },
     "metadata": {
      "needs_background": "light"
     },
     "output_type": "display_data"
    }
   ],
   "source": [
    "plot_graphs(history)"
   ]
  },
  {
   "cell_type": "code",
   "execution_count": 15,
   "id": "44b0683b",
   "metadata": {},
   "outputs": [
    {
     "name": "stdout",
     "output_type": "stream",
     "text": [
      "101/101 [==============================] - 160s 2s/step - loss: 0.7450 - acc: 0.6719\n"
     ]
    },
    {
     "data": {
      "text/plain": [
       "[0.7450059652328491, 0.6719380021095276]"
      ]
     },
     "execution_count": 15,
     "metadata": {},
     "output_type": "execute_result"
    }
   ],
   "source": [
    "bmodel_1.evaluate([x_test_ids, x_test_attention],y_test)"
   ]
  },
  {
   "cell_type": "code",
   "execution_count": 16,
   "id": "76fb95dd",
   "metadata": {},
   "outputs": [],
   "source": [
    "#bmodel_1.save('Model/bert_2classes_model_3.h5','')\n",
    "bmodel_1.save_weights('Model/bmodel_3_weights.h5')"
   ]
  }
 ],
 "metadata": {
  "kernelspec": {
   "display_name": "Python 3 (ipykernel)",
   "language": "python",
   "name": "python3"
  },
  "language_info": {
   "codemirror_mode": {
    "name": "ipython",
    "version": 3
   },
   "file_extension": ".py",
   "mimetype": "text/x-python",
   "name": "python",
   "nbconvert_exporter": "python",
   "pygments_lexer": "ipython3",
   "version": "3.9.7"
  }
 },
 "nbformat": 4,
 "nbformat_minor": 5
}
