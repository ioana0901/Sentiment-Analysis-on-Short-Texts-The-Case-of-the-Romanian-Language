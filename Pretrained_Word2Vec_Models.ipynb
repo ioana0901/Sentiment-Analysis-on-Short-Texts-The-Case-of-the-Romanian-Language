{
  "cells": [
    {
      "cell_type": "markdown",
      "metadata": {
        "id": "view-in-github",
        "colab_type": "text"
      },
      "source": [
        "<a href=\"https://colab.research.google.com/github/ioana0901/Sentiment-Analysis-on-Short-Texts-The-Case-of-the-Romanian-Language/blob/main/Pretrained_Word2Vec_Models.ipynb\" target=\"_parent\"><img src=\"https://colab.research.google.com/assets/colab-badge.svg\" alt=\"Open In Colab\"/></a>"
      ]
    },
    {
      "cell_type": "code",
      "source": [
        "#!pip install import_ipynb\n",
        "\n",
        "from google.colab import drive\n",
        "drive.mount('/content/drive')"
      ],
      "metadata": {
        "colab": {
          "base_uri": "https://localhost:8080/"
        },
        "id": "JEYcr413uV3Y",
        "outputId": "91254765-b2ff-44e3-adfd-078e4264a282"
      },
      "id": "JEYcr413uV3Y",
      "execution_count": 17,
      "outputs": [
        {
          "output_type": "stream",
          "name": "stdout",
          "text": [
            "Drive already mounted at /content/drive; to attempt to forcibly remount, call drive.mount(\"/content/drive\", force_remount=True).\n"
          ]
        }
      ]
    },
    {
      "cell_type": "code",
      "source": [
        "%cd \"/content/drive/MyDrive/Analiza sentimentelor umane a textelor din Limba Română\""
      ],
      "metadata": {
        "colab": {
          "base_uri": "https://localhost:8080/"
        },
        "id": "_YlmLKYxyr9N",
        "outputId": "9a2d1a43-75c2-4272-97d2-c93be69f6c1b"
      },
      "id": "_YlmLKYxyr9N",
      "execution_count": 18,
      "outputs": [
        {
          "output_type": "stream",
          "name": "stdout",
          "text": [
            "/content/drive/MyDrive/Analiza sentimentelor umane a textelor din Limba Română\n"
          ]
        }
      ]
    },
    {
      "cell_type": "code",
      "execution_count": 19,
      "id": "75f505e0",
      "metadata": {
        "id": "75f505e0"
      },
      "outputs": [],
      "source": [
        "import import_ipynb\n",
        "from FunctionsList import *\n",
        "import pandas as pd\n",
        "import numpy as np\n",
        "import random\n",
        "import gensim\n",
        "import joblib \n",
        "import seaborn as sns\n",
        "\n",
        "from gensim.models import KeyedVectors, Word2Vec\n",
        "from tensorflow.keras.utils import to_categorical\n",
        "\n",
        "from sklearn import metrics\n",
        "from sklearn.metrics import classification_report, confusion_matrix, accuracy_score, roc_curve, roc_auc_score\n",
        "from sklearn.model_selection import GridSearchCV\n",
        "from sklearn import preprocessing\n",
        "from sklearn.model_selection import train_test_split\n",
        "\n",
        "from keras.preprocessing.text import Tokenizer\n",
        "from keras import regularizers, callbacks\n",
        "from keras_preprocessing.sequence import pad_sequences\n",
        "from keras.models import Sequential\n",
        "from tensorflow.keras.optimizers import RMSprop\n",
        "from keras.layers import Embedding, Flatten, Dense, LSTM, GRU, Conv1D, MaxPooling1D, GlobalMaxPooling1D, Bidirectional, Dropout\n",
        "from keras.regularizers import l2"
      ]
    },
    {
      "cell_type": "code",
      "source": [
        "#!pip install gensim"
      ],
      "metadata": {
        "id": "U3xnXff-GHXg"
      },
      "id": "U3xnXff-GHXg",
      "execution_count": null,
      "outputs": []
    },
    {
      "cell_type": "code",
      "execution_count": 21,
      "id": "8d0d07e3",
      "metadata": {
        "id": "8d0d07e3",
        "outputId": "2303152c-ce03-40a4-c657-59f6cd73ee9c",
        "colab": {
          "base_uri": "https://localhost:8080/",
          "height": 206
        }
      },
      "outputs": [
        {
          "output_type": "execute_result",
          "data": {
            "text/plain": [
              "   label                                     review_content\n",
              "0      2  Tine bateria lejer  zi intreaga cu decenta din...\n",
              "1      2  Telefonul ofera foarte mult pentru pretul sau ...\n",
              "2      0  Dupa doua luni deja merge ca un tractor acei  ...\n",
              "3      2  Despre livrare a fost ok a ajuns exact in timp...\n",
              "4      2  Scriu acest review la  luni de la achizitie si..."
            ],
            "text/html": [
              "\n",
              "  <div id=\"df-54972d02-8baa-4c04-8e91-7acb5d0c7e24\">\n",
              "    <div class=\"colab-df-container\">\n",
              "      <div>\n",
              "<style scoped>\n",
              "    .dataframe tbody tr th:only-of-type {\n",
              "        vertical-align: middle;\n",
              "    }\n",
              "\n",
              "    .dataframe tbody tr th {\n",
              "        vertical-align: top;\n",
              "    }\n",
              "\n",
              "    .dataframe thead th {\n",
              "        text-align: right;\n",
              "    }\n",
              "</style>\n",
              "<table border=\"1\" class=\"dataframe\">\n",
              "  <thead>\n",
              "    <tr style=\"text-align: right;\">\n",
              "      <th></th>\n",
              "      <th>label</th>\n",
              "      <th>review_content</th>\n",
              "    </tr>\n",
              "  </thead>\n",
              "  <tbody>\n",
              "    <tr>\n",
              "      <th>0</th>\n",
              "      <td>2</td>\n",
              "      <td>Tine bateria lejer  zi intreaga cu decenta din...</td>\n",
              "    </tr>\n",
              "    <tr>\n",
              "      <th>1</th>\n",
              "      <td>2</td>\n",
              "      <td>Telefonul ofera foarte mult pentru pretul sau ...</td>\n",
              "    </tr>\n",
              "    <tr>\n",
              "      <th>2</th>\n",
              "      <td>0</td>\n",
              "      <td>Dupa doua luni deja merge ca un tractor acei  ...</td>\n",
              "    </tr>\n",
              "    <tr>\n",
              "      <th>3</th>\n",
              "      <td>2</td>\n",
              "      <td>Despre livrare a fost ok a ajuns exact in timp...</td>\n",
              "    </tr>\n",
              "    <tr>\n",
              "      <th>4</th>\n",
              "      <td>2</td>\n",
              "      <td>Scriu acest review la  luni de la achizitie si...</td>\n",
              "    </tr>\n",
              "  </tbody>\n",
              "</table>\n",
              "</div>\n",
              "      <button class=\"colab-df-convert\" onclick=\"convertToInteractive('df-54972d02-8baa-4c04-8e91-7acb5d0c7e24')\"\n",
              "              title=\"Convert this dataframe to an interactive table.\"\n",
              "              style=\"display:none;\">\n",
              "        \n",
              "  <svg xmlns=\"http://www.w3.org/2000/svg\" height=\"24px\"viewBox=\"0 0 24 24\"\n",
              "       width=\"24px\">\n",
              "    <path d=\"M0 0h24v24H0V0z\" fill=\"none\"/>\n",
              "    <path d=\"M18.56 5.44l.94 2.06.94-2.06 2.06-.94-2.06-.94-.94-2.06-.94 2.06-2.06.94zm-11 1L8.5 8.5l.94-2.06 2.06-.94-2.06-.94L8.5 2.5l-.94 2.06-2.06.94zm10 10l.94 2.06.94-2.06 2.06-.94-2.06-.94-.94-2.06-.94 2.06-2.06.94z\"/><path d=\"M17.41 7.96l-1.37-1.37c-.4-.4-.92-.59-1.43-.59-.52 0-1.04.2-1.43.59L10.3 9.45l-7.72 7.72c-.78.78-.78 2.05 0 2.83L4 21.41c.39.39.9.59 1.41.59.51 0 1.02-.2 1.41-.59l7.78-7.78 2.81-2.81c.8-.78.8-2.07 0-2.86zM5.41 20L4 18.59l7.72-7.72 1.47 1.35L5.41 20z\"/>\n",
              "  </svg>\n",
              "      </button>\n",
              "      \n",
              "  <style>\n",
              "    .colab-df-container {\n",
              "      display:flex;\n",
              "      flex-wrap:wrap;\n",
              "      gap: 12px;\n",
              "    }\n",
              "\n",
              "    .colab-df-convert {\n",
              "      background-color: #E8F0FE;\n",
              "      border: none;\n",
              "      border-radius: 50%;\n",
              "      cursor: pointer;\n",
              "      display: none;\n",
              "      fill: #1967D2;\n",
              "      height: 32px;\n",
              "      padding: 0 0 0 0;\n",
              "      width: 32px;\n",
              "    }\n",
              "\n",
              "    .colab-df-convert:hover {\n",
              "      background-color: #E2EBFA;\n",
              "      box-shadow: 0px 1px 2px rgba(60, 64, 67, 0.3), 0px 1px 3px 1px rgba(60, 64, 67, 0.15);\n",
              "      fill: #174EA6;\n",
              "    }\n",
              "\n",
              "    [theme=dark] .colab-df-convert {\n",
              "      background-color: #3B4455;\n",
              "      fill: #D2E3FC;\n",
              "    }\n",
              "\n",
              "    [theme=dark] .colab-df-convert:hover {\n",
              "      background-color: #434B5C;\n",
              "      box-shadow: 0px 1px 3px 1px rgba(0, 0, 0, 0.15);\n",
              "      filter: drop-shadow(0px 1px 2px rgba(0, 0, 0, 0.3));\n",
              "      fill: #FFFFFF;\n",
              "    }\n",
              "  </style>\n",
              "\n",
              "      <script>\n",
              "        const buttonEl =\n",
              "          document.querySelector('#df-54972d02-8baa-4c04-8e91-7acb5d0c7e24 button.colab-df-convert');\n",
              "        buttonEl.style.display =\n",
              "          google.colab.kernel.accessAllowed ? 'block' : 'none';\n",
              "\n",
              "        async function convertToInteractive(key) {\n",
              "          const element = document.querySelector('#df-54972d02-8baa-4c04-8e91-7acb5d0c7e24');\n",
              "          const dataTable =\n",
              "            await google.colab.kernel.invokeFunction('convertToInteractive',\n",
              "                                                     [key], {});\n",
              "          if (!dataTable) return;\n",
              "\n",
              "          const docLinkHtml = 'Like what you see? Visit the ' +\n",
              "            '<a target=\"_blank\" href=https://colab.research.google.com/notebooks/data_table.ipynb>data table notebook</a>'\n",
              "            + ' to learn more about interactive tables.';\n",
              "          element.innerHTML = '';\n",
              "          dataTable['output_type'] = 'display_data';\n",
              "          await google.colab.output.renderOutput(dataTable, element);\n",
              "          const docLink = document.createElement('div');\n",
              "          docLink.innerHTML = docLinkHtml;\n",
              "          element.appendChild(docLink);\n",
              "        }\n",
              "      </script>\n",
              "    </div>\n",
              "  </div>\n",
              "  "
            ]
          },
          "metadata": {},
          "execution_count": 21
        }
      ],
      "source": [
        "#import data:\n",
        "data = pd.read_csv('Data/CleanDataset_for_PretrainedWord2Vec.csv')\n",
        "#sterge prima coloana\n",
        "data = data.iloc[: , 1:]\n",
        "data.head()"
      ]
    },
    {
      "cell_type": "markdown",
      "id": "20f1d4bb",
      "metadata": {
        "id": "20f1d4bb"
      },
      "source": [
        "### Impartirea setului de date"
      ]
    },
    {
      "cell_type": "code",
      "execution_count": 22,
      "id": "5c5a7b8a",
      "metadata": {
        "id": "5c5a7b8a"
      },
      "outputs": [],
      "source": [
        "# imparte setul de date: 80% - 20% \n",
        "contents = data['review_content']\n",
        "labels = data['label']\n",
        "x_train, x_test, y_train, y_test = train_test_split(contents, labels, train_size=0.8, random_state=42)"
      ]
    },
    {
      "cell_type": "markdown",
      "id": "881fe573",
      "metadata": {
        "id": "881fe573"
      },
      "source": [
        "### Vectorizare"
      ]
    },
    {
      "cell_type": "code",
      "execution_count": 23,
      "id": "00d64130",
      "metadata": {
        "id": "00d64130",
        "outputId": "fed732f8-09ff-42fb-9ac6-43c3701299ab",
        "colab": {
          "base_uri": "https://localhost:8080/"
        }
      },
      "outputs": [
        {
          "output_type": "stream",
          "name": "stdout",
          "text": [
            "30326 unique tokens\n"
          ]
        }
      ],
      "source": [
        "# Transformarea cuvintelor in float\n",
        "tokenizer = Tokenizer(num_words = 9000) #maxim 9000 cele mai comune cuvinte\n",
        "\n",
        "# crearea vocabularului\n",
        "tokenizer.fit_on_texts(x_train)\n",
        "# numarul de cuvinte unice\n",
        "unique_words = tokenizer.word_index\n",
        "\n",
        "# converteste textul in float pentru x\n",
        "x_train = tokenizer.texts_to_sequences(x_train)\n",
        "x_test = tokenizer.texts_to_sequences(x_test)\n",
        "\n",
        "#sunt 30326 tokeni unici\n",
        "print('%s unique tokens' % len(unique_words))"
      ]
    },
    {
      "cell_type": "code",
      "execution_count": 24,
      "id": "e151475a",
      "metadata": {
        "id": "e151475a",
        "outputId": "efca29aa-a9fd-4cee-8a1f-b0f9e71b2b80",
        "colab": {
          "base_uri": "https://localhost:8080/"
        }
      },
      "outputs": [
        {
          "output_type": "stream",
          "name": "stdout",
          "text": [
            "2051\n"
          ]
        }
      ],
      "source": [
        "# identifica lungimea maxima a recenziilor\n",
        "maxlen = 0\n",
        "for rev_n in range(len(x_train)):\n",
        "    n = len(x_train[rev_n])\n",
        "    if n > maxlen:\n",
        "        maxlen = n\n",
        "print(maxlen)"
      ]
    },
    {
      "cell_type": "code",
      "execution_count": 25,
      "id": "b7ee625d",
      "metadata": {
        "id": "b7ee625d",
        "outputId": "9773aa4a-beb8-46a9-ade9-e1a7fb0bf947",
        "colab": {
          "base_uri": "https://localhost:8080/"
        }
      },
      "outputs": [
        {
          "output_type": "stream",
          "name": "stdout",
          "text": [
            "x_train.shape: (12900, 2051)\n",
            "x_test.shape : (3225, 2051)\n"
          ]
        }
      ],
      "source": [
        "# de vreme ce unele recenzii au o lungime mai mica decat lungimea maxima calculata mai sus (2051)\n",
        "# - ele trebuie aduse la aceeasi lungime pentru a avea acelasi shape\n",
        "# padding pentru ambele seturi\n",
        "x_train = pad_sequences(x_train, maxlen=maxlen) #pad sequences so they have same length\n",
        "x_test = pad_sequences(x_test, maxlen=maxlen)\n",
        "\n",
        "print(\"x_train.shape:\", x_train.shape)\n",
        "print(\"x_test.shape :\", x_test.shape)"
      ]
    },
    {
      "cell_type": "code",
      "execution_count": 26,
      "id": "89d7f72c",
      "metadata": {
        "id": "89d7f72c",
        "outputId": "e7803878-32e2-424f-a926-d7bedb5e77b1",
        "colab": {
          "base_uri": "https://localhost:8080/"
        }
      },
      "outputs": [
        {
          "output_type": "stream",
          "name": "stdout",
          "text": [
            "y_train.shape: (12900, 3)\n",
            "y_test.shape : (3225, 3)\n"
          ]
        }
      ],
      "source": [
        "#one-hot encode labels\n",
        "y_train = to_categorical(y_train, num_classes=3)\n",
        "y_test = to_categorical(y_test, num_classes=3)\n",
        "print(\"y_train.shape:\", y_train.shape)\n",
        "print(\"y_test.shape :\", y_test.shape)"
      ]
    },
    {
      "cell_type": "markdown",
      "id": "c338ba1d",
      "metadata": {
        "id": "c338ba1d"
      },
      "source": [
        "### Incarcarea modelului Word2vec - Crearea stratului de embedding "
      ]
    },
    {
      "cell_type": "code",
      "source": [
        "'''\n",
        "100 de dimensiuni și peste 241 mii de cuvinte \n",
        "a fost antrenat pe un corp de date în limba română - wiki_2019_ro folosind varianta CBOW\n",
        "-de remarcat faptul că în antrenarea acestui model nu s-au preprocesat textele, fapt pentru care, în acest caz, \n",
        "setul de date a fost curățat doar de tag-urile HTML, numere, caracterele extra din cuvinte și punctuație.\n",
        "'''"
      ],
      "metadata": {
        "colab": {
          "base_uri": "https://localhost:8080/",
          "height": 53
        },
        "id": "0gfueLx39-Rz",
        "outputId": "2a59441d-1184-40d0-83ca-d03a015e8392"
      },
      "id": "0gfueLx39-Rz",
      "execution_count": null,
      "outputs": [
        {
          "output_type": "execute_result",
          "data": {
            "text/plain": [
              "'\\n100 de dimensiuni și peste 241 mii de cuvinte \\na fost antrenat pe un corp de date în limba română - wiki_2019_ro folosind varianta CBOW\\n-de remarcat faptul că în antrenarea acestui model nu s-au preprocesat textele, fapt pentru care, în acest caz, \\nsetul de date a fost curățat doar de tag-urile HTML, numere, caracterele extra din cuvinte și punctuație.\\n'"
            ],
            "application/vnd.google.colaboratory.intrinsic+json": {
              "type": "string"
            }
          },
          "metadata": {},
          "execution_count": 18
        }
      ]
    },
    {
      "cell_type": "code",
      "execution_count": 20,
      "id": "85dbb805",
      "metadata": {
        "id": "85dbb805"
      },
      "outputs": [],
      "source": [
        "#load word embedding model \n",
        "word2vec_model = KeyedVectors.load('Word2Vec_Trained_Model/word2vec-ro-100-cbow-negative_sampling.model')\n",
        "# see vector size is =100 and nr of words =30326"
      ]
    },
    {
      "cell_type": "code",
      "execution_count": 27,
      "id": "18136180",
      "metadata": {
        "id": "18136180",
        "outputId": "12d82d54-6ff3-44c4-f2bf-d338ed9f54e6",
        "colab": {
          "base_uri": "https://localhost:8080/"
        }
      },
      "outputs": [
        {
          "output_type": "execute_result",
          "data": {
            "text/plain": [
              "[('promițător', 0.7119244337081909),\n",
              " ('scump', 0.6952224969863892),\n",
              " ('profitabil', 0.6877985000610352),\n",
              " ('longeviv', 0.6870125532150269),\n",
              " ('îndrăzneț', 0.6790050864219666),\n",
              " ('prestigios', 0.6746405363082886),\n",
              " ('vârstnic', 0.6681191921234131),\n",
              " ('titrat', 0.6666390895843506),\n",
              " ('tânăr', 0.656938910484314),\n",
              " ('notabil', 0.632922351360321)]"
            ]
          },
          "metadata": {},
          "execution_count": 27
        }
      ],
      "source": [
        "word2vec_model.wv.most_similar('bun')"
      ]
    },
    {
      "cell_type": "code",
      "execution_count": 28,
      "id": "10e4826d",
      "metadata": {
        "id": "10e4826d",
        "outputId": "098eb7d7-16de-4c1f-ac49-664297ab3ac5",
        "colab": {
          "base_uri": "https://localhost:8080/"
        }
      },
      "outputs": [
        {
          "output_type": "stream",
          "name": "stdout",
          "text": [
            "Embedding Matrix Shape: (30327, 100)\n"
          ]
        }
      ],
      "source": [
        "# modelul are 100 de dimensiune -> fiecare cuvant are 100 dim si peste 30000 de cuvinte\n",
        "# de vreme ce suntem interesati doar de cele 15120 cuvinte din setul de train -> cream matricea de embedding de forma (30326+1, 100)\n",
        "total_words = len(unique_words) + 1\n",
        "skipped_words = 0 \n",
        "l=[] #vezi skipped words daca exista\n",
        "embedding_dim = 100\n",
        "embedding_matrix = np.zeros((total_words, embedding_dim)) #forma matricei \n",
        "\n",
        "for word, i in tokenizer.word_index.items():\n",
        "    if word2vec_model.wv.__contains__(word):\n",
        "        embedding_matrix[i] = word2vec_model.wv.__getitem__(word)\n",
        "    else:\n",
        "        skipped_words = skipped_words + 1\n",
        "        l.append(word)\n",
        "        \n",
        "print(\"Embedding Matrix Shape:\", embedding_matrix.shape)"
      ]
    },
    {
      "cell_type": "code",
      "execution_count": 29,
      "id": "bcda09cf",
      "metadata": {
        "id": "bcda09cf"
      },
      "outputs": [],
      "source": [
        "#Crearea stratului de embedding\n",
        "embedding_layer = Embedding(total_words, \n",
        "                            embedding_dim,\n",
        "                            weights = [embedding_matrix],\n",
        "                            input_length = maxlen, \n",
        "                            trainable = False)"
      ]
    },
    {
      "cell_type": "markdown",
      "id": "005bae36",
      "metadata": {
        "id": "005bae36"
      },
      "source": [
        "## Crearea si antrenarea de modele"
      ]
    },
    {
      "cell_type": "code",
      "source": [
        "import random\n",
        "random.seed(42)"
      ],
      "metadata": {
        "id": "eNMBt3gVJBxs"
      },
      "id": "eNMBt3gVJBxs",
      "execution_count": 30,
      "outputs": []
    },
    {
      "cell_type": "markdown",
      "id": "961b2452",
      "metadata": {
        "id": "961b2452"
      },
      "source": [
        "### LSTM"
      ]
    },
    {
      "cell_type": "code",
      "execution_count": null,
      "id": "b6228bcd",
      "metadata": {
        "id": "b6228bcd",
        "outputId": "d5f8b59b-74e0-4326-cd7f-eda96fa38e27",
        "colab": {
          "base_uri": "https://localhost:8080/"
        }
      },
      "outputs": [
        {
          "output_type": "stream",
          "name": "stdout",
          "text": [
            "Epoch 1/10\n",
            "172/172 [==============================] - 126s 719ms/step - loss: 1.0895 - acc: 0.3945 - val_loss: 1.0556 - val_acc: 0.4496\n",
            "Epoch 2/10\n",
            "172/172 [==============================] - 121s 706ms/step - loss: 0.9847 - acc: 0.5373 - val_loss: 0.9106 - val_acc: 0.5845\n",
            "Epoch 3/10\n",
            "172/172 [==============================] - 122s 709ms/step - loss: 0.8861 - acc: 0.5915 - val_loss: 0.8633 - val_acc: 0.6052\n",
            "Epoch 4/10\n",
            "172/172 [==============================] - 119s 695ms/step - loss: 0.8445 - acc: 0.6150 - val_loss: 0.8294 - val_acc: 0.6274\n",
            "Epoch 5/10\n",
            "172/172 [==============================] - 119s 693ms/step - loss: 0.8157 - acc: 0.6343 - val_loss: 0.8158 - val_acc: 0.6320\n",
            "Epoch 6/10\n",
            "172/172 [==============================] - 120s 697ms/step - loss: 0.7917 - acc: 0.6471 - val_loss: 0.8112 - val_acc: 0.6310\n",
            "Epoch 7/10\n",
            "172/172 [==============================] - 119s 694ms/step - loss: 0.7737 - acc: 0.6586 - val_loss: 0.7988 - val_acc: 0.6382\n",
            "Epoch 8/10\n",
            "172/172 [==============================] - 119s 690ms/step - loss: 0.7551 - acc: 0.6697 - val_loss: 0.7895 - val_acc: 0.6413\n",
            "Epoch 9/10\n",
            "172/172 [==============================] - 118s 687ms/step - loss: 0.7394 - acc: 0.6783 - val_loss: 0.7876 - val_acc: 0.6574\n",
            "Epoch 10/10\n",
            "172/172 [==============================] - 118s 686ms/step - loss: 0.7234 - acc: 0.6863 - val_loss: 0.7721 - val_acc: 0.6605\n"
          ]
        }
      ],
      "source": [
        "# definirea modelului-------------8------------------\n",
        "from keras.models import Sequential\n",
        "\n",
        "lstm_model = Sequential()\n",
        "lstm_model.add(embedding_layer)\n",
        "lstm_model.add(LSTM(8))\n",
        "lstm_model.add(Dense(3, activation = 'softmax'))\n",
        "\n",
        "lstm_model.compile(optimizer='rmsprop',\n",
        "                   loss='categorical_crossentropy',\n",
        "                   metrics=['acc'])\n",
        "history = lstm_model.fit(x_train, \n",
        "                         y_train,\n",
        "                         epochs=10,\n",
        "                         batch_size=64,\n",
        "                         validation_split=0.15)"
      ]
    },
    {
      "cell_type": "code",
      "execution_count": null,
      "id": "600ff2e9",
      "metadata": {
        "id": "600ff2e9",
        "outputId": "29ae896d-018c-44e5-d7fd-886e6ded5afb",
        "colab": {
          "base_uri": "https://localhost:8080/",
          "height": 545
        }
      },
      "outputs": [
        {
          "output_type": "display_data",
          "data": {
            "text/plain": [
              "<Figure size 432x288 with 1 Axes>"
            ],
            "image/png": "[encoded data removed]"
          },
          "metadata": {
            "needs_background": "light"
          }
        },
        {
          "output_type": "display_data",
          "data": {
            "text/plain": [
              "<Figure size 432x288 with 1 Axes>"
            ],
            "image/png": "[encoded data removed]"
          },
          "metadata": {
            "needs_background": "light"
          }
        }
      ],
      "source": [
        "plot_graphs(history)"
      ]
    },
    {
      "cell_type": "code",
      "source": [
        "lstm_model.evaluate(x_test, y_test)"
      ],
      "metadata": {
        "colab": {
          "base_uri": "https://localhost:8080/"
        },
        "id": "il65aZAQOxxv",
        "outputId": "3a81d46a-f0f5-4aa4-f702-7e37d19abba8"
      },
      "id": "il65aZAQOxxv",
      "execution_count": null,
      "outputs": [
        {
          "output_type": "stream",
          "name": "stdout",
          "text": [
            "101/101 [==============================] - 13s 130ms/step - loss: 0.7784 - acc: 0.6629\n"
          ]
        },
        {
          "output_type": "execute_result",
          "data": {
            "text/plain": [
              "[0.7784168124198914, 0.6629457473754883]"
            ]
          },
          "metadata": {},
          "execution_count": 18
        }
      ]
    },
    {
      "cell_type": "code",
      "source": [
        "pred=lstm_model.predict(x_test)\n",
        "pred=np.argmax(pred, axis=1)\n",
        "ytest=np.argmax(y_test, axis=1)\n",
        "# reduce to 1d array\n",
        "print(classification_report(pred, ytest, target_names=['neg', 'n', 'pos']))"
      ],
      "metadata": {
        "colab": {
          "base_uri": "https://localhost:8080/"
        },
        "id": "MrbQrn5fOx0U",
        "outputId": "693f6ee9-ca96-43c1-bd4c-621934703d5a"
      },
      "id": "MrbQrn5fOx0U",
      "execution_count": null,
      "outputs": [
        {
          "output_type": "stream",
          "name": "stdout",
          "text": [
            "101/101 [==============================] - 13s 126ms/step\n",
            "              precision    recall  f1-score   support\n",
            "\n",
            "         neg       0.59      0.69      0.64       918\n",
            "           n       0.54      0.69      0.60       822\n",
            "         pos       0.86      0.64      0.73      1485\n",
            "\n",
            "    accuracy                           0.66      3225\n",
            "   macro avg       0.66      0.67      0.66      3225\n",
            "weighted avg       0.70      0.66      0.67      3225\n",
            "\n"
          ]
        }
      ]
    },
    {
      "cell_type": "code",
      "execution_count": null,
      "id": "248da72f",
      "metadata": {
        "id": "248da72f",
        "outputId": "15fff4d4-bf78-4089-ac39-5ed25a642384",
        "colab": {
          "base_uri": "https://localhost:8080/"
        }
      },
      "outputs": [
        {
          "output_type": "stream",
          "name": "stdout",
          "text": [
            "Epoch 1/10\n",
            "172/172 [==============================] - 138s 783ms/step - loss: 1.0763 - acc: 0.4111 - val_loss: 1.0442 - val_acc: 0.4517\n",
            "Epoch 2/10\n",
            "172/172 [==============================] - 135s 785ms/step - loss: 0.9753 - acc: 0.5187 - val_loss: 0.8969 - val_acc: 0.5674\n",
            "Epoch 3/10\n",
            "172/172 [==============================] - 132s 767ms/step - loss: 0.8375 - acc: 0.6118 - val_loss: 0.8468 - val_acc: 0.5917\n",
            "Epoch 4/10\n",
            "172/172 [==============================] - 135s 786ms/step - loss: 0.7868 - acc: 0.6386 - val_loss: 0.8166 - val_acc: 0.6186\n",
            "Epoch 5/10\n",
            "172/172 [==============================] - 135s 783ms/step - loss: 0.7546 - acc: 0.6604 - val_loss: 0.8107 - val_acc: 0.6191\n",
            "Epoch 6/10\n",
            "172/172 [==============================] - 133s 776ms/step - loss: 0.7273 - acc: 0.6782 - val_loss: 0.7870 - val_acc: 0.6424\n",
            "Epoch 7/10\n",
            "172/172 [==============================] - 134s 777ms/step - loss: 0.7042 - acc: 0.6920 - val_loss: 0.7789 - val_acc: 0.6465\n",
            "Epoch 8/10\n",
            "172/172 [==============================] - 136s 791ms/step - loss: 0.6816 - acc: 0.7048 - val_loss: 0.7733 - val_acc: 0.6517\n",
            "Epoch 9/10\n",
            "172/172 [==============================] - 137s 796ms/step - loss: 0.6592 - acc: 0.7150 - val_loss: 0.7671 - val_acc: 0.6512\n",
            "Epoch 10/10\n",
            "172/172 [==============================] - 136s 789ms/step - loss: 0.6435 - acc: 0.7220 - val_loss: 0.7578 - val_acc: 0.6630\n"
          ]
        }
      ],
      "source": [
        "# definirea modelului------------16--------------\n",
        "lstm_model2 = Sequential()\n",
        "lstm_model2.add(embedding_layer)\n",
        "lstm_model2.add(LSTM(16))\n",
        "lstm_model2.add(Dense(3, activation = 'softmax'))\n",
        "\n",
        "lstm_model2.compile(optimizer='rmsprop',\n",
        "                   loss='categorical_crossentropy',\n",
        "                   metrics=['acc'])\n",
        "history = lstm_model2.fit(x_train, \n",
        "                         y_train,\n",
        "                         epochs=10,\n",
        "                         batch_size=64,\n",
        "                         validation_split=0.15)"
      ]
    },
    {
      "cell_type": "code",
      "execution_count": null,
      "id": "bb7ee4fd",
      "metadata": {
        "id": "bb7ee4fd",
        "outputId": "deeb1e14-0d9d-4a59-9a85-afc2af6e0daa",
        "colab": {
          "base_uri": "https://localhost:8080/",
          "height": 545
        }
      },
      "outputs": [
        {
          "output_type": "display_data",
          "data": {
            "text/plain": [
              "<Figure size 432x288 with 1 Axes>"
            ],
            "image/png": "[encoded data removed]"
          },
          "metadata": {
            "needs_background": "light"
          }
        },
        {
          "output_type": "display_data",
          "data": {
            "text/plain": [
              "<Figure size 432x288 with 1 Axes>"
            ],
            "image/png": "[encoded data removed]"
          },
          "metadata": {
            "needs_background": "light"
          }
        }
      ],
      "source": [
        "plot_graphs(history)"
      ]
    },
    {
      "cell_type": "code",
      "source": [
        "lstm_model2.evaluate(x_test, y_test)"
      ],
      "metadata": {
        "colab": {
          "base_uri": "https://localhost:8080/"
        },
        "id": "UarAV68tVCWB",
        "outputId": "c1aabc23-89e1-40a7-a338-dca9e4bd3f02"
      },
      "id": "UarAV68tVCWB",
      "execution_count": null,
      "outputs": [
        {
          "output_type": "stream",
          "name": "stdout",
          "text": [
            "101/101 [==============================] - 20s 197ms/step - loss: 0.7547 - acc: 0.6651\n"
          ]
        },
        {
          "output_type": "execute_result",
          "data": {
            "text/plain": [
              "[0.7546588778495789, 0.6651162505149841]"
            ]
          },
          "metadata": {},
          "execution_count": 22
        }
      ]
    },
    {
      "cell_type": "code",
      "source": [
        "pred=lstm_model2.predict(x_test)\n",
        "pred=np.argmax(pred, axis=1)\n",
        "ytest=np.argmax(y_test, axis=1)\n",
        "# reduce to 1d array\n",
        "print(classification_report(pred, ytest, target_names=['neg', 'n', 'pos']))"
      ],
      "metadata": {
        "colab": {
          "base_uri": "https://localhost:8080/"
        },
        "id": "El-pGVFPVCYQ",
        "outputId": "9b446d31-0059-473b-cdac-0f488b2998e0"
      },
      "id": "El-pGVFPVCYQ",
      "execution_count": null,
      "outputs": [
        {
          "output_type": "stream",
          "name": "stdout",
          "text": [
            "101/101 [==============================] - 19s 181ms/step\n",
            "              precision    recall  f1-score   support\n",
            "\n",
            "         neg       0.66      0.65      0.65      1096\n",
            "           n       0.56      0.67      0.61       881\n",
            "         pos       0.77      0.68      0.72      1248\n",
            "\n",
            "    accuracy                           0.67      3225\n",
            "   macro avg       0.66      0.66      0.66      3225\n",
            "weighted avg       0.68      0.67      0.67      3225\n",
            "\n"
          ]
        }
      ]
    },
    {
      "cell_type": "code",
      "execution_count": null,
      "id": "98030d63",
      "metadata": {
        "id": "98030d63",
        "outputId": "44e738db-fb3e-49e7-c1ab-b266c69d01f2",
        "colab": {
          "base_uri": "https://localhost:8080/"
        }
      },
      "outputs": [
        {
          "output_type": "stream",
          "name": "stdout",
          "text": [
            "Epoch 1/10\n",
            "172/172 [==============================] - 167s 957ms/step - loss: 1.0045 - acc: 0.4872 - val_loss: 0.8641 - val_acc: 0.5928\n",
            "Epoch 2/10\n",
            "172/172 [==============================] - 161s 934ms/step - loss: 0.8230 - acc: 0.6171 - val_loss: 0.8178 - val_acc: 0.6114\n",
            "Epoch 3/10\n",
            "172/172 [==============================] - 161s 936ms/step - loss: 0.7687 - acc: 0.6495 - val_loss: 0.7912 - val_acc: 0.6264\n",
            "Epoch 4/10\n",
            "172/172 [==============================] - 161s 939ms/step - loss: 0.7330 - acc: 0.6741 - val_loss: 0.8034 - val_acc: 0.6439\n",
            "Epoch 5/10\n",
            "172/172 [==============================] - 162s 943ms/step - loss: 0.6998 - acc: 0.6879 - val_loss: 0.7893 - val_acc: 0.6320\n",
            "Epoch 6/10\n",
            "172/172 [==============================] - 162s 940ms/step - loss: 0.6634 - acc: 0.7099 - val_loss: 0.7669 - val_acc: 0.6496\n",
            "Epoch 7/10\n",
            "172/172 [==============================] - 163s 946ms/step - loss: 0.6385 - acc: 0.7220 - val_loss: 0.7565 - val_acc: 0.6682\n",
            "Epoch 8/10\n",
            "172/172 [==============================] - 161s 934ms/step - loss: 0.6084 - acc: 0.7363 - val_loss: 0.7958 - val_acc: 0.6450\n",
            "Epoch 9/10\n",
            "172/172 [==============================] - 160s 932ms/step - loss: 0.5814 - acc: 0.7524 - val_loss: 0.7788 - val_acc: 0.6470\n",
            "Epoch 10/10\n",
            "172/172 [==============================] - 160s 931ms/step - loss: 0.5579 - acc: 0.7653 - val_loss: 0.7700 - val_acc: 0.6656\n"
          ]
        }
      ],
      "source": [
        "# definirea modelului------------32--------------\n",
        "lstm_model3 = Sequential()\n",
        "lstm_model3.add(embedding_layer)\n",
        "lstm_model3.add(LSTM(32))\n",
        "lstm_model3.add(Dense(3, activation = 'softmax'))\n",
        "\n",
        "lstm_model3.compile(optimizer='rmsprop',\n",
        "                   loss='categorical_crossentropy',\n",
        "                   metrics=['acc'])\n",
        "history = lstm_model3.fit(x_train, \n",
        "                         y_train,\n",
        "                         epochs=10,\n",
        "                         batch_size=64,\n",
        "                         validation_split=0.15)"
      ]
    },
    {
      "cell_type": "code",
      "execution_count": null,
      "id": "20aabfb0",
      "metadata": {
        "id": "20aabfb0",
        "outputId": "63e88a86-af21-4056-abea-00fbe707cad6",
        "colab": {
          "base_uri": "https://localhost:8080/",
          "height": 545
        }
      },
      "outputs": [
        {
          "output_type": "display_data",
          "data": {
            "text/plain": [
              "<Figure size 432x288 with 1 Axes>"
            ],
            "image/png": "[encoded data removed]"
          },
          "metadata": {
            "needs_background": "light"
          }
        },
        {
          "output_type": "display_data",
          "data": {
            "text/plain": [
              "<Figure size 432x288 with 1 Axes>"
            ],
            "image/png": "[encoded data removed]"
          },
          "metadata": {
            "needs_background": "light"
          }
        }
      ],
      "source": [
        "plot_graphs(history)"
      ]
    },
    {
      "cell_type": "code",
      "source": [
        "lstm_model3.evaluate(x_test, y_test)"
      ],
      "metadata": {
        "colab": {
          "base_uri": "https://localhost:8080/"
        },
        "id": "51QNpSsibtMI",
        "outputId": "1bc7db6e-86d5-4a55-98e4-e9ce6cce5b2b"
      },
      "id": "51QNpSsibtMI",
      "execution_count": null,
      "outputs": [
        {
          "output_type": "stream",
          "name": "stdout",
          "text": [
            "101/101 [==============================] - 24s 233ms/step - loss: 0.7530 - acc: 0.6639\n"
          ]
        },
        {
          "output_type": "execute_result",
          "data": {
            "text/plain": [
              "[0.7530330419540405, 0.6638759970664978]"
            ]
          },
          "metadata": {},
          "execution_count": 26
        }
      ]
    },
    {
      "cell_type": "code",
      "source": [
        "pred=lstm_model3.predict(x_test)\n",
        "pred=np.argmax(pred, axis=1)\n",
        "ytest=np.argmax(y_test, axis=1)\n",
        "# reduce to 1d array\n",
        "print(classification_report(pred, ytest, target_names=['neg', 'n', 'pos']))"
      ],
      "metadata": {
        "colab": {
          "base_uri": "https://localhost:8080/"
        },
        "id": "PbTvKRpVbtOG",
        "outputId": "b0a95b55-8edf-4501-8b90-a5905a0b3aec"
      },
      "id": "PbTvKRpVbtOG",
      "execution_count": null,
      "outputs": [
        {
          "output_type": "stream",
          "name": "stdout",
          "text": [
            "101/101 [==============================] - 25s 241ms/step\n",
            "              precision    recall  f1-score   support\n",
            "\n",
            "         neg       0.73      0.61      0.67      1285\n",
            "           n       0.48      0.75      0.59       685\n",
            "         pos       0.77      0.67      0.72      1255\n",
            "\n",
            "    accuracy                           0.66      3225\n",
            "   macro avg       0.66      0.68      0.66      3225\n",
            "weighted avg       0.69      0.66      0.67      3225\n",
            "\n"
          ]
        }
      ]
    },
    {
      "cell_type": "code",
      "execution_count": null,
      "id": "ecd1e685",
      "metadata": {
        "id": "ecd1e685",
        "outputId": "d7de766c-7580-49b4-da8f-152216a17bb0",
        "colab": {
          "base_uri": "https://localhost:8080/"
        }
      },
      "outputs": [
        {
          "output_type": "stream",
          "name": "stdout",
          "text": [
            "Epoch 1/10\n",
            "172/172 [==============================] - 333s 2s/step - loss: 0.9487 - acc: 0.5216 - val_loss: 0.8118 - val_acc: 0.6134\n",
            "Epoch 2/10\n",
            "172/172 [==============================] - 331s 2s/step - loss: 0.7775 - acc: 0.6472 - val_loss: 0.7611 - val_acc: 0.6651\n",
            "Epoch 3/10\n",
            "172/172 [==============================] - 328s 2s/step - loss: 0.7145 - acc: 0.6839 - val_loss: 0.7532 - val_acc: 0.6553\n",
            "Epoch 4/10\n",
            "172/172 [==============================] - 328s 2s/step - loss: 0.6588 - acc: 0.7124 - val_loss: 0.7292 - val_acc: 0.6879\n",
            "Epoch 5/10\n",
            "172/172 [==============================] - 340s 2s/step - loss: 0.6161 - acc: 0.7340 - val_loss: 0.7185 - val_acc: 0.6889\n",
            "Epoch 6/10\n",
            "172/172 [==============================] - 333s 2s/step - loss: 0.5756 - acc: 0.7544 - val_loss: 0.7790 - val_acc: 0.6460\n",
            "Epoch 7/10\n",
            "172/172 [==============================] - 333s 2s/step - loss: 0.5313 - acc: 0.7787 - val_loss: 0.7097 - val_acc: 0.6904\n",
            "Epoch 8/10\n",
            "172/172 [==============================] - 332s 2s/step - loss: 0.4962 - acc: 0.7950 - val_loss: 0.8288 - val_acc: 0.6610\n",
            "Epoch 9/10\n",
            "172/172 [==============================] - 331s 2s/step - loss: 0.4607 - acc: 0.8136 - val_loss: 0.7347 - val_acc: 0.7018\n",
            "Epoch 10/10\n",
            "172/172 [==============================] - 329s 2s/step - loss: 0.4233 - acc: 0.8275 - val_loss: 0.7617 - val_acc: 0.6718\n"
          ]
        }
      ],
      "source": [
        "# definirea modelului------------64--------------\n",
        "lstm_model4 = Sequential()\n",
        "lstm_model4.add(embedding_layer)\n",
        "lstm_model4.add(LSTM(64))\n",
        "lstm_model4.add(Dense(3, activation = 'softmax'))\n",
        "\n",
        "lstm_model4.compile(optimizer='rmsprop',\n",
        "                   loss='categorical_crossentropy',\n",
        "                   metrics=['acc'])\n",
        "history = lstm_model4.fit(x_train, \n",
        "                         y_train,\n",
        "                         epochs=10,\n",
        "                         batch_size=64,\n",
        "                         validation_split=0.15)"
      ]
    },
    {
      "cell_type": "code",
      "execution_count": null,
      "id": "ad30ddae",
      "metadata": {
        "id": "ad30ddae",
        "outputId": "444c5f3d-5245-49ab-e800-09cf5f5dd707",
        "colab": {
          "base_uri": "https://localhost:8080/",
          "height": 545
        }
      },
      "outputs": [
        {
          "output_type": "display_data",
          "data": {
            "text/plain": [
              "<Figure size 432x288 with 1 Axes>"
            ],
            "image/png": "[encoded data removed]"
          },
          "metadata": {
            "needs_background": "light"
          }
        },
        {
          "output_type": "display_data",
          "data": {
            "text/plain": [
              "<Figure size 432x288 with 1 Axes>"
            ],
            "image/png": "[encoded data removed]"
          },
          "metadata": {
            "needs_background": "light"
          }
        }
      ],
      "source": [
        "plot_graphs(history)"
      ]
    },
    {
      "cell_type": "code",
      "source": [
        "lstm_model4.evaluate(x_test, y_test)"
      ],
      "metadata": {
        "colab": {
          "base_uri": "https://localhost:8080/"
        },
        "id": "xXc-gjozpJVi",
        "outputId": "b98f691e-0b1a-4c3e-829e-a6f447ac166e"
      },
      "id": "xXc-gjozpJVi",
      "execution_count": null,
      "outputs": [
        {
          "output_type": "stream",
          "name": "stdout",
          "text": [
            "101/101 [==============================] - 29s 285ms/step - loss: 0.7561 - acc: 0.6716\n"
          ]
        },
        {
          "output_type": "execute_result",
          "data": {
            "text/plain": [
              "[0.7561180591583252, 0.6716278791427612]"
            ]
          },
          "metadata": {},
          "execution_count": 31
        }
      ]
    },
    {
      "cell_type": "code",
      "source": [
        "pred=lstm_model4.predict(x_test)\n",
        "pred=np.argmax(pred, axis=1)\n",
        "ytest=np.argmax(y_test, axis=1)\n",
        "# reduce to 1d array\n",
        "print(classification_report(pred, ytest, target_names=['neg', 'n', 'pos']))"
      ],
      "metadata": {
        "colab": {
          "base_uri": "https://localhost:8080/"
        },
        "id": "qUytdU-lpJX3",
        "outputId": "55931c51-a74c-4078-8d9f-1cefd7438604"
      },
      "id": "qUytdU-lpJX3",
      "execution_count": null,
      "outputs": [
        {
          "output_type": "stream",
          "name": "stdout",
          "text": [
            "101/101 [==============================] - 29s 283ms/step\n",
            "              precision    recall  f1-score   support\n",
            "\n",
            "         neg       0.67      0.71      0.69      1013\n",
            "           n       0.61      0.61      0.61      1066\n",
            "         pos       0.73      0.70      0.71      1146\n",
            "\n",
            "    accuracy                           0.67      3225\n",
            "   macro avg       0.67      0.67      0.67      3225\n",
            "weighted avg       0.67      0.67      0.67      3225\n",
            "\n"
          ]
        }
      ]
    },
    {
      "cell_type": "code",
      "execution_count": null,
      "id": "bffb0fab",
      "metadata": {
        "id": "bffb0fab",
        "outputId": "09a676bb-0c4c-4922-847f-92d121bb1d88",
        "colab": {
          "base_uri": "https://localhost:8080/"
        }
      },
      "outputs": [
        {
          "output_type": "stream",
          "name": "stdout",
          "text": [
            "Epoch 1/10\n",
            "172/172 [==============================] - 754s 4s/step - loss: 0.8946 - acc: 0.5531 - val_loss: 1.0020 - val_acc: 0.4935\n",
            "Epoch 2/10\n",
            "172/172 [==============================] - 745s 4s/step - loss: 0.7534 - acc: 0.6575 - val_loss: 0.7482 - val_acc: 0.6532\n",
            "Epoch 3/10\n",
            "172/172 [==============================] - 739s 4s/step - loss: 0.6817 - acc: 0.6944 - val_loss: 0.7617 - val_acc: 0.6610\n",
            "Epoch 4/10\n",
            "172/172 [==============================] - 739s 4s/step - loss: 0.6246 - acc: 0.7286 - val_loss: 0.8402 - val_acc: 0.6553\n",
            "Epoch 5/10\n",
            "172/172 [==============================] - 733s 4s/step - loss: 0.5668 - acc: 0.7600 - val_loss: 0.7119 - val_acc: 0.6822\n",
            "Epoch 6/10\n",
            "172/172 [==============================] - 737s 4s/step - loss: 0.5035 - acc: 0.7916 - val_loss: 0.7591 - val_acc: 0.6879\n",
            "Epoch 7/10\n",
            "172/172 [==============================] - 736s 4s/step - loss: 0.4442 - acc: 0.8207 - val_loss: 0.7595 - val_acc: 0.6708\n",
            "Epoch 8/10\n",
            "172/172 [==============================] - 733s 4s/step - loss: 0.3791 - acc: 0.8548 - val_loss: 0.7879 - val_acc: 0.6972\n",
            "Epoch 9/10\n",
            "172/172 [==============================] - 737s 4s/step - loss: 0.3134 - acc: 0.8836 - val_loss: 0.8114 - val_acc: 0.6822\n",
            "Epoch 10/10\n",
            "172/172 [==============================] - 733s 4s/step - loss: 0.2555 - acc: 0.9076 - val_loss: 0.8597 - val_acc: 0.6744\n"
          ]
        }
      ],
      "source": [
        "# definirea modelului------------128--------------\n",
        "lstm_model5 = Sequential()\n",
        "lstm_model5.add(embedding_layer)\n",
        "lstm_model5.add(LSTM(128))\n",
        "lstm_model5.add(Dense(3, activation = 'softmax'))\n",
        "\n",
        "lstm_model5.compile(optimizer='rmsprop',\n",
        "                   loss='categorical_crossentropy',\n",
        "                   metrics=['acc'])\n",
        "history = lstm_model5.fit(x_train, \n",
        "                         y_train,\n",
        "                         epochs=10,\n",
        "                         batch_size=64,\n",
        "                         validation_split=0.15)"
      ]
    },
    {
      "cell_type": "code",
      "execution_count": null,
      "id": "3980d659",
      "metadata": {
        "id": "3980d659",
        "outputId": "6cfd85b9-7ad6-4322-8cfe-3d0f7c299e0e",
        "colab": {
          "base_uri": "https://localhost:8080/",
          "height": 545
        }
      },
      "outputs": [
        {
          "output_type": "display_data",
          "data": {
            "text/plain": [
              "<Figure size 432x288 with 1 Axes>"
            ],
            "image/png": "[encoded data removed]"
          },
          "metadata": {
            "needs_background": "light"
          }
        },
        {
          "output_type": "display_data",
          "data": {
            "text/plain": [
              "<Figure size 432x288 with 1 Axes>"
            ],
            "image/png": "[encoded data removed]"
          },
          "metadata": {
            "needs_background": "light"
          }
        }
      ],
      "source": [
        "plot_graphs(history)"
      ]
    },
    {
      "cell_type": "code",
      "source": [
        "lstm_model5.evaluate(x_test, y_test)"
      ],
      "metadata": {
        "colab": {
          "base_uri": "https://localhost:8080/"
        },
        "id": "ccXEEVOkNK0A",
        "outputId": "15e12490-899a-45ca-da79-87dce9b19988"
      },
      "id": "ccXEEVOkNK0A",
      "execution_count": null,
      "outputs": [
        {
          "output_type": "stream",
          "name": "stdout",
          "text": [
            "101/101 [==============================] - 102s 1s/step - loss: 0.8422 - acc: 0.6819\n"
          ]
        },
        {
          "output_type": "execute_result",
          "data": {
            "text/plain": [
              "[0.8422372341156006, 0.6818604469299316]"
            ]
          },
          "metadata": {},
          "execution_count": 35
        }
      ]
    },
    {
      "cell_type": "code",
      "source": [
        "pred=lstm_model5.predict(x_test)\n",
        "pred=np.argmax(pred, axis=1)\n",
        "ytest=np.argmax(y_test, axis=1)\n",
        "# reduce to 1d array\n",
        "print(classification_report(pred, ytest, target_names=['neg', 'n', 'pos']))"
      ],
      "metadata": {
        "colab": {
          "base_uri": "https://localhost:8080/"
        },
        "id": "uvAmQ6-3NK2Q",
        "outputId": "435732dc-2534-4c8b-85c1-5fd86cb46bbf"
      },
      "id": "uvAmQ6-3NK2Q",
      "execution_count": null,
      "outputs": [
        {
          "output_type": "stream",
          "name": "stdout",
          "text": [
            "101/101 [==============================] - 99s 976ms/step\n",
            "              precision    recall  f1-score   support\n",
            "\n",
            "         neg       0.69      0.67      0.68      1107\n",
            "           n       0.62      0.64      0.63      1021\n",
            "         pos       0.73      0.74      0.73      1097\n",
            "\n",
            "    accuracy                           0.68      3225\n",
            "   macro avg       0.68      0.68      0.68      3225\n",
            "weighted avg       0.68      0.68      0.68      3225\n",
            "\n"
          ]
        }
      ]
    },
    {
      "cell_type": "code",
      "execution_count": null,
      "id": "ca6b73f0",
      "metadata": {
        "id": "ca6b73f0",
        "outputId": "1bc5c261-f53d-435e-e439-8c1382c7eaa3",
        "colab": {
          "base_uri": "https://localhost:8080/"
        }
      },
      "outputs": [
        {
          "output_type": "stream",
          "name": "stdout",
          "text": [
            "Epoch 1/10\n",
            "172/172 [==============================] - 1807s 10s/step - loss: 0.9112 - acc: 0.5496 - val_loss: 0.8081 - val_acc: 0.6010\n",
            "Epoch 2/10\n",
            "172/172 [==============================] - 1813s 11s/step - loss: 0.7809 - acc: 0.6389 - val_loss: 0.7854 - val_acc: 0.6279\n",
            "Epoch 3/10\n",
            "172/172 [==============================] - 1808s 11s/step - loss: 0.6810 - acc: 0.6969 - val_loss: 0.7225 - val_acc: 0.6698\n",
            "Epoch 4/10\n",
            "172/172 [==============================] - 1790s 10s/step - loss: 0.6028 - acc: 0.7381 - val_loss: 0.7059 - val_acc: 0.6889\n",
            "Epoch 5/10\n",
            "172/172 [==============================] - 1785s 10s/step - loss: 0.5146 - acc: 0.7863 - val_loss: 0.7818 - val_acc: 0.6770\n",
            "Epoch 6/10\n",
            "172/172 [==============================] - 1790s 10s/step - loss: 0.4113 - acc: 0.8375 - val_loss: 0.8811 - val_acc: 0.6171\n",
            "Epoch 7/10\n",
            "172/172 [==============================] - 1769s 10s/step - loss: 0.3082 - acc: 0.8853 - val_loss: 0.8911 - val_acc: 0.6424\n",
            "Epoch 8/10\n",
            "172/172 [==============================] - 1777s 10s/step - loss: 0.2129 - acc: 0.9287 - val_loss: 1.0098 - val_acc: 0.6656\n",
            "Epoch 9/10\n",
            "172/172 [==============================] - 1767s 10s/step - loss: 0.1300 - acc: 0.9590 - val_loss: 1.0437 - val_acc: 0.6579\n",
            "Epoch 10/10\n",
            "172/172 [==============================] - 1779s 10s/step - loss: 0.0796 - acc: 0.9774 - val_loss: 1.2715 - val_acc: 0.6703\n"
          ]
        }
      ],
      "source": [
        "# definirea modelului------------256--------------\n",
        "lstm_model6 = Sequential()\n",
        "lstm_model6.add(embedding_layer)\n",
        "lstm_model6.add(LSTM(256))\n",
        "lstm_model6.add(Dense(3, activation = 'softmax'))\n",
        "\n",
        "lstm_model6.compile(optimizer='rmsprop',\n",
        "                   loss='categorical_crossentropy',\n",
        "                   metrics=['acc'])\n",
        "history = lstm_model6.fit(x_train, \n",
        "                         y_train,\n",
        "                         epochs=10,\n",
        "                         batch_size=64,\n",
        "                         validation_split=0.15)"
      ]
    },
    {
      "cell_type": "code",
      "execution_count": null,
      "id": "446f7e24",
      "metadata": {
        "id": "446f7e24",
        "outputId": "9c4a514c-3408-4c27-dc33-466ffd7c766f",
        "colab": {
          "base_uri": "https://localhost:8080/",
          "height": 545
        }
      },
      "outputs": [
        {
          "output_type": "display_data",
          "data": {
            "text/plain": [
              "<Figure size 432x288 with 1 Axes>"
            ],
            "image/png": "[encoded data removed]"
          },
          "metadata": {
            "needs_background": "light"
          }
        },
        {
          "output_type": "display_data",
          "data": {
            "text/plain": [
              "<Figure size 432x288 with 1 Axes>"
            ],
            "image/png": "[encoded data removed]"
          },
          "metadata": {
            "needs_background": "light"
          }
        }
      ],
      "source": [
        "plot_graphs(history)"
      ]
    },
    {
      "cell_type": "code",
      "source": [
        "lstm_model6.evaluate(x_test, y_test)"
      ],
      "metadata": {
        "colab": {
          "base_uri": "https://localhost:8080/"
        },
        "id": "wUDQxjp63JWM",
        "outputId": "8a1c5b72-7e96-4ed4-fe25-1024ec8746c3"
      },
      "id": "wUDQxjp63JWM",
      "execution_count": null,
      "outputs": [
        {
          "output_type": "stream",
          "name": "stdout",
          "text": [
            "101/101 [==============================] - 212s 2s/step - loss: 1.2559 - acc: 0.6704\n"
          ]
        },
        {
          "output_type": "execute_result",
          "data": {
            "text/plain": [
              "[1.2558947801589966, 0.6703876256942749]"
            ]
          },
          "metadata": {},
          "execution_count": 39
        }
      ]
    },
    {
      "cell_type": "code",
      "source": [
        "pred=lstm_model6.predict(x_test)\n",
        "pred=np.argmax(pred, axis=1)\n",
        "ytest=np.argmax(y_test, axis=1)\n",
        "# reduce to 1d array\n",
        "print(classification_report(pred, ytest, target_names=['neg', 'n', 'pos']))"
      ],
      "metadata": {
        "colab": {
          "base_uri": "https://localhost:8080/"
        },
        "id": "6rtGLpNB3JZM",
        "outputId": "0d9dd1db-c123-4af4-9c44-f7938a531399"
      },
      "id": "6rtGLpNB3JZM",
      "execution_count": null,
      "outputs": [
        {
          "output_type": "stream",
          "name": "stdout",
          "text": [
            "101/101 [==============================] - 229s 2s/step\n",
            "              precision    recall  f1-score   support\n",
            "\n",
            "         neg       0.54      0.76      0.63       751\n",
            "           n       0.62      0.63      0.62      1044\n",
            "         pos       0.85      0.66      0.74      1430\n",
            "\n",
            "    accuracy                           0.67      3225\n",
            "   macro avg       0.67      0.68      0.66      3225\n",
            "weighted avg       0.70      0.67      0.68      3225\n",
            "\n"
          ]
        }
      ]
    },
    {
      "cell_type": "code",
      "execution_count": null,
      "id": "87b38851",
      "metadata": {
        "id": "87b38851"
      },
      "outputs": [],
      "source": [
        "# definirea modelului------------512--------------\n",
        "'''lstm_model = Sequential()\n",
        "lstm_model.add(embedding_layer)\n",
        "lstm_model.add(LSTM(512))\n",
        "lstm_model.add(Dense(3, activation = 'softmax'))\n",
        "\n",
        "lstm_model.compile(optimizer='rmsprop',\n",
        "                   loss='categorical_crossentropy',\n",
        "                   metrics=['acc'])\n",
        "history = lstm_model.fit(x_train, \n",
        "                         y_train,\n",
        "                         epochs=10,\n",
        "                         batch_size=64,\n",
        "                         validation_split=0.15)'''"
      ]
    },
    {
      "cell_type": "code",
      "execution_count": null,
      "id": "eca85653",
      "metadata": {
        "id": "eca85653"
      },
      "outputs": [],
      "source": [
        "plot_graphs(history)"
      ]
    },
    {
      "cell_type": "code",
      "execution_count": null,
      "id": "0d624844",
      "metadata": {
        "id": "0d624844"
      },
      "outputs": [],
      "source": [
        "# definirea modelului------------512----256----------\n",
        "'''lstm_model = Sequential()\n",
        "lstm_model.add(embedding_layer)\n",
        "lstm_model.add(LSTM(512, return_sequences = True))\n",
        "lstm_model.add(LSTM(256))\n",
        "lstm_model.add(Dense(3, activation = 'softmax'))\n",
        "\n",
        "lstm_model.compile(optimizer='rmsprop',\n",
        "                   loss='categorical_crossentropy',\n",
        "                   metrics=['acc'])\n",
        "history = lstm_model.fit(x_train, \n",
        "                         y_train,\n",
        "                         epochs=10,\n",
        "                         batch_size=64,\n",
        "                         validation_split=0.15)'''"
      ]
    },
    {
      "cell_type": "code",
      "execution_count": null,
      "id": "bfe2dea3",
      "metadata": {
        "id": "bfe2dea3"
      },
      "outputs": [],
      "source": [
        "plot_graphs(history)"
      ]
    },
    {
      "cell_type": "code",
      "execution_count": null,
      "id": "feab86ba",
      "metadata": {
        "id": "feab86ba"
      },
      "outputs": [],
      "source": [
        "#lstm_model.save('Models/w2v_lstm_model.h5')"
      ]
    },
    {
      "cell_type": "markdown",
      "id": "1bd34d72",
      "metadata": {
        "id": "1bd34d72"
      },
      "source": [
        "### GRU"
      ]
    },
    {
      "cell_type": "code",
      "execution_count": 31,
      "id": "95d25ebd",
      "metadata": {
        "id": "95d25ebd",
        "outputId": "6a9b5382-d9a9-4a72-a8a1-3b5510c13a33",
        "colab": {
          "base_uri": "https://localhost:8080/"
        }
      },
      "outputs": [
        {
          "output_type": "stream",
          "name": "stdout",
          "text": [
            "Epoch 1/10\n",
            "172/172 [==============================] - 143s 806ms/step - loss: 1.1114 - acc: 0.4101 - val_loss: 1.0845 - val_acc: 0.4222\n",
            "Epoch 2/10\n",
            "172/172 [==============================] - 136s 791ms/step - loss: 1.0581 - acc: 0.4522 - val_loss: 1.0552 - val_acc: 0.4568\n",
            "Epoch 3/10\n",
            "172/172 [==============================] - 127s 737ms/step - loss: 1.0248 - acc: 0.4782 - val_loss: 1.0176 - val_acc: 0.5028\n",
            "Epoch 4/10\n",
            "172/172 [==============================] - 125s 725ms/step - loss: 0.9660 - acc: 0.5312 - val_loss: 0.9321 - val_acc: 0.5612\n",
            "Epoch 5/10\n",
            "172/172 [==============================] - 127s 738ms/step - loss: 0.8914 - acc: 0.5800 - val_loss: 0.8846 - val_acc: 0.5788\n",
            "Epoch 6/10\n",
            "172/172 [==============================] - 126s 732ms/step - loss: 0.8512 - acc: 0.6012 - val_loss: 0.8564 - val_acc: 0.6000\n",
            "Epoch 7/10\n",
            "172/172 [==============================] - 125s 726ms/step - loss: 0.8249 - acc: 0.6203 - val_loss: 0.8423 - val_acc: 0.6150\n",
            "Epoch 8/10\n",
            "172/172 [==============================] - 125s 725ms/step - loss: 0.8038 - acc: 0.6319 - val_loss: 0.8335 - val_acc: 0.6171\n",
            "Epoch 9/10\n",
            "172/172 [==============================] - 125s 727ms/step - loss: 0.7830 - acc: 0.6445 - val_loss: 0.8444 - val_acc: 0.6165\n",
            "Epoch 10/10\n",
            "172/172 [==============================] - 125s 726ms/step - loss: 0.7635 - acc: 0.6614 - val_loss: 0.8040 - val_acc: 0.6419\n"
          ]
        }
      ],
      "source": [
        "# definirea modelului ------------------8------------------\n",
        "gru_model1 = Sequential()\n",
        "gru_model1.add(embedding_layer)\n",
        "gru_model1.add(GRU(8))\n",
        "gru_model1.add(Dense(3, activation = 'softmax'))\n",
        "\n",
        "gru_model1.compile(optimizer='rmsprop',\n",
        "                  loss='categorical_crossentropy',\n",
        "                  metrics=['acc'])\n",
        "history = gru_model1.fit(x_train,\n",
        "                        y_train,\n",
        "                        epochs=10,\n",
        "                        batch_size=64,\n",
        "                        validation_split=0.15)"
      ]
    },
    {
      "cell_type": "code",
      "execution_count": 32,
      "id": "bb14be82",
      "metadata": {
        "id": "bb14be82",
        "outputId": "7c902e64-a1cf-4266-f963-edda2431449c",
        "colab": {
          "base_uri": "https://localhost:8080/",
          "height": 545
        }
      },
      "outputs": [
        {
          "output_type": "display_data",
          "data": {
            "text/plain": [
              "<Figure size 432x288 with 1 Axes>"
            ],
            "image/png": "[encoded data removed]"
          },
          "metadata": {
            "needs_background": "light"
          }
        },
        {
          "output_type": "display_data",
          "data": {
            "text/plain": [
              "<Figure size 432x288 with 1 Axes>"
            ],
            "image/png": "[encoded data removed]"
          },
          "metadata": {
            "needs_background": "light"
          }
        }
      ],
      "source": [
        "plot_graphs(history)"
      ]
    },
    {
      "cell_type": "code",
      "source": [
        "gru_model1.evaluate(x_test, y_test)"
      ],
      "metadata": {
        "colab": {
          "base_uri": "https://localhost:8080/"
        },
        "id": "LiHUVxfK8bRs",
        "outputId": "fc124bca-a754-4899-c512-1c6c8b12c136"
      },
      "id": "LiHUVxfK8bRs",
      "execution_count": 33,
      "outputs": [
        {
          "output_type": "stream",
          "name": "stdout",
          "text": [
            "101/101 [==============================] - 15s 150ms/step - loss: 0.7878 - acc: 0.6546\n"
          ]
        },
        {
          "output_type": "execute_result",
          "data": {
            "text/plain": [
              "[0.787803053855896, 0.6545736193656921]"
            ]
          },
          "metadata": {},
          "execution_count": 33
        }
      ]
    },
    {
      "cell_type": "code",
      "source": [
        "pred=gru_model1.predict(x_test)\n",
        "pred=np.argmax(pred, axis=1)\n",
        "ytest=np.argmax(y_test, axis=1)\n",
        "# reduce to 1d array\n",
        "print(classification_report(pred, ytest, target_names=['neg', 'n', 'pos']))"
      ],
      "metadata": {
        "colab": {
          "base_uri": "https://localhost:8080/"
        },
        "id": "RtUXJqso8brd",
        "outputId": "06f09fc7-43ef-417a-e1d0-8a5e30f06d2c"
      },
      "id": "RtUXJqso8brd",
      "execution_count": 34,
      "outputs": [
        {
          "output_type": "stream",
          "name": "stdout",
          "text": [
            "101/101 [==============================] - 26s 249ms/step\n",
            "              precision    recall  f1-score   support\n",
            "\n",
            "         neg       0.61      0.64      0.63      1021\n",
            "           n       0.49      0.71      0.58       726\n",
            "         pos       0.86      0.64      0.73      1478\n",
            "\n",
            "    accuracy                           0.65      3225\n",
            "   macro avg       0.65      0.66      0.64      3225\n",
            "weighted avg       0.70      0.65      0.66      3225\n",
            "\n"
          ]
        }
      ]
    },
    {
      "cell_type": "code",
      "execution_count": 35,
      "id": "127f425f",
      "metadata": {
        "id": "127f425f",
        "outputId": "9bbbf93e-c05a-4d68-bb53-90444ea859fc",
        "colab": {
          "base_uri": "https://localhost:8080/"
        }
      },
      "outputs": [
        {
          "output_type": "stream",
          "name": "stdout",
          "text": [
            "Epoch 1/10\n",
            "172/172 [==============================] - 153s 868ms/step - loss: 1.1111 - acc: 0.4110 - val_loss: 1.0636 - val_acc: 0.4403\n",
            "Epoch 2/10\n",
            "172/172 [==============================] - 146s 848ms/step - loss: 1.0141 - acc: 0.4885 - val_loss: 1.0013 - val_acc: 0.5039\n",
            "Epoch 3/10\n",
            "172/172 [==============================] - 146s 847ms/step - loss: 0.9221 - acc: 0.5652 - val_loss: 0.9011 - val_acc: 0.5747\n",
            "Epoch 4/10\n",
            "172/172 [==============================] - 143s 832ms/step - loss: 0.8422 - acc: 0.6109 - val_loss: 0.8563 - val_acc: 0.5902\n",
            "Epoch 5/10\n",
            "172/172 [==============================] - 143s 830ms/step - loss: 0.7994 - acc: 0.6345 - val_loss: 0.8276 - val_acc: 0.6129\n",
            "Epoch 6/10\n",
            "172/172 [==============================] - 143s 831ms/step - loss: 0.7680 - acc: 0.6542 - val_loss: 0.8116 - val_acc: 0.6243\n",
            "Epoch 7/10\n",
            "172/172 [==============================] - 143s 833ms/step - loss: 0.7450 - acc: 0.6658 - val_loss: 0.8011 - val_acc: 0.6284\n",
            "Epoch 8/10\n",
            "172/172 [==============================] - 144s 839ms/step - loss: 0.7200 - acc: 0.6803 - val_loss: 0.7844 - val_acc: 0.6377\n",
            "Epoch 9/10\n",
            "172/172 [==============================] - 144s 836ms/step - loss: 0.6973 - acc: 0.6972 - val_loss: 0.7621 - val_acc: 0.6563\n",
            "Epoch 10/10\n",
            "172/172 [==============================] - 143s 832ms/step - loss: 0.6766 - acc: 0.7054 - val_loss: 0.7590 - val_acc: 0.6548\n"
          ]
        }
      ],
      "source": [
        "# definirea modelului ------------------16------------------\n",
        "gru_model2 = Sequential()\n",
        "gru_model2.add(embedding_layer)\n",
        "gru_model2.add(GRU(16))\n",
        "gru_model2.add(Dense(3, activation = 'softmax'))\n",
        "\n",
        "gru_model2.compile(optimizer='rmsprop',\n",
        "                  loss='categorical_crossentropy',\n",
        "                  metrics=['acc'])\n",
        "history = gru_model2.fit(x_train,\n",
        "                        y_train,\n",
        "                        epochs=10,\n",
        "                        batch_size=64,\n",
        "                        validation_split=0.15)"
      ]
    },
    {
      "cell_type": "code",
      "execution_count": 36,
      "id": "499b78c3",
      "metadata": {
        "id": "499b78c3",
        "outputId": "b7cc0092-7c0d-42cf-d4e2-5d32dea01ccf",
        "colab": {
          "base_uri": "https://localhost:8080/",
          "height": 545
        }
      },
      "outputs": [
        {
          "output_type": "display_data",
          "data": {
            "text/plain": [
              "<Figure size 432x288 with 1 Axes>"
            ],
            "image/png": "[encoded data removed]"
          },
          "metadata": {
            "needs_background": "light"
          }
        },
        {
          "output_type": "display_data",
          "data": {
            "text/plain": [
              "<Figure size 432x288 with 1 Axes>"
            ],
            "image/png": "[encoded data removed]"
          },
          "metadata": {
            "needs_background": "light"
          }
        }
      ],
      "source": [
        "plot_graphs(history)"
      ]
    },
    {
      "cell_type": "code",
      "source": [
        "gru_model2.evaluate(x_test, y_test)"
      ],
      "metadata": {
        "colab": {
          "base_uri": "https://localhost:8080/"
        },
        "id": "y5VRIXOjELjT",
        "outputId": "7b701cab-deb5-4c8e-89fc-3f670c3c2b8e"
      },
      "id": "y5VRIXOjELjT",
      "execution_count": 37,
      "outputs": [
        {
          "output_type": "stream",
          "name": "stdout",
          "text": [
            "101/101 [==============================] - 21s 211ms/step - loss: 0.7472 - acc: 0.6667\n"
          ]
        },
        {
          "output_type": "execute_result",
          "data": {
            "text/plain": [
              "[0.7472051382064819, 0.6666666865348816]"
            ]
          },
          "metadata": {},
          "execution_count": 37
        }
      ]
    },
    {
      "cell_type": "code",
      "source": [
        "pred=gru_model2.predict(x_test)\n",
        "pred=np.argmax(pred, axis=1)\n",
        "ytest=np.argmax(y_test, axis=1)\n",
        "# reduce to 1d array\n",
        "print(classification_report(pred, ytest, target_names=['neg', 'n', 'pos']))"
      ],
      "metadata": {
        "colab": {
          "base_uri": "https://localhost:8080/"
        },
        "id": "ttFbihKZELlv",
        "outputId": "95161a74-8b52-4b8c-cec2-1a8b10149eb3"
      },
      "id": "ttFbihKZELlv",
      "execution_count": 38,
      "outputs": [
        {
          "output_type": "stream",
          "name": "stdout",
          "text": [
            "101/101 [==============================] - 15s 142ms/step\n",
            "              precision    recall  f1-score   support\n",
            "\n",
            "         neg       0.69      0.64      0.66      1165\n",
            "           n       0.52      0.70      0.60       782\n",
            "         pos       0.78      0.67      0.72      1278\n",
            "\n",
            "    accuracy                           0.67      3225\n",
            "   macro avg       0.66      0.67      0.66      3225\n",
            "weighted avg       0.69      0.67      0.67      3225\n",
            "\n"
          ]
        }
      ]
    },
    {
      "cell_type": "code",
      "execution_count": 39,
      "id": "8441af29",
      "metadata": {
        "id": "8441af29",
        "outputId": "3a156c30-8ffd-4044-bd21-81e3c435ac86",
        "colab": {
          "base_uri": "https://localhost:8080/"
        }
      },
      "outputs": [
        {
          "output_type": "stream",
          "name": "stdout",
          "text": [
            "Epoch 1/10\n",
            "172/172 [==============================] - 174s 996ms/step - loss: 1.0846 - acc: 0.4212 - val_loss: 1.0319 - val_acc: 0.4749\n",
            "Epoch 2/10\n",
            "172/172 [==============================] - 169s 980ms/step - loss: 0.9725 - acc: 0.5256 - val_loss: 0.9251 - val_acc: 0.5674\n",
            "Epoch 3/10\n",
            "172/172 [==============================] - 170s 988ms/step - loss: 0.8282 - acc: 0.6206 - val_loss: 0.8336 - val_acc: 0.6129\n",
            "Epoch 4/10\n",
            "172/172 [==============================] - 169s 983ms/step - loss: 0.7575 - acc: 0.6592 - val_loss: 0.7982 - val_acc: 0.6367\n",
            "Epoch 5/10\n",
            "172/172 [==============================] - 172s 1s/step - loss: 0.7120 - acc: 0.6824 - val_loss: 0.7775 - val_acc: 0.6527\n",
            "Epoch 6/10\n",
            "172/172 [==============================] - 168s 975ms/step - loss: 0.6763 - acc: 0.7056 - val_loss: 0.7513 - val_acc: 0.6677\n",
            "Epoch 7/10\n",
            "172/172 [==============================] - 172s 1s/step - loss: 0.6466 - acc: 0.7209 - val_loss: 0.7449 - val_acc: 0.6636\n",
            "Epoch 8/10\n",
            "172/172 [==============================] - 171s 997ms/step - loss: 0.6210 - acc: 0.7351 - val_loss: 0.7301 - val_acc: 0.6770\n",
            "Epoch 9/10\n",
            "172/172 [==============================] - 169s 980ms/step - loss: 0.5977 - acc: 0.7435 - val_loss: 0.7297 - val_acc: 0.6693\n",
            "Epoch 10/10\n",
            "172/172 [==============================] - 168s 980ms/step - loss: 0.5762 - acc: 0.7551 - val_loss: 0.7197 - val_acc: 0.6811\n"
          ]
        }
      ],
      "source": [
        "# definirea modelului ------------------32------------------\n",
        "gru_model3 = Sequential()\n",
        "gru_model3.add(embedding_layer)\n",
        "gru_model3.add(GRU(32))\n",
        "gru_model3.add(Dense(3, activation = 'softmax'))\n",
        "\n",
        "gru_model3.compile(optimizer='rmsprop',\n",
        "                  loss='categorical_crossentropy',\n",
        "                  metrics=['acc'])\n",
        "history = gru_model3.fit(x_train,\n",
        "                        y_train,\n",
        "                        epochs=10,\n",
        "                        batch_size=64,\n",
        "                        validation_split=0.15)"
      ]
    },
    {
      "cell_type": "code",
      "execution_count": 40,
      "id": "7c69a29b",
      "metadata": {
        "id": "7c69a29b",
        "outputId": "c214ced0-b76b-4b3a-f4f7-19cbb7d01b5d",
        "colab": {
          "base_uri": "https://localhost:8080/",
          "height": 545
        }
      },
      "outputs": [
        {
          "output_type": "display_data",
          "data": {
            "text/plain": [
              "<Figure size 432x288 with 1 Axes>"
            ],
            "image/png": "[encoded data removed]"
          },
          "metadata": {
            "needs_background": "light"
          }
        },
        {
          "output_type": "display_data",
          "data": {
            "text/plain": [
              "<Figure size 432x288 with 1 Axes>"
            ],
            "image/png": "[encoded data removed]"
          },
          "metadata": {
            "needs_background": "light"
          }
        }
      ],
      "source": [
        "plot_graphs(history)"
      ]
    },
    {
      "cell_type": "code",
      "source": [
        "gru_model3.evaluate(x_test, y_test)"
      ],
      "metadata": {
        "colab": {
          "base_uri": "https://localhost:8080/"
        },
        "id": "fHxVOlQPK-vu",
        "outputId": "02dd9a3b-2a4f-4503-95e5-7ef3a8ea5bcc"
      },
      "id": "fHxVOlQPK-vu",
      "execution_count": 41,
      "outputs": [
        {
          "output_type": "stream",
          "name": "stdout",
          "text": [
            "101/101 [==============================] - 16s 160ms/step - loss: 0.7179 - acc: 0.6831\n"
          ]
        },
        {
          "output_type": "execute_result",
          "data": {
            "text/plain": [
              "[0.7178821563720703, 0.6831007599830627]"
            ]
          },
          "metadata": {},
          "execution_count": 41
        }
      ]
    },
    {
      "cell_type": "code",
      "source": [
        "pred=gru_model3.predict(x_test)\n",
        "pred=np.argmax(pred, axis=1)\n",
        "ytest=np.argmax(y_test, axis=1)\n",
        "# reduce to 1d array\n",
        "print(classification_report(pred, ytest, target_names=['neg', 'n', 'pos']))"
      ],
      "metadata": {
        "colab": {
          "base_uri": "https://localhost:8080/"
        },
        "id": "qp7oseGLK-x_",
        "outputId": "18db087c-3600-4097-9e6f-f4a15fc7468e"
      },
      "id": "qp7oseGLK-x_",
      "execution_count": 42,
      "outputs": [
        {
          "output_type": "stream",
          "name": "stdout",
          "text": [
            "101/101 [==============================] - 16s 159ms/step\n",
            "              precision    recall  f1-score   support\n",
            "\n",
            "         neg       0.73      0.65      0.69      1194\n",
            "           n       0.51      0.73      0.60       741\n",
            "         pos       0.80      0.68      0.74      1290\n",
            "\n",
            "    accuracy                           0.68      3225\n",
            "   macro avg       0.68      0.69      0.68      3225\n",
            "weighted avg       0.71      0.68      0.69      3225\n",
            "\n"
          ]
        }
      ]
    },
    {
      "cell_type": "code",
      "execution_count": 44,
      "id": "5012ec33",
      "metadata": {
        "id": "5012ec33",
        "outputId": "8f1607d0-ddfc-4754-b9fb-1f7d354fb52f",
        "colab": {
          "base_uri": "https://localhost:8080/"
        }
      },
      "outputs": [
        {
          "output_type": "stream",
          "name": "stdout",
          "text": [
            "Epoch 1/10\n",
            "172/172 [==============================] - 250s 1s/step - loss: 1.0605 - acc: 0.4462 - val_loss: 1.0048 - val_acc: 0.4837\n",
            "Epoch 2/10\n",
            "172/172 [==============================] - 234s 1s/step - loss: 0.8560 - acc: 0.5988 - val_loss: 0.8169 - val_acc: 0.6078\n",
            "Epoch 3/10\n",
            "172/172 [==============================] - 237s 1s/step - loss: 0.7369 - acc: 0.6694 - val_loss: 0.8051 - val_acc: 0.6460\n",
            "Epoch 4/10\n",
            "172/172 [==============================] - 237s 1s/step - loss: 0.6724 - acc: 0.7070 - val_loss: 0.7353 - val_acc: 0.6656\n",
            "Epoch 5/10\n",
            "172/172 [==============================] - 237s 1s/step - loss: 0.6228 - acc: 0.7317 - val_loss: 0.7196 - val_acc: 0.6687\n",
            "Epoch 6/10\n",
            "172/172 [==============================] - 237s 1s/step - loss: 0.5768 - acc: 0.7554 - val_loss: 0.7161 - val_acc: 0.6780\n",
            "Epoch 7/10\n",
            "172/172 [==============================] - 237s 1s/step - loss: 0.5388 - acc: 0.7743 - val_loss: 0.7389 - val_acc: 0.6641\n",
            "Epoch 8/10\n",
            "172/172 [==============================] - 237s 1s/step - loss: 0.5033 - acc: 0.7896 - val_loss: 0.7345 - val_acc: 0.6930\n",
            "Epoch 9/10\n",
            "172/172 [==============================] - 235s 1s/step - loss: 0.4685 - acc: 0.8066 - val_loss: 0.7593 - val_acc: 0.6868\n",
            "Epoch 10/10\n",
            "172/172 [==============================] - 237s 1s/step - loss: 0.4437 - acc: 0.8191 - val_loss: 0.7550 - val_acc: 0.6910\n"
          ]
        }
      ],
      "source": [
        "# definirea modelului ------------------64------------------\n",
        "gru_model4 = Sequential()\n",
        "gru_model4.add(embedding_layer)\n",
        "gru_model4.add(GRU(64))\n",
        "gru_model4.add(Dense(3, activation = 'softmax'))\n",
        "\n",
        "gru_model4.compile(optimizer='rmsprop',\n",
        "                  loss='categorical_crossentropy',\n",
        "                  metrics=['acc'])\n",
        "history = gru_model4.fit(x_train,\n",
        "                        y_train,\n",
        "                        epochs=10,\n",
        "                        batch_size=64,\n",
        "                        validation_split=0.15)"
      ]
    },
    {
      "cell_type": "code",
      "execution_count": 45,
      "id": "7a8f9752",
      "metadata": {
        "id": "7a8f9752",
        "outputId": "fb4e3898-c8f0-4dad-ede0-e53c10422179",
        "colab": {
          "base_uri": "https://localhost:8080/",
          "height": 545
        }
      },
      "outputs": [
        {
          "output_type": "display_data",
          "data": {
            "text/plain": [
              "<Figure size 432x288 with 1 Axes>"
            ],
            "image/png": "[encoded data removed]"
          },
          "metadata": {
            "needs_background": "light"
          }
        },
        {
          "output_type": "display_data",
          "data": {
            "text/plain": [
              "<Figure size 432x288 with 1 Axes>"
            ],
            "image/png": "[encoded data removed]"
          },
          "metadata": {
            "needs_background": "light"
          }
        }
      ],
      "source": [
        "plot_graphs(history)"
      ]
    },
    {
      "cell_type": "code",
      "source": [
        "gru_model4.evaluate(x_test, y_test)"
      ],
      "metadata": {
        "colab": {
          "base_uri": "https://localhost:8080/"
        },
        "id": "VZUU8zk4LLYA",
        "outputId": "b515f82a-82a3-4fea-b201-648a5df8aa5e"
      },
      "id": "VZUU8zk4LLYA",
      "execution_count": 46,
      "outputs": [
        {
          "output_type": "stream",
          "name": "stdout",
          "text": [
            "101/101 [==============================] - 39s 389ms/step - loss: 0.7400 - acc: 0.6831\n"
          ]
        },
        {
          "output_type": "execute_result",
          "data": {
            "text/plain": [
              "[0.7399609088897705, 0.6831007599830627]"
            ]
          },
          "metadata": {},
          "execution_count": 46
        }
      ]
    },
    {
      "cell_type": "code",
      "source": [
        "pred=gru_model4.predict(x_test)\n",
        "pred=np.argmax(pred, axis=1)\n",
        "ytest=np.argmax(y_test, axis=1)\n",
        "# reduce to 1d array\n",
        "print(classification_report(pred, ytest, target_names=['neg', 'n', 'pos']))"
      ],
      "metadata": {
        "colab": {
          "base_uri": "https://localhost:8080/"
        },
        "id": "g42vTHxPLLZ7",
        "outputId": "33c7d6a8-cc8a-4d95-8eed-415894162458"
      },
      "id": "g42vTHxPLLZ7",
      "execution_count": 47,
      "outputs": [
        {
          "output_type": "stream",
          "name": "stdout",
          "text": [
            "101/101 [==============================] - 25s 238ms/step\n",
            "              precision    recall  f1-score   support\n",
            "\n",
            "         neg       0.66      0.70      0.68      1016\n",
            "           n       0.61      0.65      0.63      1004\n",
            "         pos       0.77      0.70      0.73      1205\n",
            "\n",
            "    accuracy                           0.68      3225\n",
            "   macro avg       0.68      0.68      0.68      3225\n",
            "weighted avg       0.69      0.68      0.68      3225\n",
            "\n"
          ]
        }
      ]
    },
    {
      "cell_type": "code",
      "execution_count": 48,
      "id": "2cd43eae",
      "metadata": {
        "id": "2cd43eae",
        "outputId": "6e8fc1d7-1079-4a26-ca18-6cad5c583f74",
        "colab": {
          "base_uri": "https://localhost:8080/"
        }
      },
      "outputs": [
        {
          "output_type": "stream",
          "name": "stdout",
          "text": [
            "Epoch 1/10\n",
            "172/172 [==============================] - 649s 4s/step - loss: 1.0427 - acc: 0.4659 - val_loss: 0.9517 - val_acc: 0.5499\n",
            "Epoch 2/10\n",
            "172/172 [==============================] - 643s 4s/step - loss: 0.7927 - acc: 0.6333 - val_loss: 0.7809 - val_acc: 0.6460\n",
            "Epoch 3/10\n",
            "172/172 [==============================] - 641s 4s/step - loss: 0.6879 - acc: 0.6927 - val_loss: 0.8683 - val_acc: 0.6016\n",
            "Epoch 4/10\n",
            "172/172 [==============================] - 643s 4s/step - loss: 0.6162 - acc: 0.7347 - val_loss: 0.7059 - val_acc: 0.6760\n",
            "Epoch 5/10\n",
            "172/172 [==============================] - 638s 4s/step - loss: 0.5514 - acc: 0.7676 - val_loss: 0.7014 - val_acc: 0.6915\n",
            "Epoch 6/10\n",
            "172/172 [==============================] - 639s 4s/step - loss: 0.4907 - acc: 0.7956 - val_loss: 0.7013 - val_acc: 0.6982\n",
            "Epoch 7/10\n",
            "172/172 [==============================] - 640s 4s/step - loss: 0.4305 - acc: 0.8260 - val_loss: 0.8604 - val_acc: 0.6527\n",
            "Epoch 8/10\n",
            "172/172 [==============================] - 641s 4s/step - loss: 0.3770 - acc: 0.8493 - val_loss: 0.7956 - val_acc: 0.6739\n",
            "Epoch 9/10\n",
            "172/172 [==============================] - 634s 4s/step - loss: 0.3131 - acc: 0.8827 - val_loss: 0.8000 - val_acc: 0.6946\n",
            "Epoch 10/10\n",
            "172/172 [==============================] - 633s 4s/step - loss: 0.2556 - acc: 0.9092 - val_loss: 0.8860 - val_acc: 0.6966\n"
          ]
        }
      ],
      "source": [
        "# definirea modelului ------------------128------------------\n",
        "gru_model5 = Sequential()\n",
        "gru_model5.add(embedding_layer)\n",
        "gru_model5.add(GRU(128))\n",
        "gru_model5.add(Dense(3, activation = 'softmax'))\n",
        "\n",
        "gru_model5.compile(optimizer='rmsprop',\n",
        "                  loss='categorical_crossentropy',\n",
        "                  metrics=['acc'])\n",
        "history = gru_model5.fit(x_train,\n",
        "                        y_train,\n",
        "                        epochs=10,\n",
        "                        batch_size=64,\n",
        "                        validation_split=0.15)"
      ]
    },
    {
      "cell_type": "code",
      "execution_count": 49,
      "id": "faf1a31e",
      "metadata": {
        "id": "faf1a31e",
        "outputId": "52ada7d9-5422-4e56-f245-10e35ea6386c",
        "colab": {
          "base_uri": "https://localhost:8080/",
          "height": 545
        }
      },
      "outputs": [
        {
          "output_type": "display_data",
          "data": {
            "text/plain": [
              "<Figure size 432x288 with 1 Axes>"
            ],
            "image/png": "[encoded data removed]"
          },
          "metadata": {
            "needs_background": "light"
          }
        },
        {
          "output_type": "display_data",
          "data": {
            "text/plain": [
              "<Figure size 432x288 with 1 Axes>"
            ],
            "image/png": "[encoded data removed]"
          },
          "metadata": {
            "needs_background": "light"
          }
        }
      ],
      "source": [
        "plot_graphs(history)"
      ]
    },
    {
      "cell_type": "code",
      "source": [
        "gru_model5.evaluate(x_test, y_test)"
      ],
      "metadata": {
        "colab": {
          "base_uri": "https://localhost:8080/"
        },
        "id": "tlzXYfPjCvTo",
        "outputId": "ef1e1e75-192a-4755-877b-3871cc64a123"
      },
      "id": "tlzXYfPjCvTo",
      "execution_count": 50,
      "outputs": [
        {
          "output_type": "stream",
          "name": "stdout",
          "text": [
            "101/101 [==============================] - 44s 432ms/step - loss: 0.8993 - acc: 0.6794\n"
          ]
        },
        {
          "output_type": "execute_result",
          "data": {
            "text/plain": [
              "[0.8992556929588318, 0.6793798208236694]"
            ]
          },
          "metadata": {},
          "execution_count": 50
        }
      ]
    },
    {
      "cell_type": "code",
      "source": [
        "pred=gru_model5.predict(x_test)\n",
        "pred=np.argmax(pred, axis=1)\n",
        "ytest=np.argmax(y_test, axis=1)\n",
        "# reduce to 1d array\n",
        "print(classification_report(pred, ytest, target_names=['neg', 'n', 'pos']))"
      ],
      "metadata": {
        "colab": {
          "base_uri": "https://localhost:8080/"
        },
        "id": "zjqTSGjPCvWW",
        "outputId": "413fcb96-8035-440e-ddbe-86150ec5b4e6"
      },
      "id": "zjqTSGjPCvWW",
      "execution_count": 51,
      "outputs": [
        {
          "output_type": "stream",
          "name": "stdout",
          "text": [
            "101/101 [==============================] - 44s 431ms/step\n",
            "              precision    recall  f1-score   support\n",
            "\n",
            "         neg       0.75      0.64      0.69      1249\n",
            "           n       0.51      0.72      0.60       752\n",
            "         pos       0.77      0.70      0.73      1224\n",
            "\n",
            "    accuracy                           0.68      3225\n",
            "   macro avg       0.68      0.68      0.67      3225\n",
            "weighted avg       0.70      0.68      0.68      3225\n",
            "\n"
          ]
        }
      ]
    },
    {
      "cell_type": "code",
      "execution_count": 52,
      "id": "e6c1efee",
      "metadata": {
        "id": "e6c1efee",
        "outputId": "1d4f7544-8e2c-4ff5-daf6-cc6cd12cf7b1",
        "colab": {
          "base_uri": "https://localhost:8080/",
          "height": 380
        }
      },
      "outputs": [
        {
          "output_type": "stream",
          "name": "stdout",
          "text": [
            "Epoch 1/10\n",
            "  5/172 [..............................] - ETA: 24:41 - loss: 1.2491 - acc: 0.3938"
          ]
        },
        {
          "output_type": "error",
          "ename": "KeyboardInterrupt",
          "evalue": "ignored",
          "traceback": [
            "\u001b[0;31m---------------------------------------------------------------------------\u001b[0m",
            "\u001b[0;31mKeyboardInterrupt\u001b[0m                         Traceback (most recent call last)",
            "\u001b[0;32m<ipython-input-52-7bb4b082f019>\u001b[0m in \u001b[0;36m<module>\u001b[0;34m\u001b[0m\n\u001b[1;32m     12\u001b[0m                         \u001b[0mepochs\u001b[0m\u001b[0;34m=\u001b[0m\u001b[0;36m10\u001b[0m\u001b[0;34m,\u001b[0m\u001b[0;34m\u001b[0m\u001b[0;34m\u001b[0m\u001b[0m\n\u001b[1;32m     13\u001b[0m                         \u001b[0mbatch_size\u001b[0m\u001b[0;34m=\u001b[0m\u001b[0;36m64\u001b[0m\u001b[0;34m,\u001b[0m\u001b[0;34m\u001b[0m\u001b[0;34m\u001b[0m\u001b[0m\n\u001b[0;32m---> 14\u001b[0;31m                         validation_split=0.15)\n\u001b[0m",
            "\u001b[0;32m/usr/local/lib/python3.7/dist-packages/keras/utils/traceback_utils.py\u001b[0m in \u001b[0;36merror_handler\u001b[0;34m(*args, **kwargs)\u001b[0m\n\u001b[1;32m     62\u001b[0m     \u001b[0mfiltered_tb\u001b[0m \u001b[0;34m=\u001b[0m \u001b[0;32mNone\u001b[0m\u001b[0;34m\u001b[0m\u001b[0;34m\u001b[0m\u001b[0m\n\u001b[1;32m     63\u001b[0m     \u001b[0;32mtry\u001b[0m\u001b[0;34m:\u001b[0m\u001b[0;34m\u001b[0m\u001b[0;34m\u001b[0m\u001b[0m\n\u001b[0;32m---> 64\u001b[0;31m       \u001b[0;32mreturn\u001b[0m \u001b[0mfn\u001b[0m\u001b[0;34m(\u001b[0m\u001b[0;34m*\u001b[0m\u001b[0margs\u001b[0m\u001b[0;34m,\u001b[0m \u001b[0;34m**\u001b[0m\u001b[0mkwargs\u001b[0m\u001b[0;34m)\u001b[0m\u001b[0;34m\u001b[0m\u001b[0;34m\u001b[0m\u001b[0m\n\u001b[0m\u001b[1;32m     65\u001b[0m     \u001b[0;32mexcept\u001b[0m \u001b[0mException\u001b[0m \u001b[0;32mas\u001b[0m \u001b[0me\u001b[0m\u001b[0;34m:\u001b[0m  \u001b[0;31m# pylint: disable=broad-except\u001b[0m\u001b[0;34m\u001b[0m\u001b[0;34m\u001b[0m\u001b[0m\n\u001b[1;32m     66\u001b[0m       \u001b[0mfiltered_tb\u001b[0m \u001b[0;34m=\u001b[0m \u001b[0m_process_traceback_frames\u001b[0m\u001b[0;34m(\u001b[0m\u001b[0me\u001b[0m\u001b[0;34m.\u001b[0m\u001b[0m__traceback__\u001b[0m\u001b[0;34m)\u001b[0m\u001b[0;34m\u001b[0m\u001b[0;34m\u001b[0m\u001b[0m\n",
            "\u001b[0;32m/usr/local/lib/python3.7/dist-packages/keras/engine/training.py\u001b[0m in \u001b[0;36mfit\u001b[0;34m(self, x, y, batch_size, epochs, verbose, callbacks, validation_split, validation_data, shuffle, class_weight, sample_weight, initial_epoch, steps_per_epoch, validation_steps, validation_batch_size, validation_freq, max_queue_size, workers, use_multiprocessing)\u001b[0m\n\u001b[1;32m   1407\u001b[0m                 _r=1):\n\u001b[1;32m   1408\u001b[0m               \u001b[0mcallbacks\u001b[0m\u001b[0;34m.\u001b[0m\u001b[0mon_train_batch_begin\u001b[0m\u001b[0;34m(\u001b[0m\u001b[0mstep\u001b[0m\u001b[0;34m)\u001b[0m\u001b[0;34m\u001b[0m\u001b[0;34m\u001b[0m\u001b[0m\n\u001b[0;32m-> 1409\u001b[0;31m               \u001b[0mtmp_logs\u001b[0m \u001b[0;34m=\u001b[0m \u001b[0mself\u001b[0m\u001b[0;34m.\u001b[0m\u001b[0mtrain_function\u001b[0m\u001b[0;34m(\u001b[0m\u001b[0miterator\u001b[0m\u001b[0;34m)\u001b[0m\u001b[0;34m\u001b[0m\u001b[0;34m\u001b[0m\u001b[0m\n\u001b[0m\u001b[1;32m   1410\u001b[0m               \u001b[0;32mif\u001b[0m \u001b[0mdata_handler\u001b[0m\u001b[0;34m.\u001b[0m\u001b[0mshould_sync\u001b[0m\u001b[0;34m:\u001b[0m\u001b[0;34m\u001b[0m\u001b[0;34m\u001b[0m\u001b[0m\n\u001b[1;32m   1411\u001b[0m                 \u001b[0mcontext\u001b[0m\u001b[0;34m.\u001b[0m\u001b[0masync_wait\u001b[0m\u001b[0;34m(\u001b[0m\u001b[0;34m)\u001b[0m\u001b[0;34m\u001b[0m\u001b[0;34m\u001b[0m\u001b[0m\n",
            "\u001b[0;32m/usr/local/lib/python3.7/dist-packages/tensorflow/python/util/traceback_utils.py\u001b[0m in \u001b[0;36merror_handler\u001b[0;34m(*args, **kwargs)\u001b[0m\n\u001b[1;32m    148\u001b[0m     \u001b[0mfiltered_tb\u001b[0m \u001b[0;34m=\u001b[0m \u001b[0;32mNone\u001b[0m\u001b[0;34m\u001b[0m\u001b[0;34m\u001b[0m\u001b[0m\n\u001b[1;32m    149\u001b[0m     \u001b[0;32mtry\u001b[0m\u001b[0;34m:\u001b[0m\u001b[0;34m\u001b[0m\u001b[0;34m\u001b[0m\u001b[0m\n\u001b[0;32m--> 150\u001b[0;31m       \u001b[0;32mreturn\u001b[0m \u001b[0mfn\u001b[0m\u001b[0;34m(\u001b[0m\u001b[0;34m*\u001b[0m\u001b[0margs\u001b[0m\u001b[0;34m,\u001b[0m \u001b[0;34m**\u001b[0m\u001b[0mkwargs\u001b[0m\u001b[0;34m)\u001b[0m\u001b[0;34m\u001b[0m\u001b[0;34m\u001b[0m\u001b[0m\n\u001b[0m\u001b[1;32m    151\u001b[0m     \u001b[0;32mexcept\u001b[0m \u001b[0mException\u001b[0m \u001b[0;32mas\u001b[0m \u001b[0me\u001b[0m\u001b[0;34m:\u001b[0m\u001b[0;34m\u001b[0m\u001b[0;34m\u001b[0m\u001b[0m\n\u001b[1;32m    152\u001b[0m       \u001b[0mfiltered_tb\u001b[0m \u001b[0;34m=\u001b[0m \u001b[0m_process_traceback_frames\u001b[0m\u001b[0;34m(\u001b[0m\u001b[0me\u001b[0m\u001b[0;34m.\u001b[0m\u001b[0m__traceback__\u001b[0m\u001b[0;34m)\u001b[0m\u001b[0;34m\u001b[0m\u001b[0;34m\u001b[0m\u001b[0m\n",
            "\u001b[0;32m/usr/local/lib/python3.7/dist-packages/tensorflow/python/eager/def_function.py\u001b[0m in \u001b[0;36m__call__\u001b[0;34m(self, *args, **kwds)\u001b[0m\n\u001b[1;32m    913\u001b[0m \u001b[0;34m\u001b[0m\u001b[0m\n\u001b[1;32m    914\u001b[0m       \u001b[0;32mwith\u001b[0m \u001b[0mOptionalXlaContext\u001b[0m\u001b[0;34m(\u001b[0m\u001b[0mself\u001b[0m\u001b[0;34m.\u001b[0m\u001b[0m_jit_compile\u001b[0m\u001b[0;34m)\u001b[0m\u001b[0;34m:\u001b[0m\u001b[0;34m\u001b[0m\u001b[0;34m\u001b[0m\u001b[0m\n\u001b[0;32m--> 915\u001b[0;31m         \u001b[0mresult\u001b[0m \u001b[0;34m=\u001b[0m \u001b[0mself\u001b[0m\u001b[0;34m.\u001b[0m\u001b[0m_call\u001b[0m\u001b[0;34m(\u001b[0m\u001b[0;34m*\u001b[0m\u001b[0margs\u001b[0m\u001b[0;34m,\u001b[0m \u001b[0;34m**\u001b[0m\u001b[0mkwds\u001b[0m\u001b[0;34m)\u001b[0m\u001b[0;34m\u001b[0m\u001b[0;34m\u001b[0m\u001b[0m\n\u001b[0m\u001b[1;32m    916\u001b[0m \u001b[0;34m\u001b[0m\u001b[0m\n\u001b[1;32m    917\u001b[0m       \u001b[0mnew_tracing_count\u001b[0m \u001b[0;34m=\u001b[0m \u001b[0mself\u001b[0m\u001b[0;34m.\u001b[0m\u001b[0mexperimental_get_tracing_count\u001b[0m\u001b[0;34m(\u001b[0m\u001b[0;34m)\u001b[0m\u001b[0;34m\u001b[0m\u001b[0;34m\u001b[0m\u001b[0m\n",
            "\u001b[0;32m/usr/local/lib/python3.7/dist-packages/tensorflow/python/eager/def_function.py\u001b[0m in \u001b[0;36m_call\u001b[0;34m(self, *args, **kwds)\u001b[0m\n\u001b[1;32m    945\u001b[0m       \u001b[0;31m# In this case we have created variables on the first call, so we run the\u001b[0m\u001b[0;34m\u001b[0m\u001b[0;34m\u001b[0m\u001b[0;34m\u001b[0m\u001b[0m\n\u001b[1;32m    946\u001b[0m       \u001b[0;31m# defunned version which is guaranteed to never create variables.\u001b[0m\u001b[0;34m\u001b[0m\u001b[0;34m\u001b[0m\u001b[0;34m\u001b[0m\u001b[0m\n\u001b[0;32m--> 947\u001b[0;31m       \u001b[0;32mreturn\u001b[0m \u001b[0mself\u001b[0m\u001b[0;34m.\u001b[0m\u001b[0m_stateless_fn\u001b[0m\u001b[0;34m(\u001b[0m\u001b[0;34m*\u001b[0m\u001b[0margs\u001b[0m\u001b[0;34m,\u001b[0m \u001b[0;34m**\u001b[0m\u001b[0mkwds\u001b[0m\u001b[0;34m)\u001b[0m  \u001b[0;31m# pylint: disable=not-callable\u001b[0m\u001b[0;34m\u001b[0m\u001b[0;34m\u001b[0m\u001b[0m\n\u001b[0m\u001b[1;32m    948\u001b[0m     \u001b[0;32melif\u001b[0m \u001b[0mself\u001b[0m\u001b[0;34m.\u001b[0m\u001b[0m_stateful_fn\u001b[0m \u001b[0;32mis\u001b[0m \u001b[0;32mnot\u001b[0m \u001b[0;32mNone\u001b[0m\u001b[0;34m:\u001b[0m\u001b[0;34m\u001b[0m\u001b[0;34m\u001b[0m\u001b[0m\n\u001b[1;32m    949\u001b[0m       \u001b[0;31m# Release the lock early so that multiple threads can perform the call\u001b[0m\u001b[0;34m\u001b[0m\u001b[0;34m\u001b[0m\u001b[0;34m\u001b[0m\u001b[0m\n",
            "\u001b[0;32m/usr/local/lib/python3.7/dist-packages/tensorflow/python/eager/function.py\u001b[0m in \u001b[0;36m__call__\u001b[0;34m(self, *args, **kwargs)\u001b[0m\n\u001b[1;32m   2452\u001b[0m        filtered_flat_args) = self._maybe_define_function(args, kwargs)\n\u001b[1;32m   2453\u001b[0m     return graph_function._call_flat(\n\u001b[0;32m-> 2454\u001b[0;31m         filtered_flat_args, captured_inputs=graph_function.captured_inputs)  # pylint: disable=protected-access\n\u001b[0m\u001b[1;32m   2455\u001b[0m \u001b[0;34m\u001b[0m\u001b[0m\n\u001b[1;32m   2456\u001b[0m   \u001b[0;34m@\u001b[0m\u001b[0mproperty\u001b[0m\u001b[0;34m\u001b[0m\u001b[0;34m\u001b[0m\u001b[0m\n",
            "\u001b[0;32m/usr/local/lib/python3.7/dist-packages/tensorflow/python/eager/function.py\u001b[0m in \u001b[0;36m_call_flat\u001b[0;34m(self, args, captured_inputs, cancellation_manager)\u001b[0m\n\u001b[1;32m   1859\u001b[0m       \u001b[0;31m# No tape is watching; skip to running the function.\u001b[0m\u001b[0;34m\u001b[0m\u001b[0;34m\u001b[0m\u001b[0;34m\u001b[0m\u001b[0m\n\u001b[1;32m   1860\u001b[0m       return self._build_call_outputs(self._inference_function.call(\n\u001b[0;32m-> 1861\u001b[0;31m           ctx, args, cancellation_manager=cancellation_manager))\n\u001b[0m\u001b[1;32m   1862\u001b[0m     forward_backward = self._select_forward_and_backward_functions(\n\u001b[1;32m   1863\u001b[0m         \u001b[0margs\u001b[0m\u001b[0;34m,\u001b[0m\u001b[0;34m\u001b[0m\u001b[0;34m\u001b[0m\u001b[0m\n",
            "\u001b[0;32m/usr/local/lib/python3.7/dist-packages/tensorflow/python/eager/function.py\u001b[0m in \u001b[0;36mcall\u001b[0;34m(self, ctx, args, cancellation_manager)\u001b[0m\n\u001b[1;32m    500\u001b[0m               \u001b[0minputs\u001b[0m\u001b[0;34m=\u001b[0m\u001b[0margs\u001b[0m\u001b[0;34m,\u001b[0m\u001b[0;34m\u001b[0m\u001b[0;34m\u001b[0m\u001b[0m\n\u001b[1;32m    501\u001b[0m               \u001b[0mattrs\u001b[0m\u001b[0;34m=\u001b[0m\u001b[0mattrs\u001b[0m\u001b[0;34m,\u001b[0m\u001b[0;34m\u001b[0m\u001b[0;34m\u001b[0m\u001b[0m\n\u001b[0;32m--> 502\u001b[0;31m               ctx=ctx)\n\u001b[0m\u001b[1;32m    503\u001b[0m         \u001b[0;32melse\u001b[0m\u001b[0;34m:\u001b[0m\u001b[0;34m\u001b[0m\u001b[0;34m\u001b[0m\u001b[0m\n\u001b[1;32m    504\u001b[0m           outputs = execute.execute_with_cancellation(\n",
            "\u001b[0;32m/usr/local/lib/python3.7/dist-packages/tensorflow/python/eager/execute.py\u001b[0m in \u001b[0;36mquick_execute\u001b[0;34m(op_name, num_outputs, inputs, attrs, ctx, name)\u001b[0m\n\u001b[1;32m     53\u001b[0m     \u001b[0mctx\u001b[0m\u001b[0;34m.\u001b[0m\u001b[0mensure_initialized\u001b[0m\u001b[0;34m(\u001b[0m\u001b[0;34m)\u001b[0m\u001b[0;34m\u001b[0m\u001b[0;34m\u001b[0m\u001b[0m\n\u001b[1;32m     54\u001b[0m     tensors = pywrap_tfe.TFE_Py_Execute(ctx._handle, device_name, op_name,\n\u001b[0;32m---> 55\u001b[0;31m                                         inputs, attrs, num_outputs)\n\u001b[0m\u001b[1;32m     56\u001b[0m   \u001b[0;32mexcept\u001b[0m \u001b[0mcore\u001b[0m\u001b[0;34m.\u001b[0m\u001b[0m_NotOkStatusException\u001b[0m \u001b[0;32mas\u001b[0m \u001b[0me\u001b[0m\u001b[0;34m:\u001b[0m\u001b[0;34m\u001b[0m\u001b[0;34m\u001b[0m\u001b[0m\n\u001b[1;32m     57\u001b[0m     \u001b[0;32mif\u001b[0m \u001b[0mname\u001b[0m \u001b[0;32mis\u001b[0m \u001b[0;32mnot\u001b[0m \u001b[0;32mNone\u001b[0m\u001b[0;34m:\u001b[0m\u001b[0;34m\u001b[0m\u001b[0;34m\u001b[0m\u001b[0m\n",
            "\u001b[0;31mKeyboardInterrupt\u001b[0m: "
          ]
        }
      ],
      "source": [
        "# definirea modelului ------------------256------------------\n",
        "gru_model6 = Sequential()\n",
        "gru_model6.add(embedding_layer)\n",
        "gru_model6.add(GRU(256))\n",
        "gru_model6.add(Dense(3, activation = 'softmax'))\n",
        "\n",
        "gru_model6.compile(optimizer='rmsprop',\n",
        "                  loss='categorical_crossentropy',\n",
        "                  metrics=['acc'])\n",
        "history = gru_model6.fit(x_train,\n",
        "                        y_train,\n",
        "                        epochs=10,\n",
        "                        batch_size=64,\n",
        "                        validation_split=0.15)"
      ]
    },
    {
      "cell_type": "code",
      "execution_count": null,
      "id": "ac9066d9",
      "metadata": {
        "id": "ac9066d9"
      },
      "outputs": [],
      "source": [
        "plot_graphs(history)"
      ]
    },
    {
      "cell_type": "code",
      "source": [
        "gru_model6.evaluate(x_test, y_test)"
      ],
      "metadata": {
        "id": "RHM_qnnAdf71"
      },
      "id": "RHM_qnnAdf71",
      "execution_count": null,
      "outputs": []
    },
    {
      "cell_type": "code",
      "source": [
        "pred=gru_model6.predict(x_test)\n",
        "pred=np.argmax(pred, axis=1)\n",
        "ytest=np.argmax(y_test, axis=1)\n",
        "# reduce to 1d array\n",
        "print(classification_report(pred, ytest, target_names=['neg', 'n', 'pos']))"
      ],
      "metadata": {
        "id": "8YTuIqQPdf-S"
      },
      "id": "8YTuIqQPdf-S",
      "execution_count": null,
      "outputs": []
    },
    {
      "cell_type": "code",
      "execution_count": null,
      "id": "647530ef",
      "metadata": {
        "id": "647530ef"
      },
      "outputs": [],
      "source": [
        "# definirea modelului ------------------512------------------\n",
        "gru_model = Sequential()\n",
        "gru_model.add(embedding_layer)\n",
        "gru_model.add(GRU(512))\n",
        "gru_model.add(Dense(3, activation = 'softmax'))\n",
        "\n",
        "gru_model.compile(optimizer='rmsprop',\n",
        "                  loss='categorical_crossentropy',\n",
        "                  metrics=['acc'])\n",
        "history = gru_model.fit(x_train,\n",
        "                        y_train,\n",
        "                        epochs=10,\n",
        "                        batch_size=64,\n",
        "                        validation_split=0.15)"
      ]
    },
    {
      "cell_type": "code",
      "execution_count": null,
      "id": "d95bf3d0",
      "metadata": {
        "id": "d95bf3d0"
      },
      "outputs": [],
      "source": [
        "plot_graphs(history)"
      ]
    },
    {
      "cell_type": "code",
      "execution_count": null,
      "id": "3c6ebf3b",
      "metadata": {
        "id": "3c6ebf3b"
      },
      "outputs": [],
      "source": [
        "gru_model.evaluate(x_test, y_test)"
      ]
    },
    {
      "cell_type": "code",
      "execution_count": null,
      "id": "ac029655",
      "metadata": {
        "id": "ac029655"
      },
      "outputs": [],
      "source": [
        "pred=gru_model.predict(x_test)\n",
        "pred=np.argmax(pred, axis=1)\n",
        "ytest=np.argmax(y_test, axis=1)\n",
        "# reduce to 1d array\n",
        "print(classification_report(pred, ytest, target_names=['neg', 'n', 'pos']))"
      ]
    },
    {
      "cell_type": "code",
      "execution_count": null,
      "id": "23a6da9d",
      "metadata": {
        "id": "23a6da9d"
      },
      "outputs": [],
      "source": [
        "gru_model.save('Models/w2v_gru_model.h5')"
      ]
    },
    {
      "cell_type": "markdown",
      "id": "52b62ab6",
      "metadata": {
        "id": "52b62ab6"
      },
      "source": [
        "### Convnet 1D"
      ]
    },
    {
      "cell_type": "code",
      "execution_count": 53,
      "id": "932aab9f",
      "metadata": {
        "id": "932aab9f",
        "outputId": "7df261c0-a7e7-4390-8121-7b4a77f41b7f",
        "colab": {
          "base_uri": "https://localhost:8080/"
        }
      },
      "outputs": [
        {
          "output_type": "stream",
          "name": "stdout",
          "text": [
            "Epoch 1/10\n",
            "172/172 [==============================] - 77s 444ms/step - loss: 1.8620 - acc: 0.3317 - val_loss: 1.1766 - val_acc: 0.3390\n",
            "Epoch 2/10\n",
            "172/172 [==============================] - 76s 442ms/step - loss: 1.1307 - acc: 0.3660 - val_loss: 1.0965 - val_acc: 0.4078\n",
            "Epoch 3/10\n",
            "172/172 [==============================] - 76s 440ms/step - loss: 1.0748 - acc: 0.4412 - val_loss: 1.0560 - val_acc: 0.4811\n",
            "Epoch 4/10\n",
            "172/172 [==============================] - 77s 447ms/step - loss: 1.0438 - acc: 0.4964 - val_loss: 1.0321 - val_acc: 0.5256\n",
            "Epoch 5/10\n",
            "172/172 [==============================] - 77s 448ms/step - loss: 1.0210 - acc: 0.5296 - val_loss: 1.0170 - val_acc: 0.5426\n",
            "Epoch 6/10\n",
            "172/172 [==============================] - 76s 440ms/step - loss: 1.0012 - acc: 0.5497 - val_loss: 1.0016 - val_acc: 0.5587\n",
            "Epoch 7/10\n",
            "172/172 [==============================] - 75s 438ms/step - loss: 0.9830 - acc: 0.5648 - val_loss: 0.9905 - val_acc: 0.5649\n",
            "Epoch 8/10\n",
            "172/172 [==============================] - 75s 438ms/step - loss: 0.9652 - acc: 0.5716 - val_loss: 0.9792 - val_acc: 0.5742\n",
            "Epoch 9/10\n",
            "172/172 [==============================] - 77s 447ms/step - loss: 0.9491 - acc: 0.5754 - val_loss: 0.9677 - val_acc: 0.5690\n",
            "Epoch 10/10\n",
            "172/172 [==============================] - 75s 438ms/step - loss: 0.9340 - acc: 0.5853 - val_loss: 0.9581 - val_acc: 0.5649\n"
          ]
        }
      ],
      "source": [
        "# definirea modelului---------8------------------\n",
        "convnet_model = Sequential()\n",
        "convnet_model.add(embedding_layer)\n",
        "convnet_model.add(Conv1D(8, 7, activation='relu'))\n",
        "convnet_model.add(MaxPooling1D(5))\n",
        "convnet_model.add(Conv1D(8, 7, activation='relu'))\n",
        "convnet_model.add(GlobalMaxPooling1D())\n",
        "convnet_model.add(Dense(3, activation='softmax'))\n",
        "\n",
        "convnet_model.compile(optimizer=RMSprop(learning_rate=1e-4), \n",
        "                      loss='categorical_crossentropy', \n",
        "                      metrics=['acc'])\n",
        "history = convnet_model.fit(x_train, \n",
        "                            y_train,\n",
        "                            epochs=10,\n",
        "                            batch_size=64,\n",
        "                            validation_split=0.15)"
      ]
    },
    {
      "cell_type": "code",
      "execution_count": 54,
      "id": "4d5bade3",
      "metadata": {
        "id": "4d5bade3",
        "outputId": "e89637d2-bf27-41cf-b3b2-bc446fcf26ce",
        "colab": {
          "base_uri": "https://localhost:8080/",
          "height": 545
        }
      },
      "outputs": [
        {
          "output_type": "display_data",
          "data": {
            "text/plain": [
              "<Figure size 432x288 with 1 Axes>"
            ],
            "image/png": "[encoded data removed]"
          },
          "metadata": {
            "needs_background": "light"
          }
        },
        {
          "output_type": "display_data",
          "data": {
            "text/plain": [
              "<Figure size 432x288 with 1 Axes>"
            ],
            "image/png": "[encoded data removed]"
          },
          "metadata": {
            "needs_background": "light"
          }
        }
      ],
      "source": [
        "plot_graphs(history)"
      ]
    },
    {
      "cell_type": "code",
      "source": [
        "convnet_model.evaluate(x_test, y_test)"
      ],
      "metadata": {
        "colab": {
          "base_uri": "https://localhost:8080/"
        },
        "id": "5JQGDcXWel09",
        "outputId": "5cee0f37-e85b-426c-8f96-3ab41c35dcb1"
      },
      "id": "5JQGDcXWel09",
      "execution_count": 55,
      "outputs": [
        {
          "output_type": "stream",
          "name": "stdout",
          "text": [
            "101/101 [==============================] - 5s 49ms/step - loss: 0.9658 - acc: 0.5662\n"
          ]
        },
        {
          "output_type": "execute_result",
          "data": {
            "text/plain": [
              "[0.9658004641532898, 0.5662015676498413]"
            ]
          },
          "metadata": {},
          "execution_count": 55
        }
      ]
    },
    {
      "cell_type": "code",
      "source": [
        "pred=convnet_model.predict(x_test)\n",
        "pred=np.argmax(pred, axis=1)\n",
        "ytest=np.argmax(y_test, axis=1)\n",
        "# reduce to 1d array\n",
        "print(classification_report(pred, ytest, target_names=['neg', 'n', 'pos']))"
      ],
      "metadata": {
        "colab": {
          "base_uri": "https://localhost:8080/"
        },
        "id": "tjk6QEV5el28",
        "outputId": "a6cb9039-708f-4d24-e2c6-31fc72c17802"
      },
      "id": "tjk6QEV5el28",
      "execution_count": 56,
      "outputs": [
        {
          "output_type": "stream",
          "name": "stdout",
          "text": [
            "101/101 [==============================] - 5s 49ms/step\n",
            "              precision    recall  f1-score   support\n",
            "\n",
            "         neg       0.49      0.54      0.51       982\n",
            "           n       0.44      0.61      0.51       747\n",
            "         pos       0.76      0.56      0.65      1496\n",
            "\n",
            "    accuracy                           0.57      3225\n",
            "   macro avg       0.56      0.57      0.56      3225\n",
            "weighted avg       0.60      0.57      0.57      3225\n",
            "\n"
          ]
        }
      ]
    },
    {
      "cell_type": "code",
      "execution_count": 57,
      "id": "3343708a",
      "metadata": {
        "id": "3343708a",
        "outputId": "23a2f9a0-d77a-420a-ac6f-8127eda0c062",
        "colab": {
          "base_uri": "https://localhost:8080/"
        }
      },
      "outputs": [
        {
          "output_type": "stream",
          "name": "stdout",
          "text": [
            "Epoch 1/10\n",
            "172/172 [==============================] - 83s 480ms/step - loss: 1.4749 - acc: 0.3316 - val_loss: 1.2415 - val_acc: 0.4047\n",
            "Epoch 2/10\n",
            "172/172 [==============================] - 87s 504ms/step - loss: 1.1276 - acc: 0.4527 - val_loss: 1.1192 - val_acc: 0.4946\n",
            "Epoch 3/10\n",
            "172/172 [==============================] - 90s 525ms/step - loss: 1.0325 - acc: 0.5069 - val_loss: 1.0713 - val_acc: 0.5018\n",
            "Epoch 4/10\n",
            "172/172 [==============================] - 85s 496ms/step - loss: 0.9735 - acc: 0.5376 - val_loss: 1.0455 - val_acc: 0.5251\n",
            "Epoch 5/10\n",
            "172/172 [==============================] - 85s 495ms/step - loss: 0.9279 - acc: 0.5659 - val_loss: 1.0231 - val_acc: 0.5359\n",
            "Epoch 6/10\n",
            "172/172 [==============================] - 83s 482ms/step - loss: 0.8917 - acc: 0.5884 - val_loss: 1.0072 - val_acc: 0.5318\n",
            "Epoch 7/10\n",
            "172/172 [==============================] - 83s 486ms/step - loss: 0.8620 - acc: 0.6029 - val_loss: 1.0029 - val_acc: 0.5375\n",
            "Epoch 8/10\n",
            "172/172 [==============================] - 84s 487ms/step - loss: 0.8352 - acc: 0.6216 - val_loss: 0.9891 - val_acc: 0.5416\n",
            "Epoch 9/10\n",
            "172/172 [==============================] - 84s 489ms/step - loss: 0.8115 - acc: 0.6338 - val_loss: 0.9798 - val_acc: 0.5576\n",
            "Epoch 10/10\n",
            "172/172 [==============================] - 89s 520ms/step - loss: 0.7907 - acc: 0.6451 - val_loss: 0.9738 - val_acc: 0.5690\n"
          ]
        }
      ],
      "source": [
        "# definirea modelului---------16------------------\n",
        "convnet_model = Sequential()\n",
        "convnet_model.add(embedding_layer)\n",
        "convnet_model.add(Conv1D(16, 7, activation='relu'))\n",
        "convnet_model.add(MaxPooling1D(5))\n",
        "convnet_model.add(Conv1D(16, 7, activation='relu'))\n",
        "convnet_model.add(GlobalMaxPooling1D())\n",
        "convnet_model.add(Dense(3, activation='softmax'))\n",
        "\n",
        "convnet_model.compile(optimizer=RMSprop(learning_rate=1e-4), \n",
        "                      loss='categorical_crossentropy', \n",
        "                      metrics=['acc'])\n",
        "history = convnet_model.fit(x_train, \n",
        "                            y_train,\n",
        "                            epochs=10,\n",
        "                            batch_size=64,\n",
        "                            validation_split=0.15)"
      ]
    },
    {
      "cell_type": "code",
      "execution_count": 58,
      "id": "82693b2c",
      "metadata": {
        "id": "82693b2c",
        "outputId": "70a9d940-2732-4fbb-a9ef-0c2003fa4414",
        "colab": {
          "base_uri": "https://localhost:8080/",
          "height": 545
        }
      },
      "outputs": [
        {
          "output_type": "display_data",
          "data": {
            "text/plain": [
              "<Figure size 432x288 with 1 Axes>"
            ],
            "image/png": "[encoded data removed]"
          },
          "metadata": {
            "needs_background": "light"
          }
        },
        {
          "output_type": "display_data",
          "data": {
            "text/plain": [
              "<Figure size 432x288 with 1 Axes>"
            ],
            "image/png": "[encoded data removed]"
          },
          "metadata": {
            "needs_background": "light"
          }
        }
      ],
      "source": [
        "plot_graphs(history)"
      ]
    },
    {
      "cell_type": "code",
      "source": [
        "convnet_model.evaluate(x_test, y_test)"
      ],
      "metadata": {
        "colab": {
          "base_uri": "https://localhost:8080/"
        },
        "id": "jTvObAyJhDkf",
        "outputId": "f3872e3c-d243-4619-cbac-950f8dfdaafa"
      },
      "id": "jTvObAyJhDkf",
      "execution_count": 59,
      "outputs": [
        {
          "output_type": "stream",
          "name": "stdout",
          "text": [
            "101/101 [==============================] - 6s 59ms/step - loss: 0.9606 - acc: 0.5727\n"
          ]
        },
        {
          "output_type": "execute_result",
          "data": {
            "text/plain": [
              "[0.9606403112411499, 0.5727131962776184]"
            ]
          },
          "metadata": {},
          "execution_count": 59
        }
      ]
    },
    {
      "cell_type": "code",
      "source": [
        "pred=convnet_model.predict(x_test)\n",
        "pred=np.argmax(pred, axis=1)\n",
        "ytest=np.argmax(y_test, axis=1)\n",
        "# reduce to 1d array\n",
        "print(classification_report(pred, ytest, target_names=['neg', 'n', 'pos']))"
      ],
      "metadata": {
        "colab": {
          "base_uri": "https://localhost:8080/"
        },
        "id": "9Gu8z_LQhDmk",
        "outputId": "f4b41235-c62d-47bc-bbb7-da61f965b073"
      },
      "id": "9Gu8z_LQhDmk",
      "execution_count": 60,
      "outputs": [
        {
          "output_type": "stream",
          "name": "stdout",
          "text": [
            "101/101 [==============================] - 6s 59ms/step\n",
            "              precision    recall  f1-score   support\n",
            "\n",
            "         neg       0.41      0.58      0.48       744\n",
            "           n       0.51      0.59      0.55       916\n",
            "         pos       0.79      0.56      0.66      1565\n",
            "\n",
            "    accuracy                           0.57      3225\n",
            "   macro avg       0.57      0.58      0.56      3225\n",
            "weighted avg       0.62      0.57      0.58      3225\n",
            "\n"
          ]
        }
      ]
    },
    {
      "cell_type": "code",
      "execution_count": 61,
      "id": "71f4fee9",
      "metadata": {
        "id": "71f4fee9",
        "outputId": "024ca45b-c6c7-49fc-d544-1435f783462d",
        "colab": {
          "base_uri": "https://localhost:8080/"
        }
      },
      "outputs": [
        {
          "output_type": "stream",
          "name": "stdout",
          "text": [
            "Epoch 1/10\n",
            "172/172 [==============================] - 106s 610ms/step - loss: 1.1255 - acc: 0.4551 - val_loss: 0.9807 - val_acc: 0.5385\n",
            "Epoch 2/10\n",
            "172/172 [==============================] - 103s 600ms/step - loss: 0.9558 - acc: 0.5409 - val_loss: 0.9329 - val_acc: 0.5442\n",
            "Epoch 3/10\n",
            "172/172 [==============================] - 102s 596ms/step - loss: 0.8825 - acc: 0.5807 - val_loss: 0.9301 - val_acc: 0.5855\n",
            "Epoch 4/10\n",
            "172/172 [==============================] - 103s 601ms/step - loss: 0.8328 - acc: 0.6066 - val_loss: 0.8978 - val_acc: 0.5809\n",
            "Epoch 5/10\n",
            "172/172 [==============================] - 103s 601ms/step - loss: 0.7886 - acc: 0.6359 - val_loss: 0.8814 - val_acc: 0.5886\n",
            "Epoch 6/10\n",
            "172/172 [==============================] - 106s 616ms/step - loss: 0.7540 - acc: 0.6575 - val_loss: 0.8756 - val_acc: 0.5850\n",
            "Epoch 7/10\n",
            "172/172 [==============================] - 105s 608ms/step - loss: 0.7241 - acc: 0.6779 - val_loss: 0.8726 - val_acc: 0.5876\n",
            "Epoch 8/10\n",
            "172/172 [==============================] - 103s 598ms/step - loss: 0.6984 - acc: 0.6927 - val_loss: 0.8529 - val_acc: 0.6119\n",
            "Epoch 9/10\n",
            "172/172 [==============================] - 104s 607ms/step - loss: 0.6735 - acc: 0.7057 - val_loss: 0.8518 - val_acc: 0.5979\n",
            "Epoch 10/10\n",
            "172/172 [==============================] - 104s 603ms/step - loss: 0.6519 - acc: 0.7176 - val_loss: 0.8450 - val_acc: 0.6098\n"
          ]
        }
      ],
      "source": [
        "# definirea modelului---------32------------------\n",
        "convnet_model = Sequential()\n",
        "convnet_model.add(embedding_layer)\n",
        "convnet_model.add(Conv1D(32, 7, activation='relu'))\n",
        "convnet_model.add(MaxPooling1D(5))\n",
        "convnet_model.add(Conv1D(32, 7, activation='relu'))\n",
        "convnet_model.add(GlobalMaxPooling1D())\n",
        "convnet_model.add(Dense(3, activation='softmax'))\n",
        "\n",
        "convnet_model.compile(optimizer=RMSprop(learning_rate=1e-4), \n",
        "                      loss='categorical_crossentropy', \n",
        "                      metrics=['acc'])\n",
        "history = convnet_model.fit(x_train, \n",
        "                            y_train,\n",
        "                            epochs=10,\n",
        "                            batch_size=64,\n",
        "                            validation_split=0.15)"
      ]
    },
    {
      "cell_type": "code",
      "execution_count": 62,
      "id": "715cb8ac",
      "metadata": {
        "id": "715cb8ac",
        "outputId": "1ab011bd-7aad-4a35-d60f-10ec97f39bd6",
        "colab": {
          "base_uri": "https://localhost:8080/",
          "height": 545
        }
      },
      "outputs": [
        {
          "output_type": "display_data",
          "data": {
            "text/plain": [
              "<Figure size 432x288 with 1 Axes>"
            ],
            "image/png": "[encoded data removed]"
          },
          "metadata": {
            "needs_background": "light"
          }
        },
        {
          "output_type": "display_data",
          "data": {
            "text/plain": [
              "<Figure size 432x288 with 1 Axes>"
            ],
            "image/png": "[encoded data removed]"
          },
          "metadata": {
            "needs_background": "light"
          }
        }
      ],
      "source": [
        "plot_graphs(history)"
      ]
    },
    {
      "cell_type": "code",
      "source": [
        "convnet_model.evaluate(x_test, y_test)"
      ],
      "metadata": {
        "colab": {
          "base_uri": "https://localhost:8080/"
        },
        "id": "T4V_cCmYk8Ej",
        "outputId": "71516019-8d4d-4e23-de29-30e244cc0e98"
      },
      "id": "T4V_cCmYk8Ej",
      "execution_count": 63,
      "outputs": [
        {
          "output_type": "stream",
          "name": "stdout",
          "text": [
            "101/101 [==============================] - 9s 85ms/step - loss: 0.8678 - acc: 0.5975\n"
          ]
        },
        {
          "output_type": "execute_result",
          "data": {
            "text/plain": [
              "[0.8678054809570312, 0.5975193977355957]"
            ]
          },
          "metadata": {},
          "execution_count": 63
        }
      ]
    },
    {
      "cell_type": "code",
      "source": [
        "pred=convnet_model.predict(x_test)\n",
        "pred=np.argmax(pred, axis=1)\n",
        "ytest=np.argmax(y_test, axis=1)\n",
        "# reduce to 1d array\n",
        "print(classification_report(pred, ytest, target_names=['neg', 'n', 'pos']))"
      ],
      "metadata": {
        "colab": {
          "base_uri": "https://localhost:8080/"
        },
        "id": "Zf0zkQUpk8HI",
        "outputId": "c8916c85-8c50-4782-ffae-c1d410aa69e4"
      },
      "id": "Zf0zkQUpk8HI",
      "execution_count": 64,
      "outputs": [
        {
          "output_type": "stream",
          "name": "stdout",
          "text": [
            "101/101 [==============================] - 9s 84ms/step\n",
            "              precision    recall  f1-score   support\n",
            "\n",
            "         neg       0.55      0.59      0.57       998\n",
            "           n       0.54      0.59      0.57       971\n",
            "         pos       0.70      0.61      0.65      1256\n",
            "\n",
            "    accuracy                           0.60      3225\n",
            "   macro avg       0.60      0.60      0.59      3225\n",
            "weighted avg       0.60      0.60      0.60      3225\n",
            "\n"
          ]
        }
      ]
    },
    {
      "cell_type": "code",
      "execution_count": 65,
      "id": "f3960a59",
      "metadata": {
        "id": "f3960a59",
        "outputId": "899ff6a4-abfa-4ca1-beba-65bbbe964107",
        "colab": {
          "base_uri": "https://localhost:8080/"
        }
      },
      "outputs": [
        {
          "output_type": "stream",
          "name": "stdout",
          "text": [
            "Epoch 1/10\n",
            "172/172 [==============================] - 159s 917ms/step - loss: 1.1692 - acc: 0.4994 - val_loss: 0.9974 - val_acc: 0.5628\n",
            "Epoch 2/10\n",
            "172/172 [==============================] - 157s 914ms/step - loss: 0.9136 - acc: 0.5765 - val_loss: 0.9428 - val_acc: 0.5829\n",
            "Epoch 3/10\n",
            "172/172 [==============================] - 156s 908ms/step - loss: 0.8134 - acc: 0.6285 - val_loss: 1.0545 - val_acc: 0.5054\n",
            "Epoch 4/10\n",
            "172/172 [==============================] - 157s 914ms/step - loss: 0.7370 - acc: 0.6702 - val_loss: 0.9308 - val_acc: 0.5907\n",
            "Epoch 5/10\n",
            "172/172 [==============================] - 160s 932ms/step - loss: 0.6789 - acc: 0.6991 - val_loss: 0.9094 - val_acc: 0.5850\n",
            "Epoch 6/10\n",
            "172/172 [==============================] - 159s 924ms/step - loss: 0.6277 - acc: 0.7328 - val_loss: 0.9520 - val_acc: 0.6258\n",
            "Epoch 7/10\n",
            "172/172 [==============================] - 158s 916ms/step - loss: 0.5867 - acc: 0.7532 - val_loss: 0.8995 - val_acc: 0.5990\n",
            "Epoch 8/10\n",
            "172/172 [==============================] - 156s 906ms/step - loss: 0.5487 - acc: 0.7770 - val_loss: 0.9649 - val_acc: 0.5494\n",
            "Epoch 9/10\n",
            "172/172 [==============================] - 158s 916ms/step - loss: 0.5158 - acc: 0.7967 - val_loss: 0.9110 - val_acc: 0.5886\n",
            "Epoch 10/10\n",
            "172/172 [==============================] - 155s 904ms/step - loss: 0.4830 - acc: 0.8233 - val_loss: 0.8932 - val_acc: 0.6072\n"
          ]
        }
      ],
      "source": [
        "# definirea modelului---------64------------------\n",
        "convnet_model = Sequential()\n",
        "convnet_model.add(embedding_layer)\n",
        "convnet_model.add(Conv1D(64, 7, activation='relu'))\n",
        "convnet_model.add(MaxPooling1D(5))\n",
        "convnet_model.add(Conv1D(64, 7, activation='relu'))\n",
        "convnet_model.add(GlobalMaxPooling1D())\n",
        "convnet_model.add(Dense(3, activation='softmax'))\n",
        "\n",
        "convnet_model.compile(optimizer=RMSprop(learning_rate=1e-4), \n",
        "                      loss='categorical_crossentropy', \n",
        "                      metrics=['acc'])\n",
        "history = convnet_model.fit(x_train, \n",
        "                            y_train,\n",
        "                            epochs=10,\n",
        "                            batch_size=64,\n",
        "                            validation_split=0.15)"
      ]
    },
    {
      "cell_type": "code",
      "execution_count": 66,
      "id": "c7905314",
      "metadata": {
        "id": "c7905314",
        "outputId": "71f77243-cb2f-44ff-a5ce-aa0530d033c1",
        "colab": {
          "base_uri": "https://localhost:8080/",
          "height": 545
        }
      },
      "outputs": [
        {
          "output_type": "display_data",
          "data": {
            "text/plain": [
              "<Figure size 432x288 with 1 Axes>"
            ],
            "image/png": "[encoded data removed]"
          },
          "metadata": {
            "needs_background": "light"
          }
        },
        {
          "output_type": "display_data",
          "data": {
            "text/plain": [
              "<Figure size 432x288 with 1 Axes>"
            ],
            "image/png": "[encoded data removed]"
          },
          "metadata": {
            "needs_background": "light"
          }
        }
      ],
      "source": [
        "plot_graphs(history)"
      ]
    },
    {
      "cell_type": "code",
      "execution_count": 67,
      "id": "81d3d394",
      "metadata": {
        "id": "81d3d394",
        "outputId": "49b4ce42-b4fb-4899-c187-511ebcd1b51e",
        "colab": {
          "base_uri": "https://localhost:8080/"
        }
      },
      "outputs": [
        {
          "output_type": "stream",
          "name": "stdout",
          "text": [
            "101/101 [==============================] - 15s 145ms/step - loss: 0.8826 - acc: 0.6096\n"
          ]
        },
        {
          "output_type": "execute_result",
          "data": {
            "text/plain": [
              "[0.882637619972229, 0.6096124053001404]"
            ]
          },
          "metadata": {},
          "execution_count": 67
        }
      ],
      "source": [
        "convnet_model.evaluate(x_test,y_test)"
      ]
    },
    {
      "cell_type": "code",
      "execution_count": 68,
      "id": "1cd41fb6",
      "metadata": {
        "id": "1cd41fb6",
        "outputId": "564cc8ce-5fb6-4aa2-e94c-bf34b68a4f86",
        "colab": {
          "base_uri": "https://localhost:8080/"
        }
      },
      "outputs": [
        {
          "output_type": "stream",
          "name": "stdout",
          "text": [
            "101/101 [==============================] - 15s 143ms/step\n",
            "              precision    recall  f1-score   support\n",
            "\n",
            "         neg       0.55      0.59      0.57       994\n",
            "           n       0.56      0.61      0.58       967\n",
            "         pos       0.72      0.63      0.67      1264\n",
            "\n",
            "    accuracy                           0.61      3225\n",
            "   macro avg       0.61      0.61      0.61      3225\n",
            "weighted avg       0.62      0.61      0.61      3225\n",
            "\n"
          ]
        }
      ],
      "source": [
        "pred=convnet_model.predict(x_test)\n",
        "pred=np.argmax(pred, axis=1)\n",
        "ytest=np.argmax(y_test, axis=1)\n",
        "# reduce to 1d array\n",
        "print(classification_report(pred, ytest, target_names=['neg', 'n', 'pos']))"
      ]
    },
    {
      "cell_type": "code",
      "source": [
        "=============================================================================================================================="
      ],
      "metadata": {
        "id": "oUzq_aB8wg_d"
      },
      "id": "oUzq_aB8wg_d",
      "execution_count": null,
      "outputs": []
    },
    {
      "cell_type": "code",
      "execution_count": null,
      "id": "ddddbf9c",
      "metadata": {
        "scrolled": false,
        "id": "ddddbf9c"
      },
      "outputs": [],
      "source": [
        "# definirea modelului---------128------------------\n",
        "convnet_model = Sequential()\n",
        "convnet_model.add(embedding_layer)\n",
        "convnet_model.add(Conv1D(128, 7, activation='relu'))\n",
        "convnet_model.add(MaxPooling1D(5))\n",
        "convnet_model.add(Conv1D(128, 7, activation='relu'))\n",
        "convnet_model.add(GlobalMaxPooling1D())\n",
        "convnet_model.add(Dense(3, activation='softmax'))\n",
        "\n",
        "convnet_model.compile(optimizer=RMSprop(learning_rate=1e-4), \n",
        "                      loss='categorical_crossentropy', \n",
        "                      metrics=['acc'])\n",
        "history = convnet_model.fit(x_train, \n",
        "                            y_train,\n",
        "                            epochs=10,\n",
        "                            batch_size=64,\n",
        "                            validation_split=0.15)"
      ]
    },
    {
      "cell_type": "code",
      "execution_count": null,
      "id": "f506a824",
      "metadata": {
        "id": "f506a824"
      },
      "outputs": [],
      "source": [
        "plot_graphs(history)"
      ]
    },
    {
      "cell_type": "code",
      "execution_count": null,
      "id": "02467c9e",
      "metadata": {
        "id": "02467c9e"
      },
      "outputs": [],
      "source": [
        "convnet_model.evaluate(x_test,y_test)"
      ]
    },
    {
      "cell_type": "code",
      "execution_count": null,
      "id": "d08df7e2",
      "metadata": {
        "id": "d08df7e2"
      },
      "outputs": [],
      "source": [
        "pred=convnet_model.predict(x_test)\n",
        "pred=np.argmax(pred, axis=1)\n",
        "ytest=np.argmax(y_test, axis=1)\n",
        "# reduce to 1d array\n",
        "print(classification_report(pred, ytest, target_names=['neg', 'n', 'pos']))"
      ]
    },
    {
      "cell_type": "code",
      "execution_count": null,
      "id": "50d06015",
      "metadata": {
        "scrolled": false,
        "id": "50d06015"
      },
      "outputs": [],
      "source": [
        "# definirea modelului---------256------------------\n",
        "convnet_model = Sequential()\n",
        "convnet_model.add(embedding_layer)\n",
        "convnet_model.add(Conv1D(256, 7, activation='relu'))\n",
        "convnet_model.add(MaxPooling1D(5))\n",
        "convnet_model.add(Conv1D(256, 7, activation='relu'))\n",
        "convnet_model.add(GlobalMaxPooling1D())\n",
        "convnet_model.add(Dense(3, activation='softmax'))\n",
        "\n",
        "convnet_model.compile(optimizer=RMSprop(learning_rate=1e-4), \n",
        "                      loss='categorical_crossentropy', \n",
        "                      metrics=['acc'])\n",
        "history = convnet_model.fit(x_train, \n",
        "                            y_train,\n",
        "                            epochs=10,\n",
        "                            batch_size=64,\n",
        "                            validation_split=0.15)"
      ]
    },
    {
      "cell_type": "code",
      "execution_count": null,
      "id": "cf76d4f9",
      "metadata": {
        "id": "cf76d4f9"
      },
      "outputs": [],
      "source": [
        "plot_graphs(history)"
      ]
    },
    {
      "cell_type": "code",
      "source": [
        "convnet_model.evaluate(x_test, y_test)"
      ],
      "metadata": {
        "id": "TeW_QpyBmmMo"
      },
      "id": "TeW_QpyBmmMo",
      "execution_count": null,
      "outputs": []
    },
    {
      "cell_type": "code",
      "source": [
        "pred=convnet_model.predict(x_test)\n",
        "pred=np.argmax(pred, axis=1)\n",
        "ytest=np.argmax(y_test, axis=1)\n",
        "# reduce to 1d array\n",
        "print(classification_report(pred, ytest, target_names=['neg', 'n', 'pos']))"
      ],
      "metadata": {
        "id": "z_5Aj6tOmmPe"
      },
      "id": "z_5Aj6tOmmPe",
      "execution_count": null,
      "outputs": []
    },
    {
      "cell_type": "code",
      "execution_count": null,
      "id": "2ac6a425",
      "metadata": {
        "id": "2ac6a425"
      },
      "outputs": [],
      "source": [
        "# definirea modelului---------512------------------\n",
        "convnet_model = Sequential()\n",
        "convnet_model.add(embedding_layer)\n",
        "convnet_model.add(Conv1D(512, 7, activation='relu'))\n",
        "convnet_model.add(MaxPooling1D(5))\n",
        "convnet_model.add(Conv1D(512, 7, activation='relu'))\n",
        "convnet_model.add(GlobalMaxPooling1D())\n",
        "convnet_model.add(Dense(3, activation='softmax'))\n",
        "\n",
        "convnet_model.compile(optimizer=RMSprop(learning_rate=1e-4), \n",
        "                      loss='categorical_crossentropy', \n",
        "                      metrics=['acc'])\n",
        "history = convnet_model.fit(x_train, \n",
        "                            y_train,\n",
        "                            epochs=10,\n",
        "                            batch_size=64,\n",
        "                            validation_split=0.15)"
      ]
    },
    {
      "cell_type": "code",
      "execution_count": null,
      "id": "3fd7d278",
      "metadata": {
        "id": "3fd7d278"
      },
      "outputs": [],
      "source": [
        "plot_graphs(history)"
      ]
    },
    {
      "cell_type": "code",
      "execution_count": null,
      "id": "bf7748ba",
      "metadata": {
        "id": "bf7748ba"
      },
      "outputs": [],
      "source": [
        "convnet_model.evaluate(x_test, y_test)"
      ]
    },
    {
      "cell_type": "code",
      "execution_count": null,
      "id": "e5a9d805",
      "metadata": {
        "id": "e5a9d805"
      },
      "outputs": [],
      "source": [
        "pred=convnet_model.predict(x_test)\n",
        "pred=np.argmax(pred, axis=1)\n",
        "ytest=np.argmax(y_test, axis=1)\n",
        "# reduce to 1d array\n",
        "print(classification_report(pred, ytest, target_names=['neg', 'n', 'pos']))"
      ]
    },
    {
      "cell_type": "code",
      "execution_count": null,
      "id": "e02bb240",
      "metadata": {
        "id": "e02bb240"
      },
      "outputs": [],
      "source": [
        "convnet_model.save('Models/w2v_convnet_model.h5')"
      ]
    }
  ],
  "metadata": {
    "kernelspec": {
      "display_name": "Python 3 (ipykernel)",
      "language": "python",
      "name": "python3"
    },
    "language_info": {
      "codemirror_mode": {
        "name": "ipython",
        "version": 3
      },
      "file_extension": ".py",
      "mimetype": "text/x-python",
      "name": "python",
      "nbconvert_exporter": "python",
      "pygments_lexer": "ipython3",
      "version": "3.7.13"
    },
    "colab": {
      "provenance": [],
      "collapsed_sections": [
        "961b2452",
        "52b62ab6"
      ],
      "include_colab_link": true
    },
    "accelerator": "TPU"
  },
  "nbformat": 4,
  "nbformat_minor": 5
}