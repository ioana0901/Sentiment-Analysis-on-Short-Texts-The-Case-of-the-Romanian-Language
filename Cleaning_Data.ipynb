{
  "cells": [
    {
      "cell_type": "markdown",
      "metadata": {
        "id": "view-in-github",
        "colab_type": "text"
      },
      "source": [
        "<a href=\"https://colab.research.google.com/github/ioana0901/Sentiment-Analysis-on-Short-Texts-The-Case-of-the-Romanian-Language/blob/main/Cleaning_Data.ipynb\" target=\"_parent\"><img src=\"https://colab.research.google.com/assets/colab-badge.svg\" alt=\"Open In Colab\"/></a>"
      ]
    },
    {
      "cell_type": "code",
      "execution_count": null,
      "id": "7187fdd4",
      "metadata": {
        "id": "7187fdd4",
        "outputId": "e5f8de83-e001-4f8c-9f9e-28cf0733075e"
      },
      "outputs": [
        {
          "name": "stdout",
          "output_type": "stream",
          "text": [
            "importing Jupyter notebook from FunctionsList.ipynb\n"
          ]
        }
      ],
      "source": [
        "import import_ipynb\n",
        "from FunctionsList import *\n",
        "import pandas as pd\n",
        "import numpy as np\n",
        "from sklearn.utils import shuffle"
      ]
    },
    {
      "cell_type": "code",
      "execution_count": null,
      "id": "1b0121f7",
      "metadata": {
        "id": "1b0121f7",
        "outputId": "72ba29ee-e82d-4235-9be0-2ef482f33fae"
      },
      "outputs": [
        {
          "data": {
            "text/html": [
              "<div>\n",
              "<style scoped>\n",
              "    .dataframe tbody tr th:only-of-type {\n",
              "        vertical-align: middle;\n",
              "    }\n",
              "\n",
              "    .dataframe tbody tr th {\n",
              "        vertical-align: top;\n",
              "    }\n",
              "\n",
              "    .dataframe thead th {\n",
              "        text-align: right;\n",
              "    }\n",
              "</style>\n",
              "<table border=\"1\" class=\"dataframe\">\n",
              "  <thead>\n",
              "    <tr style=\"text-align: right;\">\n",
              "      <th></th>\n",
              "      <th>Unnamed: 0</th>\n",
              "      <th>phone_id</th>\n",
              "      <th>phone_name</th>\n",
              "      <th>review_score</th>\n",
              "      <th>review_title</th>\n",
              "      <th>review_content</th>\n",
              "    </tr>\n",
              "  </thead>\n",
              "  <tbody>\n",
              "    <tr>\n",
              "      <th>0</th>\n",
              "      <td>0</td>\n",
              "      <td>DNJCMXMBM</td>\n",
              "      <td>Telefon mobil Apple iPhone 13 Pro Max, 128GB, ...</td>\n",
              "      <td>5</td>\n",
              "      <td>Foarte multumit</td>\n",
              "      <td>WOW! Fără cuvinte… pur și simplu excepțional.</td>\n",
              "    </tr>\n",
              "    <tr>\n",
              "      <th>1</th>\n",
              "      <td>1</td>\n",
              "      <td>DDJCMXMBM</td>\n",
              "      <td>Telefon mobil Apple iPhone 13 Pro Max, 128GB, ...</td>\n",
              "      <td>4</td>\n",
              "      <td>Ok</td>\n",
              "      <td>Incep prin a spune ca am precomandat telefonul...</td>\n",
              "    </tr>\n",
              "    <tr>\n",
              "      <th>2</th>\n",
              "      <td>2</td>\n",
              "      <td>DWFCMXMBM</td>\n",
              "      <td>Telefon mobil Apple iPhone 13 Pro Max, 512GB, ...</td>\n",
              "      <td>5</td>\n",
              "      <td>Excelent</td>\n",
              "      <td>Sunt extraordinar de mulțumit de telefon.</td>\n",
              "    </tr>\n",
              "    <tr>\n",
              "      <th>3</th>\n",
              "      <td>3</td>\n",
              "      <td>DWFCMXMBM</td>\n",
              "      <td>Telefon mobil Apple iPhone 13 Pro Max, 512GB, ...</td>\n",
              "      <td>5</td>\n",
              "      <td>Foarte multumit</td>\n",
              "      <td>Intradevar este un telefon foarte scump, dar c...</td>\n",
              "    </tr>\n",
              "    <tr>\n",
              "      <th>4</th>\n",
              "      <td>4</td>\n",
              "      <td>DRFCMXMBM</td>\n",
              "      <td>Telefon mobil Apple iPhone 13 Pro Max, 1TB, 5G...</td>\n",
              "      <td>5</td>\n",
              "      <td>Exceptional</td>\n",
              "      <td>Detin un 13 pro max sierra 1tb din septembrie ...</td>\n",
              "    </tr>\n",
              "  </tbody>\n",
              "</table>\n",
              "</div>"
            ],
            "text/plain": [
              "   Unnamed: 0   phone_id                                         phone_name  \\\n",
              "0           0  DNJCMXMBM  Telefon mobil Apple iPhone 13 Pro Max, 128GB, ...   \n",
              "1           1  DDJCMXMBM  Telefon mobil Apple iPhone 13 Pro Max, 128GB, ...   \n",
              "2           2  DWFCMXMBM  Telefon mobil Apple iPhone 13 Pro Max, 512GB, ...   \n",
              "3           3  DWFCMXMBM  Telefon mobil Apple iPhone 13 Pro Max, 512GB, ...   \n",
              "4           4  DRFCMXMBM  Telefon mobil Apple iPhone 13 Pro Max, 1TB, 5G...   \n",
              "\n",
              "   review_score     review_title  \\\n",
              "0             5  Foarte multumit   \n",
              "1             4               Ok   \n",
              "2             5         Excelent   \n",
              "3             5  Foarte multumit   \n",
              "4             5      Exceptional   \n",
              "\n",
              "                                      review_content  \n",
              "0      WOW! Fără cuvinte… pur și simplu excepțional.  \n",
              "1  Incep prin a spune ca am precomandat telefonul...  \n",
              "2          Sunt extraordinar de mulțumit de telefon.  \n",
              "3  Intradevar este un telefon foarte scump, dar c...  \n",
              "4  Detin un 13 pro max sierra 1tb din septembrie ...  "
            ]
          },
          "execution_count": 2,
          "metadata": {},
          "output_type": "execute_result"
        }
      ],
      "source": [
        "reviews = pd.read_csv('Data/OriginalDataset.csv')\n",
        "reviews.head()"
      ]
    },
    {
      "cell_type": "code",
      "execution_count": null,
      "id": "ec59232e",
      "metadata": {
        "id": "ec59232e",
        "outputId": "c7c07537-c9a3-4711-8ba1-900e486cb8fd"
      },
      "outputs": [
        {
          "data": {
            "text/html": [
              "<div>\n",
              "<style scoped>\n",
              "    .dataframe tbody tr th:only-of-type {\n",
              "        vertical-align: middle;\n",
              "    }\n",
              "\n",
              "    .dataframe tbody tr th {\n",
              "        vertical-align: top;\n",
              "    }\n",
              "\n",
              "    .dataframe thead th {\n",
              "        text-align: right;\n",
              "    }\n",
              "</style>\n",
              "<table border=\"1\" class=\"dataframe\">\n",
              "  <thead>\n",
              "    <tr style=\"text-align: right;\">\n",
              "      <th></th>\n",
              "      <th>review_score</th>\n",
              "      <th>review_content</th>\n",
              "    </tr>\n",
              "  </thead>\n",
              "  <tbody>\n",
              "    <tr>\n",
              "      <th>0</th>\n",
              "      <td>5</td>\n",
              "      <td>WOW! Fără cuvinte… pur și simplu excepțional.</td>\n",
              "    </tr>\n",
              "    <tr>\n",
              "      <th>1</th>\n",
              "      <td>4</td>\n",
              "      <td>Incep prin a spune ca am precomandat telefonul...</td>\n",
              "    </tr>\n",
              "    <tr>\n",
              "      <th>2</th>\n",
              "      <td>5</td>\n",
              "      <td>Sunt extraordinar de mulțumit de telefon.</td>\n",
              "    </tr>\n",
              "    <tr>\n",
              "      <th>3</th>\n",
              "      <td>5</td>\n",
              "      <td>Intradevar este un telefon foarte scump, dar c...</td>\n",
              "    </tr>\n",
              "    <tr>\n",
              "      <th>4</th>\n",
              "      <td>5</td>\n",
              "      <td>Detin un 13 pro max sierra 1tb din septembrie ...</td>\n",
              "    </tr>\n",
              "  </tbody>\n",
              "</table>\n",
              "</div>"
            ],
            "text/plain": [
              "   review_score                                     review_content\n",
              "0             5      WOW! Fără cuvinte… pur și simplu excepțional.\n",
              "1             4  Incep prin a spune ca am precomandat telefonul...\n",
              "2             5          Sunt extraordinar de mulțumit de telefon.\n",
              "3             5  Intradevar este un telefon foarte scump, dar c...\n",
              "4             5  Detin un 13 pro max sierra 1tb din septembrie ..."
            ]
          },
          "execution_count": 3,
          "metadata": {},
          "output_type": "execute_result"
        }
      ],
      "source": [
        "#sterge coloanele neimportante\n",
        "reviews = reviews.iloc[: , 1:]\n",
        "reviews.drop(columns=['phone_id','phone_name','review_title'], axis='columns',inplace=True)\n",
        "reviews.head()"
      ]
    },
    {
      "cell_type": "code",
      "execution_count": null,
      "id": "b3d05596",
      "metadata": {
        "id": "b3d05596",
        "outputId": "fd7aa108-cc04-4272-d870-93064079830f"
      },
      "outputs": [
        {
          "name": "stdout",
          "output_type": "stream",
          "text": [
            "<class 'pandas.core.frame.DataFrame'>\n",
            "RangeIndex: 41928 entries, 0 to 41927\n",
            "Data columns (total 2 columns):\n",
            " #   Column          Non-Null Count  Dtype \n",
            "---  ------          --------------  ----- \n",
            " 0   review_score    41928 non-null  int64 \n",
            " 1   review_content  41927 non-null  object\n",
            "dtypes: int64(1), object(1)\n",
            "memory usage: 655.2+ KB\n"
          ]
        }
      ],
      "source": [
        "#vezi daca lipsesc valori\n",
        "reviews.info()"
      ]
    },
    {
      "cell_type": "code",
      "execution_count": null,
      "id": "fb94b25c",
      "metadata": {
        "id": "fb94b25c",
        "outputId": "c299c57b-7707-426a-b324-29095df3011b"
      },
      "outputs": [
        {
          "name": "stdout",
          "output_type": "stream",
          "text": [
            "<class 'pandas.core.frame.DataFrame'>\n",
            "Int64Index: 41927 entries, 0 to 41927\n",
            "Data columns (total 2 columns):\n",
            " #   Column          Non-Null Count  Dtype \n",
            "---  ------          --------------  ----- \n",
            " 0   review_score    41927 non-null  int64 \n",
            " 1   review_content  41927 non-null  object\n",
            "dtypes: int64(1), object(1)\n",
            "memory usage: 982.7+ KB\n"
          ]
        }
      ],
      "source": [
        "#sterge randurile goale\n",
        "reviews.dropna(subset=['review_content'], inplace=True)\n",
        "reviews.info()"
      ]
    },
    {
      "cell_type": "code",
      "execution_count": null,
      "id": "4b1fec2f",
      "metadata": {
        "id": "4b1fec2f",
        "outputId": "30a0b2d8-0040-42bc-c4dd-10aa558e3ffe"
      },
      "outputs": [
        {
          "data": {
            "text/plain": [
              "<Figure size 800x600 with 0 Axes>"
            ]
          },
          "metadata": {},
          "output_type": "display_data"
        },
        {
          "data": {
            "image/png": "[encoded data removed]",
            "text/plain": [
              "<Figure size 640x480 with 1 Axes>"
            ]
          },
          "metadata": {},
          "output_type": "display_data"
        }
      ],
      "source": [
        "import matplotlib.pyplot as plt\n",
        "fig = plt.figure(figsize=(8,6))\n",
        "reviews.groupby('review_score').count().plot.bar(ylim=0)\n",
        "plt.show()"
      ]
    },
    {
      "cell_type": "code",
      "execution_count": null,
      "id": "b6407088",
      "metadata": {
        "id": "b6407088",
        "outputId": "9395259c-78ad-4f4d-dfa9-a7a04c621b3e"
      },
      "outputs": [
        {
          "data": {
            "text/plain": [
              "'\\n- clasa 4 devine clasa neutra\\n- clasele 1, 2 si 3 devin negative si 5 pozitive\\n'"
            ]
          },
          "execution_count": 7,
          "metadata": {},
          "output_type": "execute_result"
        }
      ],
      "source": [
        "'''\n",
        "- clasa 4 devine clasa neutra\n",
        "- clasele 1, 2 si 3 devin negative si 5 pozitive\n",
        "'''"
      ]
    },
    {
      "cell_type": "code",
      "execution_count": null,
      "id": "53fba691",
      "metadata": {
        "id": "53fba691"
      },
      "outputs": [],
      "source": [
        "#modifica score column:  neg - 0 / neutru - 1 / pos - 2 \n",
        "reviews[\"review_score\"] = reviews[\"review_score\"].apply(lambda x: 2 if x==5 else 1 if x==4 else 0)"
      ]
    },
    {
      "cell_type": "code",
      "execution_count": null,
      "id": "ce470efa",
      "metadata": {
        "id": "ce470efa",
        "outputId": "9f5e9546-11ea-4f3e-8c9c-0dd43e84a415"
      },
      "outputs": [
        {
          "data": {
            "text/plain": [
              "2    30438\n",
              "0     6114\n",
              "1     5375\n",
              "Name: label, dtype: int64"
            ]
          },
          "execution_count": 10,
          "metadata": {},
          "output_type": "execute_result"
        }
      ],
      "source": [
        "reviews.rename(columns={'review_score':'label'}, inplace = True)\n",
        "#numara valorile din cele doua clase\n",
        "reviews['label'].value_counts()"
      ]
    },
    {
      "cell_type": "code",
      "execution_count": null,
      "id": "1752a842",
      "metadata": {
        "id": "1752a842",
        "outputId": "51da5f3d-5e4a-4be5-9472-4d34675c7330"
      },
      "outputs": [
        {
          "data": {
            "text/html": [
              "<div>\n",
              "<style scoped>\n",
              "    .dataframe tbody tr th:only-of-type {\n",
              "        vertical-align: middle;\n",
              "    }\n",
              "\n",
              "    .dataframe tbody tr th {\n",
              "        vertical-align: top;\n",
              "    }\n",
              "\n",
              "    .dataframe thead th {\n",
              "        text-align: right;\n",
              "    }\n",
              "</style>\n",
              "<table border=\"1\" class=\"dataframe\">\n",
              "  <thead>\n",
              "    <tr style=\"text-align: right;\">\n",
              "      <th></th>\n",
              "      <th>label</th>\n",
              "      <th>review_content</th>\n",
              "      <th>review_length</th>\n",
              "    </tr>\n",
              "  </thead>\n",
              "  <tbody>\n",
              "    <tr>\n",
              "      <th>0</th>\n",
              "      <td>2</td>\n",
              "      <td>WOW! Fără cuvinte… pur și simplu excepțional.</td>\n",
              "      <td>7</td>\n",
              "    </tr>\n",
              "    <tr>\n",
              "      <th>1</th>\n",
              "      <td>1</td>\n",
              "      <td>Incep prin a spune ca am precomandat telefonul...</td>\n",
              "      <td>173</td>\n",
              "    </tr>\n",
              "    <tr>\n",
              "      <th>2</th>\n",
              "      <td>2</td>\n",
              "      <td>Sunt extraordinar de mulțumit de telefon.</td>\n",
              "      <td>6</td>\n",
              "    </tr>\n",
              "    <tr>\n",
              "      <th>3</th>\n",
              "      <td>2</td>\n",
              "      <td>Intradevar este un telefon foarte scump, dar c...</td>\n",
              "      <td>12</td>\n",
              "    </tr>\n",
              "    <tr>\n",
              "      <th>4</th>\n",
              "      <td>2</td>\n",
              "      <td>Detin un 13 pro max sierra 1tb din septembrie ...</td>\n",
              "      <td>80</td>\n",
              "    </tr>\n",
              "  </tbody>\n",
              "</table>\n",
              "</div>"
            ],
            "text/plain": [
              "   label                                     review_content  review_length\n",
              "0      2      WOW! Fără cuvinte… pur și simplu excepțional.              7\n",
              "1      1  Incep prin a spune ca am precomandat telefonul...            173\n",
              "2      2          Sunt extraordinar de mulțumit de telefon.              6\n",
              "3      2  Intradevar este un telefon foarte scump, dar c...             12\n",
              "4      2  Detin un 13 pro max sierra 1tb din septembrie ...             80"
            ]
          },
          "execution_count": 11,
          "metadata": {},
          "output_type": "execute_result"
        }
      ],
      "source": [
        "# sunt mult mai multe review-uri pozitive decat negative si neutre\n",
        "\n",
        "# mai adauga o noua coloana cu numarul de cuvinte pentru recenzii pentru a pastra recenziile cele mai lungi pentru cazul pozitiv\n",
        "reviews['review_length'] = reviews['review_content'].apply(lambda x: len(str(x).split(' ')))\n",
        "reviews.head()"
      ]
    },
    {
      "cell_type": "code",
      "execution_count": null,
      "id": "21b596fb",
      "metadata": {
        "id": "21b596fb"
      },
      "outputs": [],
      "source": [
        "#echilibreaza datele -> sample by the lowest value\n",
        "\n",
        "label_pos = reviews[reviews['label'] == 2]\n",
        "label_pos = label_pos.sort_values(by=['review_length'], ascending=False).head(5375)\n",
        "\n",
        "label_neg = reviews[reviews['label'] == 0]\n",
        "label_neg = label_neg.sort_values(by=['review_length'], ascending=False).head(5375)\n",
        "\n",
        "label_n = reviews[reviews['label'] == 1]\n",
        "\n",
        "label_pos.reset_index(drop=True, inplace=True)\n",
        "label_neg.reset_index(drop=True, inplace=True)\n",
        "label_n.reset_index(drop=True, inplace=True)"
      ]
    },
    {
      "cell_type": "code",
      "execution_count": null,
      "id": "16a26a67",
      "metadata": {
        "id": "16a26a67",
        "outputId": "3ba3a314-5480-47a3-a447-ab2fe41f3f3d"
      },
      "outputs": [
        {
          "name": "stdout",
          "output_type": "stream",
          "text": [
            "<class 'pandas.core.frame.DataFrame'>\n",
            "RangeIndex: 5375 entries, 0 to 5374\n",
            "Data columns (total 3 columns):\n",
            " #   Column          Non-Null Count  Dtype \n",
            "---  ------          --------------  ----- \n",
            " 0   label           5375 non-null   int64 \n",
            " 1   review_content  5375 non-null   object\n",
            " 2   review_length   5375 non-null   int64 \n",
            "dtypes: int64(2), object(1)\n",
            "memory usage: 126.1+ KB\n"
          ]
        }
      ],
      "source": [
        "label_n.info()"
      ]
    },
    {
      "cell_type": "code",
      "execution_count": null,
      "id": "76d8e076",
      "metadata": {
        "id": "76d8e076",
        "outputId": "c9051565-4d86-4f53-ffb0-6cbea9860c65"
      },
      "outputs": [
        {
          "data": {
            "text/html": [
              "<div>\n",
              "<style scoped>\n",
              "    .dataframe tbody tr th:only-of-type {\n",
              "        vertical-align: middle;\n",
              "    }\n",
              "\n",
              "    .dataframe tbody tr th {\n",
              "        vertical-align: top;\n",
              "    }\n",
              "\n",
              "    .dataframe thead th {\n",
              "        text-align: right;\n",
              "    }\n",
              "</style>\n",
              "<table border=\"1\" class=\"dataframe\">\n",
              "  <thead>\n",
              "    <tr style=\"text-align: right;\">\n",
              "      <th></th>\n",
              "      <th>label</th>\n",
              "      <th>review_content</th>\n",
              "      <th>review_length</th>\n",
              "    </tr>\n",
              "  </thead>\n",
              "  <tbody>\n",
              "    <tr>\n",
              "      <th>0</th>\n",
              "      <td>2</td>\n",
              "      <td>Acest telefon m-a impresionat profund si mi-a ...</td>\n",
              "      <td>1818</td>\n",
              "    </tr>\n",
              "    <tr>\n",
              "      <th>1</th>\n",
              "      <td>2</td>\n",
              "      <td>Sunt la primul telefon OnePlus și mă declar pl...</td>\n",
              "      <td>1549</td>\n",
              "    </tr>\n",
              "    <tr>\n",
              "      <th>2</th>\n",
              "      <td>2</td>\n",
              "      <td>Salutare!\\n \\n Dețin telefonul de câteva zile,...</td>\n",
              "      <td>1380</td>\n",
              "    </tr>\n",
              "    <tr>\n",
              "      <th>3</th>\n",
              "      <td>2</td>\n",
              "      <td>[AM TRIMIS SPRE APROBARE ACEASTA RECENZIE ACUM...</td>\n",
              "      <td>1255</td>\n",
              "    </tr>\n",
              "    <tr>\n",
              "      <th>4</th>\n",
              "      <td>2</td>\n",
              "      <td>Nu l-am achizitionat prin eMag, asa ca nu apar...</td>\n",
              "      <td>1168</td>\n",
              "    </tr>\n",
              "    <tr>\n",
              "      <th>...</th>\n",
              "      <td>...</td>\n",
              "      <td>...</td>\n",
              "      <td>...</td>\n",
              "    </tr>\n",
              "    <tr>\n",
              "      <th>5370</th>\n",
              "      <td>1</td>\n",
              "      <td>Il am de o saptamana si se misca super bine, v...</td>\n",
              "      <td>58</td>\n",
              "    </tr>\n",
              "    <tr>\n",
              "      <th>5371</th>\n",
              "      <td>1</td>\n",
              "      <td>Mai ales ca am prins si 10% reducere, raport c...</td>\n",
              "      <td>164</td>\n",
              "    </tr>\n",
              "    <tr>\n",
              "      <th>5372</th>\n",
              "      <td>1</td>\n",
              "      <td>M am saturat sa car caramizi in buzunar, l am ...</td>\n",
              "      <td>76</td>\n",
              "    </tr>\n",
              "    <tr>\n",
              "      <th>5373</th>\n",
              "      <td>1</td>\n",
              "      <td>Ok bun pana acuma recomand</td>\n",
              "      <td>6</td>\n",
              "    </tr>\n",
              "    <tr>\n",
              "      <th>5374</th>\n",
              "      <td>1</td>\n",
              "      <td>Livrare promptă. Produs calitate-pret foarte bun.</td>\n",
              "      <td>6</td>\n",
              "    </tr>\n",
              "  </tbody>\n",
              "</table>\n",
              "<p>16125 rows × 3 columns</p>\n",
              "</div>"
            ],
            "text/plain": [
              "      label                                     review_content  review_length\n",
              "0         2  Acest telefon m-a impresionat profund si mi-a ...           1818\n",
              "1         2  Sunt la primul telefon OnePlus și mă declar pl...           1549\n",
              "2         2  Salutare!\\n \\n Dețin telefonul de câteva zile,...           1380\n",
              "3         2  [AM TRIMIS SPRE APROBARE ACEASTA RECENZIE ACUM...           1255\n",
              "4         2  Nu l-am achizitionat prin eMag, asa ca nu apar...           1168\n",
              "...     ...                                                ...            ...\n",
              "5370      1  Il am de o saptamana si se misca super bine, v...             58\n",
              "5371      1  Mai ales ca am prins si 10% reducere, raport c...            164\n",
              "5372      1  M am saturat sa car caramizi in buzunar, l am ...             76\n",
              "5373      1                        Ok bun pana acuma recomand               6\n",
              "5374      1  Livrare promptă. Produs calitate-pret foarte bun.              6\n",
              "\n",
              "[16125 rows x 3 columns]"
            ]
          },
          "execution_count": 14,
          "metadata": {},
          "output_type": "execute_result"
        }
      ],
      "source": [
        "#salveaza-le separat\n",
        "data = pd.concat([label_pos,label_neg,label_n])\n",
        "data"
      ]
    },
    {
      "cell_type": "code",
      "execution_count": null,
      "id": "d830761c",
      "metadata": {
        "id": "d830761c",
        "outputId": "254e9790-63ec-4704-c049-3dfb7eced6e5"
      },
      "outputs": [
        {
          "data": {
            "text/plain": [
              "<Figure size 800x600 with 0 Axes>"
            ]
          },
          "metadata": {},
          "output_type": "display_data"
        },
        {
          "data": {
            "image/png": "[encoded data removed]",
            "text/plain": [
              "<Figure size 640x480 with 1 Axes>"
            ]
          },
          "metadata": {},
          "output_type": "display_data"
        }
      ],
      "source": [
        "fig = plt.figure(figsize=(8,6))\n",
        "data[['label','review_content']].groupby('label').count().plot.bar(ylim=0)\n",
        "plt.show()"
      ]
    },
    {
      "cell_type": "code",
      "execution_count": null,
      "id": "94ddc378",
      "metadata": {
        "id": "94ddc378",
        "outputId": "37fddd99-e165-42ac-b7c4-93a3beaf6ffd"
      },
      "outputs": [
        {
          "name": "stderr",
          "output_type": "stream",
          "text": [
            "D:\\anaconda3\\envs\\Tensorflow\\lib\\site-packages\\bs4\\__init__.py:439: MarkupResemblesLocatorWarning: The input looks more like a filename than markup. You may want to open this file and pass the filehandle into Beautiful Soup.\n",
            "  MarkupResemblesLocatorWarning\n"
          ]
        },
        {
          "data": {
            "text/html": [
              "<div>\n",
              "<style scoped>\n",
              "    .dataframe tbody tr th:only-of-type {\n",
              "        vertical-align: middle;\n",
              "    }\n",
              "\n",
              "    .dataframe tbody tr th {\n",
              "        vertical-align: top;\n",
              "    }\n",
              "\n",
              "    .dataframe thead th {\n",
              "        text-align: right;\n",
              "    }\n",
              "</style>\n",
              "<table border=\"1\" class=\"dataframe\">\n",
              "  <thead>\n",
              "    <tr style=\"text-align: right;\">\n",
              "      <th></th>\n",
              "      <th>label</th>\n",
              "      <th>review_content</th>\n",
              "    </tr>\n",
              "  </thead>\n",
              "  <tbody>\n",
              "    <tr>\n",
              "      <th>0</th>\n",
              "      <td>2</td>\n",
              "      <td>Tine bateria lejer  zi intreaga cu decenta din...</td>\n",
              "    </tr>\n",
              "    <tr>\n",
              "      <th>1</th>\n",
              "      <td>2</td>\n",
              "      <td>Telefonul ofera foarte mult pentru pretul sau ...</td>\n",
              "    </tr>\n",
              "    <tr>\n",
              "      <th>2</th>\n",
              "      <td>0</td>\n",
              "      <td>Dupa doua luni deja merge ca un tractor acei  ...</td>\n",
              "    </tr>\n",
              "    <tr>\n",
              "      <th>3</th>\n",
              "      <td>2</td>\n",
              "      <td>Despre livrare a fost ok a ajuns exact in timp...</td>\n",
              "    </tr>\n",
              "    <tr>\n",
              "      <th>4</th>\n",
              "      <td>2</td>\n",
              "      <td>Scriu acest review la  luni de la achizitie si...</td>\n",
              "    </tr>\n",
              "    <tr>\n",
              "      <th>...</th>\n",
              "      <td>...</td>\n",
              "      <td>...</td>\n",
              "    </tr>\n",
              "    <tr>\n",
              "      <th>16120</th>\n",
              "      <td>1</td>\n",
              "      <td>Dupa  saptamani incarcarea wireless nu mai mer...</td>\n",
              "    </tr>\n",
              "    <tr>\n",
              "      <th>16121</th>\n",
              "      <td>2</td>\n",
              "      <td>Telefon foarte bun pentru prețul acesta  aplic...</td>\n",
              "    </tr>\n",
              "    <tr>\n",
              "      <th>16122</th>\n",
              "      <td>0</td>\n",
              "      <td>Nu este compatibil cu toate retelele de telefo...</td>\n",
              "    </tr>\n",
              "    <tr>\n",
              "      <th>16123</th>\n",
              "      <td>0</td>\n",
              "      <td>Nu e normal cred eu sa nu stim ca amco bulgari...</td>\n",
              "    </tr>\n",
              "    <tr>\n",
              "      <th>16124</th>\n",
              "      <td>0</td>\n",
              "      <td>Camera bunaa bateria nu prea tine dar incarca ...</td>\n",
              "    </tr>\n",
              "  </tbody>\n",
              "</table>\n",
              "<p>16125 rows × 2 columns</p>\n",
              "</div>"
            ],
            "text/plain": [
              "       label                                     review_content\n",
              "0          2  Tine bateria lejer  zi intreaga cu decenta din...\n",
              "1          2  Telefonul ofera foarte mult pentru pretul sau ...\n",
              "2          0  Dupa doua luni deja merge ca un tractor acei  ...\n",
              "3          2  Despre livrare a fost ok a ajuns exact in timp...\n",
              "4          2  Scriu acest review la  luni de la achizitie si...\n",
              "...      ...                                                ...\n",
              "16120      1  Dupa  saptamani incarcarea wireless nu mai mer...\n",
              "16121      2  Telefon foarte bun pentru prețul acesta  aplic...\n",
              "16122      0  Nu este compatibil cu toate retelele de telefo...\n",
              "16123      0  Nu e normal cred eu sa nu stim ca amco bulgari...\n",
              "16124      0  Camera bunaa bateria nu prea tine dar incarca ...\n",
              "\n",
              "[16125 rows x 2 columns]"
            ]
          },
          "execution_count": 16,
          "metadata": {},
          "output_type": "execute_result"
        }
      ],
      "source": [
        "# pentru word2vec preantrenat -> elimin doar tag-urile, paranteze, numere, caractere extra si punctuatie\n",
        "'''\n",
        "data.drop(columns=['review_length'], axis='columns', inplace=True)\n",
        "#capitalize\n",
        "data['review_content'] = data['review_content'].apply(lambda x: x.capitalize())\n",
        "#remove tags\n",
        "data['review_content'] = data['review_content'].apply(lambda x: remove_tags(x))\n",
        "#remove brackets\n",
        "data['review_content'] = data['review_content'].apply(lambda x: remove_between_square_brackets(x))\n",
        "#remove punctuation\n",
        "data['review_content'] = data['review_content'].apply(lambda x: remove_punctuation(x))\n",
        "#remove numbers\n",
        "data['review_content'] = data['review_content'].apply(lambda x: remove_numbers(x))\n",
        "#remove extra characters\n",
        "data['review_content'] = data['review_content'].apply(lambda x: remove_extra_chars(x))\n",
        "###### shuffle the data\n",
        "data = shuffle(data)\n",
        "data.reset_index(drop=True, inplace=True)\n",
        "data.to_csv('Data/CleanDataset_for_PretrainedWord2Vec.csv')\n",
        "data\n",
        "'''\n"
      ]
    },
    {
      "cell_type": "code",
      "execution_count": null,
      "id": "aca98020",
      "metadata": {
        "scrolled": true,
        "id": "aca98020",
        "outputId": "022ef794-cd03-463d-f354-905753afc0e9"
      },
      "outputs": [
        {
          "data": {
            "text/html": [
              "<div>\n",
              "<style scoped>\n",
              "    .dataframe tbody tr th:only-of-type {\n",
              "        vertical-align: middle;\n",
              "    }\n",
              "\n",
              "    .dataframe tbody tr th {\n",
              "        vertical-align: top;\n",
              "    }\n",
              "\n",
              "    .dataframe thead th {\n",
              "        text-align: right;\n",
              "    }\n",
              "</style>\n",
              "<table border=\"1\" class=\"dataframe\">\n",
              "  <thead>\n",
              "    <tr style=\"text-align: right;\">\n",
              "      <th></th>\n",
              "      <th>label</th>\n",
              "      <th>review_content</th>\n",
              "      <th>review_length</th>\n",
              "    </tr>\n",
              "  </thead>\n",
              "  <tbody>\n",
              "    <tr>\n",
              "      <th>0</th>\n",
              "      <td>2</td>\n",
              "      <td>acest telefon m-a impresionat profund si mi-a ...</td>\n",
              "      <td>1818</td>\n",
              "    </tr>\n",
              "    <tr>\n",
              "      <th>1</th>\n",
              "      <td>2</td>\n",
              "      <td>sunt la primul telefon oneplus și mă declar pl...</td>\n",
              "      <td>1549</td>\n",
              "    </tr>\n",
              "    <tr>\n",
              "      <th>2</th>\n",
              "      <td>2</td>\n",
              "      <td>salutare! dețin telefonul de câteva zile, timp...</td>\n",
              "      <td>1380</td>\n",
              "    </tr>\n",
              "    <tr>\n",
              "      <th>3</th>\n",
              "      <td>2</td>\n",
              "      <td>[am trimis spre aprobare aceasta recenzie acum...</td>\n",
              "      <td>1255</td>\n",
              "    </tr>\n",
              "    <tr>\n",
              "      <th>4</th>\n",
              "      <td>2</td>\n",
              "      <td>nu l-am achizitionat prin emag, asa ca nu apar...</td>\n",
              "      <td>1168</td>\n",
              "    </tr>\n",
              "  </tbody>\n",
              "</table>\n",
              "</div>"
            ],
            "text/plain": [
              "   label                                     review_content  review_length\n",
              "0      2  acest telefon m-a impresionat profund si mi-a ...           1818\n",
              "1      2  sunt la primul telefon oneplus și mă declar pl...           1549\n",
              "2      2  salutare! dețin telefonul de câteva zile, timp...           1380\n",
              "3      2  [am trimis spre aprobare aceasta recenzie acum...           1255\n",
              "4      2  nu l-am achizitionat prin emag, asa ca nu apar...           1168"
            ]
          },
          "execution_count": 14,
          "metadata": {},
          "output_type": "execute_result"
        }
      ],
      "source": [
        "#lowercase\n",
        "data['review_content'] = data['review_content'].apply(lambda x: lowercase_text(x))\n",
        "data.head()"
      ]
    },
    {
      "cell_type": "code",
      "execution_count": null,
      "id": "37995b65",
      "metadata": {
        "id": "37995b65",
        "outputId": "4809f2d9-799e-4a27-cedf-9ebb946a4e16"
      },
      "outputs": [
        {
          "data": {
            "text/html": [
              "<div>\n",
              "<style scoped>\n",
              "    .dataframe tbody tr th:only-of-type {\n",
              "        vertical-align: middle;\n",
              "    }\n",
              "\n",
              "    .dataframe tbody tr th {\n",
              "        vertical-align: top;\n",
              "    }\n",
              "\n",
              "    .dataframe thead th {\n",
              "        text-align: right;\n",
              "    }\n",
              "</style>\n",
              "<table border=\"1\" class=\"dataframe\">\n",
              "  <thead>\n",
              "    <tr style=\"text-align: right;\">\n",
              "      <th></th>\n",
              "      <th>label</th>\n",
              "      <th>review_content</th>\n",
              "      <th>review_length</th>\n",
              "    </tr>\n",
              "  </thead>\n",
              "  <tbody>\n",
              "    <tr>\n",
              "      <th>0</th>\n",
              "      <td>2</td>\n",
              "      <td>acest telefon m-a impresionat profund si mi-a ...</td>\n",
              "      <td>1818</td>\n",
              "    </tr>\n",
              "    <tr>\n",
              "      <th>1</th>\n",
              "      <td>2</td>\n",
              "      <td>sunt la primul telefon oneplus și mă declar pl...</td>\n",
              "      <td>1549</td>\n",
              "    </tr>\n",
              "    <tr>\n",
              "      <th>2</th>\n",
              "      <td>2</td>\n",
              "      <td>salutare! dețin telefonul de câteva zile, timp...</td>\n",
              "      <td>1380</td>\n",
              "    </tr>\n",
              "    <tr>\n",
              "      <th>3</th>\n",
              "      <td>2</td>\n",
              "      <td>[am trimis spre aprobare aceasta recenzie acum...</td>\n",
              "      <td>1255</td>\n",
              "    </tr>\n",
              "    <tr>\n",
              "      <th>4</th>\n",
              "      <td>2</td>\n",
              "      <td>nu l-am achizitionat prin emag, asa ca nu apar...</td>\n",
              "      <td>1168</td>\n",
              "    </tr>\n",
              "  </tbody>\n",
              "</table>\n",
              "</div>"
            ],
            "text/plain": [
              "   label                                     review_content  review_length\n",
              "0      2  acest telefon m-a impresionat profund si mi-a ...           1818\n",
              "1      2  sunt la primul telefon oneplus și mă declar pl...           1549\n",
              "2      2  salutare! dețin telefonul de câteva zile, timp...           1380\n",
              "3      2  [am trimis spre aprobare aceasta recenzie acum...           1255\n",
              "4      2  nu l-am achizitionat prin emag, asa ca nu apar...           1168"
            ]
          },
          "execution_count": 15,
          "metadata": {},
          "output_type": "execute_result"
        }
      ],
      "source": [
        "#sterge tags\n",
        "data['review_content'] = data['review_content'].apply(lambda x: remove_tags(x))\n",
        "data.head()"
      ]
    },
    {
      "cell_type": "code",
      "execution_count": null,
      "id": "1d7b970f",
      "metadata": {
        "id": "1d7b970f",
        "outputId": "3dba9a39-fcfa-42b5-f1bc-92ea13af7fab"
      },
      "outputs": [
        {
          "data": {
            "text/html": [
              "<div>\n",
              "<style scoped>\n",
              "    .dataframe tbody tr th:only-of-type {\n",
              "        vertical-align: middle;\n",
              "    }\n",
              "\n",
              "    .dataframe tbody tr th {\n",
              "        vertical-align: top;\n",
              "    }\n",
              "\n",
              "    .dataframe thead th {\n",
              "        text-align: right;\n",
              "    }\n",
              "</style>\n",
              "<table border=\"1\" class=\"dataframe\">\n",
              "  <thead>\n",
              "    <tr style=\"text-align: right;\">\n",
              "      <th></th>\n",
              "      <th>label</th>\n",
              "      <th>review_content</th>\n",
              "      <th>review_length</th>\n",
              "    </tr>\n",
              "  </thead>\n",
              "  <tbody>\n",
              "    <tr>\n",
              "      <th>0</th>\n",
              "      <td>2</td>\n",
              "      <td>acest telefon m a impresionat profund si mi a ...</td>\n",
              "      <td>1818</td>\n",
              "    </tr>\n",
              "    <tr>\n",
              "      <th>1</th>\n",
              "      <td>2</td>\n",
              "      <td>sunt la primul telefon oneplus și mă declar pl...</td>\n",
              "      <td>1549</td>\n",
              "    </tr>\n",
              "    <tr>\n",
              "      <th>2</th>\n",
              "      <td>2</td>\n",
              "      <td>salutare dețin telefonul de câteva zile timp s...</td>\n",
              "      <td>1380</td>\n",
              "    </tr>\n",
              "    <tr>\n",
              "      <th>3</th>\n",
              "      <td>2</td>\n",
              "      <td>am trimis spre aprobare aceasta recenzie acum...</td>\n",
              "      <td>1255</td>\n",
              "    </tr>\n",
              "    <tr>\n",
              "      <th>4</th>\n",
              "      <td>2</td>\n",
              "      <td>nu l am achizitionat prin emag asa ca nu apare...</td>\n",
              "      <td>1168</td>\n",
              "    </tr>\n",
              "  </tbody>\n",
              "</table>\n",
              "</div>"
            ],
            "text/plain": [
              "   label                                     review_content  review_length\n",
              "0      2  acest telefon m a impresionat profund si mi a ...           1818\n",
              "1      2  sunt la primul telefon oneplus și mă declar pl...           1549\n",
              "2      2  salutare dețin telefonul de câteva zile timp s...           1380\n",
              "3      2   am trimis spre aprobare aceasta recenzie acum...           1255\n",
              "4      2  nu l am achizitionat prin emag asa ca nu apare...           1168"
            ]
          },
          "execution_count": 16,
          "metadata": {},
          "output_type": "execute_result"
        }
      ],
      "source": [
        "#sterge punctuatie\n",
        "data['review_content'] = data['review_content'].apply(lambda x: remove_punctuation(x))\n",
        "data.head()"
      ]
    },
    {
      "cell_type": "code",
      "execution_count": null,
      "id": "6fbb1993",
      "metadata": {
        "id": "6fbb1993"
      },
      "outputs": [],
      "source": [
        "#sterge paranteze\n",
        "data['review_content'] = data['review_content'].apply(lambda x: remove_between_square_brackets(x))"
      ]
    },
    {
      "cell_type": "code",
      "execution_count": null,
      "id": "fa040f5a",
      "metadata": {
        "id": "fa040f5a",
        "outputId": "1ed11c18-fb39-4aef-9fa6-c1f344cdf244"
      },
      "outputs": [
        {
          "data": {
            "text/html": [
              "<div>\n",
              "<style scoped>\n",
              "    .dataframe tbody tr th:only-of-type {\n",
              "        vertical-align: middle;\n",
              "    }\n",
              "\n",
              "    .dataframe tbody tr th {\n",
              "        vertical-align: top;\n",
              "    }\n",
              "\n",
              "    .dataframe thead th {\n",
              "        text-align: right;\n",
              "    }\n",
              "</style>\n",
              "<table border=\"1\" class=\"dataframe\">\n",
              "  <thead>\n",
              "    <tr style=\"text-align: right;\">\n",
              "      <th></th>\n",
              "      <th>label</th>\n",
              "      <th>review_content</th>\n",
              "      <th>review_length</th>\n",
              "    </tr>\n",
              "  </thead>\n",
              "  <tbody>\n",
              "    <tr>\n",
              "      <th>0</th>\n",
              "      <td>2</td>\n",
              "      <td>telefon impresionat profund schimbat parerea h...</td>\n",
              "      <td>1818</td>\n",
              "    </tr>\n",
              "    <tr>\n",
              "      <th>1</th>\n",
              "      <td>2</td>\n",
              "      <td>telefon oneplus declar plăcut impresionat perf...</td>\n",
              "      <td>1549</td>\n",
              "    </tr>\n",
              "    <tr>\n",
              "      <th>2</th>\n",
              "      <td>2</td>\n",
              "      <td>salutare dețin telefonul zile timp suficient f...</td>\n",
              "      <td>1380</td>\n",
              "    </tr>\n",
              "    <tr>\n",
              "      <th>3</th>\n",
              "      <td>2</td>\n",
              "      <td>trimis aprobare recenzie acum cateva zile pres...</td>\n",
              "      <td>1255</td>\n",
              "    </tr>\n",
              "    <tr>\n",
              "      <th>4</th>\n",
              "      <td>2</td>\n",
              "      <td>nu l achizitionat emag nu apare achizitie veri...</td>\n",
              "      <td>1168</td>\n",
              "    </tr>\n",
              "  </tbody>\n",
              "</table>\n",
              "</div>"
            ],
            "text/plain": [
              "   label                                     review_content  review_length\n",
              "0      2  telefon impresionat profund schimbat parerea h...           1818\n",
              "1      2  telefon oneplus declar plăcut impresionat perf...           1549\n",
              "2      2  salutare dețin telefonul zile timp suficient f...           1380\n",
              "3      2  trimis aprobare recenzie acum cateva zile pres...           1255\n",
              "4      2  nu l achizitionat emag nu apare achizitie veri...           1168"
            ]
          },
          "execution_count": 18,
          "metadata": {},
          "output_type": "execute_result"
        }
      ],
      "source": [
        "#sterge stopwords\n",
        "data['review_content'] = data['review_content'].apply(lambda x: remove_stopwords(x))\n",
        "data.head()"
      ]
    },
    {
      "cell_type": "code",
      "execution_count": null,
      "id": "24871570",
      "metadata": {
        "id": "24871570",
        "outputId": "dd19745a-c499-4b60-a1ea-066d17594118"
      },
      "outputs": [
        {
          "data": {
            "text/html": [
              "<div>\n",
              "<style scoped>\n",
              "    .dataframe tbody tr th:only-of-type {\n",
              "        vertical-align: middle;\n",
              "    }\n",
              "\n",
              "    .dataframe tbody tr th {\n",
              "        vertical-align: top;\n",
              "    }\n",
              "\n",
              "    .dataframe thead th {\n",
              "        text-align: right;\n",
              "    }\n",
              "</style>\n",
              "<table border=\"1\" class=\"dataframe\">\n",
              "  <thead>\n",
              "    <tr style=\"text-align: right;\">\n",
              "      <th></th>\n",
              "      <th>label</th>\n",
              "      <th>review_content</th>\n",
              "      <th>review_length</th>\n",
              "    </tr>\n",
              "  </thead>\n",
              "  <tbody>\n",
              "    <tr>\n",
              "      <th>0</th>\n",
              "      <td>2</td>\n",
              "      <td>telefon impresionat profund schimbat parerea h...</td>\n",
              "      <td>1818</td>\n",
              "    </tr>\n",
              "    <tr>\n",
              "      <th>1</th>\n",
              "      <td>2</td>\n",
              "      <td>telefon oneplus declar plăcut impresionat perf...</td>\n",
              "      <td>1549</td>\n",
              "    </tr>\n",
              "    <tr>\n",
              "      <th>2</th>\n",
              "      <td>2</td>\n",
              "      <td>salutare dețin telefonul zile timp suficient f...</td>\n",
              "      <td>1380</td>\n",
              "    </tr>\n",
              "    <tr>\n",
              "      <th>3</th>\n",
              "      <td>2</td>\n",
              "      <td>trimis aprobare recenzie acum cateva zile pres...</td>\n",
              "      <td>1255</td>\n",
              "    </tr>\n",
              "    <tr>\n",
              "      <th>4</th>\n",
              "      <td>2</td>\n",
              "      <td>nu l achizitionat emag nu apare achizitie veri...</td>\n",
              "      <td>1168</td>\n",
              "    </tr>\n",
              "  </tbody>\n",
              "</table>\n",
              "</div>"
            ],
            "text/plain": [
              "   label                                     review_content  review_length\n",
              "0      2  telefon impresionat profund schimbat parerea h...           1818\n",
              "1      2  telefon oneplus declar plăcut impresionat perf...           1549\n",
              "2      2  salutare dețin telefonul zile timp suficient f...           1380\n",
              "3      2  trimis aprobare recenzie acum cateva zile pres...           1255\n",
              "4      2  nu l achizitionat emag nu apare achizitie veri...           1168"
            ]
          },
          "execution_count": 19,
          "metadata": {},
          "output_type": "execute_result"
        }
      ],
      "source": [
        "#sterge numere\n",
        "data['review_content'] = data['review_content'].apply(lambda x: remove_numbers(x))\n",
        "data.head()"
      ]
    },
    {
      "cell_type": "code",
      "execution_count": null,
      "id": "af7394fe",
      "metadata": {
        "id": "af7394fe",
        "outputId": "72b4a65d-e251-4432-b480-b8ef38630f64"
      },
      "outputs": [
        {
          "data": {
            "text/html": [
              "<div>\n",
              "<style scoped>\n",
              "    .dataframe tbody tr th:only-of-type {\n",
              "        vertical-align: middle;\n",
              "    }\n",
              "\n",
              "    .dataframe tbody tr th {\n",
              "        vertical-align: top;\n",
              "    }\n",
              "\n",
              "    .dataframe thead th {\n",
              "        text-align: right;\n",
              "    }\n",
              "</style>\n",
              "<table border=\"1\" class=\"dataframe\">\n",
              "  <thead>\n",
              "    <tr style=\"text-align: right;\">\n",
              "      <th></th>\n",
              "      <th>label</th>\n",
              "      <th>review_content</th>\n",
              "      <th>review_length</th>\n",
              "    </tr>\n",
              "  </thead>\n",
              "  <tbody>\n",
              "    <tr>\n",
              "      <th>0</th>\n",
              "      <td>2</td>\n",
              "      <td>telefon impresionat profund schimbat parerea h...</td>\n",
              "      <td>1818</td>\n",
              "    </tr>\n",
              "    <tr>\n",
              "      <th>1</th>\n",
              "      <td>2</td>\n",
              "      <td>telefon oneplus declar plăcut impresionat perf...</td>\n",
              "      <td>1549</td>\n",
              "    </tr>\n",
              "    <tr>\n",
              "      <th>2</th>\n",
              "      <td>2</td>\n",
              "      <td>salutare dețin telefonul zile timp suficient f...</td>\n",
              "      <td>1380</td>\n",
              "    </tr>\n",
              "    <tr>\n",
              "      <th>3</th>\n",
              "      <td>2</td>\n",
              "      <td>trimis aprobare recenzie acum cateva zile pres...</td>\n",
              "      <td>1255</td>\n",
              "    </tr>\n",
              "    <tr>\n",
              "      <th>4</th>\n",
              "      <td>2</td>\n",
              "      <td>nu achizitionat emag nu apare achizitie verifi...</td>\n",
              "      <td>1168</td>\n",
              "    </tr>\n",
              "  </tbody>\n",
              "</table>\n",
              "</div>"
            ],
            "text/plain": [
              "   label                                     review_content  review_length\n",
              "0      2  telefon impresionat profund schimbat parerea h...           1818\n",
              "1      2  telefon oneplus declar plăcut impresionat perf...           1549\n",
              "2      2  salutare dețin telefonul zile timp suficient f...           1380\n",
              "3      2  trimis aprobare recenzie acum cateva zile pres...           1255\n",
              "4      2  nu achizitionat emag nu apare achizitie verifi...           1168"
            ]
          },
          "execution_count": 20,
          "metadata": {},
          "output_type": "execute_result"
        }
      ],
      "source": [
        "#sterge caractere singure\n",
        "data['review_content'] = data['review_content'].apply(lambda x: remove_single_letter(x))\n",
        "data.head()"
      ]
    },
    {
      "cell_type": "code",
      "execution_count": null,
      "id": "9d3f9125",
      "metadata": {
        "id": "9d3f9125",
        "outputId": "0e66ccf9-725e-4779-9d32-7e4c4ec21819"
      },
      "outputs": [
        {
          "data": {
            "text/html": [
              "<div>\n",
              "<style scoped>\n",
              "    .dataframe tbody tr th:only-of-type {\n",
              "        vertical-align: middle;\n",
              "    }\n",
              "\n",
              "    .dataframe tbody tr th {\n",
              "        vertical-align: top;\n",
              "    }\n",
              "\n",
              "    .dataframe thead th {\n",
              "        text-align: right;\n",
              "    }\n",
              "</style>\n",
              "<table border=\"1\" class=\"dataframe\">\n",
              "  <thead>\n",
              "    <tr style=\"text-align: right;\">\n",
              "      <th></th>\n",
              "      <th>label</th>\n",
              "      <th>review_content</th>\n",
              "      <th>review_length</th>\n",
              "    </tr>\n",
              "  </thead>\n",
              "  <tbody>\n",
              "    <tr>\n",
              "      <th>0</th>\n",
              "      <td>2</td>\n",
              "      <td>telefon impresionat profund schimbat parerea h...</td>\n",
              "      <td>1818</td>\n",
              "    </tr>\n",
              "    <tr>\n",
              "      <th>1</th>\n",
              "      <td>2</td>\n",
              "      <td>telefon oneplus declar placut impresionat perf...</td>\n",
              "      <td>1549</td>\n",
              "    </tr>\n",
              "    <tr>\n",
              "      <th>2</th>\n",
              "      <td>2</td>\n",
              "      <td>salutare detin telefonul zile timp suficient f...</td>\n",
              "      <td>1380</td>\n",
              "    </tr>\n",
              "    <tr>\n",
              "      <th>3</th>\n",
              "      <td>2</td>\n",
              "      <td>trimis aprobare recenzie acum cateva zile pres...</td>\n",
              "      <td>1255</td>\n",
              "    </tr>\n",
              "    <tr>\n",
              "      <th>4</th>\n",
              "      <td>2</td>\n",
              "      <td>nu achizitionat emag nu apare achizitie verifi...</td>\n",
              "      <td>1168</td>\n",
              "    </tr>\n",
              "  </tbody>\n",
              "</table>\n",
              "</div>"
            ],
            "text/plain": [
              "   label                                     review_content  review_length\n",
              "0      2  telefon impresionat profund schimbat parerea h...           1818\n",
              "1      2  telefon oneplus declar placut impresionat perf...           1549\n",
              "2      2  salutare detin telefonul zile timp suficient f...           1380\n",
              "3      2  trimis aprobare recenzie acum cateva zile pres...           1255\n",
              "4      2  nu achizitionat emag nu apare achizitie verifi...           1168"
            ]
          },
          "execution_count": 21,
          "metadata": {},
          "output_type": "execute_result"
        }
      ],
      "source": [
        "#inlocuieste diacritice\n",
        "data['review_content'] = data['review_content'].apply(lambda x: remove_accents(x))\n",
        "data.head()"
      ]
    },
    {
      "cell_type": "code",
      "execution_count": null,
      "id": "415f10bd",
      "metadata": {
        "id": "415f10bd",
        "outputId": "24c70188-d6b5-4c82-9ace-7f53743cdbd5"
      },
      "outputs": [
        {
          "data": {
            "text/html": [
              "<div>\n",
              "<style scoped>\n",
              "    .dataframe tbody tr th:only-of-type {\n",
              "        vertical-align: middle;\n",
              "    }\n",
              "\n",
              "    .dataframe tbody tr th {\n",
              "        vertical-align: top;\n",
              "    }\n",
              "\n",
              "    .dataframe thead th {\n",
              "        text-align: right;\n",
              "    }\n",
              "</style>\n",
              "<table border=\"1\" class=\"dataframe\">\n",
              "  <thead>\n",
              "    <tr style=\"text-align: right;\">\n",
              "      <th></th>\n",
              "      <th>label</th>\n",
              "      <th>review_content</th>\n",
              "      <th>review_length</th>\n",
              "    </tr>\n",
              "  </thead>\n",
              "  <tbody>\n",
              "    <tr>\n",
              "      <th>0</th>\n",
              "      <td>2</td>\n",
              "      <td>telefon impresionat profund schimbat parerea h...</td>\n",
              "      <td>1818</td>\n",
              "    </tr>\n",
              "    <tr>\n",
              "      <th>1</th>\n",
              "      <td>2</td>\n",
              "      <td>telefon oneplus declar placut impresionat perf...</td>\n",
              "      <td>1549</td>\n",
              "    </tr>\n",
              "    <tr>\n",
              "      <th>2</th>\n",
              "      <td>2</td>\n",
              "      <td>salutare detin telefonul zile timp suficient f...</td>\n",
              "      <td>1380</td>\n",
              "    </tr>\n",
              "    <tr>\n",
              "      <th>3</th>\n",
              "      <td>2</td>\n",
              "      <td>trimis aprobare recenzie acum cateva zile pres...</td>\n",
              "      <td>1255</td>\n",
              "    </tr>\n",
              "    <tr>\n",
              "      <th>4</th>\n",
              "      <td>2</td>\n",
              "      <td>nu achizitionat emag nu apare achizitie verifi...</td>\n",
              "      <td>1168</td>\n",
              "    </tr>\n",
              "  </tbody>\n",
              "</table>\n",
              "</div>"
            ],
            "text/plain": [
              "   label                                     review_content  review_length\n",
              "0      2  telefon impresionat profund schimbat parerea h...           1818\n",
              "1      2  telefon oneplus declar placut impresionat perf...           1549\n",
              "2      2  salutare detin telefonul zile timp suficient f...           1380\n",
              "3      2  trimis aprobare recenzie acum cateva zile pres...           1255\n",
              "4      2  nu achizitionat emag nu apare achizitie verifi...           1168"
            ]
          },
          "execution_count": 22,
          "metadata": {},
          "output_type": "execute_result"
        }
      ],
      "source": [
        "'''#remove special characters\n",
        "data['review_content'] = data['review_content'].apply(lambda x: remove_special_characters(x))\n",
        "data.head()'''"
      ]
    },
    {
      "cell_type": "code",
      "execution_count": null,
      "id": "4730ba3d",
      "metadata": {
        "id": "4730ba3d",
        "outputId": "97165fbd-0f25-4fb0-d4e5-b3abf7878c18"
      },
      "outputs": [
        {
          "data": {
            "text/html": [
              "<div>\n",
              "<style scoped>\n",
              "    .dataframe tbody tr th:only-of-type {\n",
              "        vertical-align: middle;\n",
              "    }\n",
              "\n",
              "    .dataframe tbody tr th {\n",
              "        vertical-align: top;\n",
              "    }\n",
              "\n",
              "    .dataframe thead th {\n",
              "        text-align: right;\n",
              "    }\n",
              "</style>\n",
              "<table border=\"1\" class=\"dataframe\">\n",
              "  <thead>\n",
              "    <tr style=\"text-align: right;\">\n",
              "      <th></th>\n",
              "      <th>label</th>\n",
              "      <th>review_content</th>\n",
              "      <th>review_length</th>\n",
              "    </tr>\n",
              "  </thead>\n",
              "  <tbody>\n",
              "    <tr>\n",
              "      <th>0</th>\n",
              "      <td>2</td>\n",
              "      <td>telefon impresionat profund schimbat parerea h...</td>\n",
              "      <td>1818</td>\n",
              "    </tr>\n",
              "    <tr>\n",
              "      <th>1</th>\n",
              "      <td>2</td>\n",
              "      <td>telefon oneplus declar plăcut impresionat perf...</td>\n",
              "      <td>1549</td>\n",
              "    </tr>\n",
              "    <tr>\n",
              "      <th>2</th>\n",
              "      <td>2</td>\n",
              "      <td>salutare dețin telefonul zile timp suficient f...</td>\n",
              "      <td>1380</td>\n",
              "    </tr>\n",
              "    <tr>\n",
              "      <th>3</th>\n",
              "      <td>2</td>\n",
              "      <td>trimis aprobare recenzie acum cateva zile pres...</td>\n",
              "      <td>1255</td>\n",
              "    </tr>\n",
              "    <tr>\n",
              "      <th>4</th>\n",
              "      <td>2</td>\n",
              "      <td>nu achizitionat emag nu apare achizitie verifi...</td>\n",
              "      <td>1168</td>\n",
              "    </tr>\n",
              "  </tbody>\n",
              "</table>\n",
              "</div>"
            ],
            "text/plain": [
              "   label                                     review_content  review_length\n",
              "0      2  telefon impresionat profund schimbat parerea h...           1818\n",
              "1      2  telefon oneplus declar plăcut impresionat perf...           1549\n",
              "2      2  salutare dețin telefonul zile timp suficient f...           1380\n",
              "3      2  trimis aprobare recenzie acum cateva zile pres...           1255\n",
              "4      2  nu achizitionat emag nu apare achizitie verifi...           1168"
            ]
          },
          "execution_count": 21,
          "metadata": {},
          "output_type": "execute_result"
        }
      ],
      "source": [
        "#sterge literele in plus din cuvinte\n",
        "data['review_content'] = data['review_content'].apply(lambda x: remove_extra_chars(x))\n",
        "data.head()"
      ]
    },
    {
      "cell_type": "code",
      "execution_count": null,
      "id": "962904ea",
      "metadata": {
        "id": "962904ea",
        "outputId": "b52a101c-8ae4-4705-95e5-d018b84db35c"
      },
      "outputs": [
        {
          "data": {
            "text/html": [
              "<div>\n",
              "<style scoped>\n",
              "    .dataframe tbody tr th:only-of-type {\n",
              "        vertical-align: middle;\n",
              "    }\n",
              "\n",
              "    .dataframe tbody tr th {\n",
              "        vertical-align: top;\n",
              "    }\n",
              "\n",
              "    .dataframe thead th {\n",
              "        text-align: right;\n",
              "    }\n",
              "</style>\n",
              "<table border=\"1\" class=\"dataframe\">\n",
              "  <thead>\n",
              "    <tr style=\"text-align: right;\">\n",
              "      <th></th>\n",
              "      <th>label</th>\n",
              "      <th>review_content</th>\n",
              "      <th>review_length</th>\n",
              "    </tr>\n",
              "  </thead>\n",
              "  <tbody>\n",
              "    <tr>\n",
              "      <th>0</th>\n",
              "      <td>2</td>\n",
              "      <td>telefon impresion profund schimbat parer huawe...</td>\n",
              "      <td>1818</td>\n",
              "    </tr>\n",
              "    <tr>\n",
              "      <th>1</th>\n",
              "      <td>2</td>\n",
              "      <td>telefon oneplus declar plăcut impresion perfor...</td>\n",
              "      <td>1549</td>\n",
              "    </tr>\n",
              "    <tr>\n",
              "      <th>2</th>\n",
              "      <td>2</td>\n",
              "      <td>salut dețin telefon zil timp suficient form pr...</td>\n",
              "      <td>1380</td>\n",
              "    </tr>\n",
              "    <tr>\n",
              "      <th>3</th>\n",
              "      <td>2</td>\n",
              "      <td>trimis aprob recenz acum catev zil presupun nu...</td>\n",
              "      <td>1255</td>\n",
              "    </tr>\n",
              "    <tr>\n",
              "      <th>4</th>\n",
              "      <td>2</td>\n",
              "      <td>nu achizition emag nu apar achizit verific fol...</td>\n",
              "      <td>1168</td>\n",
              "    </tr>\n",
              "  </tbody>\n",
              "</table>\n",
              "</div>"
            ],
            "text/plain": [
              "   label                                     review_content  review_length\n",
              "0      2  telefon impresion profund schimbat parer huawe...           1818\n",
              "1      2  telefon oneplus declar plăcut impresion perfor...           1549\n",
              "2      2  salut dețin telefon zil timp suficient form pr...           1380\n",
              "3      2  trimis aprob recenz acum catev zil presupun nu...           1255\n",
              "4      2  nu achizition emag nu apar achizit verific fol...           1168"
            ]
          },
          "execution_count": 22,
          "metadata": {},
          "output_type": "execute_result"
        }
      ],
      "source": [
        "# Tokenizare + Stemming \n",
        "data['review_content'] = data['review_content'].apply(lambda x: nltk.word_tokenize(x))\n",
        "data['review_content'] = data['review_content'].apply(lambda x: [stemmer.stem(y) for y in x])\n",
        "#inapoi la propozitii intregi\n",
        "data['review_content'] = data['review_content'].apply(lambda x: \" \".join(x))\n",
        "data.head()"
      ]
    },
    {
      "cell_type": "code",
      "execution_count": null,
      "id": "1e303a52",
      "metadata": {
        "id": "1e303a52"
      },
      "outputs": [],
      "source": [
        "data.drop(columns=['review_length'], axis='columns', inplace=True)"
      ]
    },
    {
      "cell_type": "code",
      "execution_count": null,
      "id": "610309ff",
      "metadata": {
        "id": "610309ff",
        "outputId": "91391a5f-b9b4-4db9-f564-b77203cc5fbc"
      },
      "outputs": [
        {
          "data": {
            "text/html": [
              "<div>\n",
              "<style scoped>\n",
              "    .dataframe tbody tr th:only-of-type {\n",
              "        vertical-align: middle;\n",
              "    }\n",
              "\n",
              "    .dataframe tbody tr th {\n",
              "        vertical-align: top;\n",
              "    }\n",
              "\n",
              "    .dataframe thead th {\n",
              "        text-align: right;\n",
              "    }\n",
              "</style>\n",
              "<table border=\"1\" class=\"dataframe\">\n",
              "  <thead>\n",
              "    <tr style=\"text-align: right;\">\n",
              "      <th></th>\n",
              "      <th>label</th>\n",
              "      <th>review_content</th>\n",
              "    </tr>\n",
              "  </thead>\n",
              "  <tbody>\n",
              "    <tr>\n",
              "      <th>0</th>\n",
              "      <td>2</td>\n",
              "      <td>Acest telefon nu numai ca e foarte arătos și f...</td>\n",
              "    </tr>\n",
              "    <tr>\n",
              "      <th>1</th>\n",
              "      <td>0</td>\n",
              "      <td>Telefonul este Top, însă nu are Google Play și...</td>\n",
              "    </tr>\n",
              "    <tr>\n",
              "      <th>2</th>\n",
              "      <td>0</td>\n",
              "      <td>Deci e oribil fraților... Merge foarte greu, s...</td>\n",
              "    </tr>\n",
              "    <tr>\n",
              "      <th>3</th>\n",
              "      <td>1</td>\n",
              "      <td>Performante modeste, sunet slab, in vodafone n...</td>\n",
              "    </tr>\n",
              "    <tr>\n",
              "      <th>4</th>\n",
              "      <td>0</td>\n",
              "      <td>Senzor proximitate cu probleme. La ureche, in ...</td>\n",
              "    </tr>\n",
              "    <tr>\n",
              "      <th>...</th>\n",
              "      <td>...</td>\n",
              "      <td>...</td>\n",
              "    </tr>\n",
              "    <tr>\n",
              "      <th>16120</th>\n",
              "      <td>1</td>\n",
              "      <td>Ecranul putea sa aiba o calitate mai buna. Are...</td>\n",
              "    </tr>\n",
              "    <tr>\n",
              "      <th>16121</th>\n",
              "      <td>1</td>\n",
              "      <td>Un telefon foarte bun nu am avut pic de lag.. ...</td>\n",
              "    </tr>\n",
              "    <tr>\n",
              "      <th>16122</th>\n",
              "      <td>2</td>\n",
              "      <td>Excelent! Bateria ține sesizabil mai mult decâ...</td>\n",
              "    </tr>\n",
              "    <tr>\n",
              "      <th>16123</th>\n",
              "      <td>1</td>\n",
              "      <td>Un telefon bun, raportat la preț. Recomand</td>\n",
              "    </tr>\n",
              "    <tr>\n",
              "      <th>16124</th>\n",
              "      <td>1</td>\n",
              "      <td>Am acest telefon de aproape 2 săptămâni și sun...</td>\n",
              "    </tr>\n",
              "  </tbody>\n",
              "</table>\n",
              "<p>16125 rows × 2 columns</p>\n",
              "</div>"
            ],
            "text/plain": [
              "       label                                     review_content\n",
              "0          2  Acest telefon nu numai ca e foarte arătos și f...\n",
              "1          0  Telefonul este Top, însă nu are Google Play și...\n",
              "2          0  Deci e oribil fraților... Merge foarte greu, s...\n",
              "3          1  Performante modeste, sunet slab, in vodafone n...\n",
              "4          0  Senzor proximitate cu probleme. La ureche, in ...\n",
              "...      ...                                                ...\n",
              "16120      1  Ecranul putea sa aiba o calitate mai buna. Are...\n",
              "16121      1  Un telefon foarte bun nu am avut pic de lag.. ...\n",
              "16122      2  Excelent! Bateria ține sesizabil mai mult decâ...\n",
              "16123      1         Un telefon bun, raportat la preț. Recomand\n",
              "16124      1  Am acest telefon de aproape 2 săptămâni și sun...\n",
              "\n",
              "[16125 rows x 2 columns]"
            ]
          },
          "execution_count": 40,
          "metadata": {},
          "output_type": "execute_result"
        }
      ],
      "source": [
        "###### shuffle the data\n",
        "data = shuffle(data)\n",
        "data.reset_index(drop=True, inplace=True)\n",
        "data"
      ]
    },
    {
      "cell_type": "code",
      "execution_count": null,
      "id": "6509e70c",
      "metadata": {
        "id": "6509e70c"
      },
      "outputs": [],
      "source": [
        "data.to_csv('Data/Dataset.csv')"
      ]
    },
    {
      "cell_type": "code",
      "execution_count": null,
      "id": "395d8480",
      "metadata": {
        "id": "395d8480",
        "outputId": "78d2c704-53ba-4c2f-9f6f-7ce7dad1b1f3"
      },
      "outputs": [
        {
          "data": {
            "text/plain": [
              "label             False\n",
              "review_content    False\n",
              "dtype: bool"
            ]
          },
          "execution_count": 42,
          "metadata": {},
          "output_type": "execute_result"
        }
      ],
      "source": [
        "data.isna().any()"
      ]
    },
    {
      "cell_type": "code",
      "execution_count": null,
      "id": "1633d477",
      "metadata": {
        "id": "1633d477"
      },
      "outputs": [],
      "source": []
    }
  ],
  "metadata": {
    "kernelspec": {
      "display_name": "Python 3 (ipykernel)",
      "language": "python",
      "name": "python3"
    },
    "language_info": {
      "codemirror_mode": {
        "name": "ipython",
        "version": 3
      },
      "file_extension": ".py",
      "mimetype": "text/x-python",
      "name": "python",
      "nbconvert_exporter": "python",
      "pygments_lexer": "ipython3",
      "version": "3.7.13"
    },
    "colab": {
      "provenance": [],
      "include_colab_link": true
    }
  },
  "nbformat": 4,
  "nbformat_minor": 5
}