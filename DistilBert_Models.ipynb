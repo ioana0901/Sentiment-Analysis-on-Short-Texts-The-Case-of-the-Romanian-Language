{
  "cells": [
    {
      "cell_type": "markdown",
      "metadata": {
        "id": "view-in-github",
        "colab_type": "text"
      },
      "source": [
        "<a href=\"https://colab.research.google.com/github/ioana0901/Sentiment-Analysis-on-Short-Texts-The-Case-of-the-Romanian-Language/blob/main/DistilBert_Models.ipynb\" target=\"_parent\"><img src=\"https://colab.research.google.com/assets/colab-badge.svg\" alt=\"Open In Colab\"/></a>"
      ]
    },
    {
      "cell_type": "code",
      "source": [
        "!pip install import_ipynb\n",
        "!pip install transformers\n"
      ],
      "metadata": {
        "id": "qsbKAMZLe45e"
      },
      "id": "qsbKAMZLe45e",
      "execution_count": null,
      "outputs": []
    },
    {
      "cell_type": "code",
      "source": [
        "from google.colab import drive\n",
        "drive.mount('/content/drive')\n",
        "%cd \"/content/drive/MyDrive/Analiza sentimentelor umane a textelor din Limba Română\""
      ],
      "metadata": {
        "colab": {
          "base_uri": "https://localhost:8080/"
        },
        "id": "osREH_U-e4zg",
        "outputId": "d2ec6845-a5ef-44b4-fe2b-45b7b1c03b3a"
      },
      "id": "osREH_U-e4zg",
      "execution_count": 1,
      "outputs": [
        {
          "output_type": "stream",
          "name": "stdout",
          "text": [
            "Mounted at /content/drive\n",
            "/content/drive/MyDrive/Analiza sentimentelor umane a textelor din Limba Română\n"
          ]
        }
      ]
    },
    {
      "cell_type": "code",
      "execution_count": 4,
      "id": "2f3507aa",
      "metadata": {
        "colab": {
          "base_uri": "https://localhost:8080/"
        },
        "id": "2f3507aa",
        "outputId": "b4e6f4f9-10ab-4d42-85f9-07210f161d56"
      },
      "outputs": [
        {
          "output_type": "stream",
          "name": "stdout",
          "text": [
            "importing Jupyter notebook from FunctionsList.ipynb\n"
          ]
        },
        {
          "output_type": "stream",
          "name": "stderr",
          "text": [
            "[nltk_data] Downloading package stopwords to /root/nltk_data...\n",
            "[nltk_data]   Unzipping corpora/stopwords.zip.\n",
            "[nltk_data] Downloading package punkt to /root/nltk_data...\n",
            "[nltk_data]   Unzipping tokenizers/punkt.zip.\n"
          ]
        }
      ],
      "source": [
        "import import_ipynb\n",
        "from FunctionsList import *\n",
        "import pandas as pd\n",
        "import numpy as np\n",
        "import random\n",
        "import gensim\n",
        "import tensorflow as tf\n",
        "from tensorflow.keras.utils import to_categorical\n",
        "\n",
        "from sklearn import metrics\n",
        "from sklearn.metrics import classification_report, confusion_matrix, accuracy_score, roc_curve, roc_auc_score\n",
        "from sklearn.model_selection import train_test_split\n",
        "\n",
        "from keras import Model\n",
        "from keras.preprocessing.text import Tokenizer\n",
        "from keras import regularizers, callbacks\n",
        "from keras_preprocessing.sequence import pad_sequences\n",
        "from keras.models import Sequential\n",
        "from tensorflow.keras.optimizers import RMSprop, Adam\n",
        "from keras.initializers import GlorotNormal\n",
        "from keras.layers import Dense, Dropout, Input\n",
        "\n",
        "from transformers import AutoTokenizer, AutoModel, DistilBertTokenizerFast, TFDistilBertModel, DistilBertConfig,AdamW\n",
        "import torch\n",
        "import torch.nn as nn"
      ]
    },
    {
      "cell_type": "code",
      "execution_count": 5,
      "id": "0e256926",
      "metadata": {
        "colab": {
          "base_uri": "https://localhost:8080/",
          "height": 206
        },
        "id": "0e256926",
        "outputId": "359c8efa-14b5-4ff0-b59a-3d7a72b60345"
      },
      "outputs": [
        {
          "output_type": "execute_result",
          "data": {
            "text/plain": [
              "   label                                     review_content\n",
              "0      1  incarcator românia adaptor cutie trebuie mamei...\n",
              "1      0  probleme mari semnalul luni achizitionare afis...\n",
              "2      1    telefon destul ok având vedere android go lejer\n",
              "3      2  utilizator iphone incepand upgrade iphone ok n...\n",
              "4      2  cumparat varianta gb gb ram culoare gri nu fol..."
            ],
            "text/html": [
              "\n",
              "  <div id=\"df-7b2622cc-7c40-4eab-8319-914daefccebd\">\n",
              "    <div class=\"colab-df-container\">\n",
              "      <div>\n",
              "<style scoped>\n",
              "    .dataframe tbody tr th:only-of-type {\n",
              "        vertical-align: middle;\n",
              "    }\n",
              "\n",
              "    .dataframe tbody tr th {\n",
              "        vertical-align: top;\n",
              "    }\n",
              "\n",
              "    .dataframe thead th {\n",
              "        text-align: right;\n",
              "    }\n",
              "</style>\n",
              "<table border=\"1\" class=\"dataframe\">\n",
              "  <thead>\n",
              "    <tr style=\"text-align: right;\">\n",
              "      <th></th>\n",
              "      <th>label</th>\n",
              "      <th>review_content</th>\n",
              "    </tr>\n",
              "  </thead>\n",
              "  <tbody>\n",
              "    <tr>\n",
              "      <th>0</th>\n",
              "      <td>1</td>\n",
              "      <td>incarcator românia adaptor cutie trebuie mamei...</td>\n",
              "    </tr>\n",
              "    <tr>\n",
              "      <th>1</th>\n",
              "      <td>0</td>\n",
              "      <td>probleme mari semnalul luni achizitionare afis...</td>\n",
              "    </tr>\n",
              "    <tr>\n",
              "      <th>2</th>\n",
              "      <td>1</td>\n",
              "      <td>telefon destul ok având vedere android go lejer</td>\n",
              "    </tr>\n",
              "    <tr>\n",
              "      <th>3</th>\n",
              "      <td>2</td>\n",
              "      <td>utilizator iphone incepand upgrade iphone ok n...</td>\n",
              "    </tr>\n",
              "    <tr>\n",
              "      <th>4</th>\n",
              "      <td>2</td>\n",
              "      <td>cumparat varianta gb gb ram culoare gri nu fol...</td>\n",
              "    </tr>\n",
              "  </tbody>\n",
              "</table>\n",
              "</div>\n",
              "      <button class=\"colab-df-convert\" onclick=\"convertToInteractive('df-7b2622cc-7c40-4eab-8319-914daefccebd')\"\n",
              "              title=\"Convert this dataframe to an interactive table.\"\n",
              "              style=\"display:none;\">\n",
              "        \n",
              "  <svg xmlns=\"http://www.w3.org/2000/svg\" height=\"24px\"viewBox=\"0 0 24 24\"\n",
              "       width=\"24px\">\n",
              "    <path d=\"M0 0h24v24H0V0z\" fill=\"none\"/>\n",
              "    <path d=\"M18.56 5.44l.94 2.06.94-2.06 2.06-.94-2.06-.94-.94-2.06-.94 2.06-2.06.94zm-11 1L8.5 8.5l.94-2.06 2.06-.94-2.06-.94L8.5 2.5l-.94 2.06-2.06.94zm10 10l.94 2.06.94-2.06 2.06-.94-2.06-.94-.94-2.06-.94 2.06-2.06.94z\"/><path d=\"M17.41 7.96l-1.37-1.37c-.4-.4-.92-.59-1.43-.59-.52 0-1.04.2-1.43.59L10.3 9.45l-7.72 7.72c-.78.78-.78 2.05 0 2.83L4 21.41c.39.39.9.59 1.41.59.51 0 1.02-.2 1.41-.59l7.78-7.78 2.81-2.81c.8-.78.8-2.07 0-2.86zM5.41 20L4 18.59l7.72-7.72 1.47 1.35L5.41 20z\"/>\n",
              "  </svg>\n",
              "      </button>\n",
              "      \n",
              "  <style>\n",
              "    .colab-df-container {\n",
              "      display:flex;\n",
              "      flex-wrap:wrap;\n",
              "      gap: 12px;\n",
              "    }\n",
              "\n",
              "    .colab-df-convert {\n",
              "      background-color: #E8F0FE;\n",
              "      border: none;\n",
              "      border-radius: 50%;\n",
              "      cursor: pointer;\n",
              "      display: none;\n",
              "      fill: #1967D2;\n",
              "      height: 32px;\n",
              "      padding: 0 0 0 0;\n",
              "      width: 32px;\n",
              "    }\n",
              "\n",
              "    .colab-df-convert:hover {\n",
              "      background-color: #E2EBFA;\n",
              "      box-shadow: 0px 1px 2px rgba(60, 64, 67, 0.3), 0px 1px 3px 1px rgba(60, 64, 67, 0.15);\n",
              "      fill: #174EA6;\n",
              "    }\n",
              "\n",
              "    [theme=dark] .colab-df-convert {\n",
              "      background-color: #3B4455;\n",
              "      fill: #D2E3FC;\n",
              "    }\n",
              "\n",
              "    [theme=dark] .colab-df-convert:hover {\n",
              "      background-color: #434B5C;\n",
              "      box-shadow: 0px 1px 3px 1px rgba(0, 0, 0, 0.15);\n",
              "      filter: drop-shadow(0px 1px 2px rgba(0, 0, 0, 0.3));\n",
              "      fill: #FFFFFF;\n",
              "    }\n",
              "  </style>\n",
              "\n",
              "      <script>\n",
              "        const buttonEl =\n",
              "          document.querySelector('#df-7b2622cc-7c40-4eab-8319-914daefccebd button.colab-df-convert');\n",
              "        buttonEl.style.display =\n",
              "          google.colab.kernel.accessAllowed ? 'block' : 'none';\n",
              "\n",
              "        async function convertToInteractive(key) {\n",
              "          const element = document.querySelector('#df-7b2622cc-7c40-4eab-8319-914daefccebd');\n",
              "          const dataTable =\n",
              "            await google.colab.kernel.invokeFunction('convertToInteractive',\n",
              "                                                     [key], {});\n",
              "          if (!dataTable) return;\n",
              "\n",
              "          const docLinkHtml = 'Like what you see? Visit the ' +\n",
              "            '<a target=\"_blank\" href=https://colab.research.google.com/notebooks/data_table.ipynb>data table notebook</a>'\n",
              "            + ' to learn more about interactive tables.';\n",
              "          element.innerHTML = '';\n",
              "          dataTable['output_type'] = 'display_data';\n",
              "          await google.colab.output.renderOutput(dataTable, element);\n",
              "          const docLink = document.createElement('div');\n",
              "          docLink.innerHTML = docLinkHtml;\n",
              "          element.appendChild(docLink);\n",
              "        }\n",
              "      </script>\n",
              "    </div>\n",
              "  </div>\n",
              "  "
            ]
          },
          "metadata": {},
          "execution_count": 5
        }
      ],
      "source": [
        "#import data:\n",
        "data = pd.read_csv('Data/CleanDataset_3Classes_NoStemming_Accents.csv')\n",
        "#sterge prima coloana\n",
        "data = data.iloc[: , 1:]\n",
        "data.head()"
      ]
    },
    {
      "cell_type": "markdown",
      "id": "9912b79e",
      "metadata": {
        "id": "9912b79e"
      },
      "source": [
        "### Impartirea setului de date"
      ]
    },
    {
      "cell_type": "code",
      "execution_count": 6,
      "id": "1060c363",
      "metadata": {
        "id": "1060c363"
      },
      "outputs": [],
      "source": [
        "# imparte setul de date: 80% - 20% \n",
        "contents = data['review_content']\n",
        "labels = data['label']\n",
        "x_train, x_test, y_train, y_test = train_test_split(contents, labels, train_size=0.8, random_state=42)\n",
        "x_train, x_val, y_train, y_val = train_test_split(x_train, y_train, train_size=0.85, random_state=42)"
      ]
    },
    {
      "cell_type": "code",
      "execution_count": 7,
      "id": "d6433b4f",
      "metadata": {
        "colab": {
          "base_uri": "https://localhost:8080/"
        },
        "id": "d6433b4f",
        "outputId": "8c3bd215-9fff-41c1-a700-7fedc7ee6456"
      },
      "outputs": [
        {
          "output_type": "stream",
          "name": "stdout",
          "text": [
            "y_train.shape: (10965, 3)\n",
            "y_test.shape : (3225, 3)\n",
            "y_val.shape : (1935, 3)\n"
          ]
        }
      ],
      "source": [
        "#one-hot encode labels\n",
        "y_train = to_categorical(y_train, num_classes=3)\n",
        "y_test = to_categorical(y_test, num_classes=3)\n",
        "y_val = to_categorical(y_val, num_classes=3)\n",
        "\n",
        "print(\"y_train.shape:\", y_train.shape)\n",
        "print(\"y_test.shape :\", y_test.shape)\n",
        "print(\"y_val.shape :\", y_val.shape)"
      ]
    },
    {
      "cell_type": "markdown",
      "id": "0134071e",
      "metadata": {
        "id": "0134071e"
      },
      "source": [
        "### Tokenizare"
      ]
    },
    {
      "cell_type": "code",
      "execution_count": 8,
      "id": "c73ee383",
      "metadata": {
        "colab": {
          "base_uri": "https://localhost:8080/",
          "height": 145,
          "referenced_widgets": [
            "2dd7e20821744d0eaf3d5c0c6318eab4",
            "97442e6f83964fa0901ec6b02bf5a8e6",
            "9d17eaa3b0dd43eb93f34fca0596bda3",
            "16921e4a514b4005b464a2f4f76925d6",
            "af76a924939f448996a9b63b2a1bfbe4",
            "1c7531a5da6f463098addf402af0636c",
            "cf5190b64cfa4154bfe09845a70de98f",
            "d43b9ce33f234529b3d60cd383b110ba",
            "d4c8b38f961c48748bcc5d4e203dcc8f",
            "22233dbd6bac49638413aa4b0c506365",
            "6381f432ac2644bb80717de87ffa7b5a",
            "da8a7bcad33645c8b7a4cecfdfa665a0",
            "f8c1fe5fe01d456a8d20f920eb8f2c67",
            "91fa2bfe2b8e4d8fa850d84d5d6872f1",
            "c12892a016fa42fca88b345e6e762696",
            "846c4fd20b814583a31f2e86eb532053",
            "0bdea9a18be743fba1ca74d8715609a5",
            "02ed2b1099a94df792d28588f42ce83e",
            "af430076317b44968f1300ca011fcc25",
            "abf48dae95ba4c42a67d4e31fd2c020a",
            "38a12bb9ef7c4cd5b060ceb081edfb67",
            "582c233e3e2d4559b677e048b8700e8e",
            "d6da02db53ce43c6a11590d551d39798",
            "dfea6c5aa3994db8900beb8182889cb0",
            "1a03e420d092408ca746c4c4b8259065",
            "f1f1a98281a14ea3b7b052ff89f34659",
            "7adbe5cd463e4879803d964b13977345",
            "10394a5ee8dc45c2b40bcd95e65bcd96",
            "179b2560f1994498a07fa9564f2ee3e9",
            "673890e235b24d60948ab14ec120aa57",
            "868a4912637f46a79420ad70b41af683",
            "5271ea8770584638b3f49fbf270a79b9",
            "0ae883aebbeb474cae1e5c19ef37ebf9",
            "df1883ecc5ad4d0d8b8daf2ef1c9f608",
            "3646f6e64e82453ba6a4183547bc2e67",
            "075bfd8dc1504bdfa2fb679b1bd7aa1a",
            "a020907c7aaf4560affe4d2266cf6f93",
            "b75b6c73e98f4481b95d65b60d83fb2b",
            "be8bfc7c80e940489e7e96083192494d",
            "bd0409655f3f440e87a669589e68de51",
            "1cc64ad0e1cc4fe2b5f190d793b1f76f",
            "1dedfd1d04df427ab84c1c852db6cb3e",
            "e1d039e94520414fa65053ed58f7071e",
            "8a3f80116a4f4b7ba4f3cdc1f80505f8"
          ]
        },
        "id": "c73ee383",
        "outputId": "8c32f62f-8d8d-43c6-bf89-4dbdfd1d759a"
      },
      "outputs": [
        {
          "output_type": "display_data",
          "data": {
            "text/plain": [
              "Downloading:   0%|          | 0.00/341 [00:00<?, ?B/s]"
            ],
            "application/vnd.jupyter.widget-view+json": {
              "version_major": 2,
              "version_minor": 0,
              "model_id": "2dd7e20821744d0eaf3d5c0c6318eab4"
            }
          },
          "metadata": {}
        },
        {
          "output_type": "display_data",
          "data": {
            "text/plain": [
              "Downloading:   0%|          | 0.00/245k [00:00<?, ?B/s]"
            ],
            "application/vnd.jupyter.widget-view+json": {
              "version_major": 2,
              "version_minor": 0,
              "model_id": "da8a7bcad33645c8b7a4cecfdfa665a0"
            }
          },
          "metadata": {}
        },
        {
          "output_type": "display_data",
          "data": {
            "text/plain": [
              "Downloading:   0%|          | 0.00/112 [00:00<?, ?B/s]"
            ],
            "application/vnd.jupyter.widget-view+json": {
              "version_major": 2,
              "version_minor": 0,
              "model_id": "d6da02db53ce43c6a11590d551d39798"
            }
          },
          "metadata": {}
        },
        {
          "output_type": "display_data",
          "data": {
            "text/plain": [
              "Downloading:   0%|          | 0.00/419 [00:00<?, ?B/s]"
            ],
            "application/vnd.jupyter.widget-view+json": {
              "version_major": 2,
              "version_minor": 0,
              "model_id": "df1883ecc5ad4d0d8b8daf2ef1c9f608"
            }
          },
          "metadata": {}
        }
      ],
      "source": [
        "# incarcarea tokenizer-ului\n",
        "model_name = \"racai/distilbert-base-romanian-uncased\"\n",
        "tokenizer = DistilBertTokenizerFast.from_pretrained(model_name)"
      ]
    },
    {
      "cell_type": "code",
      "execution_count": 9,
      "id": "14ebca76",
      "metadata": {
        "colab": {
          "base_uri": "https://localhost:8080/",
          "height": 282
        },
        "id": "14ebca76",
        "outputId": "ce226a3e-2b2f-4b8a-94fa-eb837dbc3f8d"
      },
      "outputs": [
        {
          "output_type": "execute_result",
          "data": {
            "text/plain": [
              "<matplotlib.axes._subplots.AxesSubplot at 0x7ff81c16da50>"
            ]
          },
          "metadata": {},
          "execution_count": 9
        },
        {
          "output_type": "display_data",
          "data": {
            "text/plain": [
              "<Figure size 432x288 with 1 Axes>"
            ],
            "image/png": "[encoded data removed]"
          },
          "metadata": {
            "needs_background": "light"
          }
        }
      ],
      "source": [
        "# vezi lungimile textelor\n",
        "seq_len = [len(i.split()) for i in x_train]\n",
        "pd.Series(seq_len).hist(bins = 10)"
      ]
    },
    {
      "cell_type": "code",
      "execution_count": 10,
      "id": "022bb759",
      "metadata": {
        "id": "022bb759"
      },
      "outputs": [],
      "source": [
        "#codifica datele in loturi - ia tokenizer, texts, batch_size, maxlen => returneaza input_ids si attention_mask\n",
        "maxlen= 300\n",
        "\n",
        "def batch_encode(tokenizer, texts, batch_size=256, max_length=maxlen):    \n",
        "    input_ids = []\n",
        "    attention_mask = []\n",
        "    for i in range(0, len(texts), batch_size):\n",
        "        batch = texts[i:i+batch_size]\n",
        "        inputs = tokenizer.batch_encode_plus(batch,\n",
        "                                             max_length=maxlen,\n",
        "                                             padding='max_length', \n",
        "                                             truncation=True,\n",
        "                                             return_attention_mask=True,\n",
        "                                             return_token_type_ids=False)\n",
        "        input_ids.extend(inputs['input_ids'])\n",
        "        attention_mask.extend(inputs['attention_mask'])\n",
        "   # return tf.stack(input_ids), tf.stack(attention_mask)\n",
        "    return tf.convert_to_tensor(input_ids), tf.convert_to_tensor(attention_mask)\n",
        "\n",
        "#encode:\n",
        "x_train_ids, x_train_attention = batch_encode(tokenizer, x_train.tolist())\n",
        "x_val_ids, x_val_attention = batch_encode(tokenizer, x_val.tolist())\n",
        "x_test_ids, x_test_attention = batch_encode(tokenizer, x_test.tolist())"
      ]
    },
    {
      "cell_type": "code",
      "execution_count": 11,
      "id": "0e1e689f",
      "metadata": {
        "colab": {
          "base_uri": "https://localhost:8080/"
        },
        "id": "0e1e689f",
        "outputId": "64c2e200-eb92-4098-fffd-ec71c15be483"
      },
      "outputs": [
        {
          "output_type": "execute_result",
          "data": {
            "text/plain": [
              "tensorflow.python.framework.ops.EagerTensor"
            ]
          },
          "metadata": {},
          "execution_count": 11
        }
      ],
      "source": [
        "type(x_train_attention)"
      ]
    },
    {
      "cell_type": "markdown",
      "id": "5d89f69e",
      "metadata": {
        "id": "5d89f69e"
      },
      "source": [
        "### Incarcarea  modelului pre-antrenat distilBERT si crearea modelului"
      ]
    },
    {
      "cell_type": "code",
      "execution_count": 12,
      "id": "ac5ffab3",
      "metadata": {
        "colab": {
          "base_uri": "https://localhost:8080/",
          "height": 118,
          "referenced_widgets": [
            "9ee466050bef4fe8ae6295fe7bd03f7c",
            "0770c2aa999840819614ca592b5e9e4b",
            "14f772129f1b4134b855e35b84bd80eb",
            "199b879c3fcd4411ae109ab606e13bd0",
            "35c893e66ccf4b81a53643d08d26130a",
            "e9ccf6217dfd466587f3bf1825182949",
            "0b8d173257ef4ea4b263ba743cbb341b",
            "cee5d279ef43488f9493ca26c2fb7df1",
            "09c243b5248c4cb88a54ae8f1c7b182f",
            "3940a2f8a301477a926e7645d89b1dd5",
            "e3369e8ac1b444afb41ecadbdaec2a9d"
          ]
        },
        "id": "ac5ffab3",
        "outputId": "39d09157-d25d-43e8-b857-281e3e4e91b6"
      },
      "outputs": [
        {
          "output_type": "display_data",
          "data": {
            "text/plain": [
              "Downloading:   0%|          | 0.00/288M [00:00<?, ?B/s]"
            ],
            "application/vnd.jupyter.widget-view+json": {
              "version_major": 2,
              "version_minor": 0,
              "model_id": "9ee466050bef4fe8ae6295fe7bd03f7c"
            }
          },
          "metadata": {}
        },
        {
          "output_type": "stream",
          "name": "stderr",
          "text": [
            "All model checkpoint layers were used when initializing TFDistilBertModel.\n",
            "\n",
            "All the layers of TFDistilBertModel were initialized from the model checkpoint at racai/distilbert-base-romanian-uncased.\n",
            "If your task is similar to the task the model of the checkpoint was trained on, you can already use TFDistilBertModel for predictions without further training.\n"
          ]
        }
      ],
      "source": [
        "#defineste modelul\n",
        "from transformers import TFDistilBertModel, DistilBertConfig\n",
        "\n",
        "dropout = 0.2\n",
        "attention_dropout = 0.2\n",
        " \n",
        "# configuratia modelului initiala\n",
        "config = DistilBertConfig(dropout=dropout, \n",
        "                          attention_dropout=attention_dropout,\n",
        "                          output_hidden_states=True)\n",
        "                          \n",
        "# modelul fara cap de clasificare \n",
        "distilBERT = TFDistilBertModel.from_pretrained(model_name,config,output_attentions=True)\n",
        "\n",
        "# seteaza trainable pe False pentru a opri antrenarea - pentru ca ponderile preinstruite ale DistilBERT vor servi ca baza pentru model\n",
        "# dorim sa le conservam si sa impiedicam actualizarea lor in timpul etapelor initiale de instruire\n",
        "for layer in distilBERT.layers:\n",
        "    layer.trainable = False\n",
        "    \n",
        "#mai ramane de adaugat capul de clasificare in timpul procesului de ajustare pentru a ajuta modelul sa faca distinctia intre recenzii.\n"
      ]
    },
    {
      "cell_type": "code",
      "execution_count": 13,
      "id": "6a0909f2",
      "metadata": {
        "id": "6a0909f2"
      },
      "outputs": [],
      "source": [
        "# adauga capul de clasificare\n",
        "dropout = 0.2\n",
        "random_state = 42\n",
        " \n",
        "def build_model(transformer, lr, max_length=maxlen): #ia transformatorul initializa (modelul distilbert) si maxlen(max tokens encoded) \n",
        "                                                    # => returneaza modelul cu stratul de clasificare    \n",
        "    #pentru reproductibilitate\n",
        "    weight_initializer = GlorotNormal(seed=random_state) \n",
        "\n",
        "    #straturile de intrare\n",
        "    input_ids_layer = Input(shape=(max_length,),\n",
        "                            name='input_ids',\n",
        "                            dtype='int32')\n",
        "    input_attention_layer = Input(shape=(max_length,),\n",
        "                                  name='input_attention',\n",
        "                                  dtype='int32')\n",
        "    \n",
        "    # DistilBERT produce o tupla in care primul element de la indicele 0 - reprezintă starea ascunsa (hidden state) la iesirea din ultimul strat al modelului.\n",
        "    # Este un tensor de forma (batch_size, sequence_length, hidden_size=768).\n",
        "    last_hidden_state = transformer([input_ids_layer, input_attention_layer])[0]\n",
        "    \n",
        "    # ne intereseaza doar rezultatul DistilBERT pentru simbolul [CLS], \n",
        "    # care se afla la indexul 0 al fiecarei secvente codificate.  \n",
        "    cls_token = last_hidden_state[:, 0, :]\n",
        "    \n",
        "    output = Dense(3,activation='softmax',\n",
        "                   kernel_initializer=weight_initializer,\n",
        "                   bias_initializer='zeros')(cls_token)\n",
        "\n",
        "    # definirea modelului\n",
        "    model = Model([input_ids_layer, input_attention_layer], output)\n",
        "    # compilare\n",
        "    model.compile(Adam(learning_rate=lr), #distilbert-ro-used values\n",
        "                  loss='categorical_crossentropy',\n",
        "                  metrics=['acc'])\n",
        "    \n",
        "    return model"
      ]
    },
    {
      "cell_type": "code",
      "execution_count": 14,
      "id": "b63c3fd5",
      "metadata": {
        "colab": {
          "base_uri": "https://localhost:8080/"
        },
        "id": "b63c3fd5",
        "outputId": "11c08689-b3aa-43ba-a9d4-45161a038d3b"
      },
      "outputs": [
        {
          "output_type": "execute_result",
          "data": {
            "text/plain": [
              "TensorShape([10965, 300])"
            ]
          },
          "metadata": {},
          "execution_count": 14
        }
      ],
      "source": [
        "x_train_ids.shape"
      ]
    },
    {
      "cell_type": "code",
      "source": [
        "tf.keras.utils.plot_model(bmodel, show_shapes=True, dpi=48)"
      ],
      "metadata": {
        "id": "4q7kij-ChzjT"
      },
      "id": "4q7kij-ChzjT",
      "execution_count": null,
      "outputs": []
    },
    {
      "cell_type": "code",
      "source": [
        "bmodel.summary()"
      ],
      "metadata": {
        "id": "tSbubHHKhBhL"
      },
      "id": "tSbubHHKhBhL",
      "execution_count": null,
      "outputs": []
    },
    {
      "cell_type": "code",
      "execution_count": 20,
      "id": "8eef73d4",
      "metadata": {
        "collapsed": true,
        "colab": {
          "base_uri": "https://localhost:8080/"
        },
        "id": "8eef73d4",
        "outputId": "faa20fe5-f0ac-42b4-ab75-e07767d46d62"
      },
      "outputs": [
        {
          "output_type": "stream",
          "name": "stdout",
          "text": [
            "Epoch 1/25\n",
            "685/685 [==============================] - 165s 231ms/step - loss: 1.1099 - acc: 0.4807 - val_loss: 0.9519 - val_acc: 0.5871\n",
            "Epoch 2/25\n",
            "685/685 [==============================] - 153s 224ms/step - loss: 0.9164 - acc: 0.5983 - val_loss: 0.8921 - val_acc: 0.6134\n",
            "Epoch 3/25\n",
            "685/685 [==============================] - 153s 224ms/step - loss: 0.8706 - acc: 0.6233 - val_loss: 0.8592 - val_acc: 0.6362\n",
            "Epoch 4/25\n",
            "685/685 [==============================] - 153s 223ms/step - loss: 0.8429 - acc: 0.6398 - val_loss: 0.8389 - val_acc: 0.6475\n",
            "Epoch 5/25\n",
            "685/685 [==============================] - 153s 224ms/step - loss: 0.8240 - acc: 0.6446 - val_loss: 0.8211 - val_acc: 0.6512\n",
            "Epoch 6/25\n",
            "685/685 [==============================] - 153s 224ms/step - loss: 0.8072 - acc: 0.6495 - val_loss: 0.8081 - val_acc: 0.6506\n",
            "Epoch 7/25\n",
            "685/685 [==============================] - 153s 223ms/step - loss: 0.7969 - acc: 0.6531 - val_loss: 0.7974 - val_acc: 0.6589\n",
            "Epoch 8/25\n",
            "685/685 [==============================] - 153s 223ms/step - loss: 0.7885 - acc: 0.6553 - val_loss: 0.7906 - val_acc: 0.6656\n",
            "Epoch 9/25\n",
            "685/685 [==============================] - 152s 222ms/step - loss: 0.7782 - acc: 0.6594 - val_loss: 0.7816 - val_acc: 0.6625\n",
            "Epoch 10/25\n",
            "685/685 [==============================] - 153s 223ms/step - loss: 0.7717 - acc: 0.6610 - val_loss: 0.7783 - val_acc: 0.6703\n",
            "Epoch 11/25\n",
            "685/685 [==============================] - 153s 223ms/step - loss: 0.7666 - acc: 0.6702 - val_loss: 0.7748 - val_acc: 0.6713\n",
            "Epoch 12/25\n",
            "685/685 [==============================] - 153s 223ms/step - loss: 0.7610 - acc: 0.6697 - val_loss: 0.7668 - val_acc: 0.6739\n",
            "Epoch 13/25\n",
            "685/685 [==============================] - 153s 223ms/step - loss: 0.7584 - acc: 0.6707 - val_loss: 0.7688 - val_acc: 0.6610\n",
            "Epoch 14/25\n",
            "685/685 [==============================] - 153s 223ms/step - loss: 0.7514 - acc: 0.6717 - val_loss: 0.7575 - val_acc: 0.6708\n",
            "Epoch 15/25\n",
            "685/685 [==============================] - 153s 224ms/step - loss: 0.7507 - acc: 0.6691 - val_loss: 0.7544 - val_acc: 0.6734\n",
            "Epoch 16/25\n",
            "685/685 [==============================] - 153s 224ms/step - loss: 0.7442 - acc: 0.6761 - val_loss: 0.7509 - val_acc: 0.6744\n",
            "Epoch 17/25\n",
            "685/685 [==============================] - 153s 224ms/step - loss: 0.7426 - acc: 0.6763 - val_loss: 0.7480 - val_acc: 0.6755\n",
            "Epoch 18/25\n",
            "685/685 [==============================] - 153s 224ms/step - loss: 0.7402 - acc: 0.6745 - val_loss: 0.7449 - val_acc: 0.6744\n",
            "Epoch 19/25\n",
            "685/685 [==============================] - 153s 223ms/step - loss: 0.7362 - acc: 0.6778 - val_loss: 0.7426 - val_acc: 0.6729\n",
            "Epoch 20/25\n",
            "685/685 [==============================] - 153s 223ms/step - loss: 0.7328 - acc: 0.6775 - val_loss: 0.7427 - val_acc: 0.6780\n",
            "Epoch 21/25\n",
            "685/685 [==============================] - 153s 224ms/step - loss: 0.7334 - acc: 0.6778 - val_loss: 0.7392 - val_acc: 0.6770\n",
            "Epoch 22/25\n",
            "685/685 [==============================] - 153s 223ms/step - loss: 0.7336 - acc: 0.6776 - val_loss: 0.7380 - val_acc: 0.6760\n",
            "Epoch 23/25\n",
            "685/685 [==============================] - 153s 223ms/step - loss: 0.7294 - acc: 0.6821 - val_loss: 0.7359 - val_acc: 0.6739\n",
            "Epoch 24/25\n",
            "685/685 [==============================] - 153s 223ms/step - loss: 0.7288 - acc: 0.6823 - val_loss: 0.7329 - val_acc: 0.6734\n",
            "Epoch 25/25\n",
            "685/685 [==============================] - 153s 223ms/step - loss: 0.7271 - acc: 0.6823 - val_loss: 0.7347 - val_acc: 0.6780\n"
          ]
        }
      ],
      "source": [
        "# un lr mai mic ar putea crește posibilitatea de a ajunge la overfitting\n",
        "lr=1e-4\n",
        "epochs = 25\n",
        "batch_size = 16\n",
        "steps = len(x_train.index) // batch_size\n",
        "\n",
        "bmodel_1 = build_model(distilBERT, lr)\n",
        "# Train the model\n",
        "history = bmodel_1.fit(x=[x_train_ids, x_train_attention], \n",
        "                     y= y_train,\n",
        "                     epochs = epochs,\n",
        "                     batch_size = batch_size,\n",
        "                     steps_per_epoch = steps,\n",
        "                     validation_data = ([x_val_ids, x_val_attention], y_val))"
      ]
    },
    {
      "cell_type": "code",
      "execution_count": 21,
      "id": "2d8a5537",
      "metadata": {
        "colab": {
          "base_uri": "https://localhost:8080/",
          "height": 545
        },
        "id": "2d8a5537",
        "outputId": "70dcf4dc-5970-4a17-aebc-96e6f1cf8bce"
      },
      "outputs": [
        {
          "output_type": "display_data",
          "data": {
            "text/plain": [
              "<Figure size 432x288 with 1 Axes>"
            ],
            "image/png": "[encoded data removed]"
          },
          "metadata": {
            "needs_background": "light"
          }
        },
        {
          "output_type": "display_data",
          "data": {
            "text/plain": [
              "<Figure size 432x288 with 1 Axes>"
            ],
            "image/png": "[encoded data removed]"
          },
          "metadata": {
            "needs_background": "light"
          }
        }
      ],
      "source": [
        "plot_graphs(history)"
      ]
    },
    {
      "cell_type": "code",
      "execution_count": 22,
      "id": "44b0683b",
      "metadata": {
        "colab": {
          "base_uri": "https://localhost:8080/"
        },
        "id": "44b0683b",
        "outputId": "92397103-7270-4379-eeca-bdd5dfcf11cb"
      },
      "outputs": [
        {
          "output_type": "stream",
          "name": "stdout",
          "text": [
            "101/101 [==============================] - 36s 356ms/step - loss: 0.7300 - acc: 0.6710\n"
          ]
        },
        {
          "output_type": "execute_result",
          "data": {
            "text/plain": [
              "[0.7299665212631226, 0.6710077524185181]"
            ]
          },
          "metadata": {},
          "execution_count": 22
        }
      ],
      "source": [
        "bmodel_1.evaluate([x_test_ids, x_test_attention],y_test)"
      ]
    },
    {
      "cell_type": "code",
      "source": [
        "pred=bmodel_1.predict([x_test_ids, x_test_attention])\n",
        "pred=np.argmax(pred, axis=1)\n",
        "ytest=np.argmax(y_test, axis=1)\n",
        "# reduce to 1d array\n",
        "print(classification_report(pred, ytest, target_names=['neg', 'n', 'pos']))"
      ],
      "metadata": {
        "colab": {
          "base_uri": "https://localhost:8080/"
        },
        "id": "NKNWvJ-Iye7b",
        "outputId": "95ecddaa-9ff0-44c6-9131-25e413e0bd23"
      },
      "id": "NKNWvJ-Iye7b",
      "execution_count": 23,
      "outputs": [
        {
          "output_type": "stream",
          "name": "stdout",
          "text": [
            "101/101 [==============================] - 37s 353ms/step\n",
            "              precision    recall  f1-score   support\n",
            "\n",
            "         neg       0.62      0.69      0.65       937\n",
            "           n       0.61      0.66      0.63      1025\n",
            "         pos       0.79      0.66      0.72      1263\n",
            "\n",
            "    accuracy                           0.67      3225\n",
            "   macro avg       0.67      0.67      0.67      3225\n",
            "weighted avg       0.68      0.67      0.67      3225\n",
            "\n"
          ]
        }
      ]
    },
    {
      "cell_type": "code",
      "execution_count": 24,
      "id": "30ff8236",
      "metadata": {
        "colab": {
          "base_uri": "https://localhost:8080/"
        },
        "id": "30ff8236",
        "outputId": "d70a4a8a-f00a-45de-a7d7-fbb0748b3f80"
      },
      "outputs": [
        {
          "output_type": "stream",
          "name": "stdout",
          "text": [
            "Epoch 1/30\n",
            "685/685 [==============================] - 164s 228ms/step - loss: 1.0831 - acc: 0.4770 - val_loss: 0.9989 - val_acc: 0.5313\n",
            "Epoch 2/30\n",
            "685/685 [==============================] - 153s 224ms/step - loss: 0.9641 - acc: 0.5688 - val_loss: 0.9398 - val_acc: 0.5871\n",
            "Epoch 3/30\n",
            "685/685 [==============================] - 153s 223ms/step - loss: 0.9189 - acc: 0.6019 - val_loss: 0.9047 - val_acc: 0.6062\n",
            "Epoch 4/30\n",
            "685/685 [==============================] - 153s 224ms/step - loss: 0.8897 - acc: 0.6164 - val_loss: 0.8817 - val_acc: 0.6160\n",
            "Epoch 5/30\n",
            "685/685 [==============================] - 153s 224ms/step - loss: 0.8691 - acc: 0.6233 - val_loss: 0.8644 - val_acc: 0.6238\n",
            "Epoch 6/30\n",
            "685/685 [==============================] - 153s 223ms/step - loss: 0.8538 - acc: 0.6328 - val_loss: 0.8509 - val_acc: 0.6357\n",
            "Epoch 7/30\n",
            "685/685 [==============================] - 153s 224ms/step - loss: 0.8418 - acc: 0.6376 - val_loss: 0.8386 - val_acc: 0.6460\n",
            "Epoch 8/30\n",
            "685/685 [==============================] - 153s 223ms/step - loss: 0.8303 - acc: 0.6422 - val_loss: 0.8291 - val_acc: 0.6491\n",
            "Epoch 9/30\n",
            "685/685 [==============================] - 153s 223ms/step - loss: 0.8218 - acc: 0.6428 - val_loss: 0.8203 - val_acc: 0.6491\n",
            "Epoch 10/30\n",
            "685/685 [==============================] - 153s 223ms/step - loss: 0.8132 - acc: 0.6486 - val_loss: 0.8134 - val_acc: 0.6548\n",
            "Epoch 11/30\n",
            "685/685 [==============================] - 153s 224ms/step - loss: 0.8078 - acc: 0.6493 - val_loss: 0.8064 - val_acc: 0.6579\n",
            "Epoch 12/30\n",
            "685/685 [==============================] - 153s 224ms/step - loss: 0.7997 - acc: 0.6571 - val_loss: 0.8007 - val_acc: 0.6579\n",
            "Epoch 13/30\n",
            "685/685 [==============================] - 153s 224ms/step - loss: 0.7938 - acc: 0.6557 - val_loss: 0.7963 - val_acc: 0.6646\n",
            "Epoch 14/30\n",
            "685/685 [==============================] - 153s 223ms/step - loss: 0.7879 - acc: 0.6592 - val_loss: 0.7914 - val_acc: 0.6646\n",
            "Epoch 15/30\n",
            "685/685 [==============================] - 153s 224ms/step - loss: 0.7861 - acc: 0.6613 - val_loss: 0.7862 - val_acc: 0.6656\n",
            "Epoch 16/30\n",
            "685/685 [==============================] - 153s 224ms/step - loss: 0.7812 - acc: 0.6582 - val_loss: 0.7825 - val_acc: 0.6661\n",
            "Epoch 17/30\n",
            "685/685 [==============================] - 153s 223ms/step - loss: 0.7760 - acc: 0.6638 - val_loss: 0.7797 - val_acc: 0.6672\n",
            "Epoch 18/30\n",
            "685/685 [==============================] - 153s 223ms/step - loss: 0.7721 - acc: 0.6648 - val_loss: 0.7756 - val_acc: 0.6749\n",
            "Epoch 19/30\n",
            "685/685 [==============================] - 153s 224ms/step - loss: 0.7740 - acc: 0.6637 - val_loss: 0.7728 - val_acc: 0.6698\n",
            "Epoch 20/30\n",
            "685/685 [==============================] - 153s 224ms/step - loss: 0.7652 - acc: 0.6645 - val_loss: 0.7698 - val_acc: 0.6703\n",
            "Epoch 21/30\n",
            "685/685 [==============================] - 153s 224ms/step - loss: 0.7622 - acc: 0.6693 - val_loss: 0.7669 - val_acc: 0.6693\n",
            "Epoch 22/30\n",
            "685/685 [==============================] - 153s 224ms/step - loss: 0.7628 - acc: 0.6658 - val_loss: 0.7641 - val_acc: 0.6734\n",
            "Epoch 23/30\n",
            "685/685 [==============================] - 153s 223ms/step - loss: 0.7572 - acc: 0.6708 - val_loss: 0.7618 - val_acc: 0.6734\n",
            "Epoch 24/30\n",
            "685/685 [==============================] - 153s 224ms/step - loss: 0.7583 - acc: 0.6674 - val_loss: 0.7603 - val_acc: 0.6734\n",
            "Epoch 25/30\n",
            "685/685 [==============================] - 154s 225ms/step - loss: 0.7564 - acc: 0.6701 - val_loss: 0.7587 - val_acc: 0.6755\n",
            "Epoch 26/30\n",
            "685/685 [==============================] - 154s 225ms/step - loss: 0.7541 - acc: 0.6716 - val_loss: 0.7554 - val_acc: 0.6775\n",
            "Epoch 27/30\n",
            "685/685 [==============================] - 153s 223ms/step - loss: 0.7485 - acc: 0.6753 - val_loss: 0.7541 - val_acc: 0.6801\n",
            "Epoch 28/30\n",
            "685/685 [==============================] - 153s 223ms/step - loss: 0.7489 - acc: 0.6724 - val_loss: 0.7531 - val_acc: 0.6724\n",
            "Epoch 29/30\n",
            "685/685 [==============================] - 153s 223ms/step - loss: 0.7473 - acc: 0.6745 - val_loss: 0.7507 - val_acc: 0.6811\n",
            "Epoch 30/30\n",
            "685/685 [==============================] - 153s 223ms/step - loss: 0.7451 - acc: 0.6739 - val_loss: 0.7494 - val_acc: 0.6770\n"
          ]
        }
      ],
      "source": [
        "# incearc alt lr și creste numarul de epoci\n",
        "lr=5e-5\n",
        "epochs = 30\n",
        "\n",
        "bmodel_1 = build_model(distilBERT, lr)\n",
        "# Train the model\n",
        "history = bmodel_1.fit(x=[x_train_ids, x_train_attention], \n",
        "                     y= y_train,\n",
        "                     epochs = epochs,\n",
        "                     batch_size = batch_size,\n",
        "                     steps_per_epoch = steps,\n",
        "                     validation_data = ([x_val_ids, x_val_attention], y_val))"
      ]
    },
    {
      "cell_type": "code",
      "source": [
        "plot_graphs(history)"
      ],
      "metadata": {
        "colab": {
          "base_uri": "https://localhost:8080/",
          "height": 545
        },
        "id": "1-xWNKzoBkBR",
        "outputId": "2438fd7e-78b4-4063-93f0-d566c4321846"
      },
      "id": "1-xWNKzoBkBR",
      "execution_count": 25,
      "outputs": [
        {
          "output_type": "display_data",
          "data": {
            "text/plain": [
              "<Figure size 432x288 with 1 Axes>"
            ],
            "image/png": "[encoded data removed]"
          },
          "metadata": {
            "needs_background": "light"
          }
        },
        {
          "output_type": "display_data",
          "data": {
            "text/plain": [
              "<Figure size 432x288 with 1 Axes>"
            ],
            "image/png": "[encoded data removed]"
          },
          "metadata": {
            "needs_background": "light"
          }
        }
      ]
    },
    {
      "cell_type": "code",
      "source": [
        "bmodel_1.evaluate([x_test_ids, x_test_attention], y_test)"
      ],
      "metadata": {
        "colab": {
          "base_uri": "https://localhost:8080/"
        },
        "id": "XCjTf3xmBkDp",
        "outputId": "505a6fd9-e68e-49e8-fbb5-aae5fcd5a5b2"
      },
      "id": "XCjTf3xmBkDp",
      "execution_count": 26,
      "outputs": [
        {
          "output_type": "stream",
          "name": "stdout",
          "text": [
            "101/101 [==============================] - 35s 344ms/step - loss: 0.7483 - acc: 0.6707\n"
          ]
        },
        {
          "output_type": "execute_result",
          "data": {
            "text/plain": [
              "[0.7482531666755676, 0.6706976890563965]"
            ]
          },
          "metadata": {},
          "execution_count": 26
        }
      ]
    },
    {
      "cell_type": "code",
      "source": [
        "pred=bmodel_1.predict([x_test_ids, x_test_attention])\n",
        "pred=np.argmax(pred, axis=1)\n",
        "ytest=np.argmax(y_test, axis=1)\n",
        "# reduce to 1d array\n",
        "print(classification_report(pred, ytest, target_names=['neg', 'n', 'pos']))"
      ],
      "metadata": {
        "colab": {
          "base_uri": "https://localhost:8080/"
        },
        "id": "81splEaFBkIC",
        "outputId": "2ddb65af-1cc0-4fbb-bdec-ba4109f1323b"
      },
      "id": "81splEaFBkIC",
      "execution_count": 27,
      "outputs": [
        {
          "output_type": "stream",
          "name": "stdout",
          "text": [
            "101/101 [==============================] - 36s 345ms/step\n",
            "              precision    recall  f1-score   support\n",
            "\n",
            "         neg       0.61      0.68      0.64       947\n",
            "           n       0.57      0.71      0.63       891\n",
            "         pos       0.84      0.64      0.73      1387\n",
            "\n",
            "    accuracy                           0.67      3225\n",
            "   macro avg       0.67      0.68      0.67      3225\n",
            "weighted avg       0.70      0.67      0.68      3225\n",
            "\n"
          ]
        }
      ]
    },
    {
      "cell_type": "code",
      "source": [],
      "metadata": {
        "id": "pLLDHVfCBkK4"
      },
      "id": "pLLDHVfCBkK4",
      "execution_count": null,
      "outputs": []
    }
  ],
  "metadata": {
    "kernelspec": {
      "display_name": "Python 3 (ipykernel)",
      "language": "python",
      "name": "python3"
    },
    "language_info": {
      "codemirror_mode": {
        "name": "ipython",
        "version": 3
      },
      "file_extension": ".py",
      "mimetype": "text/x-python",
      "name": "python",
      "nbconvert_exporter": "python",
      "pygments_lexer": "ipython3",
      "version": "3.9.7"
    },
    "colab": {
      "provenance": [],
      "include_colab_link": true
    },
    "accelerator": "GPU",
    "widgets": {
      "application/vnd.jupyter.widget-state+json": {
        "2dd7e20821744d0eaf3d5c0c6318eab4": {
          "model_module": "@jupyter-widgets/controls",
          "model_name": "HBoxModel",
          "model_module_version": "1.5.0",
          "state": {
            "_dom_classes": [],
            "_model_module": "@jupyter-widgets/controls",
            "_model_module_version": "1.5.0",
            "_model_name": "HBoxModel",
            "_view_count": null,
            "_view_module": "@jupyter-widgets/controls",
            "_view_module_version": "1.5.0",
            "_view_name": "HBoxView",
            "box_style": "",
            "children": [
              "IPY_MODEL_97442e6f83964fa0901ec6b02bf5a8e6",
              "IPY_MODEL_9d17eaa3b0dd43eb93f34fca0596bda3",
              "IPY_MODEL_16921e4a514b4005b464a2f4f76925d6"
            ],
            "layout": "IPY_MODEL_af76a924939f448996a9b63b2a1bfbe4"
          }
        },
        "97442e6f83964fa0901ec6b02bf5a8e6": {
          "model_module": "@jupyter-widgets/controls",
          "model_name": "HTMLModel",
          "model_module_version": "1.5.0",
          "state": {
            "_dom_classes": [],
            "_model_module": "@jupyter-widgets/controls",
            "_model_module_version": "1.5.0",
            "_model_name": "HTMLModel",
            "_view_count": null,
            "_view_module": "@jupyter-widgets/controls",
            "_view_module_version": "1.5.0",
            "_view_name": "HTMLView",
            "description": "",
            "description_tooltip": null,
            "layout": "IPY_MODEL_1c7531a5da6f463098addf402af0636c",
            "placeholder": "​",
            "style": "IPY_MODEL_cf5190b64cfa4154bfe09845a70de98f",
            "value": "Downloading: 100%"
          }
        },
        "9d17eaa3b0dd43eb93f34fca0596bda3": {
          "model_module": "@jupyter-widgets/controls",
          "model_name": "FloatProgressModel",
          "model_module_version": "1.5.0",
          "state": {
            "_dom_classes": [],
            "_model_module": "@jupyter-widgets/controls",
            "_model_module_version": "1.5.0",
            "_model_name": "FloatProgressModel",
            "_view_count": null,
            "_view_module": "@jupyter-widgets/controls",
            "_view_module_version": "1.5.0",
            "_view_name": "ProgressView",
            "bar_style": "success",
            "description": "",
            "description_tooltip": null,
            "layout": "IPY_MODEL_d43b9ce33f234529b3d60cd383b110ba",
            "max": 341,
            "min": 0,
            "orientation": "horizontal",
            "style": "IPY_MODEL_d4c8b38f961c48748bcc5d4e203dcc8f",
            "value": 341
          }
        },
        "16921e4a514b4005b464a2f4f76925d6": {
          "model_module": "@jupyter-widgets/controls",
          "model_name": "HTMLModel",
          "model_module_version": "1.5.0",
          "state": {
            "_dom_classes": [],
            "_model_module": "@jupyter-widgets/controls",
            "_model_module_version": "1.5.0",
            "_model_name": "HTMLModel",
            "_view_count": null,
            "_view_module": "@jupyter-widgets/controls",
            "_view_module_version": "1.5.0",
            "_view_name": "HTMLView",
            "description": "",
            "description_tooltip": null,
            "layout": "IPY_MODEL_22233dbd6bac49638413aa4b0c506365",
            "placeholder": "​",
            "style": "IPY_MODEL_6381f432ac2644bb80717de87ffa7b5a",
            "value": " 341/341 [00:00&lt;00:00, 11.9kB/s]"
          }
        },
        "af76a924939f448996a9b63b2a1bfbe4": {
          "model_module": "@jupyter-widgets/base",
          "model_name": "LayoutModel",
          "model_module_version": "1.2.0",
          "state": {
            "_model_module": "@jupyter-widgets/base",
            "_model_module_version": "1.2.0",
            "_model_name": "LayoutModel",
            "_view_count": null,
            "_view_module": "@jupyter-widgets/base",
            "_view_module_version": "1.2.0",
            "_view_name": "LayoutView",
            "align_content": null,
            "align_items": null,
            "align_self": null,
            "border": null,
            "bottom": null,
            "display": null,
            "flex": null,
            "flex_flow": null,
            "grid_area": null,
            "grid_auto_columns": null,
            "grid_auto_flow": null,
            "grid_auto_rows": null,
            "grid_column": null,
            "grid_gap": null,
            "grid_row": null,
            "grid_template_areas": null,
            "grid_template_columns": null,
            "grid_template_rows": null,
            "height": null,
            "justify_content": null,
            "justify_items": null,
            "left": null,
            "margin": null,
            "max_height": null,
            "max_width": null,
            "min_height": null,
            "min_width": null,
            "object_fit": null,
            "object_position": null,
            "order": null,
            "overflow": null,
            "overflow_x": null,
            "overflow_y": null,
            "padding": null,
            "right": null,
            "top": null,
            "visibility": null,
            "width": null
          }
        },
        "1c7531a5da6f463098addf402af0636c": {
          "model_module": "@jupyter-widgets/base",
          "model_name": "LayoutModel",
          "model_module_version": "1.2.0",
          "state": {
            "_model_module": "@jupyter-widgets/base",
            "_model_module_version": "1.2.0",
            "_model_name": "LayoutModel",
            "_view_count": null,
            "_view_module": "@jupyter-widgets/base",
            "_view_module_version": "1.2.0",
            "_view_name": "LayoutView",
            "align_content": null,
            "align_items": null,
            "align_self": null,
            "border": null,
            "bottom": null,
            "display": null,
            "flex": null,
            "flex_flow": null,
            "grid_area": null,
            "grid_auto_columns": null,
            "grid_auto_flow": null,
            "grid_auto_rows": null,
            "grid_column": null,
            "grid_gap": null,
            "grid_row": null,
            "grid_template_areas": null,
            "grid_template_columns": null,
            "grid_template_rows": null,
            "height": null,
            "justify_content": null,
            "justify_items": null,
            "left": null,
            "margin": null,
            "max_height": null,
            "max_width": null,
            "min_height": null,
            "min_width": null,
            "object_fit": null,
            "object_position": null,
            "order": null,
            "overflow": null,
            "overflow_x": null,
            "overflow_y": null,
            "padding": null,
            "right": null,
            "top": null,
            "visibility": null,
            "width": null
          }
        },
        "cf5190b64cfa4154bfe09845a70de98f": {
          "model_module": "@jupyter-widgets/controls",
          "model_name": "DescriptionStyleModel",
          "model_module_version": "1.5.0",
          "state": {
            "_model_module": "@jupyter-widgets/controls",
            "_model_module_version": "1.5.0",
            "_model_name": "DescriptionStyleModel",
            "_view_count": null,
            "_view_module": "@jupyter-widgets/base",
            "_view_module_version": "1.2.0",
            "_view_name": "StyleView",
            "description_width": ""
          }
        },
        "d43b9ce33f234529b3d60cd383b110ba": {
          "model_module": "@jupyter-widgets/base",
          "model_name": "LayoutModel",
          "model_module_version": "1.2.0",
          "state": {
            "_model_module": "@jupyter-widgets/base",
            "_model_module_version": "1.2.0",
            "_model_name": "LayoutModel",
            "_view_count": null,
            "_view_module": "@jupyter-widgets/base",
            "_view_module_version": "1.2.0",
            "_view_name": "LayoutView",
            "align_content": null,
            "align_items": null,
            "align_self": null,
            "border": null,
            "bottom": null,
            "display": null,
            "flex": null,
            "flex_flow": null,
            "grid_area": null,
            "grid_auto_columns": null,
            "grid_auto_flow": null,
            "grid_auto_rows": null,
            "grid_column": null,
            "grid_gap": null,
            "grid_row": null,
            "grid_template_areas": null,
            "grid_template_columns": null,
            "grid_template_rows": null,
            "height": null,
            "justify_content": null,
            "justify_items": null,
            "left": null,
            "margin": null,
            "max_height": null,
            "max_width": null,
            "min_height": null,
            "min_width": null,
            "object_fit": null,
            "object_position": null,
            "order": null,
            "overflow": null,
            "overflow_x": null,
            "overflow_y": null,
            "padding": null,
            "right": null,
            "top": null,
            "visibility": null,
            "width": null
          }
        },
        "d4c8b38f961c48748bcc5d4e203dcc8f": {
          "model_module": "@jupyter-widgets/controls",
          "model_name": "ProgressStyleModel",
          "model_module_version": "1.5.0",
          "state": {
            "_model_module": "@jupyter-widgets/controls",
            "_model_module_version": "1.5.0",
            "_model_name": "ProgressStyleModel",
            "_view_count": null,
            "_view_module": "@jupyter-widgets/base",
            "_view_module_version": "1.2.0",
            "_view_name": "StyleView",
            "bar_color": null,
            "description_width": ""
          }
        },
        "22233dbd6bac49638413aa4b0c506365": {
          "model_module": "@jupyter-widgets/base",
          "model_name": "LayoutModel",
          "model_module_version": "1.2.0",
          "state": {
            "_model_module": "@jupyter-widgets/base",
            "_model_module_version": "1.2.0",
            "_model_name": "LayoutModel",
            "_view_count": null,
            "_view_module": "@jupyter-widgets/base",
            "_view_module_version": "1.2.0",
            "_view_name": "LayoutView",
            "align_content": null,
            "align_items": null,
            "align_self": null,
            "border": null,
            "bottom": null,
            "display": null,
            "flex": null,
            "flex_flow": null,
            "grid_area": null,
            "grid_auto_columns": null,
            "grid_auto_flow": null,
            "grid_auto_rows": null,
            "grid_column": null,
            "grid_gap": null,
            "grid_row": null,
            "grid_template_areas": null,
            "grid_template_columns": null,
            "grid_template_rows": null,
            "height": null,
            "justify_content": null,
            "justify_items": null,
            "left": null,
            "margin": null,
            "max_height": null,
            "max_width": null,
            "min_height": null,
            "min_width": null,
            "object_fit": null,
            "object_position": null,
            "order": null,
            "overflow": null,
            "overflow_x": null,
            "overflow_y": null,
            "padding": null,
            "right": null,
            "top": null,
            "visibility": null,
            "width": null
          }
        },
        "6381f432ac2644bb80717de87ffa7b5a": {
          "model_module": "@jupyter-widgets/controls",
          "model_name": "DescriptionStyleModel",
          "model_module_version": "1.5.0",
          "state": {
            "_model_module": "@jupyter-widgets/controls",
            "_model_module_version": "1.5.0",
            "_model_name": "DescriptionStyleModel",
            "_view_count": null,
            "_view_module": "@jupyter-widgets/base",
            "_view_module_version": "1.2.0",
            "_view_name": "StyleView",
            "description_width": ""
          }
        },
        "da8a7bcad33645c8b7a4cecfdfa665a0": {
          "model_module": "@jupyter-widgets/controls",
          "model_name": "HBoxModel",
          "model_module_version": "1.5.0",
          "state": {
            "_dom_classes": [],
            "_model_module": "@jupyter-widgets/controls",
            "_model_module_version": "1.5.0",
            "_model_name": "HBoxModel",
            "_view_count": null,
            "_view_module": "@jupyter-widgets/controls",
            "_view_module_version": "1.5.0",
            "_view_name": "HBoxView",
            "box_style": "",
            "children": [
              "IPY_MODEL_f8c1fe5fe01d456a8d20f920eb8f2c67",
              "IPY_MODEL_91fa2bfe2b8e4d8fa850d84d5d6872f1",
              "IPY_MODEL_c12892a016fa42fca88b345e6e762696"
            ],
            "layout": "IPY_MODEL_846c4fd20b814583a31f2e86eb532053"
          }
        },
        "f8c1fe5fe01d456a8d20f920eb8f2c67": {
          "model_module": "@jupyter-widgets/controls",
          "model_name": "HTMLModel",
          "model_module_version": "1.5.0",
          "state": {
            "_dom_classes": [],
            "_model_module": "@jupyter-widgets/controls",
            "_model_module_version": "1.5.0",
            "_model_name": "HTMLModel",
            "_view_count": null,
            "_view_module": "@jupyter-widgets/controls",
            "_view_module_version": "1.5.0",
            "_view_name": "HTMLView",
            "description": "",
            "description_tooltip": null,
            "layout": "IPY_MODEL_0bdea9a18be743fba1ca74d8715609a5",
            "placeholder": "​",
            "style": "IPY_MODEL_02ed2b1099a94df792d28588f42ce83e",
            "value": "Downloading: 100%"
          }
        },
        "91fa2bfe2b8e4d8fa850d84d5d6872f1": {
          "model_module": "@jupyter-widgets/controls",
          "model_name": "FloatProgressModel",
          "model_module_version": "1.5.0",
          "state": {
            "_dom_classes": [],
            "_model_module": "@jupyter-widgets/controls",
            "_model_module_version": "1.5.0",
            "_model_name": "FloatProgressModel",
            "_view_count": null,
            "_view_module": "@jupyter-widgets/controls",
            "_view_module_version": "1.5.0",
            "_view_name": "ProgressView",
            "bar_style": "success",
            "description": "",
            "description_tooltip": null,
            "layout": "IPY_MODEL_af430076317b44968f1300ca011fcc25",
            "max": 244937,
            "min": 0,
            "orientation": "horizontal",
            "style": "IPY_MODEL_abf48dae95ba4c42a67d4e31fd2c020a",
            "value": 244937
          }
        },
        "c12892a016fa42fca88b345e6e762696": {
          "model_module": "@jupyter-widgets/controls",
          "model_name": "HTMLModel",
          "model_module_version": "1.5.0",
          "state": {
            "_dom_classes": [],
            "_model_module": "@jupyter-widgets/controls",
            "_model_module_version": "1.5.0",
            "_model_name": "HTMLModel",
            "_view_count": null,
            "_view_module": "@jupyter-widgets/controls",
            "_view_module_version": "1.5.0",
            "_view_name": "HTMLView",
            "description": "",
            "description_tooltip": null,
            "layout": "IPY_MODEL_38a12bb9ef7c4cd5b060ceb081edfb67",
            "placeholder": "​",
            "style": "IPY_MODEL_582c233e3e2d4559b677e048b8700e8e",
            "value": " 245k/245k [00:00&lt;00:00, 275kB/s]"
          }
        },
        "846c4fd20b814583a31f2e86eb532053": {
          "model_module": "@jupyter-widgets/base",
          "model_name": "LayoutModel",
          "model_module_version": "1.2.0",
          "state": {
            "_model_module": "@jupyter-widgets/base",
            "_model_module_version": "1.2.0",
            "_model_name": "LayoutModel",
            "_view_count": null,
            "_view_module": "@jupyter-widgets/base",
            "_view_module_version": "1.2.0",
            "_view_name": "LayoutView",
            "align_content": null,
            "align_items": null,
            "align_self": null,
            "border": null,
            "bottom": null,
            "display": null,
            "flex": null,
            "flex_flow": null,
            "grid_area": null,
            "grid_auto_columns": null,
            "grid_auto_flow": null,
            "grid_auto_rows": null,
            "grid_column": null,
            "grid_gap": null,
            "grid_row": null,
            "grid_template_areas": null,
            "grid_template_columns": null,
            "grid_template_rows": null,
            "height": null,
            "justify_content": null,
            "justify_items": null,
            "left": null,
            "margin": null,
            "max_height": null,
            "max_width": null,
            "min_height": null,
            "min_width": null,
            "object_fit": null,
            "object_position": null,
            "order": null,
            "overflow": null,
            "overflow_x": null,
            "overflow_y": null,
            "padding": null,
            "right": null,
            "top": null,
            "visibility": null,
            "width": null
          }
        },
        "0bdea9a18be743fba1ca74d8715609a5": {
          "model_module": "@jupyter-widgets/base",
          "model_name": "LayoutModel",
          "model_module_version": "1.2.0",
          "state": {
            "_model_module": "@jupyter-widgets/base",
            "_model_module_version": "1.2.0",
            "_model_name": "LayoutModel",
            "_view_count": null,
            "_view_module": "@jupyter-widgets/base",
            "_view_module_version": "1.2.0",
            "_view_name": "LayoutView",
            "align_content": null,
            "align_items": null,
            "align_self": null,
            "border": null,
            "bottom": null,
            "display": null,
            "flex": null,
            "flex_flow": null,
            "grid_area": null,
            "grid_auto_columns": null,
            "grid_auto_flow": null,
            "grid_auto_rows": null,
            "grid_column": null,
            "grid_gap": null,
            "grid_row": null,
            "grid_template_areas": null,
            "grid_template_columns": null,
            "grid_template_rows": null,
            "height": null,
            "justify_content": null,
            "justify_items": null,
            "left": null,
            "margin": null,
            "max_height": null,
            "max_width": null,
            "min_height": null,
            "min_width": null,
            "object_fit": null,
            "object_position": null,
            "order": null,
            "overflow": null,
            "overflow_x": null,
            "overflow_y": null,
            "padding": null,
            "right": null,
            "top": null,
            "visibility": null,
            "width": null
          }
        },
        "02ed2b1099a94df792d28588f42ce83e": {
          "model_module": "@jupyter-widgets/controls",
          "model_name": "DescriptionStyleModel",
          "model_module_version": "1.5.0",
          "state": {
            "_model_module": "@jupyter-widgets/controls",
            "_model_module_version": "1.5.0",
            "_model_name": "DescriptionStyleModel",
            "_view_count": null,
            "_view_module": "@jupyter-widgets/base",
            "_view_module_version": "1.2.0",
            "_view_name": "StyleView",
            "description_width": ""
          }
        },
        "af430076317b44968f1300ca011fcc25": {
          "model_module": "@jupyter-widgets/base",
          "model_name": "LayoutModel",
          "model_module_version": "1.2.0",
          "state": {
            "_model_module": "@jupyter-widgets/base",
            "_model_module_version": "1.2.0",
            "_model_name": "LayoutModel",
            "_view_count": null,
            "_view_module": "@jupyter-widgets/base",
            "_view_module_version": "1.2.0",
            "_view_name": "LayoutView",
            "align_content": null,
            "align_items": null,
            "align_self": null,
            "border": null,
            "bottom": null,
            "display": null,
            "flex": null,
            "flex_flow": null,
            "grid_area": null,
            "grid_auto_columns": null,
            "grid_auto_flow": null,
            "grid_auto_rows": null,
            "grid_column": null,
            "grid_gap": null,
            "grid_row": null,
            "grid_template_areas": null,
            "grid_template_columns": null,
            "grid_template_rows": null,
            "height": null,
            "justify_content": null,
            "justify_items": null,
            "left": null,
            "margin": null,
            "max_height": null,
            "max_width": null,
            "min_height": null,
            "min_width": null,
            "object_fit": null,
            "object_position": null,
            "order": null,
            "overflow": null,
            "overflow_x": null,
            "overflow_y": null,
            "padding": null,
            "right": null,
            "top": null,
            "visibility": null,
            "width": null
          }
        },
        "abf48dae95ba4c42a67d4e31fd2c020a": {
          "model_module": "@jupyter-widgets/controls",
          "model_name": "ProgressStyleModel",
          "model_module_version": "1.5.0",
          "state": {
            "_model_module": "@jupyter-widgets/controls",
            "_model_module_version": "1.5.0",
            "_model_name": "ProgressStyleModel",
            "_view_count": null,
            "_view_module": "@jupyter-widgets/base",
            "_view_module_version": "1.2.0",
            "_view_name": "StyleView",
            "bar_color": null,
            "description_width": ""
          }
        },
        "38a12bb9ef7c4cd5b060ceb081edfb67": {
          "model_module": "@jupyter-widgets/base",
          "model_name": "LayoutModel",
          "model_module_version": "1.2.0",
          "state": {
            "_model_module": "@jupyter-widgets/base",
            "_model_module_version": "1.2.0",
            "_model_name": "LayoutModel",
            "_view_count": null,
            "_view_module": "@jupyter-widgets/base",
            "_view_module_version": "1.2.0",
            "_view_name": "LayoutView",
            "align_content": null,
            "align_items": null,
            "align_self": null,
            "border": null,
            "bottom": null,
            "display": null,
            "flex": null,
            "flex_flow": null,
            "grid_area": null,
            "grid_auto_columns": null,
            "grid_auto_flow": null,
            "grid_auto_rows": null,
            "grid_column": null,
            "grid_gap": null,
            "grid_row": null,
            "grid_template_areas": null,
            "grid_template_columns": null,
            "grid_template_rows": null,
            "height": null,
            "justify_content": null,
            "justify_items": null,
            "left": null,
            "margin": null,
            "max_height": null,
            "max_width": null,
            "min_height": null,
            "min_width": null,
            "object_fit": null,
            "object_position": null,
            "order": null,
            "overflow": null,
            "overflow_x": null,
            "overflow_y": null,
            "padding": null,
            "right": null,
            "top": null,
            "visibility": null,
            "width": null
          }
        },
        "582c233e3e2d4559b677e048b8700e8e": {
          "model_module": "@jupyter-widgets/controls",
          "model_name": "DescriptionStyleModel",
          "model_module_version": "1.5.0",
          "state": {
            "_model_module": "@jupyter-widgets/controls",
            "_model_module_version": "1.5.0",
            "_model_name": "DescriptionStyleModel",
            "_view_count": null,
            "_view_module": "@jupyter-widgets/base",
            "_view_module_version": "1.2.0",
            "_view_name": "StyleView",
            "description_width": ""
          }
        },
        "d6da02db53ce43c6a11590d551d39798": {
          "model_module": "@jupyter-widgets/controls",
          "model_name": "HBoxModel",
          "model_module_version": "1.5.0",
          "state": {
            "_dom_classes": [],
            "_model_module": "@jupyter-widgets/controls",
            "_model_module_version": "1.5.0",
            "_model_name": "HBoxModel",
            "_view_count": null,
            "_view_module": "@jupyter-widgets/controls",
            "_view_module_version": "1.5.0",
            "_view_name": "HBoxView",
            "box_style": "",
            "children": [
              "IPY_MODEL_dfea6c5aa3994db8900beb8182889cb0",
              "IPY_MODEL_1a03e420d092408ca746c4c4b8259065",
              "IPY_MODEL_f1f1a98281a14ea3b7b052ff89f34659"
            ],
            "layout": "IPY_MODEL_7adbe5cd463e4879803d964b13977345"
          }
        },
        "dfea6c5aa3994db8900beb8182889cb0": {
          "model_module": "@jupyter-widgets/controls",
          "model_name": "HTMLModel",
          "model_module_version": "1.5.0",
          "state": {
            "_dom_classes": [],
            "_model_module": "@jupyter-widgets/controls",
            "_model_module_version": "1.5.0",
            "_model_name": "HTMLModel",
            "_view_count": null,
            "_view_module": "@jupyter-widgets/controls",
            "_view_module_version": "1.5.0",
            "_view_name": "HTMLView",
            "description": "",
            "description_tooltip": null,
            "layout": "IPY_MODEL_10394a5ee8dc45c2b40bcd95e65bcd96",
            "placeholder": "​",
            "style": "IPY_MODEL_179b2560f1994498a07fa9564f2ee3e9",
            "value": "Downloading: 100%"
          }
        },
        "1a03e420d092408ca746c4c4b8259065": {
          "model_module": "@jupyter-widgets/controls",
          "model_name": "FloatProgressModel",
          "model_module_version": "1.5.0",
          "state": {
            "_dom_classes": [],
            "_model_module": "@jupyter-widgets/controls",
            "_model_module_version": "1.5.0",
            "_model_name": "FloatProgressModel",
            "_view_count": null,
            "_view_module": "@jupyter-widgets/controls",
            "_view_module_version": "1.5.0",
            "_view_name": "ProgressView",
            "bar_style": "success",
            "description": "",
            "description_tooltip": null,
            "layout": "IPY_MODEL_673890e235b24d60948ab14ec120aa57",
            "max": 112,
            "min": 0,
            "orientation": "horizontal",
            "style": "IPY_MODEL_868a4912637f46a79420ad70b41af683",
            "value": 112
          }
        },
        "f1f1a98281a14ea3b7b052ff89f34659": {
          "model_module": "@jupyter-widgets/controls",
          "model_name": "HTMLModel",
          "model_module_version": "1.5.0",
          "state": {
            "_dom_classes": [],
            "_model_module": "@jupyter-widgets/controls",
            "_model_module_version": "1.5.0",
            "_model_name": "HTMLModel",
            "_view_count": null,
            "_view_module": "@jupyter-widgets/controls",
            "_view_module_version": "1.5.0",
            "_view_name": "HTMLView",
            "description": "",
            "description_tooltip": null,
            "layout": "IPY_MODEL_5271ea8770584638b3f49fbf270a79b9",
            "placeholder": "​",
            "style": "IPY_MODEL_0ae883aebbeb474cae1e5c19ef37ebf9",
            "value": " 112/112 [00:00&lt;00:00, 3.07kB/s]"
          }
        },
        "7adbe5cd463e4879803d964b13977345": {
          "model_module": "@jupyter-widgets/base",
          "model_name": "LayoutModel",
          "model_module_version": "1.2.0",
          "state": {
            "_model_module": "@jupyter-widgets/base",
            "_model_module_version": "1.2.0",
            "_model_name": "LayoutModel",
            "_view_count": null,
            "_view_module": "@jupyter-widgets/base",
            "_view_module_version": "1.2.0",
            "_view_name": "LayoutView",
            "align_content": null,
            "align_items": null,
            "align_self": null,
            "border": null,
            "bottom": null,
            "display": null,
            "flex": null,
            "flex_flow": null,
            "grid_area": null,
            "grid_auto_columns": null,
            "grid_auto_flow": null,
            "grid_auto_rows": null,
            "grid_column": null,
            "grid_gap": null,
            "grid_row": null,
            "grid_template_areas": null,
            "grid_template_columns": null,
            "grid_template_rows": null,
            "height": null,
            "justify_content": null,
            "justify_items": null,
            "left": null,
            "margin": null,
            "max_height": null,
            "max_width": null,
            "min_height": null,
            "min_width": null,
            "object_fit": null,
            "object_position": null,
            "order": null,
            "overflow": null,
            "overflow_x": null,
            "overflow_y": null,
            "padding": null,
            "right": null,
            "top": null,
            "visibility": null,
            "width": null
          }
        },
        "10394a5ee8dc45c2b40bcd95e65bcd96": {
          "model_module": "@jupyter-widgets/base",
          "model_name": "LayoutModel",
          "model_module_version": "1.2.0",
          "state": {
            "_model_module": "@jupyter-widgets/base",
            "_model_module_version": "1.2.0",
            "_model_name": "LayoutModel",
            "_view_count": null,
            "_view_module": "@jupyter-widgets/base",
            "_view_module_version": "1.2.0",
            "_view_name": "LayoutView",
            "align_content": null,
            "align_items": null,
            "align_self": null,
            "border": null,
            "bottom": null,
            "display": null,
            "flex": null,
            "flex_flow": null,
            "grid_area": null,
            "grid_auto_columns": null,
            "grid_auto_flow": null,
            "grid_auto_rows": null,
            "grid_column": null,
            "grid_gap": null,
            "grid_row": null,
            "grid_template_areas": null,
            "grid_template_columns": null,
            "grid_template_rows": null,
            "height": null,
            "justify_content": null,
            "justify_items": null,
            "left": null,
            "margin": null,
            "max_height": null,
            "max_width": null,
            "min_height": null,
            "min_width": null,
            "object_fit": null,
            "object_position": null,
            "order": null,
            "overflow": null,
            "overflow_x": null,
            "overflow_y": null,
            "padding": null,
            "right": null,
            "top": null,
            "visibility": null,
            "width": null
          }
        },
        "179b2560f1994498a07fa9564f2ee3e9": {
          "model_module": "@jupyter-widgets/controls",
          "model_name": "DescriptionStyleModel",
          "model_module_version": "1.5.0",
          "state": {
            "_model_module": "@jupyter-widgets/controls",
            "_model_module_version": "1.5.0",
            "_model_name": "DescriptionStyleModel",
            "_view_count": null,
            "_view_module": "@jupyter-widgets/base",
            "_view_module_version": "1.2.0",
            "_view_name": "StyleView",
            "description_width": ""
          }
        },
        "673890e235b24d60948ab14ec120aa57": {
          "model_module": "@jupyter-widgets/base",
          "model_name": "LayoutModel",
          "model_module_version": "1.2.0",
          "state": {
            "_model_module": "@jupyter-widgets/base",
            "_model_module_version": "1.2.0",
            "_model_name": "LayoutModel",
            "_view_count": null,
            "_view_module": "@jupyter-widgets/base",
            "_view_module_version": "1.2.0",
            "_view_name": "LayoutView",
            "align_content": null,
            "align_items": null,
            "align_self": null,
            "border": null,
            "bottom": null,
            "display": null,
            "flex": null,
            "flex_flow": null,
            "grid_area": null,
            "grid_auto_columns": null,
            "grid_auto_flow": null,
            "grid_auto_rows": null,
            "grid_column": null,
            "grid_gap": null,
            "grid_row": null,
            "grid_template_areas": null,
            "grid_template_columns": null,
            "grid_template_rows": null,
            "height": null,
            "justify_content": null,
            "justify_items": null,
            "left": null,
            "margin": null,
            "max_height": null,
            "max_width": null,
            "min_height": null,
            "min_width": null,
            "object_fit": null,
            "object_position": null,
            "order": null,
            "overflow": null,
            "overflow_x": null,
            "overflow_y": null,
            "padding": null,
            "right": null,
            "top": null,
            "visibility": null,
            "width": null
          }
        },
        "868a4912637f46a79420ad70b41af683": {
          "model_module": "@jupyter-widgets/controls",
          "model_name": "ProgressStyleModel",
          "model_module_version": "1.5.0",
          "state": {
            "_model_module": "@jupyter-widgets/controls",
            "_model_module_version": "1.5.0",
            "_model_name": "ProgressStyleModel",
            "_view_count": null,
            "_view_module": "@jupyter-widgets/base",
            "_view_module_version": "1.2.0",
            "_view_name": "StyleView",
            "bar_color": null,
            "description_width": ""
          }
        },
        "5271ea8770584638b3f49fbf270a79b9": {
          "model_module": "@jupyter-widgets/base",
          "model_name": "LayoutModel",
          "model_module_version": "1.2.0",
          "state": {
            "_model_module": "@jupyter-widgets/base",
            "_model_module_version": "1.2.0",
            "_model_name": "LayoutModel",
            "_view_count": null,
            "_view_module": "@jupyter-widgets/base",
            "_view_module_version": "1.2.0",
            "_view_name": "LayoutView",
            "align_content": null,
            "align_items": null,
            "align_self": null,
            "border": null,
            "bottom": null,
            "display": null,
            "flex": null,
            "flex_flow": null,
            "grid_area": null,
            "grid_auto_columns": null,
            "grid_auto_flow": null,
            "grid_auto_rows": null,
            "grid_column": null,
            "grid_gap": null,
            "grid_row": null,
            "grid_template_areas": null,
            "grid_template_columns": null,
            "grid_template_rows": null,
            "height": null,
            "justify_content": null,
            "justify_items": null,
            "left": null,
            "margin": null,
            "max_height": null,
            "max_width": null,
            "min_height": null,
            "min_width": null,
            "object_fit": null,
            "object_position": null,
            "order": null,
            "overflow": null,
            "overflow_x": null,
            "overflow_y": null,
            "padding": null,
            "right": null,
            "top": null,
            "visibility": null,
            "width": null
          }
        },
        "0ae883aebbeb474cae1e5c19ef37ebf9": {
          "model_module": "@jupyter-widgets/controls",
          "model_name": "DescriptionStyleModel",
          "model_module_version": "1.5.0",
          "state": {
            "_model_module": "@jupyter-widgets/controls",
            "_model_module_version": "1.5.0",
            "_model_name": "DescriptionStyleModel",
            "_view_count": null,
            "_view_module": "@jupyter-widgets/base",
            "_view_module_version": "1.2.0",
            "_view_name": "StyleView",
            "description_width": ""
          }
        },
        "df1883ecc5ad4d0d8b8daf2ef1c9f608": {
          "model_module": "@jupyter-widgets/controls",
          "model_name": "HBoxModel",
          "model_module_version": "1.5.0",
          "state": {
            "_dom_classes": [],
            "_model_module": "@jupyter-widgets/controls",
            "_model_module_version": "1.5.0",
            "_model_name": "HBoxModel",
            "_view_count": null,
            "_view_module": "@jupyter-widgets/controls",
            "_view_module_version": "1.5.0",
            "_view_name": "HBoxView",
            "box_style": "",
            "children": [
              "IPY_MODEL_3646f6e64e82453ba6a4183547bc2e67",
              "IPY_MODEL_075bfd8dc1504bdfa2fb679b1bd7aa1a",
              "IPY_MODEL_a020907c7aaf4560affe4d2266cf6f93"
            ],
            "layout": "IPY_MODEL_b75b6c73e98f4481b95d65b60d83fb2b"
          }
        },
        "3646f6e64e82453ba6a4183547bc2e67": {
          "model_module": "@jupyter-widgets/controls",
          "model_name": "HTMLModel",
          "model_module_version": "1.5.0",
          "state": {
            "_dom_classes": [],
            "_model_module": "@jupyter-widgets/controls",
            "_model_module_version": "1.5.0",
            "_model_name": "HTMLModel",
            "_view_count": null,
            "_view_module": "@jupyter-widgets/controls",
            "_view_module_version": "1.5.0",
            "_view_name": "HTMLView",
            "description": "",
            "description_tooltip": null,
            "layout": "IPY_MODEL_be8bfc7c80e940489e7e96083192494d",
            "placeholder": "​",
            "style": "IPY_MODEL_bd0409655f3f440e87a669589e68de51",
            "value": "Downloading: 100%"
          }
        },
        "075bfd8dc1504bdfa2fb679b1bd7aa1a": {
          "model_module": "@jupyter-widgets/controls",
          "model_name": "FloatProgressModel",
          "model_module_version": "1.5.0",
          "state": {
            "_dom_classes": [],
            "_model_module": "@jupyter-widgets/controls",
            "_model_module_version": "1.5.0",
            "_model_name": "FloatProgressModel",
            "_view_count": null,
            "_view_module": "@jupyter-widgets/controls",
            "_view_module_version": "1.5.0",
            "_view_name": "ProgressView",
            "bar_style": "success",
            "description": "",
            "description_tooltip": null,
            "layout": "IPY_MODEL_1cc64ad0e1cc4fe2b5f190d793b1f76f",
            "max": 419,
            "min": 0,
            "orientation": "horizontal",
            "style": "IPY_MODEL_1dedfd1d04df427ab84c1c852db6cb3e",
            "value": 419
          }
        },
        "a020907c7aaf4560affe4d2266cf6f93": {
          "model_module": "@jupyter-widgets/controls",
          "model_name": "HTMLModel",
          "model_module_version": "1.5.0",
          "state": {
            "_dom_classes": [],
            "_model_module": "@jupyter-widgets/controls",
            "_model_module_version": "1.5.0",
            "_model_name": "HTMLModel",
            "_view_count": null,
            "_view_module": "@jupyter-widgets/controls",
            "_view_module_version": "1.5.0",
            "_view_name": "HTMLView",
            "description": "",
            "description_tooltip": null,
            "layout": "IPY_MODEL_e1d039e94520414fa65053ed58f7071e",
            "placeholder": "​",
            "style": "IPY_MODEL_8a3f80116a4f4b7ba4f3cdc1f80505f8",
            "value": " 419/419 [00:00&lt;00:00, 14.6kB/s]"
          }
        },
        "b75b6c73e98f4481b95d65b60d83fb2b": {
          "model_module": "@jupyter-widgets/base",
          "model_name": "LayoutModel",
          "model_module_version": "1.2.0",
          "state": {
            "_model_module": "@jupyter-widgets/base",
            "_model_module_version": "1.2.0",
            "_model_name": "LayoutModel",
            "_view_count": null,
            "_view_module": "@jupyter-widgets/base",
            "_view_module_version": "1.2.0",
            "_view_name": "LayoutView",
            "align_content": null,
            "align_items": null,
            "align_self": null,
            "border": null,
            "bottom": null,
            "display": null,
            "flex": null,
            "flex_flow": null,
            "grid_area": null,
            "grid_auto_columns": null,
            "grid_auto_flow": null,
            "grid_auto_rows": null,
            "grid_column": null,
            "grid_gap": null,
            "grid_row": null,
            "grid_template_areas": null,
            "grid_template_columns": null,
            "grid_template_rows": null,
            "height": null,
            "justify_content": null,
            "justify_items": null,
            "left": null,
            "margin": null,
            "max_height": null,
            "max_width": null,
            "min_height": null,
            "min_width": null,
            "object_fit": null,
            "object_position": null,
            "order": null,
            "overflow": null,
            "overflow_x": null,
            "overflow_y": null,
            "padding": null,
            "right": null,
            "top": null,
            "visibility": null,
            "width": null
          }
        },
        "be8bfc7c80e940489e7e96083192494d": {
          "model_module": "@jupyter-widgets/base",
          "model_name": "LayoutModel",
          "model_module_version": "1.2.0",
          "state": {
            "_model_module": "@jupyter-widgets/base",
            "_model_module_version": "1.2.0",
            "_model_name": "LayoutModel",
            "_view_count": null,
            "_view_module": "@jupyter-widgets/base",
            "_view_module_version": "1.2.0",
            "_view_name": "LayoutView",
            "align_content": null,
            "align_items": null,
            "align_self": null,
            "border": null,
            "bottom": null,
            "display": null,
            "flex": null,
            "flex_flow": null,
            "grid_area": null,
            "grid_auto_columns": null,
            "grid_auto_flow": null,
            "grid_auto_rows": null,
            "grid_column": null,
            "grid_gap": null,
            "grid_row": null,
            "grid_template_areas": null,
            "grid_template_columns": null,
            "grid_template_rows": null,
            "height": null,
            "justify_content": null,
            "justify_items": null,
            "left": null,
            "margin": null,
            "max_height": null,
            "max_width": null,
            "min_height": null,
            "min_width": null,
            "object_fit": null,
            "object_position": null,
            "order": null,
            "overflow": null,
            "overflow_x": null,
            "overflow_y": null,
            "padding": null,
            "right": null,
            "top": null,
            "visibility": null,
            "width": null
          }
        },
        "bd0409655f3f440e87a669589e68de51": {
          "model_module": "@jupyter-widgets/controls",
          "model_name": "DescriptionStyleModel",
          "model_module_version": "1.5.0",
          "state": {
            "_model_module": "@jupyter-widgets/controls",
            "_model_module_version": "1.5.0",
            "_model_name": "DescriptionStyleModel",
            "_view_count": null,
            "_view_module": "@jupyter-widgets/base",
            "_view_module_version": "1.2.0",
            "_view_name": "StyleView",
            "description_width": ""
          }
        },
        "1cc64ad0e1cc4fe2b5f190d793b1f76f": {
          "model_module": "@jupyter-widgets/base",
          "model_name": "LayoutModel",
          "model_module_version": "1.2.0",
          "state": {
            "_model_module": "@jupyter-widgets/base",
            "_model_module_version": "1.2.0",
            "_model_name": "LayoutModel",
            "_view_count": null,
            "_view_module": "@jupyter-widgets/base",
            "_view_module_version": "1.2.0",
            "_view_name": "LayoutView",
            "align_content": null,
            "align_items": null,
            "align_self": null,
            "border": null,
            "bottom": null,
            "display": null,
            "flex": null,
            "flex_flow": null,
            "grid_area": null,
            "grid_auto_columns": null,
            "grid_auto_flow": null,
            "grid_auto_rows": null,
            "grid_column": null,
            "grid_gap": null,
            "grid_row": null,
            "grid_template_areas": null,
            "grid_template_columns": null,
            "grid_template_rows": null,
            "height": null,
            "justify_content": null,
            "justify_items": null,
            "left": null,
            "margin": null,
            "max_height": null,
            "max_width": null,
            "min_height": null,
            "min_width": null,
            "object_fit": null,
            "object_position": null,
            "order": null,
            "overflow": null,
            "overflow_x": null,
            "overflow_y": null,
            "padding": null,
            "right": null,
            "top": null,
            "visibility": null,
            "width": null
          }
        },
        "1dedfd1d04df427ab84c1c852db6cb3e": {
          "model_module": "@jupyter-widgets/controls",
          "model_name": "ProgressStyleModel",
          "model_module_version": "1.5.0",
          "state": {
            "_model_module": "@jupyter-widgets/controls",
            "_model_module_version": "1.5.0",
            "_model_name": "ProgressStyleModel",
            "_view_count": null,
            "_view_module": "@jupyter-widgets/base",
            "_view_module_version": "1.2.0",
            "_view_name": "StyleView",
            "bar_color": null,
            "description_width": ""
          }
        },
        "e1d039e94520414fa65053ed58f7071e": {
          "model_module": "@jupyter-widgets/base",
          "model_name": "LayoutModel",
          "model_module_version": "1.2.0",
          "state": {
            "_model_module": "@jupyter-widgets/base",
            "_model_module_version": "1.2.0",
            "_model_name": "LayoutModel",
            "_view_count": null,
            "_view_module": "@jupyter-widgets/base",
            "_view_module_version": "1.2.0",
            "_view_name": "LayoutView",
            "align_content": null,
            "align_items": null,
            "align_self": null,
            "border": null,
            "bottom": null,
            "display": null,
            "flex": null,
            "flex_flow": null,
            "grid_area": null,
            "grid_auto_columns": null,
            "grid_auto_flow": null,
            "grid_auto_rows": null,
            "grid_column": null,
            "grid_gap": null,
            "grid_row": null,
            "grid_template_areas": null,
            "grid_template_columns": null,
            "grid_template_rows": null,
            "height": null,
            "justify_content": null,
            "justify_items": null,
            "left": null,
            "margin": null,
            "max_height": null,
            "max_width": null,
            "min_height": null,
            "min_width": null,
            "object_fit": null,
            "object_position": null,
            "order": null,
            "overflow": null,
            "overflow_x": null,
            "overflow_y": null,
            "padding": null,
            "right": null,
            "top": null,
            "visibility": null,
            "width": null
          }
        },
        "8a3f80116a4f4b7ba4f3cdc1f80505f8": {
          "model_module": "@jupyter-widgets/controls",
          "model_name": "DescriptionStyleModel",
          "model_module_version": "1.5.0",
          "state": {
            "_model_module": "@jupyter-widgets/controls",
            "_model_module_version": "1.5.0",
            "_model_name": "DescriptionStyleModel",
            "_view_count": null,
            "_view_module": "@jupyter-widgets/base",
            "_view_module_version": "1.2.0",
            "_view_name": "StyleView",
            "description_width": ""
          }
        },
        "9ee466050bef4fe8ae6295fe7bd03f7c": {
          "model_module": "@jupyter-widgets/controls",
          "model_name": "HBoxModel",
          "model_module_version": "1.5.0",
          "state": {
            "_dom_classes": [],
            "_model_module": "@jupyter-widgets/controls",
            "_model_module_version": "1.5.0",
            "_model_name": "HBoxModel",
            "_view_count": null,
            "_view_module": "@jupyter-widgets/controls",
            "_view_module_version": "1.5.0",
            "_view_name": "HBoxView",
            "box_style": "",
            "children": [
              "IPY_MODEL_0770c2aa999840819614ca592b5e9e4b",
              "IPY_MODEL_14f772129f1b4134b855e35b84bd80eb",
              "IPY_MODEL_199b879c3fcd4411ae109ab606e13bd0"
            ],
            "layout": "IPY_MODEL_35c893e66ccf4b81a53643d08d26130a"
          }
        },
        "0770c2aa999840819614ca592b5e9e4b": {
          "model_module": "@jupyter-widgets/controls",
          "model_name": "HTMLModel",
          "model_module_version": "1.5.0",
          "state": {
            "_dom_classes": [],
            "_model_module": "@jupyter-widgets/controls",
            "_model_module_version": "1.5.0",
            "_model_name": "HTMLModel",
            "_view_count": null,
            "_view_module": "@jupyter-widgets/controls",
            "_view_module_version": "1.5.0",
            "_view_name": "HTMLView",
            "description": "",
            "description_tooltip": null,
            "layout": "IPY_MODEL_e9ccf6217dfd466587f3bf1825182949",
            "placeholder": "​",
            "style": "IPY_MODEL_0b8d173257ef4ea4b263ba743cbb341b",
            "value": "Downloading: 100%"
          }
        },
        "14f772129f1b4134b855e35b84bd80eb": {
          "model_module": "@jupyter-widgets/controls",
          "model_name": "FloatProgressModel",
          "model_module_version": "1.5.0",
          "state": {
            "_dom_classes": [],
            "_model_module": "@jupyter-widgets/controls",
            "_model_module_version": "1.5.0",
            "_model_name": "FloatProgressModel",
            "_view_count": null,
            "_view_module": "@jupyter-widgets/controls",
            "_view_module_version": "1.5.0",
            "_view_name": "ProgressView",
            "bar_style": "success",
            "description": "",
            "description_tooltip": null,
            "layout": "IPY_MODEL_cee5d279ef43488f9493ca26c2fb7df1",
            "max": 287893152,
            "min": 0,
            "orientation": "horizontal",
            "style": "IPY_MODEL_09c243b5248c4cb88a54ae8f1c7b182f",
            "value": 287893152
          }
        },
        "199b879c3fcd4411ae109ab606e13bd0": {
          "model_module": "@jupyter-widgets/controls",
          "model_name": "HTMLModel",
          "model_module_version": "1.5.0",
          "state": {
            "_dom_classes": [],
            "_model_module": "@jupyter-widgets/controls",
            "_model_module_version": "1.5.0",
            "_model_name": "HTMLModel",
            "_view_count": null,
            "_view_module": "@jupyter-widgets/controls",
            "_view_module_version": "1.5.0",
            "_view_name": "HTMLView",
            "description": "",
            "description_tooltip": null,
            "layout": "IPY_MODEL_3940a2f8a301477a926e7645d89b1dd5",
            "placeholder": "​",
            "style": "IPY_MODEL_e3369e8ac1b444afb41ecadbdaec2a9d",
            "value": " 288M/288M [00:17&lt;00:00, 18.6MB/s]"
          }
        },
        "35c893e66ccf4b81a53643d08d26130a": {
          "model_module": "@jupyter-widgets/base",
          "model_name": "LayoutModel",
          "model_module_version": "1.2.0",
          "state": {
            "_model_module": "@jupyter-widgets/base",
            "_model_module_version": "1.2.0",
            "_model_name": "LayoutModel",
            "_view_count": null,
            "_view_module": "@jupyter-widgets/base",
            "_view_module_version": "1.2.0",
            "_view_name": "LayoutView",
            "align_content": null,
            "align_items": null,
            "align_self": null,
            "border": null,
            "bottom": null,
            "display": null,
            "flex": null,
            "flex_flow": null,
            "grid_area": null,
            "grid_auto_columns": null,
            "grid_auto_flow": null,
            "grid_auto_rows": null,
            "grid_column": null,
            "grid_gap": null,
            "grid_row": null,
            "grid_template_areas": null,
            "grid_template_columns": null,
            "grid_template_rows": null,
            "height": null,
            "justify_content": null,
            "justify_items": null,
            "left": null,
            "margin": null,
            "max_height": null,
            "max_width": null,
            "min_height": null,
            "min_width": null,
            "object_fit": null,
            "object_position": null,
            "order": null,
            "overflow": null,
            "overflow_x": null,
            "overflow_y": null,
            "padding": null,
            "right": null,
            "top": null,
            "visibility": null,
            "width": null
          }
        },
        "e9ccf6217dfd466587f3bf1825182949": {
          "model_module": "@jupyter-widgets/base",
          "model_name": "LayoutModel",
          "model_module_version": "1.2.0",
          "state": {
            "_model_module": "@jupyter-widgets/base",
            "_model_module_version": "1.2.0",
            "_model_name": "LayoutModel",
            "_view_count": null,
            "_view_module": "@jupyter-widgets/base",
            "_view_module_version": "1.2.0",
            "_view_name": "LayoutView",
            "align_content": null,
            "align_items": null,
            "align_self": null,
            "border": null,
            "bottom": null,
            "display": null,
            "flex": null,
            "flex_flow": null,
            "grid_area": null,
            "grid_auto_columns": null,
            "grid_auto_flow": null,
            "grid_auto_rows": null,
            "grid_column": null,
            "grid_gap": null,
            "grid_row": null,
            "grid_template_areas": null,
            "grid_template_columns": null,
            "grid_template_rows": null,
            "height": null,
            "justify_content": null,
            "justify_items": null,
            "left": null,
            "margin": null,
            "max_height": null,
            "max_width": null,
            "min_height": null,
            "min_width": null,
            "object_fit": null,
            "object_position": null,
            "order": null,
            "overflow": null,
            "overflow_x": null,
            "overflow_y": null,
            "padding": null,
            "right": null,
            "top": null,
            "visibility": null,
            "width": null
          }
        },
        "0b8d173257ef4ea4b263ba743cbb341b": {
          "model_module": "@jupyter-widgets/controls",
          "model_name": "DescriptionStyleModel",
          "model_module_version": "1.5.0",
          "state": {
            "_model_module": "@jupyter-widgets/controls",
            "_model_module_version": "1.5.0",
            "_model_name": "DescriptionStyleModel",
            "_view_count": null,
            "_view_module": "@jupyter-widgets/base",
            "_view_module_version": "1.2.0",
            "_view_name": "StyleView",
            "description_width": ""
          }
        },
        "cee5d279ef43488f9493ca26c2fb7df1": {
          "model_module": "@jupyter-widgets/base",
          "model_name": "LayoutModel",
          "model_module_version": "1.2.0",
          "state": {
            "_model_module": "@jupyter-widgets/base",
            "_model_module_version": "1.2.0",
            "_model_name": "LayoutModel",
            "_view_count": null,
            "_view_module": "@jupyter-widgets/base",
            "_view_module_version": "1.2.0",
            "_view_name": "LayoutView",
            "align_content": null,
            "align_items": null,
            "align_self": null,
            "border": null,
            "bottom": null,
            "display": null,
            "flex": null,
            "flex_flow": null,
            "grid_area": null,
            "grid_auto_columns": null,
            "grid_auto_flow": null,
            "grid_auto_rows": null,
            "grid_column": null,
            "grid_gap": null,
            "grid_row": null,
            "grid_template_areas": null,
            "grid_template_columns": null,
            "grid_template_rows": null,
            "height": null,
            "justify_content": null,
            "justify_items": null,
            "left": null,
            "margin": null,
            "max_height": null,
            "max_width": null,
            "min_height": null,
            "min_width": null,
            "object_fit": null,
            "object_position": null,
            "order": null,
            "overflow": null,
            "overflow_x": null,
            "overflow_y": null,
            "padding": null,
            "right": null,
            "top": null,
            "visibility": null,
            "width": null
          }
        },
        "09c243b5248c4cb88a54ae8f1c7b182f": {
          "model_module": "@jupyter-widgets/controls",
          "model_name": "ProgressStyleModel",
          "model_module_version": "1.5.0",
          "state": {
            "_model_module": "@jupyter-widgets/controls",
            "_model_module_version": "1.5.0",
            "_model_name": "ProgressStyleModel",
            "_view_count": null,
            "_view_module": "@jupyter-widgets/base",
            "_view_module_version": "1.2.0",
            "_view_name": "StyleView",
            "bar_color": null,
            "description_width": ""
          }
        },
        "3940a2f8a301477a926e7645d89b1dd5": {
          "model_module": "@jupyter-widgets/base",
          "model_name": "LayoutModel",
          "model_module_version": "1.2.0",
          "state": {
            "_model_module": "@jupyter-widgets/base",
            "_model_module_version": "1.2.0",
            "_model_name": "LayoutModel",
            "_view_count": null,
            "_view_module": "@jupyter-widgets/base",
            "_view_module_version": "1.2.0",
            "_view_name": "LayoutView",
            "align_content": null,
            "align_items": null,
            "align_self": null,
            "border": null,
            "bottom": null,
            "display": null,
            "flex": null,
            "flex_flow": null,
            "grid_area": null,
            "grid_auto_columns": null,
            "grid_auto_flow": null,
            "grid_auto_rows": null,
            "grid_column": null,
            "grid_gap": null,
            "grid_row": null,
            "grid_template_areas": null,
            "grid_template_columns": null,
            "grid_template_rows": null,
            "height": null,
            "justify_content": null,
            "justify_items": null,
            "left": null,
            "margin": null,
            "max_height": null,
            "max_width": null,
            "min_height": null,
            "min_width": null,
            "object_fit": null,
            "object_position": null,
            "order": null,
            "overflow": null,
            "overflow_x": null,
            "overflow_y": null,
            "padding": null,
            "right": null,
            "top": null,
            "visibility": null,
            "width": null
          }
        },
        "e3369e8ac1b444afb41ecadbdaec2a9d": {
          "model_module": "@jupyter-widgets/controls",
          "model_name": "DescriptionStyleModel",
          "model_module_version": "1.5.0",
          "state": {
            "_model_module": "@jupyter-widgets/controls",
            "_model_module_version": "1.5.0",
            "_model_name": "DescriptionStyleModel",
            "_view_count": null,
            "_view_module": "@jupyter-widgets/base",
            "_view_module_version": "1.2.0",
            "_view_name": "StyleView",
            "description_width": ""
          }
        }
      }
    }
  },
  "nbformat": 4,
  "nbformat_minor": 5
}